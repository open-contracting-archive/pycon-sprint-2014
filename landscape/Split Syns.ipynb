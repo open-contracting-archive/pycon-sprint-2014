{
 "metadata": {
  "name": ""
 },
 "nbformat": 3,
 "nbformat_minor": 0,
 "worksheets": [
  {
   "cells": [
    {
     "cell_type": "code",
     "collapsed": false,
     "input": [
      "from words import split_words"
     ],
     "language": "python",
     "metadata": {},
     "outputs": [],
     "prompt_number": 1
    },
    {
     "cell_type": "code",
     "collapsed": false,
     "input": [
      "list( split_words(\"org_contactemail\") )"
     ],
     "language": "python",
     "metadata": {},
     "outputs": [
      {
       "metadata": {},
       "output_type": "pyout",
       "prompt_number": 2,
       "text": [
        "['org',\n",
        " ['contact.n.01',\n",
        "  'contact.n.02',\n",
        "  'contact.n.03',\n",
        "  'contact.n.04',\n",
        "  'contact.n.05',\n",
        "  'liaison.n.02',\n",
        "  'contact.n.07',\n",
        "  'contact.n.08',\n",
        "  'contact.n.09',\n",
        "  'reach.v.04',\n",
        "  'touch.v.05'],\n",
        " ['electronic_mail.n.01', 'e-mail.v.01']]"
       ]
      }
     ],
     "prompt_number": 2
    },
    {
     "cell_type": "code",
     "collapsed": false,
     "input": [
      "list( split_words(\"org_contactemail\") )"
     ],
     "language": "python",
     "metadata": {},
     "outputs": [
      {
       "metadata": {},
       "output_type": "pyout",
       "prompt_number": 3,
       "text": [
        "['org',\n",
        " [Synset('contact.n.01'),\n",
        "  Synset('contact.n.02'),\n",
        "  Synset('contact.n.03'),\n",
        "  Synset('contact.n.04'),\n",
        "  Synset('contact.n.05'),\n",
        "  Synset('liaison.n.02'),\n",
        "  Synset('contact.n.07'),\n",
        "  Synset('contact.n.08'),\n",
        "  Synset('contact.n.09'),\n",
        "  Synset('reach.v.04'),\n",
        "  Synset('touch.v.05')],\n",
        " [Synset('electronic_mail.n.01'), Synset('e-mail.v.01')]]"
       ]
      }
     ],
     "prompt_number": 3
    },
    {
     "cell_type": "code",
     "collapsed": false,
     "input": [
      "s = list( split_words(\"org_contactemail\") )[1][0]\n"
     ],
     "language": "python",
     "metadata": {},
     "outputs": [],
     "prompt_number": 4
    },
    {
     "cell_type": "code",
     "collapsed": false,
     "input": [
      "s.name"
     ],
     "language": "python",
     "metadata": {},
     "outputs": [
      {
       "metadata": {},
       "output_type": "pyout",
       "prompt_number": 14,
       "text": [
        "'contact.n.01'"
       ]
      }
     ],
     "prompt_number": 14
    },
    {
     "cell_type": "code",
     "collapsed": false,
     "input": [
      "dir(s)"
     ],
     "language": "python",
     "metadata": {},
     "outputs": [
      {
       "metadata": {},
       "output_type": "pyout",
       "prompt_number": 6,
       "text": [
        "['__class__',\n",
        " '__delattr__',\n",
        " '__dict__',\n",
        " '__doc__',\n",
        " '__eq__',\n",
        " '__format__',\n",
        " '__getattribute__',\n",
        " '__hash__',\n",
        " '__init__',\n",
        " '__module__',\n",
        " '__ne__',\n",
        " '__new__',\n",
        " '__reduce__',\n",
        " '__reduce_ex__',\n",
        " '__repr__',\n",
        " '__setattr__',\n",
        " '__sizeof__',\n",
        " '__str__',\n",
        " '__subclasshook__',\n",
        " '__weakref__',\n",
        " '_iter_hypernym_lists',\n",
        " '_lemma_pointers',\n",
        " '_needs_root',\n",
        " '_pointers',\n",
        " '_related',\n",
        " '_wordnet_corpus_reader',\n",
        " 'also_sees',\n",
        " 'attributes',\n",
        " 'causes',\n",
        " 'closure',\n",
        " 'common_hypernyms',\n",
        " 'definition',\n",
        " 'entailments',\n",
        " 'examples',\n",
        " 'frame_ids',\n",
        " 'hypernym_distances',\n",
        " 'hypernym_paths',\n",
        " 'hypernyms',\n",
        " 'hyponyms',\n",
        " 'instance_hypernyms',\n",
        " 'instance_hyponyms',\n",
        " 'jcn_similarity',\n",
        " 'lch_similarity',\n",
        " 'lemma_infos',\n",
        " 'lemma_names',\n",
        " 'lemmas',\n",
        " 'lexname',\n",
        " 'lin_similarity',\n",
        " 'lowest_common_hypernyms',\n",
        " 'max_depth',\n",
        " 'member_holonyms',\n",
        " 'member_meronyms',\n",
        " 'min_depth',\n",
        " 'name',\n",
        " 'offset',\n",
        " 'part_holonyms',\n",
        " 'part_meronyms',\n",
        " 'path_similarity',\n",
        " 'pos',\n",
        " 'region_domains',\n",
        " 'res_similarity',\n",
        " 'root_hypernyms',\n",
        " 'shortest_path_distance',\n",
        " 'similar_tos',\n",
        " 'substance_holonyms',\n",
        " 'substance_meronyms',\n",
        " 'topic_domains',\n",
        " 'tree',\n",
        " 'usage_domains',\n",
        " 'verb_groups',\n",
        " 'wup_similarity']"
       ]
      }
     ],
     "prompt_number": 6
    },
    {
     "cell_type": "code",
     "collapsed": false,
     "input": [],
     "language": "python",
     "metadata": {},
     "outputs": []
    }
   ],
   "metadata": {}
  }
 ]
}