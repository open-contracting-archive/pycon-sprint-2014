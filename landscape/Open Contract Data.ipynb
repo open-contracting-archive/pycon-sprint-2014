{
 "metadata": {
  "name": ""
 },
 "nbformat": 3,
 "nbformat_minor": 0,
 "worksheets": [
  {
   "cells": [
    {
     "cell_type": "code",
     "collapsed": false,
     "input": [
      "from words import split_words"
     ],
     "language": "python",
     "metadata": {},
     "outputs": [],
     "prompt_number": 1
    },
    {
     "cell_type": "code",
     "collapsed": false,
     "input": [
      "import samples\n",
      "reload(samples)\n",
      "data = samples.load_samples([\"Keywords\", \"Mexico\", \"EU\", \"Georgia\", \"Canada\"], cache=True)\n",
      "headers = data.keys()\n",
      "print headers"
     ],
     "language": "python",
     "metadata": {},
     "outputs": [
      {
       "output_type": "stream",
       "stream": "stdout",
       "text": [
        "['notice', 'good', 'solicitation', 'contract', 'supplier', 'authority', 'buyer', '?']\n"
       ]
      }
     ],
     "prompt_number": 2
    },
    {
     "cell_type": "code",
     "collapsed": false,
     "input": [
      "from sklearn.pipeline import Pipeline\n",
      "from sklearn.svm import LinearSVC\n",
      "from sklearn.feature_extraction import text\n",
      "\n",
      "class Vectorizor(text.HashingVectorizer):\n",
      "    pass\n",
      "    \n",
      "class SVC(LinearSVC):\n",
      "    def transform(self, X, y=None):\n",
      "        X = super(SVC, self).transform(X, y)\n",
      "        return X\n",
      "    \n",
      "    def fit(self, X=None, y=None):\n",
      "        super(SVC, self).fit(X, y)\n",
      "        return self\n",
      "\n",
      "def analyzer(list_of_headers):\n",
      "    \"\"\"\n",
      "    Takes a list of headers and returns a set of synonym names in the headers.\n",
      "    \"\"\"\n",
      "    result = set()\n",
      "    for header in list_of_headers:\n",
      "        for part in split_words(header):\n",
      "            if isinstance(part, basestring):\n",
      "                result.add( part )\n",
      "            else:\n",
      "                result.update( tuple(part) )\n",
      "    return list(result)\n",
      "\n",
      "pipe = Pipeline([ \n",
      "        ('vec', Vectorizor(analyzer=analyzer)), \n",
      "        ('svm', SVC()),\n",
      "    ])\n",
      "\n",
      "def predict(name):\n",
      "    return pipe.predict([ [name] ])[0]"
     ],
     "language": "python",
     "metadata": {},
     "outputs": [
      {
       "output_type": "stream",
       "stream": "stdout",
       "text": [
        "('vec', 'svm')\n"
       ]
      }
     ],
     "prompt_number": 3
    },
    {
     "cell_type": "code",
     "collapsed": false,
     "input": [
      "pipe.fit([data[k] for k in headers], headers)"
     ],
     "language": "python",
     "metadata": {},
     "outputs": [
      {
       "metadata": {},
       "output_type": "pyout",
       "prompt_number": 4,
       "text": [
        "Pipeline(steps=[('vec', Vectorizor(analyzer=<function analyzer at 0x106d04848>, binary=False,\n",
        "      charset=None, charset_error=None, decode_error=u'strict',\n",
        "      dtype=<type 'numpy.float64'>, encoding=u'utf-8', input=u'content',\n",
        "      lowercase=True, n_features=1048576, ngram_range=(1, 1),\n",
        "      non_negati...scaling=1, loss='l2', multi_class='ovr', penalty='l2',\n",
        "  random_state=None, tol=0.0001, verbose=0))])"
       ]
      }
     ],
     "prompt_number": 4
    },
    {
     "cell_type": "code",
     "collapsed": false,
     "input": [
      "for header in samples.load_headers('UK'):\n",
      "    print header.ljust(50), predict(header)"
     ],
     "language": "python",
     "metadata": {},
     "outputs": [
      {
       "output_type": "stream",
       "stream": "stdout",
       "text": [
        "NOTICEID                                           notice\n",
        "REFERENCENUMBER                                    notice\n",
        "DATEPUBLISHED                                      solicitation\n",
        "VALUEMIN                                           notice\n",
        "VALUEMAX                                           notice\n",
        "STATUS                                             notice\n",
        "URL                                                buyer\n",
        "ORG_NAME                                           authority\n",
        "ORG_CONTACTEMAIL                                   buyer\n",
        "TITLE                                              good\n",
        "DESCRIPTION                                        good\n",
        "NOTICETYPE                                         notice\n",
        "REGION                                             buyer\n",
        "NOTICE_STATE                                       ?\n",
        "NOTICE_STATE_CHANGE_DATE                           notice\n",
        "CLASSIFICATION                                     buyer\n",
        "NUM_DOCS                                           buyer\n"
       ]
      }
     ],
     "prompt_number": 5
    },
    {
     "cell_type": "code",
     "collapsed": false,
     "input": [
      "#for header in samples.load_headers('EU'):\n",
      "#    print header.ljust(50), predict(header)"
     ],
     "language": "python",
     "metadata": {},
     "outputs": [
      {
       "output_type": "stream",
       "stream": "stdout",
       "text": [
        "awards_additional_info                             supplier\n",
        "awards_appeals_body                                ?\n",
        "awards_appeals_info                                supplier\n",
        "awards_authority_addr                              ?\n",
        "awards_authority_name                              authority\n",
        "awards_authority_ref                               ?\n",
        "awards_authority_type                              solicitation\n",
        "awards_award_criteria                              contract\n",
        "awards_award_date                                  contract\n",
        "awards_award_type                                  contract\n",
        "awards_behalf_of                                   ?\n",
        "awards_contract_id                                 contract\n",
        "awards_contract_nr                                 contract\n",
        "awards_contract_value                              contract\n",
        "awards_contract_value_currency                     contract\n",
        "awards_contract_value_highest                      contract\n",
        "awards_contract_value_initial                      contract\n",
        "awards_contract_value_initial_currency             contract\n",
        "awards_contract_value_initial_terms                contract\n",
        "awards_contract_value_initial_vat                  contract\n",
        "awards_contract_value_lowest                       contract\n",
        "awards_contract_value_terms                        contract\n",
        "awards_contract_value_text                         contract\n",
        "awards_contract_value_vat                          contract\n",
        "awards_cpv                                         good\n",
        "awards_dac_code                                    supplier\n",
        "awards_description                                 good\n",
        "awards_duration                                    ?\n",
        "awards_electronic                                  ?\n",
        "awards_eu_funds                                    ?\n",
        "awards_framework_dps                               authority\n",
        "awards_gpa_covered                                 ?\n",
        "awards_id                                          contract\n",
        "awards_involves                                    ?\n",
        "awards_language                                    ?\n",
        "awards_legal_basis                                 ?\n",
        "awards_likely_subcontracted                        ?\n",
        "awards_lot_nr_title                                good\n",
        "awards_notice_date                                 notice\n",
        "awards_num_offers                                  notice\n",
        "awards_object                                      ?\n",
        "awards_previous_notices                            ?\n",
        "awards_procedure_type                              solicitation\n",
        "awards_publication_date                            notice\n",
        "awards_reference                                   notice\n",
        "awards_scope                                       ?\n",
        "awards_score_chosen_tender                         notice\n",
        "awards_services_covered                            ?\n",
        "awards_tenderer_addr                               ?\n",
        "awards_tenderer_name                               authority\n",
        "awards_title                                       good\n",
        "awards_total_value                                 contract\n",
        "awards_total_value_currency                        contract\n",
        "awards_total_value_highest                         contract\n",
        "awards_total_value_lowest                          supplier\n",
        "awards_total_value_text                            contract\n",
        "awards_total_value_vat                             contract\n",
        "awards_type                                        solicitation\n",
        "awards_uri                                         ?\n",
        "document_authority_name                            authority\n",
        "document_authority_type_id                         supplier\n",
        "document_authority_type_name                       authority\n",
        "document_award_criteria_id                         contract\n",
        "document_award_criteria_name                       authority\n",
        "document_bid_type_id                               supplier\n",
        "document_bid_type_name                             supplier\n",
        "document_comment_deadline                          ?\n",
        "document_contract_id                               contract\n",
        "document_contract_name                             authority\n",
        "document_country                                   ?\n",
        "document_cpvs                                      ?\n",
        "document_date                                      contract\n",
        "document_deadline                                  ?\n",
        "document_directive                                 ?\n",
        "document_document_id                               contract\n",
        "document_document_name                             authority\n",
        "document_document_number                           contract\n",
        "document_document_sent                             ?\n",
        "document_heading                                   ?\n",
        "document_id_1                                      contract\n",
        "document_identifier                                ?\n",
        "document_nuts_code                                 supplier\n",
        "document_oj                                        ?\n",
        "document_oj_uc                                     ?\n",
        "document_original_language                         ?\n",
        "document_place                                     ?\n",
        "document_procedure_id                              contract\n",
        "document_procedure_name                            authority\n",
        "document_publication_date                          notice\n",
        "document_regulation_id                             contract\n",
        "document_regulation_name                           authority\n",
        "document_signature                                 ?\n",
        "document_source_tender                             notice\n",
        "document_title                                     good\n",
        "document_title_uc                                  good\n",
        "document_uri                                       ?\n",
        "document_url                                       notice\n",
        "document_year                                      ?\n",
        "year                                               ?\n"
       ]
      }
     ],
     "prompt_number": 137
    }
   ],
   "metadata": {}
  }
 ]
}