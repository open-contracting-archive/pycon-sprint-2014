{
 "metadata": {
  "name": ""
 },
 "nbformat": 3,
 "nbformat_minor": 0,
 "worksheets": [
  {
   "cells": [
    {
     "cell_type": "code",
     "collapsed": false,
     "input": [
      "from words import split_words"
     ],
     "language": "python",
     "metadata": {},
     "outputs": [],
     "prompt_number": 44
    },
    {
     "cell_type": "code",
     "collapsed": false,
     "input": [
      "import samples\n",
      "reload(samples)\n",
      "samples = samples.load_samples()\n",
      "print samples.keys()\n",
      "headers = samples.keys()"
     ],
     "language": "python",
     "metadata": {},
     "outputs": [
      {
       "output_type": "stream",
       "stream": "stdout",
       "text": [
        "['tender_value', 'documents', 'currency_type', 'tender_type', 'contract_end_date', 'unique_identifier', 'goods_and_services', 'tender_status', 'tender_goods', 'tender_date', 'tender_openness', 'contracted_entity', 'contract_start_date', 'awarding_entity', 'contract_status', 'contract_value', 'receiving_entity', '?']\n"
       ]
      }
     ],
     "prompt_number": 67
    },
    {
     "cell_type": "code",
     "collapsed": false,
     "input": [
      "from sklearn.pipeline import Pipeline\n",
      "from sklearn.svm import LinearSVC\n",
      "from sklearn.feature_extraction import text\n",
      "\n",
      "\n",
      "class Vectorizor(text.HashingVectorizer):\n",
      "    def transform(self, X, y=None):\n",
      "        print \"TRANSFORM\", X, y\n",
      "        X = super(Vectorizor, self).transform(X, y)\n",
      "        print X\n",
      "        return X\n",
      "\n",
      "    def fit(self, X, y=None):\n",
      "        \"\"\"Does nothing: this transformer is stateless.\"\"\"\n",
      "        # triggers a parameter validation\n",
      "        print \"fit\"\n",
      "        self._get_hasher().fit(X, y=y)\n",
      "        return self\n",
      "    \n",
      "    def _get_hasher(self):\n",
      "        print \"Hasher gettin'.\"\n",
      "        return super(Vectorizor, self)._get_hasher()\n",
      "\n",
      "    \n",
      "class SVC(LinearSVC):\n",
      "    def transform(self, X, y=None):\n",
      "        print \"SVC.transform: \", X, y\n",
      "        X = super(SVC, self).transform(X, y)\n",
      "        print \"SVC.transform -> \", X\n",
      "        return X\n",
      "    \n",
      "    def fit(self, X=None, y=None):\n",
      "        print \"SVC.fit (X): \", X\n",
      "        print \"SVC.fit (y): \", y\n",
      "        super(SVC, self).fit(X, y)\n",
      "        return self\n",
      "\n",
      "def analyzer(list_of_headers):\n",
      "    \"\"\"\n",
      "    Takes a list of headers and returns a set of synonym names in the headers.\n",
      "    \"\"\"\n",
      "    print \"Analyzer:\", list_of_headers\n",
      "    result = set()\n",
      "    for header in list_of_headers:\n",
      "        for part in split_words(header):\n",
      "            if isinstance(part, basestring):\n",
      "                result.add( part )\n",
      "            else:\n",
      "                result.update( tuple(part) )\n",
      "    return result\n",
      "\n",
      "pipe = Pipeline([ \n",
      "        ('hv', Vectorizor(analyzer=analyzer)), \n",
      "        ('svm', SVC()),\n",
      "    ])"
     ],
     "language": "python",
     "metadata": {},
     "outputs": [],
     "prompt_number": 134
    },
    {
     "cell_type": "code",
     "collapsed": false,
     "input": [
      "pipe.fit([samples[k] for k in headers], headers)"
     ],
     "language": "python",
     "metadata": {},
     "outputs": [
      {
       "output_type": "stream",
       "stream": "stdout",
       "text": [
        "Hasher gettin'.\n",
        "Analyzer: ['VALUEMIN', 'VALUEMAX']\n",
        "Analyzer: ['URL', 'NUM_DOCS', 'Record template']\n",
        "Analyzer: ['Currency type']\n",
        "Analyzer: ['Procedure scope', 'Procedure type', 'Submission form type']\n",
        "Analyzer: ['contract end date']\n",
        "Analyzer: ['reference_number', 'solicitation_number', 'contract_number', 'NOTICEID', 'Record Title ', 'Procedure Number']\n",
        "Analyzer: ['CLASSIFICATION']\n",
        "Analyzer: ['publishing_status', 'STATUS', 'NOTICE_STATE', 'NOTICE_STATE_CHANGE_DATE']\n",
        "Analyzer: ['title', 'gsin', 'description', 'TITLE', 'DESCRIPTION']\n",
        "Analyzer: ['award_date', 'publication_date', 'amendment_date', 'DATEPUBLISHED', 'Decision Date', 'Proposal Opening Date']\n",
        "Analyzer: ['tendering_procedure']\n",
        "Analyzer: ['Contractor Legal Name']\n",
        "Analyzer: ['Contract start date']\n",
        "Analyzer: ['end_user_entity', 'customer_info', 'ORG_NAME', 'ORG_CONTACTEMAIL', 'GOVERNMENT', 'ACRONYMS', 'UNIT', 'CompraNet Unit Identifier', 'CompraNet Unit name', 'Responsibility', 'CompraNet Record ID']\n",
        "Analyzer: ['contract status']\n",
        "Analyzer: ['currency', 'contract_value', 'contract value']\n",
        "Analyzer: ['supplier_info']\n",
        "Analyzer: ['language', 'procurement_entity_name', 'contract_sequence_number', 'contract_award_procedure', 'procurement_entity', 'id', 'procurring_entity_id', 'tender_type', 'tender_registration_number', 'tender_status', 'tender_announcement_date', 'bid_start_date', 'bid_end_date', 'estimated_value', 'include_vat', 'cpv_code', 'offer_step', 'guarantee_amount', 'guarantee_period', 'created_at', 'updated_at', 'dataset_id', 'url_id', 'num_bids', 'num_bidders', 'contract_value', 'winning_org_id', 'risk_indicators', 'procurer_name', 'supplier_name', 'sub_codes', 'inProgress', 'updated', 'is_new', 'procurer_code', 'winner_code', 'bidder_0_name', 'bidder_0_id', 'bidder_0_lowest_bid', 'bidder_0_black_or_white', 'bidder_1_name', 'bidder_1_id', 'bidder_1_lowest_bid', 'bidder_1_black_or_white', 'bidder_2_name', 'bidder_2_id', 'bidder_2_lowest_bid', 'bidder_2_black_or_white', 'bidder_3_name', 'bidder_3_id', 'bidder_3_lowest_bid', 'bidder_3_black_or_white', 'bidder_4_name', 'bidder_4_id', 'bidder_4_lowest_bid', 'bidder_4_black_or_white', 'bidder_5_name', 'bidder_5_id', 'bidder_5_lowest_bid', 'bidder_5_black_or_white', 'bidder_6_name', 'bidder_6_id', 'bidder_6_lowest_bid', 'bidder_6_black_or_white', 'bidder_7_name', 'bidder_7_id', 'bidder_7_lowest_bid', 'bidder_7_black_or_white', 'bidder_8_name', 'bidder_8_id', 'bidder_8_lowest_bid', 'bidder_8_black_or_white', 'bidder_9_name', 'bidder_9_id', 'bidder_9_lowest_bid', 'bidder_9_black_or_white', 'bidder_10_name', 'bidder_10_id', 'bidder_10_lowest_bid', 'bidder_10_black_or_white', 'bidder_11_name', 'bidder_11_id', 'bidder_11_lowest_bid', 'bidder_11_black_or_white', 'bidder_12_name', 'bidder_12_id', 'bidder_12_lowest_bid', 'bidder_12_black_or_white', 'bidder_13_name', 'bidder_13_id', 'bidder_13_lowest_bid', 'bidder_13_black_or_white', 'bidder_14_name', 'bidder_14_id', 'bidder_14_lowest_bid', 'bidder_14_black_or_white', 'bidder_16_name', 'bidder_16_id', 'bidder_16_lowest_bid', 'bidder_16_black_or_white', 'bidder_17_name', 'bidder_17_id', 'bidder_17_lowest_bid', 'bidder_17_black_or_white', 'bidder_18_name', 'bidder_18_id', 'bidder_18_lowest_bid', 'bidder_18_black_or_white', 'bidder_19_name', 'bidder_19_id', 'bidder_19_lowest_bid', 'bidder_19_black_or_white', 'bidder_20_name', 'bidder_20_id', 'bidder_20_lowest_bid', 'bidder_20_black_or_white', 'bidder_21_name', 'bidder_21_id', 'bidder_21_lowest_bid', 'bidder_21_black_or_white', 'bidder_22_name', 'bidder_22_id', 'bidder_22_lowest_bid', 'bidder_22_black_or_white', 'bidder_23_name', 'bidder_23_id', 'bidder_23_lowest_bid', 'bidder_23_black_or_white', 'bidder_24_name', 'bidder_24_id', 'bidder_24_lowest_bid', 'bidder_24_black_or_white', 'bidder_25_name', 'bidder_25_id', 'bidder_25_lowest_bid', 'bidder_25_black_or_white', 'bidder_26_name', 'bidder_26_id', 'bidder_26_lowest_bid', 'bidder_26_black_or_white', 'bidder_27_name', 'bidder_27_id', 'bidder_27_lowest_bid', 'bidder_27_black_or_white', 'bidder_28_name', 'bidder_28_id', 'bidder_28_lowest_bid', 'bidder_28_black_or_white', 'bidder_29_name', 'bidder_29_id', 'bidder_29_lowest_bid', 'bidder_29_black_or_white', 'bidder_30_name', 'bidder_30_id', 'bidder_30_lowest_bid', 'bidder_30_black_or_white', 'bidder_31_name', 'bidder_31_id', 'bidder_31_lowest_bid', 'bidder_31_black_or_white', 'bidder_32_name', 'bidder_32_id', 'bidder_32_lowest_bid', 'bidder_32_black_or_white', 'bidder_33_name', 'bidder_33_id', 'bidder_33_lowest_bid', 'bidder_33_black_or_white', 'bidder_34_name', 'bidder_34_id', 'bidder_34_lowest_bid', 'bidder_34_black_or_white', 'bidder_35_name', 'bidder_35_id', 'bidder_35_lowest_bid', 'bidder_35_black_or_white', 'REFERENCENUMBER', 'NOTICETYPE', 'REGION', 'RFP Date Type', 'Contract Type', 'Contract ID', 'Contract Title', 'archive status', 'Unit Branch', 'Program Key', 'Federal contribution', 'Signature date', 'Contract Framework', 'Consolidated purchase', 'Multi-year', 'Unit stratification', 'Contractor stratification', 'Company state', 'Account manager type', 'announcement URL']\n",
        "SVC.fit (X):    (0, 132283)\t-0.258198889747\n",
        "  (0, 182465)\t0.258198889747\n",
        "  (0, 182894)\t-0.258198889747\n",
        "  (0, 222296)\t0.258198889747\n",
        "  (0, 226267)\t0.258198889747\n",
        "  (0, 226351)\t0.258198889747\n",
        "  (0, 333753)\t-0.258198889747\n",
        "  (0, 335912)\t0.258198889747\n",
        "  (0, 538640)\t0.258198889747\n",
        "  (0, 539743)\t-0.258198889747\n",
        "  (0, 681683)\t0.258198889747\n",
        "  (0, 705660)\t-0.258198889747\n",
        "  (0, 815935)\t-0.258198889747\n",
        "  (0, 889719)\t0.258198889747\n",
        "  (0, 917435)\t0.258198889747\n",
        "  (1, 88279)\t0.4472135955\n",
        "  (1, 261985)\t-0.4472135955\n",
        "  (1, 487680)\t0.4472135955\n",
        "  (1, 819072)\t-0.4472135955\n",
        "  (1, 935844)\t-0.4472135955\n",
        "  (2, 144659)\t0.707106781187\n",
        "  (2, 737538)\t-0.707106781187\n",
        "  (3, 103968)\t0.4472135955\n",
        "  (3, 144659)\t0.4472135955\n",
        "  (3, 324643)\t-0.4472135955\n",
        "  :\t:\n",
        "  (17, 911535)\t-0.0712470499879\n",
        "  (17, 916117)\t0.0712470499879\n",
        "  (17, 917032)\t-0.0712470499879\n",
        "  (17, 923582)\t0.0712470499879\n",
        "  (17, 926866)\t0.0712470499879\n",
        "  (17, 929710)\t-0.0712470499879\n",
        "  (17, 930066)\t-0.0712470499879\n",
        "  (17, 935844)\t-0.0712470499879\n",
        "  (17, 943970)\t-0.0712470499879\n",
        "  (17, 948740)\t0.0712470499879\n",
        "  (17, 957711)\t0.0712470499879\n",
        "  (17, 959173)\t0.0712470499879\n",
        "  (17, 969792)\t0.0712470499879\n",
        "  (17, 983158)\t0.0712470499879\n",
        "  (17, 984259)\t0.0712470499879\n",
        "  (17, 991977)\t0.0712470499879\n",
        "  (17, 996419)\t0.0712470499879\n",
        "  (17, 1010037)\t0.0712470499879\n",
        "  (17, 1014364)\t-0.0712470499879\n",
        "  (17, 1014677)\t0.0712470499879\n",
        "  (17, 1035130)\t0.0712470499879\n",
        "  (17, 1043634)\t-0.0712470499879\n",
        "  (17, 1043982)\t-0.0712470499879\n",
        "  (17, 1045907)\t-0.0712470499879\n",
        "  (17, 1046201)\t-0.0712470499879\n",
        "SVC.fit (y):  ['tender_value', 'documents', 'currency_type', 'tender_type', 'contract_end_date', 'unique_identifier', 'goods_and_services', 'tender_status', 'tender_goods', 'tender_date', 'tender_openness', 'contracted_entity', 'contract_start_date', 'awarding_entity', 'contract_status', 'contract_value', 'receiving_entity', '?']\n"
       ]
      },
      {
       "metadata": {},
       "output_type": "pyout",
       "prompt_number": 135,
       "text": [
        "Pipeline(steps=[('hv', Vectorizor(analyzer=<function analyzer at 0x10f2d6c08>, binary=False,\n",
        "      charset=None, charset_error=None, decode_error=u'strict',\n",
        "      dtype=<type 'numpy.float64'>, encoding=u'utf-8', input=u'content',\n",
        "      lowercase=True, n_features=1048576, ngram_range=(1, 1),\n",
        "      non_negativ...scaling=1, loss='l2', multi_class='ovr', penalty='l2',\n",
        "  random_state=None, tol=0.0001, verbose=0))])"
       ]
      }
     ],
     "prompt_number": 135
    },
    {
     "cell_type": "code",
     "collapsed": false,
     "input": [
      "hv = pipe.named_steps['hv']\n",
      "hsh = hv._get_hasher()\n",
      "print "
     ],
     "language": "python",
     "metadata": {},
     "outputs": [
      {
       "output_type": "stream",
       "stream": "stdout",
       "text": [
        "Hasher gettin'.\n",
        "<type 'numpy.float64'> 1048576\n"
       ]
      }
     ],
     "prompt_number": 109
    },
    {
     "cell_type": "code",
     "collapsed": false,
     "input": [
      "#print analyzer(['NOTICEID'])\n",
      "print pipe.predict(['notice.v.04'])"
     ],
     "language": "python",
     "metadata": {},
     "outputs": [
      {
       "output_type": "stream",
       "stream": "stdout",
       "text": [
        "TRANSFORM ['notice.v.04'] None\n",
        "Hasher gettin'.\n",
        "  (0, 13227)\t-0.377964473009\n",
        "  (0, 296051)\t0.377964473009\n",
        "  (0, 364501)\t-0.377964473009\n",
        "  (0, 532659)\t-0.377964473009\n",
        "  (0, 803687)\t0.377964473009\n",
        "  (0, 862625)\t-0.377964473009\n",
        "  (0, 927572)\t-0.377964473009\n",
        "['tender_value']\n"
       ]
      }
     ],
     "prompt_number": 119
    },
    {
     "cell_type": "code",
     "collapsed": false,
     "input": [
      "for header in headers:\n",
      "    print header, \"-\", analyzer(samples[k])\n"
     ],
     "language": "python",
     "metadata": {},
     "outputs": [
      {
       "output_type": "stream",
       "stream": "stdout",
       "text": [
        "tender_value - set(['code', 'surround.v.01', 'advance.v.01', 'set.v.04', 'set.v.05', 'consolidated', 'set.v.08', 'set.v.09', 'entity', 'in.s.01', 'manager', 'detect.v.01', 'set.v.06', 'announcement', 'data.n.01', 'title', 'winner', 'datum.n.01', 'jell.v.01', 'program', 'black', 'include', 'notice.v.04', 'set.v.17', 'set.v.16', 'set.v.10', 'set.v.13', 'notice.v.02', 'bid', 'set.v.18', 'period', 'supplier', 'hardening.n.02', 'winning', 'in.s.03', 'in.s.02', 'build_up.v.02', 'act.n.04', 'rfp', 'name', 'put.v.01', 'reference_point.n.01', 'reference_book.n.01', 'numeral.n.01', 'type.n.03', 'type.n.01', 'type.n.06', 'type.n.05', 'sequence', 'account', 'address.n.01', 'located.s.01', 'num', 'indiana.n.01', 'place.v.11', 'tender', 'poster.n.01', 'bidders', 'estimated', 'rig.v.04', 'fit.s.02', 'sub', 'federal', 'state', 'branch', 'band.n.12', 'arrange.v.06', 'new', 'mu.n.01', 'mention.n.01', 'gang.n.01', 'notice.n.04', 'notice.n.07', 'notice.n.06', 'notice.n.01', 'notice.n.02', 'step', 'bent.n.01', 'key', 'org', 'number.v.06', 'number.v.02', 'number.v.03', 'stage_set.n.01', 'language', 'created', 'region', 'contract', 'call.v.03', 'amount', 'signature', 'contribution', 'or', 'reference.n.06', 'set.s.05', 'notification.n.03', 'stratification', 'number', 'type.v.01', 'set.n.08', 'in.r.01', 'indium.n.01', 'registration', 'set.n.02', 'set.n.03', 'set.n.01', 'set.n.07', 'risk', 'set.n.05', 'specify.v.02', 'reference.v.01', 'dress.v.16', 'type.n.04', 'fix.v.12', 'start', 'inch.n.01', 'indicators', 'contractor', 'white', 'type', 'issue.n.02', 'vat', 'lowest', 'determined.s.04', 'hoop.n.02', 'offer', 'company', 'award', 'resound.v.01', 'set.n.11', 'set.n.10', 'set.n.13', 'set.n.12', 'progress.n.02', 'progress.n.03', 'bids', 'value', 'ring.n.01', 'ring.n.02', 'closed_chain.n.01', 'phone_number.n.01', 'ring.n.07', 'ring.n.06', 'ring.v.01', 'ring.n.08', 'ring.v.03', 'total.v.01', 'bidder', 'procedure', 'ring.v.06', 'comment.v.01', 'is', 'year', 'updated', 'fructify.v.03', 'unit', 'at', 'type.v.02', 'character.n.07', 'citation.n.03', 'character.n.05', 'id', 'reference.n.10', 'guarantee', 'adjust.v.01', 'end', 'archive', 'number.n.07', 'progress.v.01', 'number.n.11', 'number.n.10', 'status', 'number.n.02', 'count.v.01', 'fixed.s.02', 'reference.n.08', 'count.v.05', 'date', 'procurer', 'reference.n.07', 'typeset.v.01', 'codes', 'purchase', 'sic.v.01', 'framework', 'url', 'laid.s.01', 'set_up.v.04', 'procurement', 'advancement.n.03', 'number.n.01', 'determine.v.03', 'plant.v.01', 'hardened.s.05', 'number.n.08', 'number.n.09', 'cpv'])\n",
        "documents - "
       ]
      },
      {
       "output_type": "stream",
       "stream": "stdout",
       "text": [
        "set(['code', 'surround.v.01', 'advance.v.01', 'set.v.04', 'set.v.05', 'consolidated', 'set.v.08', 'set.v.09', 'entity', 'in.s.01', 'manager', 'detect.v.01', 'set.v.06', 'announcement', 'data.n.01', 'title', 'winner', 'datum.n.01', 'jell.v.01', 'program', 'black', 'include', 'notice.v.04', 'set.v.17', 'set.v.16', 'set.v.10', 'set.v.13', 'notice.v.02', 'bid', 'set.v.18', 'period', 'supplier', 'hardening.n.02', 'winning', 'in.s.03', 'in.s.02', 'build_up.v.02', 'act.n.04', 'rfp', 'name', 'put.v.01', 'reference_point.n.01', 'reference_book.n.01', 'numeral.n.01', 'type.n.03', 'type.n.01', 'type.n.06', 'type.n.05', 'sequence', 'account', 'address.n.01', 'located.s.01', 'num', 'indiana.n.01', 'place.v.11', 'tender', 'poster.n.01', 'bidders', 'estimated', 'rig.v.04', 'fit.s.02', 'sub', 'federal', 'state', 'branch', 'band.n.12', 'arrange.v.06', 'new', 'mu.n.01', 'mention.n.01', 'gang.n.01', 'notice.n.04', 'notice.n.07', 'notice.n.06', 'notice.n.01', 'notice.n.02', 'step', 'bent.n.01', 'key', 'org', 'number.v.06', 'number.v.02', 'number.v.03', 'stage_set.n.01', 'language', 'created', 'region', 'contract', 'call.v.03', 'amount', 'signature', 'contribution', 'or', 'reference.n.06', 'set.s.05', 'notification.n.03', 'stratification', 'number', 'type.v.01', 'set.n.08', 'in.r.01', 'indium.n.01', 'registration', 'set.n.02', 'set.n.03', 'set.n.01', 'set.n.07', 'risk', 'set.n.05', 'specify.v.02', 'reference.v.01', 'dress.v.16', 'type.n.04', 'fix.v.12', 'start', 'inch.n.01', 'indicators', 'contractor', 'white', 'type', 'issue.n.02', 'vat', 'lowest', 'determined.s.04', 'hoop.n.02', 'offer', 'company', 'award', 'resound.v.01', 'set.n.11', 'set.n.10', 'set.n.13', 'set.n.12', 'progress.n.02', 'progress.n.03', 'bids', 'value', 'ring.n.01', 'ring.n.02', 'closed_chain.n.01', 'phone_number.n.01', 'ring.n.07', 'ring.n.06', 'ring.v.01', 'ring.n.08', 'ring.v.03', 'total.v.01', 'bidder', 'procedure', 'ring.v.06', 'comment.v.01', 'is', 'year', 'updated', 'fructify.v.03', 'unit', 'at', 'type.v.02', 'character.n.07', 'citation.n.03', 'character.n.05', 'id', 'reference.n.10', 'guarantee', 'adjust.v.01', 'end', 'archive', 'number.n.07', 'progress.v.01', 'number.n.11', 'number.n.10', 'status', 'number.n.02', 'count.v.01', 'fixed.s.02', 'reference.n.08', 'count.v.05', 'date', 'procurer', 'reference.n.07', 'typeset.v.01', 'codes', 'purchase', 'sic.v.01', 'framework', 'url', 'laid.s.01', 'set_up.v.04', 'procurement', 'advancement.n.03', 'number.n.01', 'determine.v.03', 'plant.v.01', 'hardened.s.05', 'number.n.08', 'number.n.09', 'cpv'])\n",
        "currency_type - set(['code', 'surround.v.01', 'advance.v.01', 'set.v.04', 'set.v.05', 'consolidated', 'set.v.08', 'set.v.09', 'entity', 'in.s.01', 'manager', 'detect.v.01', 'set.v.06', 'announcement', 'data.n.01', 'title', 'winner', 'datum.n.01', 'jell.v.01', 'program', 'black', 'include', 'notice.v.04', 'set.v.17', 'set.v.16', 'set.v.10', 'set.v.13', 'notice.v.02', 'bid', 'set.v.18', 'period', 'supplier', 'hardening.n.02', 'winning', 'in.s.03', 'in.s.02', 'build_up.v.02', 'act.n.04', 'rfp', 'name', 'put.v.01', 'reference_point.n.01', 'reference_book.n.01', 'numeral.n.01', 'type.n.03', 'type.n.01', 'type.n.06', 'type.n.05', 'sequence', 'account', 'address.n.01', 'located.s.01', 'num', 'indiana.n.01', 'place.v.11', 'tender', 'poster.n.01', 'bidders', 'estimated', 'rig.v.04', 'fit.s.02', 'sub', 'federal', 'state', 'branch', 'band.n.12', 'arrange.v.06', 'new', 'mu.n.01', 'mention.n.01', 'gang.n.01', 'notice.n.04', 'notice.n.07', 'notice.n.06', 'notice.n.01', 'notice.n.02', 'step', 'bent.n.01', 'key', 'org', 'number.v.06', 'number.v.02', 'number.v.03', 'stage_set.n.01', 'language', 'created', 'region', 'contract', 'call.v.03', 'amount', 'signature', 'contribution', 'or', 'reference.n.06', 'set.s.05', 'notification.n.03', 'stratification', 'number', 'type.v.01', 'set.n.08', 'in.r.01', 'indium.n.01', 'registration', 'set.n.02', 'set.n.03', 'set.n.01', 'set.n.07', 'risk', 'set.n.05', 'specify.v.02', 'reference.v.01', 'dress.v.16', 'type.n.04', 'fix.v.12', 'start', 'inch.n.01', 'indicators', 'contractor', 'white', 'type', 'issue.n.02', 'vat', 'lowest', 'determined.s.04', 'hoop.n.02', 'offer', 'company', 'award', 'resound.v.01', 'set.n.11', 'set.n.10', 'set.n.13', 'set.n.12', 'progress.n.02', 'progress.n.03', 'bids', 'value', 'ring.n.01', 'ring.n.02', 'closed_chain.n.01', 'phone_number.n.01', 'ring.n.07', 'ring.n.06', 'ring.v.01', 'ring.n.08', 'ring.v.03', 'total.v.01', 'bidder', 'procedure', 'ring.v.06', 'comment.v.01', 'is', 'year', 'updated', 'fructify.v.03', 'unit', 'at', 'type.v.02', 'character.n.07', 'citation.n.03', 'character.n.05', 'id', 'reference.n.10', 'guarantee', 'adjust.v.01', 'end', 'archive', 'number.n.07', 'progress.v.01', 'number.n.11', 'number.n.10', 'status', 'number.n.02', 'count.v.01', 'fixed.s.02', 'reference.n.08', 'count.v.05', 'date', 'procurer', 'reference.n.07', 'typeset.v.01', 'codes', 'purchase', 'sic.v.01', 'framework', 'url', 'laid.s.01', 'set_up.v.04', 'procurement', 'advancement.n.03', 'number.n.01', 'determine.v.03', 'plant.v.01', 'hardened.s.05', 'number.n.08', 'number.n.09', 'cpv'])\n",
        "tender_type - set(['code', 'surround.v.01', 'advance.v.01', 'set.v.04', 'set.v.05', 'consolidated', 'set.v.08', 'set.v.09', 'entity', 'in.s.01', 'manager', 'detect.v.01', 'set.v.06', 'announcement', 'data.n.01', 'title', 'winner', 'datum.n.01', 'jell.v.01', 'program', 'black', 'include', 'notice.v.04', 'set.v.17', 'set.v.16', 'set.v.10', 'set.v.13', 'notice.v.02', 'bid', 'set.v.18', 'period', 'supplier', 'hardening.n.02', 'winning', 'in.s.03', 'in.s.02', 'build_up.v.02', 'act.n.04', 'rfp', 'name', 'put.v.01', 'reference_point.n.01', 'reference_book.n.01', 'numeral.n.01', 'type.n.03', 'type.n.01', 'type.n.06', 'type.n.05', 'sequence', 'account', 'address.n.01', 'located.s.01', 'num', 'indiana.n.01', 'place.v.11', 'tender', 'poster.n.01', 'bidders', 'estimated', 'rig.v.04', 'fit.s.02', 'sub', 'federal', 'state', 'branch', 'band.n.12', 'arrange.v.06', 'new', 'mu.n.01', 'mention.n.01', 'gang.n.01', 'notice.n.04', 'notice.n.07', 'notice.n.06', 'notice.n.01', 'notice.n.02', 'step', 'bent.n.01', 'key', 'org', 'number.v.06', 'number.v.02', 'number.v.03', 'stage_set.n.01', 'language', 'created', 'region', 'contract', 'call.v.03', 'amount', 'signature', 'contribution', 'or', 'reference.n.06', 'set.s.05', 'notification.n.03', 'stratification', 'number', 'type.v.01', 'set.n.08', 'in.r.01', 'indium.n.01', 'registration', 'set.n.02', 'set.n.03', 'set.n.01', 'set.n.07', 'risk', 'set.n.05', 'specify.v.02', 'reference.v.01', 'dress.v.16', 'type.n.04', 'fix.v.12', 'start', 'inch.n.01', 'indicators', 'contractor', 'white', 'type', 'issue.n.02', 'vat', 'lowest', 'determined.s.04', 'hoop.n.02', 'offer', 'company', 'award', 'resound.v.01', 'set.n.11', 'set.n.10', 'set.n.13', 'set.n.12', 'progress.n.02', 'progress.n.03', 'bids', 'value', 'ring.n.01', 'ring.n.02', 'closed_chain.n.01', 'phone_number.n.01', 'ring.n.07', 'ring.n.06', 'ring.v.01', 'ring.n.08', 'ring.v.03', 'total.v.01', 'bidder', 'procedure', 'ring.v.06', 'comment.v.01', 'is', 'year', 'updated', 'fructify.v.03', 'unit', 'at', 'type.v.02', 'character.n.07', 'citation.n.03', 'character.n.05', 'id', 'reference.n.10', 'guarantee', 'adjust.v.01', 'end', 'archive', 'number.n.07', 'progress.v.01', 'number.n.11', 'number.n.10', 'status', 'number.n.02', 'count.v.01', 'fixed.s.02', 'reference.n.08', 'count.v.05', 'date', 'procurer', 'reference.n.07', 'typeset.v.01', 'codes', 'purchase', 'sic.v.01', 'framework', 'url', 'laid.s.01', 'set_up.v.04', 'procurement', 'advancement.n.03', 'number.n.01', 'determine.v.03', 'plant.v.01', 'hardened.s.05', 'number.n.08', 'number.n.09', 'cpv'])\n",
        "contract_end_date - "
       ]
      },
      {
       "output_type": "stream",
       "stream": "stdout",
       "text": [
        "set(['code', 'surround.v.01', 'advance.v.01', 'set.v.04', 'set.v.05', 'consolidated', 'set.v.08', 'set.v.09', 'entity', 'in.s.01', 'manager', 'detect.v.01', 'set.v.06', 'announcement', 'data.n.01', 'title', 'winner', 'datum.n.01', 'jell.v.01', 'program', 'black', 'include', 'notice.v.04', 'set.v.17', 'set.v.16', 'set.v.10', 'set.v.13', 'notice.v.02', 'bid', 'set.v.18', 'period', 'supplier', 'hardening.n.02', 'winning', 'in.s.03', 'in.s.02', 'build_up.v.02', 'act.n.04', 'rfp', 'name', 'put.v.01', 'reference_point.n.01', 'reference_book.n.01', 'numeral.n.01', 'type.n.03', 'type.n.01', 'type.n.06', 'type.n.05', 'sequence', 'account', 'address.n.01', 'located.s.01', 'num', 'indiana.n.01', 'place.v.11', 'tender', 'poster.n.01', 'bidders', 'estimated', 'rig.v.04', 'fit.s.02', 'sub', 'federal', 'state', 'branch', 'band.n.12', 'arrange.v.06', 'new', 'mu.n.01', 'mention.n.01', 'gang.n.01', 'notice.n.04', 'notice.n.07', 'notice.n.06', 'notice.n.01', 'notice.n.02', 'step', 'bent.n.01', 'key', 'org', 'number.v.06', 'number.v.02', 'number.v.03', 'stage_set.n.01', 'language', 'created', 'region', 'contract', 'call.v.03', 'amount', 'signature', 'contribution', 'or', 'reference.n.06', 'set.s.05', 'notification.n.03', 'stratification', 'number', 'type.v.01', 'set.n.08', 'in.r.01', 'indium.n.01', 'registration', 'set.n.02', 'set.n.03', 'set.n.01', 'set.n.07', 'risk', 'set.n.05', 'specify.v.02', 'reference.v.01', 'dress.v.16', 'type.n.04', 'fix.v.12', 'start', 'inch.n.01', 'indicators', 'contractor', 'white', 'type', 'issue.n.02', 'vat', 'lowest', 'determined.s.04', 'hoop.n.02', 'offer', 'company', 'award', 'resound.v.01', 'set.n.11', 'set.n.10', 'set.n.13', 'set.n.12', 'progress.n.02', 'progress.n.03', 'bids', 'value', 'ring.n.01', 'ring.n.02', 'closed_chain.n.01', 'phone_number.n.01', 'ring.n.07', 'ring.n.06', 'ring.v.01', 'ring.n.08', 'ring.v.03', 'total.v.01', 'bidder', 'procedure', 'ring.v.06', 'comment.v.01', 'is', 'year', 'updated', 'fructify.v.03', 'unit', 'at', 'type.v.02', 'character.n.07', 'citation.n.03', 'character.n.05', 'id', 'reference.n.10', 'guarantee', 'adjust.v.01', 'end', 'archive', 'number.n.07', 'progress.v.01', 'number.n.11', 'number.n.10', 'status', 'number.n.02', 'count.v.01', 'fixed.s.02', 'reference.n.08', 'count.v.05', 'date', 'procurer', 'reference.n.07', 'typeset.v.01', 'codes', 'purchase', 'sic.v.01', 'framework', 'url', 'laid.s.01', 'set_up.v.04', 'procurement', 'advancement.n.03', 'number.n.01', 'determine.v.03', 'plant.v.01', 'hardened.s.05', 'number.n.08', 'number.n.09', 'cpv'])\n",
        "unique_identifier - set(['code', 'surround.v.01', 'advance.v.01', 'set.v.04', 'set.v.05', 'consolidated', 'set.v.08', 'set.v.09', 'entity', 'in.s.01', 'manager', 'detect.v.01', 'set.v.06', 'announcement', 'data.n.01', 'title', 'winner', 'datum.n.01', 'jell.v.01', 'program', 'black', 'include', 'notice.v.04', 'set.v.17', 'set.v.16', 'set.v.10', 'set.v.13', 'notice.v.02', 'bid', 'set.v.18', 'period', 'supplier', 'hardening.n.02', 'winning', 'in.s.03', 'in.s.02', 'build_up.v.02', 'act.n.04', 'rfp', 'name', 'put.v.01', 'reference_point.n.01', 'reference_book.n.01', 'numeral.n.01', 'type.n.03', 'type.n.01', 'type.n.06', 'type.n.05', 'sequence', 'account', 'address.n.01', 'located.s.01', 'num', 'indiana.n.01', 'place.v.11', 'tender', 'poster.n.01', 'bidders', 'estimated', 'rig.v.04', 'fit.s.02', 'sub', 'federal', 'state', 'branch', 'band.n.12', 'arrange.v.06', 'new', 'mu.n.01', 'mention.n.01', 'gang.n.01', 'notice.n.04', 'notice.n.07', 'notice.n.06', 'notice.n.01', 'notice.n.02', 'step', 'bent.n.01', 'key', 'org', 'number.v.06', 'number.v.02', 'number.v.03', 'stage_set.n.01', 'language', 'created', 'region', 'contract', 'call.v.03', 'amount', 'signature', 'contribution', 'or', 'reference.n.06', 'set.s.05', 'notification.n.03', 'stratification', 'number', 'type.v.01', 'set.n.08', 'in.r.01', 'indium.n.01', 'registration', 'set.n.02', 'set.n.03', 'set.n.01', 'set.n.07', 'risk', 'set.n.05', 'specify.v.02', 'reference.v.01', 'dress.v.16', 'type.n.04', 'fix.v.12', 'start', 'inch.n.01', 'indicators', 'contractor', 'white', 'type', 'issue.n.02', 'vat', 'lowest', 'determined.s.04', 'hoop.n.02', 'offer', 'company', 'award', 'resound.v.01', 'set.n.11', 'set.n.10', 'set.n.13', 'set.n.12', 'progress.n.02', 'progress.n.03', 'bids', 'value', 'ring.n.01', 'ring.n.02', 'closed_chain.n.01', 'phone_number.n.01', 'ring.n.07', 'ring.n.06', 'ring.v.01', 'ring.n.08', 'ring.v.03', 'total.v.01', 'bidder', 'procedure', 'ring.v.06', 'comment.v.01', 'is', 'year', 'updated', 'fructify.v.03', 'unit', 'at', 'type.v.02', 'character.n.07', 'citation.n.03', 'character.n.05', 'id', 'reference.n.10', 'guarantee', 'adjust.v.01', 'end', 'archive', 'number.n.07', 'progress.v.01', 'number.n.11', 'number.n.10', 'status', 'number.n.02', 'count.v.01', 'fixed.s.02', 'reference.n.08', 'count.v.05', 'date', 'procurer', 'reference.n.07', 'typeset.v.01', 'codes', 'purchase', 'sic.v.01', 'framework', 'url', 'laid.s.01', 'set_up.v.04', 'procurement', 'advancement.n.03', 'number.n.01', 'determine.v.03', 'plant.v.01', 'hardened.s.05', 'number.n.08', 'number.n.09', 'cpv'])\n",
        "goods_and_services - set(['code', 'surround.v.01', 'advance.v.01', 'set.v.04', 'set.v.05', 'consolidated', 'set.v.08', 'set.v.09', 'entity', 'in.s.01', 'manager', 'detect.v.01', 'set.v.06', 'announcement', 'data.n.01', 'title', 'winner', 'datum.n.01', 'jell.v.01', 'program', 'black', 'include', 'notice.v.04', 'set.v.17', 'set.v.16', 'set.v.10', 'set.v.13', 'notice.v.02', 'bid', 'set.v.18', 'period', 'supplier', 'hardening.n.02', 'winning', 'in.s.03', 'in.s.02', 'build_up.v.02', 'act.n.04', 'rfp', 'name', 'put.v.01', 'reference_point.n.01', 'reference_book.n.01', 'numeral.n.01', 'type.n.03', 'type.n.01', 'type.n.06', 'type.n.05', 'sequence', 'account', 'address.n.01', 'located.s.01', 'num', 'indiana.n.01', 'place.v.11', 'tender', 'poster.n.01', 'bidders', 'estimated', 'rig.v.04', 'fit.s.02', 'sub', 'federal', 'state', 'branch', 'band.n.12', 'arrange.v.06', 'new', 'mu.n.01', 'mention.n.01', 'gang.n.01', 'notice.n.04', 'notice.n.07', 'notice.n.06', 'notice.n.01', 'notice.n.02', 'step', 'bent.n.01', 'key', 'org', 'number.v.06', 'number.v.02', 'number.v.03', 'stage_set.n.01', 'language', 'created', 'region', 'contract', 'call.v.03', 'amount', 'signature', 'contribution', 'or', 'reference.n.06', 'set.s.05', 'notification.n.03', 'stratification', 'number', 'type.v.01', 'set.n.08', 'in.r.01', 'indium.n.01', 'registration', 'set.n.02', 'set.n.03', 'set.n.01', 'set.n.07', 'risk', 'set.n.05', 'specify.v.02', 'reference.v.01', 'dress.v.16', 'type.n.04', 'fix.v.12', 'start', 'inch.n.01', 'indicators', 'contractor', 'white', 'type', 'issue.n.02', 'vat', 'lowest', 'determined.s.04', 'hoop.n.02', 'offer', 'company', 'award', 'resound.v.01', 'set.n.11', 'set.n.10', 'set.n.13', 'set.n.12', 'progress.n.02', 'progress.n.03', 'bids', 'value', 'ring.n.01', 'ring.n.02', 'closed_chain.n.01', 'phone_number.n.01', 'ring.n.07', 'ring.n.06', 'ring.v.01', 'ring.n.08', 'ring.v.03', 'total.v.01', 'bidder', 'procedure', 'ring.v.06', 'comment.v.01', 'is', 'year', 'updated', 'fructify.v.03', 'unit', 'at', 'type.v.02', 'character.n.07', 'citation.n.03', 'character.n.05', 'id', 'reference.n.10', 'guarantee', 'adjust.v.01', 'end', 'archive', 'number.n.07', 'progress.v.01', 'number.n.11', 'number.n.10', 'status', 'number.n.02', 'count.v.01', 'fixed.s.02', 'reference.n.08', 'count.v.05', 'date', 'procurer', 'reference.n.07', 'typeset.v.01', 'codes', 'purchase', 'sic.v.01', 'framework', 'url', 'laid.s.01', 'set_up.v.04', 'procurement', 'advancement.n.03', 'number.n.01', 'determine.v.03', 'plant.v.01', 'hardened.s.05', 'number.n.08', 'number.n.09', 'cpv'])\n",
        "tender_status - "
       ]
      },
      {
       "output_type": "stream",
       "stream": "stdout",
       "text": [
        "set(['code', 'surround.v.01', 'advance.v.01', 'set.v.04', 'set.v.05', 'consolidated', 'set.v.08', 'set.v.09', 'entity', 'in.s.01', 'manager', 'detect.v.01', 'set.v.06', 'announcement', 'data.n.01', 'title', 'winner', 'datum.n.01', 'jell.v.01', 'program', 'black', 'include', 'notice.v.04', 'set.v.17', 'set.v.16', 'set.v.10', 'set.v.13', 'notice.v.02', 'bid', 'set.v.18', 'period', 'supplier', 'hardening.n.02', 'winning', 'in.s.03', 'in.s.02', 'build_up.v.02', 'act.n.04', 'rfp', 'name', 'put.v.01', 'reference_point.n.01', 'reference_book.n.01', 'numeral.n.01', 'type.n.03', 'type.n.01', 'type.n.06', 'type.n.05', 'sequence', 'account', 'address.n.01', 'located.s.01', 'num', 'indiana.n.01', 'place.v.11', 'tender', 'poster.n.01', 'bidders', 'estimated', 'rig.v.04', 'fit.s.02', 'sub', 'federal', 'state', 'branch', 'band.n.12', 'arrange.v.06', 'new', 'mu.n.01', 'mention.n.01', 'gang.n.01', 'notice.n.04', 'notice.n.07', 'notice.n.06', 'notice.n.01', 'notice.n.02', 'step', 'bent.n.01', 'key', 'org', 'number.v.06', 'number.v.02', 'number.v.03', 'stage_set.n.01', 'language', 'created', 'region', 'contract', 'call.v.03', 'amount', 'signature', 'contribution', 'or', 'reference.n.06', 'set.s.05', 'notification.n.03', 'stratification', 'number', 'type.v.01', 'set.n.08', 'in.r.01', 'indium.n.01', 'registration', 'set.n.02', 'set.n.03', 'set.n.01', 'set.n.07', 'risk', 'set.n.05', 'specify.v.02', 'reference.v.01', 'dress.v.16', 'type.n.04', 'fix.v.12', 'start', 'inch.n.01', 'indicators', 'contractor', 'white', 'type', 'issue.n.02', 'vat', 'lowest', 'determined.s.04', 'hoop.n.02', 'offer', 'company', 'award', 'resound.v.01', 'set.n.11', 'set.n.10', 'set.n.13', 'set.n.12', 'progress.n.02', 'progress.n.03', 'bids', 'value', 'ring.n.01', 'ring.n.02', 'closed_chain.n.01', 'phone_number.n.01', 'ring.n.07', 'ring.n.06', 'ring.v.01', 'ring.n.08', 'ring.v.03', 'total.v.01', 'bidder', 'procedure', 'ring.v.06', 'comment.v.01', 'is', 'year', 'updated', 'fructify.v.03', 'unit', 'at', 'type.v.02', 'character.n.07', 'citation.n.03', 'character.n.05', 'id', 'reference.n.10', 'guarantee', 'adjust.v.01', 'end', 'archive', 'number.n.07', 'progress.v.01', 'number.n.11', 'number.n.10', 'status', 'number.n.02', 'count.v.01', 'fixed.s.02', 'reference.n.08', 'count.v.05', 'date', 'procurer', 'reference.n.07', 'typeset.v.01', 'codes', 'purchase', 'sic.v.01', 'framework', 'url', 'laid.s.01', 'set_up.v.04', 'procurement', 'advancement.n.03', 'number.n.01', 'determine.v.03', 'plant.v.01', 'hardened.s.05', 'number.n.08', 'number.n.09', 'cpv'])\n",
        "tender_goods - set(['code', 'surround.v.01', 'advance.v.01', 'set.v.04', 'set.v.05', 'consolidated', 'set.v.08', 'set.v.09', 'entity', 'in.s.01', 'manager', 'detect.v.01', 'set.v.06', 'announcement', 'data.n.01', 'title', 'winner', 'datum.n.01', 'jell.v.01', 'program', 'black', 'include', 'notice.v.04', 'set.v.17', 'set.v.16', 'set.v.10', 'set.v.13', 'notice.v.02', 'bid', 'set.v.18', 'period', 'supplier', 'hardening.n.02', 'winning', 'in.s.03', 'in.s.02', 'build_up.v.02', 'act.n.04', 'rfp', 'name', 'put.v.01', 'reference_point.n.01', 'reference_book.n.01', 'numeral.n.01', 'type.n.03', 'type.n.01', 'type.n.06', 'type.n.05', 'sequence', 'account', 'address.n.01', 'located.s.01', 'num', 'indiana.n.01', 'place.v.11', 'tender', 'poster.n.01', 'bidders', 'estimated', 'rig.v.04', 'fit.s.02', 'sub', 'federal', 'state', 'branch', 'band.n.12', 'arrange.v.06', 'new', 'mu.n.01', 'mention.n.01', 'gang.n.01', 'notice.n.04', 'notice.n.07', 'notice.n.06', 'notice.n.01', 'notice.n.02', 'step', 'bent.n.01', 'key', 'org', 'number.v.06', 'number.v.02', 'number.v.03', 'stage_set.n.01', 'language', 'created', 'region', 'contract', 'call.v.03', 'amount', 'signature', 'contribution', 'or', 'reference.n.06', 'set.s.05', 'notification.n.03', 'stratification', 'number', 'type.v.01', 'set.n.08', 'in.r.01', 'indium.n.01', 'registration', 'set.n.02', 'set.n.03', 'set.n.01', 'set.n.07', 'risk', 'set.n.05', 'specify.v.02', 'reference.v.01', 'dress.v.16', 'type.n.04', 'fix.v.12', 'start', 'inch.n.01', 'indicators', 'contractor', 'white', 'type', 'issue.n.02', 'vat', 'lowest', 'determined.s.04', 'hoop.n.02', 'offer', 'company', 'award', 'resound.v.01', 'set.n.11', 'set.n.10', 'set.n.13', 'set.n.12', 'progress.n.02', 'progress.n.03', 'bids', 'value', 'ring.n.01', 'ring.n.02', 'closed_chain.n.01', 'phone_number.n.01', 'ring.n.07', 'ring.n.06', 'ring.v.01', 'ring.n.08', 'ring.v.03', 'total.v.01', 'bidder', 'procedure', 'ring.v.06', 'comment.v.01', 'is', 'year', 'updated', 'fructify.v.03', 'unit', 'at', 'type.v.02', 'character.n.07', 'citation.n.03', 'character.n.05', 'id', 'reference.n.10', 'guarantee', 'adjust.v.01', 'end', 'archive', 'number.n.07', 'progress.v.01', 'number.n.11', 'number.n.10', 'status', 'number.n.02', 'count.v.01', 'fixed.s.02', 'reference.n.08', 'count.v.05', 'date', 'procurer', 'reference.n.07', 'typeset.v.01', 'codes', 'purchase', 'sic.v.01', 'framework', 'url', 'laid.s.01', 'set_up.v.04', 'procurement', 'advancement.n.03', 'number.n.01', 'determine.v.03', 'plant.v.01', 'hardened.s.05', 'number.n.08', 'number.n.09', 'cpv'])\n",
        "tender_date - set(['code', 'surround.v.01', 'advance.v.01', 'set.v.04', 'set.v.05', 'consolidated', 'set.v.08', 'set.v.09', 'entity', 'in.s.01', 'manager', 'detect.v.01', 'set.v.06', 'announcement', 'data.n.01', 'title', 'winner', 'datum.n.01', 'jell.v.01', 'program', 'black', 'include', 'notice.v.04', 'set.v.17', 'set.v.16', 'set.v.10', 'set.v.13', 'notice.v.02', 'bid', 'set.v.18', 'period', 'supplier', 'hardening.n.02', 'winning', 'in.s.03', 'in.s.02', 'build_up.v.02', 'act.n.04', 'rfp', 'name', 'put.v.01', 'reference_point.n.01', 'reference_book.n.01', 'numeral.n.01', 'type.n.03', 'type.n.01', 'type.n.06', 'type.n.05', 'sequence', 'account', 'address.n.01', 'located.s.01', 'num', 'indiana.n.01', 'place.v.11', 'tender', 'poster.n.01', 'bidders', 'estimated', 'rig.v.04', 'fit.s.02', 'sub', 'federal', 'state', 'branch', 'band.n.12', 'arrange.v.06', 'new', 'mu.n.01', 'mention.n.01', 'gang.n.01', 'notice.n.04', 'notice.n.07', 'notice.n.06', 'notice.n.01', 'notice.n.02', 'step', 'bent.n.01', 'key', 'org', 'number.v.06', 'number.v.02', 'number.v.03', 'stage_set.n.01', 'language', 'created', 'region', 'contract', 'call.v.03', 'amount', 'signature', 'contribution', 'or', 'reference.n.06', 'set.s.05', 'notification.n.03', 'stratification', 'number', 'type.v.01', 'set.n.08', 'in.r.01', 'indium.n.01', 'registration', 'set.n.02', 'set.n.03', 'set.n.01', 'set.n.07', 'risk', 'set.n.05', 'specify.v.02', 'reference.v.01', 'dress.v.16', 'type.n.04', 'fix.v.12', 'start', 'inch.n.01', 'indicators', 'contractor', 'white', 'type', 'issue.n.02', 'vat', 'lowest', 'determined.s.04', 'hoop.n.02', 'offer', 'company', 'award', 'resound.v.01', 'set.n.11', 'set.n.10', 'set.n.13', 'set.n.12', 'progress.n.02', 'progress.n.03', 'bids', 'value', 'ring.n.01', 'ring.n.02', 'closed_chain.n.01', 'phone_number.n.01', 'ring.n.07', 'ring.n.06', 'ring.v.01', 'ring.n.08', 'ring.v.03', 'total.v.01', 'bidder', 'procedure', 'ring.v.06', 'comment.v.01', 'is', 'year', 'updated', 'fructify.v.03', 'unit', 'at', 'type.v.02', 'character.n.07', 'citation.n.03', 'character.n.05', 'id', 'reference.n.10', 'guarantee', 'adjust.v.01', 'end', 'archive', 'number.n.07', 'progress.v.01', 'number.n.11', 'number.n.10', 'status', 'number.n.02', 'count.v.01', 'fixed.s.02', 'reference.n.08', 'count.v.05', 'date', 'procurer', 'reference.n.07', 'typeset.v.01', 'codes', 'purchase', 'sic.v.01', 'framework', 'url', 'laid.s.01', 'set_up.v.04', 'procurement', 'advancement.n.03', 'number.n.01', 'determine.v.03', 'plant.v.01', 'hardened.s.05', 'number.n.08', 'number.n.09', 'cpv'])\n",
        "tender_openness - set(['code', 'surround.v.01', 'advance.v.01', 'set.v.04', 'set.v.05', 'consolidated', 'set.v.08', 'set.v.09', 'entity', 'in.s.01', 'manager', 'detect.v.01', 'set.v.06', 'announcement', 'data.n.01', 'title', 'winner', 'datum.n.01', 'jell.v.01', 'program', 'black', 'include', 'notice.v.04', 'set.v.17', 'set.v.16', 'set.v.10', 'set.v.13', 'notice.v.02', 'bid', 'set.v.18', 'period', 'supplier', 'hardening.n.02', 'winning', 'in.s.03', 'in.s.02', 'build_up.v.02', 'act.n.04', 'rfp', 'name', 'put.v.01', 'reference_point.n.01', 'reference_book.n.01', 'numeral.n.01', 'type.n.03', 'type.n.01', 'type.n.06', 'type.n.05', 'sequence', 'account', 'address.n.01', 'located.s.01', 'num', 'indiana.n.01', 'place.v.11', 'tender', 'poster.n.01', 'bidders', 'estimated', 'rig.v.04', 'fit.s.02', 'sub', 'federal', 'state', 'branch', 'band.n.12', 'arrange.v.06', 'new', 'mu.n.01', 'mention.n.01', 'gang.n.01', 'notice.n.04', 'notice.n.07', 'notice.n.06', 'notice.n.01', 'notice.n.02', 'step', 'bent.n.01', 'key', 'org', 'number.v.06', 'number.v.02', 'number.v.03', 'stage_set.n.01', 'language', 'created', 'region', 'contract', 'call.v.03', 'amount', 'signature', 'contribution', 'or', 'reference.n.06', 'set.s.05', 'notification.n.03', 'stratification', 'number', 'type.v.01', 'set.n.08', 'in.r.01', 'indium.n.01', 'registration', 'set.n.02', 'set.n.03', 'set.n.01', 'set.n.07', 'risk', 'set.n.05', 'specify.v.02', 'reference.v.01', 'dress.v.16', 'type.n.04', 'fix.v.12', 'start', 'inch.n.01', 'indicators', 'contractor', 'white', 'type', 'issue.n.02', 'vat', 'lowest', 'determined.s.04', 'hoop.n.02', 'offer', 'company', 'award', 'resound.v.01', 'set.n.11', 'set.n.10', 'set.n.13', 'set.n.12', 'progress.n.02', 'progress.n.03', 'bids', 'value', 'ring.n.01', 'ring.n.02', 'closed_chain.n.01', 'phone_number.n.01', 'ring.n.07', 'ring.n.06', 'ring.v.01', 'ring.n.08', 'ring.v.03', 'total.v.01', 'bidder', 'procedure', 'ring.v.06', 'comment.v.01', 'is', 'year', 'updated', 'fructify.v.03', 'unit', 'at', 'type.v.02', 'character.n.07', 'citation.n.03', 'character.n.05', 'id', 'reference.n.10', 'guarantee', 'adjust.v.01', 'end', 'archive', 'number.n.07', 'progress.v.01', 'number.n.11', 'number.n.10', 'status', 'number.n.02', 'count.v.01', 'fixed.s.02', 'reference.n.08', 'count.v.05', 'date', 'procurer', 'reference.n.07', 'typeset.v.01', 'codes', 'purchase', 'sic.v.01', 'framework', 'url', 'laid.s.01', 'set_up.v.04', 'procurement', 'advancement.n.03', 'number.n.01', 'determine.v.03', 'plant.v.01', 'hardened.s.05', 'number.n.08', 'number.n.09', 'cpv'])\n",
        "contracted_entity - "
       ]
      },
      {
       "output_type": "stream",
       "stream": "stdout",
       "text": [
        "set(['code', 'surround.v.01', 'advance.v.01', 'set.v.04', 'set.v.05', 'consolidated', 'set.v.08', 'set.v.09', 'entity', 'in.s.01', 'manager', 'detect.v.01', 'set.v.06', 'announcement', 'data.n.01', 'title', 'winner', 'datum.n.01', 'jell.v.01', 'program', 'black', 'include', 'notice.v.04', 'set.v.17', 'set.v.16', 'set.v.10', 'set.v.13', 'notice.v.02', 'bid', 'set.v.18', 'period', 'supplier', 'hardening.n.02', 'winning', 'in.s.03', 'in.s.02', 'build_up.v.02', 'act.n.04', 'rfp', 'name', 'put.v.01', 'reference_point.n.01', 'reference_book.n.01', 'numeral.n.01', 'type.n.03', 'type.n.01', 'type.n.06', 'type.n.05', 'sequence', 'account', 'address.n.01', 'located.s.01', 'num', 'indiana.n.01', 'place.v.11', 'tender', 'poster.n.01', 'bidders', 'estimated', 'rig.v.04', 'fit.s.02', 'sub', 'federal', 'state', 'branch', 'band.n.12', 'arrange.v.06', 'new', 'mu.n.01', 'mention.n.01', 'gang.n.01', 'notice.n.04', 'notice.n.07', 'notice.n.06', 'notice.n.01', 'notice.n.02', 'step', 'bent.n.01', 'key', 'org', 'number.v.06', 'number.v.02', 'number.v.03', 'stage_set.n.01', 'language', 'created', 'region', 'contract', 'call.v.03', 'amount', 'signature', 'contribution', 'or', 'reference.n.06', 'set.s.05', 'notification.n.03', 'stratification', 'number', 'type.v.01', 'set.n.08', 'in.r.01', 'indium.n.01', 'registration', 'set.n.02', 'set.n.03', 'set.n.01', 'set.n.07', 'risk', 'set.n.05', 'specify.v.02', 'reference.v.01', 'dress.v.16', 'type.n.04', 'fix.v.12', 'start', 'inch.n.01', 'indicators', 'contractor', 'white', 'type', 'issue.n.02', 'vat', 'lowest', 'determined.s.04', 'hoop.n.02', 'offer', 'company', 'award', 'resound.v.01', 'set.n.11', 'set.n.10', 'set.n.13', 'set.n.12', 'progress.n.02', 'progress.n.03', 'bids', 'value', 'ring.n.01', 'ring.n.02', 'closed_chain.n.01', 'phone_number.n.01', 'ring.n.07', 'ring.n.06', 'ring.v.01', 'ring.n.08', 'ring.v.03', 'total.v.01', 'bidder', 'procedure', 'ring.v.06', 'comment.v.01', 'is', 'year', 'updated', 'fructify.v.03', 'unit', 'at', 'type.v.02', 'character.n.07', 'citation.n.03', 'character.n.05', 'id', 'reference.n.10', 'guarantee', 'adjust.v.01', 'end', 'archive', 'number.n.07', 'progress.v.01', 'number.n.11', 'number.n.10', 'status', 'number.n.02', 'count.v.01', 'fixed.s.02', 'reference.n.08', 'count.v.05', 'date', 'procurer', 'reference.n.07', 'typeset.v.01', 'codes', 'purchase', 'sic.v.01', 'framework', 'url', 'laid.s.01', 'set_up.v.04', 'procurement', 'advancement.n.03', 'number.n.01', 'determine.v.03', 'plant.v.01', 'hardened.s.05', 'number.n.08', 'number.n.09', 'cpv'])\n",
        "contract_start_date - set(['code', 'surround.v.01', 'advance.v.01', 'set.v.04', 'set.v.05', 'consolidated', 'set.v.08', 'set.v.09', 'entity', 'in.s.01', 'manager', 'detect.v.01', 'set.v.06', 'announcement', 'data.n.01', 'title', 'winner', 'datum.n.01', 'jell.v.01', 'program', 'black', 'include', 'notice.v.04', 'set.v.17', 'set.v.16', 'set.v.10', 'set.v.13', 'notice.v.02', 'bid', 'set.v.18', 'period', 'supplier', 'hardening.n.02', 'winning', 'in.s.03', 'in.s.02', 'build_up.v.02', 'act.n.04', 'rfp', 'name', 'put.v.01', 'reference_point.n.01', 'reference_book.n.01', 'numeral.n.01', 'type.n.03', 'type.n.01', 'type.n.06', 'type.n.05', 'sequence', 'account', 'address.n.01', 'located.s.01', 'num', 'indiana.n.01', 'place.v.11', 'tender', 'poster.n.01', 'bidders', 'estimated', 'rig.v.04', 'fit.s.02', 'sub', 'federal', 'state', 'branch', 'band.n.12', 'arrange.v.06', 'new', 'mu.n.01', 'mention.n.01', 'gang.n.01', 'notice.n.04', 'notice.n.07', 'notice.n.06', 'notice.n.01', 'notice.n.02', 'step', 'bent.n.01', 'key', 'org', 'number.v.06', 'number.v.02', 'number.v.03', 'stage_set.n.01', 'language', 'created', 'region', 'contract', 'call.v.03', 'amount', 'signature', 'contribution', 'or', 'reference.n.06', 'set.s.05', 'notification.n.03', 'stratification', 'number', 'type.v.01', 'set.n.08', 'in.r.01', 'indium.n.01', 'registration', 'set.n.02', 'set.n.03', 'set.n.01', 'set.n.07', 'risk', 'set.n.05', 'specify.v.02', 'reference.v.01', 'dress.v.16', 'type.n.04', 'fix.v.12', 'start', 'inch.n.01', 'indicators', 'contractor', 'white', 'type', 'issue.n.02', 'vat', 'lowest', 'determined.s.04', 'hoop.n.02', 'offer', 'company', 'award', 'resound.v.01', 'set.n.11', 'set.n.10', 'set.n.13', 'set.n.12', 'progress.n.02', 'progress.n.03', 'bids', 'value', 'ring.n.01', 'ring.n.02', 'closed_chain.n.01', 'phone_number.n.01', 'ring.n.07', 'ring.n.06', 'ring.v.01', 'ring.n.08', 'ring.v.03', 'total.v.01', 'bidder', 'procedure', 'ring.v.06', 'comment.v.01', 'is', 'year', 'updated', 'fructify.v.03', 'unit', 'at', 'type.v.02', 'character.n.07', 'citation.n.03', 'character.n.05', 'id', 'reference.n.10', 'guarantee', 'adjust.v.01', 'end', 'archive', 'number.n.07', 'progress.v.01', 'number.n.11', 'number.n.10', 'status', 'number.n.02', 'count.v.01', 'fixed.s.02', 'reference.n.08', 'count.v.05', 'date', 'procurer', 'reference.n.07', 'typeset.v.01', 'codes', 'purchase', 'sic.v.01', 'framework', 'url', 'laid.s.01', 'set_up.v.04', 'procurement', 'advancement.n.03', 'number.n.01', 'determine.v.03', 'plant.v.01', 'hardened.s.05', 'number.n.08', 'number.n.09', 'cpv'])\n",
        "awarding_entity - set(['code', 'surround.v.01', 'advance.v.01', 'set.v.04', 'set.v.05', 'consolidated', 'set.v.08', 'set.v.09', 'entity', 'in.s.01', 'manager', 'detect.v.01', 'set.v.06', 'announcement', 'data.n.01', 'title', 'winner', 'datum.n.01', 'jell.v.01', 'program', 'black', 'include', 'notice.v.04', 'set.v.17', 'set.v.16', 'set.v.10', 'set.v.13', 'notice.v.02', 'bid', 'set.v.18', 'period', 'supplier', 'hardening.n.02', 'winning', 'in.s.03', 'in.s.02', 'build_up.v.02', 'act.n.04', 'rfp', 'name', 'put.v.01', 'reference_point.n.01', 'reference_book.n.01', 'numeral.n.01', 'type.n.03', 'type.n.01', 'type.n.06', 'type.n.05', 'sequence', 'account', 'address.n.01', 'located.s.01', 'num', 'indiana.n.01', 'place.v.11', 'tender', 'poster.n.01', 'bidders', 'estimated', 'rig.v.04', 'fit.s.02', 'sub', 'federal', 'state', 'branch', 'band.n.12', 'arrange.v.06', 'new', 'mu.n.01', 'mention.n.01', 'gang.n.01', 'notice.n.04', 'notice.n.07', 'notice.n.06', 'notice.n.01', 'notice.n.02', 'step', 'bent.n.01', 'key', 'org', 'number.v.06', 'number.v.02', 'number.v.03', 'stage_set.n.01', 'language', 'created', 'region', 'contract', 'call.v.03', 'amount', 'signature', 'contribution', 'or', 'reference.n.06', 'set.s.05', 'notification.n.03', 'stratification', 'number', 'type.v.01', 'set.n.08', 'in.r.01', 'indium.n.01', 'registration', 'set.n.02', 'set.n.03', 'set.n.01', 'set.n.07', 'risk', 'set.n.05', 'specify.v.02', 'reference.v.01', 'dress.v.16', 'type.n.04', 'fix.v.12', 'start', 'inch.n.01', 'indicators', 'contractor', 'white', 'type', 'issue.n.02', 'vat', 'lowest', 'determined.s.04', 'hoop.n.02', 'offer', 'company', 'award', 'resound.v.01', 'set.n.11', 'set.n.10', 'set.n.13', 'set.n.12', 'progress.n.02', 'progress.n.03', 'bids', 'value', 'ring.n.01', 'ring.n.02', 'closed_chain.n.01', 'phone_number.n.01', 'ring.n.07', 'ring.n.06', 'ring.v.01', 'ring.n.08', 'ring.v.03', 'total.v.01', 'bidder', 'procedure', 'ring.v.06', 'comment.v.01', 'is', 'year', 'updated', 'fructify.v.03', 'unit', 'at', 'type.v.02', 'character.n.07', 'citation.n.03', 'character.n.05', 'id', 'reference.n.10', 'guarantee', 'adjust.v.01', 'end', 'archive', 'number.n.07', 'progress.v.01', 'number.n.11', 'number.n.10', 'status', 'number.n.02', 'count.v.01', 'fixed.s.02', 'reference.n.08', 'count.v.05', 'date', 'procurer', 'reference.n.07', 'typeset.v.01', 'codes', 'purchase', 'sic.v.01', 'framework', 'url', 'laid.s.01', 'set_up.v.04', 'procurement', 'advancement.n.03', 'number.n.01', 'determine.v.03', 'plant.v.01', 'hardened.s.05', 'number.n.08', 'number.n.09', 'cpv'])\n",
        "contract_status - "
       ]
      },
      {
       "output_type": "stream",
       "stream": "stdout",
       "text": [
        "set(['code', 'surround.v.01', 'advance.v.01', 'set.v.04', 'set.v.05', 'consolidated', 'set.v.08', 'set.v.09', 'entity', 'in.s.01', 'manager', 'detect.v.01', 'set.v.06', 'announcement', 'data.n.01', 'title', 'winner', 'datum.n.01', 'jell.v.01', 'program', 'black', 'include', 'notice.v.04', 'set.v.17', 'set.v.16', 'set.v.10', 'set.v.13', 'notice.v.02', 'bid', 'set.v.18', 'period', 'supplier', 'hardening.n.02', 'winning', 'in.s.03', 'in.s.02', 'build_up.v.02', 'act.n.04', 'rfp', 'name', 'put.v.01', 'reference_point.n.01', 'reference_book.n.01', 'numeral.n.01', 'type.n.03', 'type.n.01', 'type.n.06', 'type.n.05', 'sequence', 'account', 'address.n.01', 'located.s.01', 'num', 'indiana.n.01', 'place.v.11', 'tender', 'poster.n.01', 'bidders', 'estimated', 'rig.v.04', 'fit.s.02', 'sub', 'federal', 'state', 'branch', 'band.n.12', 'arrange.v.06', 'new', 'mu.n.01', 'mention.n.01', 'gang.n.01', 'notice.n.04', 'notice.n.07', 'notice.n.06', 'notice.n.01', 'notice.n.02', 'step', 'bent.n.01', 'key', 'org', 'number.v.06', 'number.v.02', 'number.v.03', 'stage_set.n.01', 'language', 'created', 'region', 'contract', 'call.v.03', 'amount', 'signature', 'contribution', 'or', 'reference.n.06', 'set.s.05', 'notification.n.03', 'stratification', 'number', 'type.v.01', 'set.n.08', 'in.r.01', 'indium.n.01', 'registration', 'set.n.02', 'set.n.03', 'set.n.01', 'set.n.07', 'risk', 'set.n.05', 'specify.v.02', 'reference.v.01', 'dress.v.16', 'type.n.04', 'fix.v.12', 'start', 'inch.n.01', 'indicators', 'contractor', 'white', 'type', 'issue.n.02', 'vat', 'lowest', 'determined.s.04', 'hoop.n.02', 'offer', 'company', 'award', 'resound.v.01', 'set.n.11', 'set.n.10', 'set.n.13', 'set.n.12', 'progress.n.02', 'progress.n.03', 'bids', 'value', 'ring.n.01', 'ring.n.02', 'closed_chain.n.01', 'phone_number.n.01', 'ring.n.07', 'ring.n.06', 'ring.v.01', 'ring.n.08', 'ring.v.03', 'total.v.01', 'bidder', 'procedure', 'ring.v.06', 'comment.v.01', 'is', 'year', 'updated', 'fructify.v.03', 'unit', 'at', 'type.v.02', 'character.n.07', 'citation.n.03', 'character.n.05', 'id', 'reference.n.10', 'guarantee', 'adjust.v.01', 'end', 'archive', 'number.n.07', 'progress.v.01', 'number.n.11', 'number.n.10', 'status', 'number.n.02', 'count.v.01', 'fixed.s.02', 'reference.n.08', 'count.v.05', 'date', 'procurer', 'reference.n.07', 'typeset.v.01', 'codes', 'purchase', 'sic.v.01', 'framework', 'url', 'laid.s.01', 'set_up.v.04', 'procurement', 'advancement.n.03', 'number.n.01', 'determine.v.03', 'plant.v.01', 'hardened.s.05', 'number.n.08', 'number.n.09', 'cpv'])\n",
        "contract_value - set(['code', 'surround.v.01', 'advance.v.01', 'set.v.04', 'set.v.05', 'consolidated', 'set.v.08', 'set.v.09', 'entity', 'in.s.01', 'manager', 'detect.v.01', 'set.v.06', 'announcement', 'data.n.01', 'title', 'winner', 'datum.n.01', 'jell.v.01', 'program', 'black', 'include', 'notice.v.04', 'set.v.17', 'set.v.16', 'set.v.10', 'set.v.13', 'notice.v.02', 'bid', 'set.v.18', 'period', 'supplier', 'hardening.n.02', 'winning', 'in.s.03', 'in.s.02', 'build_up.v.02', 'act.n.04', 'rfp', 'name', 'put.v.01', 'reference_point.n.01', 'reference_book.n.01', 'numeral.n.01', 'type.n.03', 'type.n.01', 'type.n.06', 'type.n.05', 'sequence', 'account', 'address.n.01', 'located.s.01', 'num', 'indiana.n.01', 'place.v.11', 'tender', 'poster.n.01', 'bidders', 'estimated', 'rig.v.04', 'fit.s.02', 'sub', 'federal', 'state', 'branch', 'band.n.12', 'arrange.v.06', 'new', 'mu.n.01', 'mention.n.01', 'gang.n.01', 'notice.n.04', 'notice.n.07', 'notice.n.06', 'notice.n.01', 'notice.n.02', 'step', 'bent.n.01', 'key', 'org', 'number.v.06', 'number.v.02', 'number.v.03', 'stage_set.n.01', 'language', 'created', 'region', 'contract', 'call.v.03', 'amount', 'signature', 'contribution', 'or', 'reference.n.06', 'set.s.05', 'notification.n.03', 'stratification', 'number', 'type.v.01', 'set.n.08', 'in.r.01', 'indium.n.01', 'registration', 'set.n.02', 'set.n.03', 'set.n.01', 'set.n.07', 'risk', 'set.n.05', 'specify.v.02', 'reference.v.01', 'dress.v.16', 'type.n.04', 'fix.v.12', 'start', 'inch.n.01', 'indicators', 'contractor', 'white', 'type', 'issue.n.02', 'vat', 'lowest', 'determined.s.04', 'hoop.n.02', 'offer', 'company', 'award', 'resound.v.01', 'set.n.11', 'set.n.10', 'set.n.13', 'set.n.12', 'progress.n.02', 'progress.n.03', 'bids', 'value', 'ring.n.01', 'ring.n.02', 'closed_chain.n.01', 'phone_number.n.01', 'ring.n.07', 'ring.n.06', 'ring.v.01', 'ring.n.08', 'ring.v.03', 'total.v.01', 'bidder', 'procedure', 'ring.v.06', 'comment.v.01', 'is', 'year', 'updated', 'fructify.v.03', 'unit', 'at', 'type.v.02', 'character.n.07', 'citation.n.03', 'character.n.05', 'id', 'reference.n.10', 'guarantee', 'adjust.v.01', 'end', 'archive', 'number.n.07', 'progress.v.01', 'number.n.11', 'number.n.10', 'status', 'number.n.02', 'count.v.01', 'fixed.s.02', 'reference.n.08', 'count.v.05', 'date', 'procurer', 'reference.n.07', 'typeset.v.01', 'codes', 'purchase', 'sic.v.01', 'framework', 'url', 'laid.s.01', 'set_up.v.04', 'procurement', 'advancement.n.03', 'number.n.01', 'determine.v.03', 'plant.v.01', 'hardened.s.05', 'number.n.08', 'number.n.09', 'cpv'])\n",
        "receiving_entity - set(['code', 'surround.v.01', 'advance.v.01', 'set.v.04', 'set.v.05', 'consolidated', 'set.v.08', 'set.v.09', 'entity', 'in.s.01', 'manager', 'detect.v.01', 'set.v.06', 'announcement', 'data.n.01', 'title', 'winner', 'datum.n.01', 'jell.v.01', 'program', 'black', 'include', 'notice.v.04', 'set.v.17', 'set.v.16', 'set.v.10', 'set.v.13', 'notice.v.02', 'bid', 'set.v.18', 'period', 'supplier', 'hardening.n.02', 'winning', 'in.s.03', 'in.s.02', 'build_up.v.02', 'act.n.04', 'rfp', 'name', 'put.v.01', 'reference_point.n.01', 'reference_book.n.01', 'numeral.n.01', 'type.n.03', 'type.n.01', 'type.n.06', 'type.n.05', 'sequence', 'account', 'address.n.01', 'located.s.01', 'num', 'indiana.n.01', 'place.v.11', 'tender', 'poster.n.01', 'bidders', 'estimated', 'rig.v.04', 'fit.s.02', 'sub', 'federal', 'state', 'branch', 'band.n.12', 'arrange.v.06', 'new', 'mu.n.01', 'mention.n.01', 'gang.n.01', 'notice.n.04', 'notice.n.07', 'notice.n.06', 'notice.n.01', 'notice.n.02', 'step', 'bent.n.01', 'key', 'org', 'number.v.06', 'number.v.02', 'number.v.03', 'stage_set.n.01', 'language', 'created', 'region', 'contract', 'call.v.03', 'amount', 'signature', 'contribution', 'or', 'reference.n.06', 'set.s.05', 'notification.n.03', 'stratification', 'number', 'type.v.01', 'set.n.08', 'in.r.01', 'indium.n.01', 'registration', 'set.n.02', 'set.n.03', 'set.n.01', 'set.n.07', 'risk', 'set.n.05', 'specify.v.02', 'reference.v.01', 'dress.v.16', 'type.n.04', 'fix.v.12', 'start', 'inch.n.01', 'indicators', 'contractor', 'white', 'type', 'issue.n.02', 'vat', 'lowest', 'determined.s.04', 'hoop.n.02', 'offer', 'company', 'award', 'resound.v.01', 'set.n.11', 'set.n.10', 'set.n.13', 'set.n.12', 'progress.n.02', 'progress.n.03', 'bids', 'value', 'ring.n.01', 'ring.n.02', 'closed_chain.n.01', 'phone_number.n.01', 'ring.n.07', 'ring.n.06', 'ring.v.01', 'ring.n.08', 'ring.v.03', 'total.v.01', 'bidder', 'procedure', 'ring.v.06', 'comment.v.01', 'is', 'year', 'updated', 'fructify.v.03', 'unit', 'at', 'type.v.02', 'character.n.07', 'citation.n.03', 'character.n.05', 'id', 'reference.n.10', 'guarantee', 'adjust.v.01', 'end', 'archive', 'number.n.07', 'progress.v.01', 'number.n.11', 'number.n.10', 'status', 'number.n.02', 'count.v.01', 'fixed.s.02', 'reference.n.08', 'count.v.05', 'date', 'procurer', 'reference.n.07', 'typeset.v.01', 'codes', 'purchase', 'sic.v.01', 'framework', 'url', 'laid.s.01', 'set_up.v.04', 'procurement', 'advancement.n.03', 'number.n.01', 'determine.v.03', 'plant.v.01', 'hardened.s.05', 'number.n.08', 'number.n.09', 'cpv'])\n",
        "? - "
       ]
      },
      {
       "output_type": "stream",
       "stream": "stdout",
       "text": [
        "set(['code', 'surround.v.01', 'advance.v.01', 'set.v.04', 'set.v.05', 'consolidated', 'set.v.08', 'set.v.09', 'entity', 'in.s.01', 'manager', 'detect.v.01', 'set.v.06', 'announcement', 'data.n.01', 'title', 'winner', 'datum.n.01', 'jell.v.01', 'program', 'black', 'include', 'notice.v.04', 'set.v.17', 'set.v.16', 'set.v.10', 'set.v.13', 'notice.v.02', 'bid', 'set.v.18', 'period', 'supplier', 'hardening.n.02', 'winning', 'in.s.03', 'in.s.02', 'build_up.v.02', 'act.n.04', 'rfp', 'name', 'put.v.01', 'reference_point.n.01', 'reference_book.n.01', 'numeral.n.01', 'type.n.03', 'type.n.01', 'type.n.06', 'type.n.05', 'sequence', 'account', 'address.n.01', 'located.s.01', 'num', 'indiana.n.01', 'place.v.11', 'tender', 'poster.n.01', 'bidders', 'estimated', 'rig.v.04', 'fit.s.02', 'sub', 'federal', 'state', 'branch', 'band.n.12', 'arrange.v.06', 'new', 'mu.n.01', 'mention.n.01', 'gang.n.01', 'notice.n.04', 'notice.n.07', 'notice.n.06', 'notice.n.01', 'notice.n.02', 'step', 'bent.n.01', 'key', 'org', 'number.v.06', 'number.v.02', 'number.v.03', 'stage_set.n.01', 'language', 'created', 'region', 'contract', 'call.v.03', 'amount', 'signature', 'contribution', 'or', 'reference.n.06', 'set.s.05', 'notification.n.03', 'stratification', 'number', 'type.v.01', 'set.n.08', 'in.r.01', 'indium.n.01', 'registration', 'set.n.02', 'set.n.03', 'set.n.01', 'set.n.07', 'risk', 'set.n.05', 'specify.v.02', 'reference.v.01', 'dress.v.16', 'type.n.04', 'fix.v.12', 'start', 'inch.n.01', 'indicators', 'contractor', 'white', 'type', 'issue.n.02', 'vat', 'lowest', 'determined.s.04', 'hoop.n.02', 'offer', 'company', 'award', 'resound.v.01', 'set.n.11', 'set.n.10', 'set.n.13', 'set.n.12', 'progress.n.02', 'progress.n.03', 'bids', 'value', 'ring.n.01', 'ring.n.02', 'closed_chain.n.01', 'phone_number.n.01', 'ring.n.07', 'ring.n.06', 'ring.v.01', 'ring.n.08', 'ring.v.03', 'total.v.01', 'bidder', 'procedure', 'ring.v.06', 'comment.v.01', 'is', 'year', 'updated', 'fructify.v.03', 'unit', 'at', 'type.v.02', 'character.n.07', 'citation.n.03', 'character.n.05', 'id', 'reference.n.10', 'guarantee', 'adjust.v.01', 'end', 'archive', 'number.n.07', 'progress.v.01', 'number.n.11', 'number.n.10', 'status', 'number.n.02', 'count.v.01', 'fixed.s.02', 'reference.n.08', 'count.v.05', 'date', 'procurer', 'reference.n.07', 'typeset.v.01', 'codes', 'purchase', 'sic.v.01', 'framework', 'url', 'laid.s.01', 'set_up.v.04', 'procurement', 'advancement.n.03', 'number.n.01', 'determine.v.03', 'plant.v.01', 'hardened.s.05', 'number.n.08', 'number.n.09', 'cpv'])\n"
       ]
      }
     ],
     "prompt_number": 63
    },
    {
     "cell_type": "code",
     "collapsed": false,
     "input": [],
     "language": "python",
     "metadata": {},
     "outputs": []
    }
   ],
   "metadata": {}
  }
 ]
}