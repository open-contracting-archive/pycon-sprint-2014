{
 "metadata": {
  "name": ""
 },
 "nbformat": 3,
 "nbformat_minor": 0,
 "worksheets": [
  {
   "cells": [
    {
     "cell_type": "code",
     "collapsed": false,
     "input": [
      "from words import split_words"
     ],
     "language": "python",
     "metadata": {},
     "outputs": [],
     "prompt_number": 1
    },
    {
     "cell_type": "code",
     "collapsed": false,
     "input": [
      "import samples\n",
      "reload(samples)\n",
      "data = samples.load_samples([\"Keywords\", \"Mexico\", \"EU\", \"Georgia\", \"Canada\"], cache=True)\n",
      "headers = data.keys()\n",
      "print headers"
     ],
     "language": "python",
     "metadata": {},
     "outputs": [
      {
       "output_type": "stream",
       "stream": "stdout",
       "text": [
        "['notice', 'good', 'solicitation', 'contract', 'supplier', 'authority', 'buyer', '?']\n"
       ]
      }
     ],
     "prompt_number": 2
    },
    {
     "cell_type": "code",
     "collapsed": false,
     "input": [
      "from sklearn.pipeline import Pipeline\n",
      "from sklearn.svm import LinearSVC\n",
      "from sklearn.feature_extraction import text\n",
      "\n",
      "pipe = Pipeline([ \n",
      "        ('vec', text.HashingVectorizer(analyzer=split_words)), \n",
      "        ('svm', LinearSVC()),\n",
      "    ])\n",
      "\n",
      "def predict(name):\n",
      "    return pipe.predict([ [name] ])[0]"
     ],
     "language": "python",
     "metadata": {},
     "outputs": [
      {
       "output_type": "stream",
       "stream": "stdout",
       "text": [
        "('vec', 'svm')\n"
       ]
      }
     ],
     "prompt_number": 3
    },
    {
     "cell_type": "code",
     "collapsed": false,
     "input": [
      "pipe.fit([data[k] for k in headers], headers)"
     ],
     "language": "python",
     "metadata": {},
     "outputs": [
      {
       "metadata": {},
       "output_type": "pyout",
       "prompt_number": 4,
       "text": [
        "Pipeline(steps=[('vec', HashingVectorizer(analyzer=<function split_words at 0x106a27758>,\n",
        "         binary=False, charset=None, charset_error=None,\n",
        "         decode_error=u'strict', dtype=<type 'numpy.float64'>,\n",
        "         encoding=u'utf-8', input=u'content', lowercase=True,\n",
        "         n_features=1048576, ngram_ra...ling=1, loss='l2', multi_class='ovr', penalty='l2',\n",
        "     random_state=None, tol=0.0001, verbose=0))])"
       ]
      }
     ],
     "prompt_number": 4
    },
    {
     "cell_type": "code",
     "collapsed": false,
     "input": [
      "for header in samples.load_headers('UK'):\n",
      "    print header.ljust(50), predict(header)"
     ],
     "language": "python",
     "metadata": {},
     "outputs": [
      {
       "output_type": "stream",
       "stream": "stdout",
       "text": [
        "NOTICEID                                           notice\n",
        "REFERENCENUMBER                                    notice\n",
        "DATEPUBLISHED                                      solicitation\n",
        "VALUEMIN                                           notice\n",
        "VALUEMAX                                           notice\n",
        "STATUS                                             notice\n",
        "URL                                                buyer\n",
        "ORG_NAME                                           authority\n",
        "ORG_CONTACTEMAIL                                   buyer\n",
        "TITLE                                              good\n",
        "DESCRIPTION                                        good\n",
        "NOTICETYPE                                         notice\n",
        "REGION                                             buyer\n",
        "NOTICE_STATE                                       ?\n",
        "NOTICE_STATE_CHANGE_DATE                           notice\n",
        "CLASSIFICATION                                     buyer\n",
        "NUM_DOCS                                           buyer\n"
       ]
      }
     ],
     "prompt_number": 5
    },
    {
     "cell_type": "code",
     "collapsed": false,
     "input": [
      "#for header in samples.load_headers('EU'):\n",
      "#    print header.ljust(50), predict(header)"
     ],
     "language": "python",
     "metadata": {},
     "outputs": [],
     "prompt_number": 6
    },
    {
     "cell_type": "code",
     "collapsed": false,
     "input": [],
     "language": "python",
     "metadata": {},
     "outputs": []
    }
   ],
   "metadata": {}
  }
 ]
}