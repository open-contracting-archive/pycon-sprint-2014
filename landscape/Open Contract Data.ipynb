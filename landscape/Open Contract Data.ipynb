{
 "metadata": {
  "name": ""
 },
 "nbformat": 3,
 "nbformat_minor": 0,
 "worksheets": [
  {
   "cells": [
    {
     "cell_type": "code",
     "collapsed": false,
     "input": [
      "from sklearn.pipeline import Pipeline\n",
      "from sklearn.svm import LinearSVC\n",
      "from sklearn.feature_extraction import text\n",
      "\n",
      "pipe = Pipeline([ \n",
      "        ('hv', text.HashingVectorizer()), \n",
      "        ('svm', LinearSVC()),\n",
      "    ])"
     ],
     "language": "python",
     "metadata": {},
     "outputs": [],
     "prompt_number": 16
    },
    {
     "cell_type": "code",
     "collapsed": false,
     "input": [
      "headers = [\n",
      "    'NOTICEID',\n",
      "    'REFERENCENUMBER',\n",
      "    'DATEPUBLISHED',\n",
      "    'VALUEMIN',\n",
      "    'VALUEMAX',\n",
      "    'STATUS',\n",
      "    'URL',\n",
      "    'ORG_NAME',\n",
      "    'ORG_CONTACTEMAIL',\n",
      "    'TITLE',\n",
      "    'DESCRIPTION',\n",
      "    'NOTICETYPE',\n",
      "    'REGION',\n",
      "    'NOTICE_STATE',\n",
      "    'NOTICE_STATE_CHANGE_DATE',\n",
      "    'CLASSIFICATION',\n",
      "    'NUM_DOCS',\n",
      "]\n",
      "concepts = [\n",
      "    'unique_identifier',\n",
      "    '?',\n",
      "    'tender_date',\n",
      "    'contract_value',\n",
      "    'contract_value',\n",
      "    'tender_status',\n",
      "    'documents',\n",
      "    'awarding_entity',\n",
      "    'awarding_entity',\n",
      "    'goods',\n",
      "    'goods',\n",
      "    '?',\n",
      "    '?',\n",
      "    'tender_status',\n",
      "    'tender_status',\n",
      "    'goods_and_services',\n",
      "    'documents',\n",
      "]"
     ],
     "language": "python",
     "metadata": {},
     "outputs": [],
     "prompt_number": 21
    },
    {
     "cell_type": "code",
     "collapsed": false,
     "input": [
      "pipe.fit(headers, concepts)"
     ],
     "language": "python",
     "metadata": {},
     "outputs": [
      {
       "metadata": {},
       "output_type": "pyout",
       "prompt_number": 22,
       "text": [
        "Pipeline(steps=[('hv', HashingVectorizer(analyzer=u'word', binary=False, charset=None,\n",
        "         charset_error=None, decode_error=u'strict',\n",
        "         dtype=<type 'numpy.float64'>, encoding=u'utf-8', input=u'content',\n",
        "         lowercase=True, n_features=1048576, ngram_range=(1, 1),\n",
        "         non_negative=False,...ling=1, loss='l2', multi_class='ovr', penalty='l2',\n",
        "     random_state=None, tol=0.0001, verbose=0))])"
       ]
      }
     ],
     "prompt_number": 22
    },
    {
     "cell_type": "code",
     "collapsed": false,
     "input": [
      "pipe.predict(['REFERENCENUMBER'])"
     ],
     "language": "python",
     "metadata": {},
     "outputs": [
      {
       "metadata": {},
       "output_type": "pyout",
       "prompt_number": 31,
       "text": [
        "array(['?'], \n",
        "      dtype='|S18')"
       ]
      }
     ],
     "prompt_number": 31
    },
    {
     "cell_type": "code",
     "collapsed": false,
     "input": [],
     "language": "python",
     "metadata": {},
     "outputs": []
    }
   ],
   "metadata": {}
  }
 ]
}