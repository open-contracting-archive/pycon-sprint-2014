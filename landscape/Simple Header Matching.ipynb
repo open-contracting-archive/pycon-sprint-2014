{
 "metadata": {
  "name": ""
 },
 "nbformat": 3,
 "nbformat_minor": 0,
 "worksheets": [
  {
   "cells": [
    {
     "cell_type": "code",
     "collapsed": false,
     "input": [
      "import words\n",
      "reload(words)"
     ],
     "language": "python",
     "metadata": {},
     "outputs": [
      {
       "metadata": {},
       "output_type": "pyout",
       "prompt_number": 149,
       "text": [
        "<module 'words' from 'words.pyc'>"
       ]
      }
     ],
     "prompt_number": 149
    },
    {
     "cell_type": "code",
     "collapsed": false,
     "input": [
      "import samples\n",
      "reload(samples)\n",
      "data = samples.load_samples([\"Keywords\", \"UK\", \"Georgia\", \"Canada\", \"Mexico\", \"EU\"], cache=True)\n",
      "entities = data.keys()="
     ],
     "language": "python",
     "metadata": {},
     "outputs": [
      {
       "output_type": "stream",
       "stream": "stdout",
       "text": [
        "['notice', 'good', 'solicitation', 'contract', 'supplier', 'authority', 'buyer', '?']\n"
       ]
      }
     ],
     "prompt_number": 157
    },
    {
     "cell_type": "code",
     "collapsed": false,
     "input": [
      "import pandas as pd\n",
      "import numpy as np"
     ],
     "language": "python",
     "metadata": {},
     "outputs": [
      {
       "output_type": "stream",
       "stream": "stdout",
       "text": [
        "\n"
       ]
      }
     ],
     "prompt_number": 34
    },
    {
     "cell_type": "code",
     "collapsed": false,
     "input": [
      "#[\n",
      "# {'entity': 'notice', 'header': 'NOTICEID', 'top5rows': '', 'filename': }\n",
      "#]"
     ],
     "language": "python",
     "metadata": {},
     "outputs": [],
     "prompt_number": 12
    },
    {
     "cell_type": "heading",
     "level": 2,
     "metadata": {},
     "source": [
      "I. Define Raw Data"
     ]
    },
    {
     "cell_type": "code",
     "collapsed": false,
     "input": [
      "df = pd.DataFrame([[k,each] for k,v in data.items() for each in v], columns=['entity', 'header'])"
     ],
     "language": "python",
     "metadata": {},
     "outputs": [],
     "prompt_number": 13
    },
    {
     "cell_type": "heading",
     "level": 2,
     "metadata": {},
     "source": [
      "II. Define Features"
     ]
    },
    {
     "cell_type": "code",
     "collapsed": false,
     "input": [
      "df['length'] = df['header'].apply(len)\n",
      "df['word_count'] = df['header'].apply(lambda x: len(list(words.split_words(x))))\n",
      "df['header_in_entity'] = df['header'].str.lower().isin(df['entity'].str.lower())\n",
      "df['entity_in_header'] = df['entity'].str.lower().isin(df['header'].str.lower())\n",
      "\n",
      "# df['is_date'] = df['header'] \n",
      "# df['is_int'] = 1,0\n",
      "\n",
      "def set_affinity_fn(entity):\n",
      "    entity_set = data[entity]\n",
      "    print \"=== %s(%d) ===\" % (entity, len(entity_set))\n",
      "    print entity_set\n",
      "    def fn(x):\n",
      "        print x, words.subsetness(x, entity_set)\n",
      "        return words.subsetness(x, entity_set)\n",
      "    return fn\n",
      "\n",
      "entity_features = []\n",
      "for entity in entities:\n",
      "    df['entity_%s' % entity] = df['header'].apply( set_affinity_fn(entity) )\n",
      "    entity_features.append( 'entity_%s' % entity )\n"
     ],
     "language": "python",
     "metadata": {},
     "outputs": [
      {
       "output_type": "stream",
       "stream": "stdout",
       "text": [
        "=== notice(38) ===\n",
        "['award', 'contract', 'tender', 'NOTICEID', 'URL', 'NOTICETYPE', 'NOTICE_STATE', 'NOTICE_STATE_CHANGE_DATE', 'NUM_DOCS', 'created_at', 'updated_at', 'url_id', 'num_bids', 'num_bidders', 'contract_value', 'winning_org_id', 'updated', 'is_new', 'reference_number', 'solicitation_number', 'publication_date', 'amendment_date', 'currency', 'contract_value', 'archive status', 'Federal contribution', 'announcement URL', 'awards_notice_date', 'awards_num_offers', 'awards_previous_notices', 'awards_total_value_highest', 'awards_total_value_lowest', 'awards_total_value_text', 'awards_total_value_vat', 'awards_type', 'awards_uri', 'document_award_criteria_id', 'document_award_criteria_name']\n",
        "award 1.0\n",
        "contract 1.0\n",
        "tender 1.0\n",
        "NOTICEID 1.0\n",
        "URL 1.0\n",
        "NOTICETYPE 1.0\n",
        "NOTICE_STATE 1.0\n",
        "NOTICE_STATE_CHANGE_DATE "
       ]
      },
      {
       "output_type": "stream",
       "stream": "stdout",
       "text": [
        "1.0\n",
        "NUM_DOCS 1.0\n",
        "created_at 1.0\n",
        "updated_at 1.0\n",
        "url_id 1.0\n",
        "num_bids 1.0\n",
        "num_bidders 1.0\n",
        "contract_value 1.0\n",
        "winning_org_id "
       ]
      },
      {
       "output_type": "stream",
       "stream": "stdout",
       "text": [
        "1.0\n",
        "updated 1.0\n",
        "is_new 1.0\n",
        "reference_number 1.0\n",
        "solicitation_number 1.0\n",
        "publication_date 1.0\n",
        "amendment_date 1.0\n",
        "currency 1.0\n",
        "contract_value"
       ]
      },
      {
       "output_type": "stream",
       "stream": "stdout",
       "text": [
        " 1.0\n",
        "archive status 1.0\n",
        "Federal contribution 1.0\n",
        "announcement URL 1.0\n",
        "awards_notice_date 1.0\n",
        "awards_num_offers 1.0\n",
        "awards_previous_notices 1.0\n",
        "awards_total_value_highest 1.0\n",
        "awards_total_value_lowest 1.0\n",
        "awards_total_value_text 1.0\n",
        "awards_total_value_vat"
       ]
      },
      {
       "output_type": "stream",
       "stream": "stdout",
       "text": [
        " 1.0\n",
        "awards_type 1.0\n",
        "awards_uri 1.0\n",
        "document_award_criteria_id 1.0\n",
        "document_award_criteria_name 1.0\n",
        "good 0.0\n",
        "service 0.0\n",
        "description 0.0\n",
        "item 0.0\n",
        "CPV"
       ]
      },
      {
       "output_type": "stream",
       "stream": "stdout",
       "text": [
        " 0.0\n",
        "GSIN 0.0\n",
        "type 1.0\n",
        "category 0.0\n",
        "TITLE 0.0\n",
        "DESCRIPTION 0.0\n",
        "CLASSIFICATION 0.0\n",
        "cpv_code 0.0\n",
        "sub_codes 0.0\n",
        "title "
       ]
      },
      {
       "output_type": "stream",
       "stream": "stdout",
       "text": [
        "0.0\n",
        "gsin 0.0\n",
        "description 0.0\n",
        "Record Title  0.0\n",
        "Contract Type 1.0\n",
        "Contract Title 0.5\n",
        "awards_cpv 0.833333333333\n",
        "awards_dac_code 0.454545454545\n",
        "awards_description 0.625\n",
        "awards_title 0.294117647059\n",
        "document_cpvs"
       ]
      },
      {
       "output_type": "stream",
       "stream": "stdout",
       "text": [
        " 0.6\n",
        "document_document_name 1.0\n",
        "document_document_number 1.0\n",
        "document_heading 0.333333333333\n",
        "document_oj 0.857142857143\n",
        "document_oj_uc 0.75\n",
        "document_title 0.333333333333\n",
        "document_title_uc 0.315789473684\n",
        "tender 1.0\n",
        "request 0.0\n",
        "proposal"
       ]
      },
      {
       "output_type": "stream",
       "stream": "stdout",
       "text": [
        " 0.0\n",
        "qualifications 0.0\n",
        "notice 1.0\n",
        "intent 0.0\n",
        "date 1.0\n",
        "DATEPUBLISHED 0.722222222222\n",
        "VALUEMIN 0.785714285714\n",
        "VALUEMAX 0.916666666667\n",
        "STATUS 1.0\n",
        "tender_type"
       ]
      },
      {
       "output_type": "stream",
       "stream": "stdout",
       "text": [
        " 1.0\n",
        "tender_registration_number 0.875\n",
        "tender_status 1.0\n",
        "tender_announcement_date 1.0\n",
        "bid_start_date 0.511111111111\n",
        "bid_end_date 0.560975609756\n",
        "estimated_value 0.846153846154\n",
        "include_vat 0.333333333333\n",
        "guarantee_amount"
       ]
      },
      {
       "output_type": "stream",
       "stream": "stdout",
       "text": [
        " 0.142857142857\n",
        "guarantee_period 0.0\n",
        "contract_value 1.0\n",
        "inProgress 0.0\n",
        "publishing_status 0.5\n",
        "contract_award_procedure 0.809523809524\n",
        "tendering_procedure 0.5\n",
        "currency 1.0\n",
        "contract_value "
       ]
      },
      {
       "output_type": "stream",
       "stream": "stdout",
       "text": [
        "1.0\n",
        "Record template 0.0\n",
        "Procedure Number 0.809523809524\n",
        "Decision Date 0.722222222222\n",
        "RFP Date Type 0.954545454545\n",
        "Proposal Opening Date 0.317073170732\n",
        "Procedure scope 0.0\n",
        "Procedure type 0.666666666667\n",
        "Submission form type"
       ]
      },
      {
       "output_type": "stream",
       "stream": "stdout",
       "text": [
        " 0.210526315789\n",
        "announcement URL 1.0\n",
        "awards_award_criteria 1.0\n",
        "awards_award_date 1.0\n",
        "awards_procedure_type 0.764705882353\n",
        "awards_publication_date 1.0\n",
        "awards_reference 1.0\n",
        "document_bid_type_id 1.0\n",
        "document_bid_type_name "
       ]
      },
      {
       "output_type": "stream",
       "stream": "stdout",
       "text": [
        "1.0\n",
        "document_comment_deadline 0.538461538462\n",
        "binding 0.0\n",
        "agreement 0.0\n",
        "value 1.0\n",
        "date 1.0\n",
        "contract_value 1.0\n",
        "winning_org_id 1.0\n",
        "contract_sequence_number 0.805555555556\n",
        "contract_number "
       ]
      },
      {
       "output_type": "stream",
       "stream": "stdout",
       "text": [
        "1.0\n",
        "award_date 1.0\n",
        "currency 1.0\n",
        "contract_value 1.0\n",
        "CompraNet Record ID 0.176470588235\n",
        "Contract ID 1.0\n",
        "Contract start date 0.531914893617\n",
        "contract end date 0.581395348837\n",
        "contract value 1.0\n",
        "Currency type "
       ]
      },
      {
       "output_type": "stream",
       "stream": "stdout",
       "text": [
        "1.0\n",
        "contract status 1.0\n",
        "Signature date 0.722222222222\n",
        "announcement URL 1.0\n",
        "awards_behalf_of 0.625\n",
        "awards_contract_id 1.0\n",
        "awards_contract_nr "
       ]
      },
      {
       "output_type": "stream",
       "stream": "stdout",
       "text": [
        "0.944444444444\n",
        "awards_contract_value 1.0\n",
        "awards_contract_value_currency 1.0\n",
        "awards_contract_value_highest 1.0\n",
        "awards_contract_value_initial 0.903225806452\n",
        "awards_contract_value_initial_currency 0.911764705882\n",
        "awards_contract_value_initial_terms 0.682926829268\n",
        "awards_contract_value_initial_vat 0.909090909091\n",
        "awards_contract_value_lowest "
       ]
      },
      {
       "output_type": "stream",
       "stream": "stdout",
       "text": [
        "1.0\n",
        "awards_contract_value_terms 0.736842105263\n",
        "awards_contract_value_text 1.0\n",
        "awards_contract_value_vat 1.0\n",
        "awards_score_chosen_tender 0.489361702128\n",
        "awards_services_covered 0.0980392156863\n",
        "awards_total_value 1.0\n",
        "awards_total_value_currency"
       ]
      },
      {
       "output_type": "stream",
       "stream": "stdout",
       "text": [
        " 1.0\n",
        "document_contract_id 1.0\n",
        "document_contract_name 1.0\n",
        "document_date 1.0\n",
        "document_deadline 0.857142857143\n",
        "document_document_id 1.0\n",
        "document_document_sent"
       ]
      },
      {
       "output_type": "stream",
       "stream": "stdout",
       "text": [
        " 0.375\n",
        "document_id_1 1.0\n",
        "document_identifier 0.857142857143\n",
        "document_nuts_code 0.3\n",
        "document_publication_date 1.0\n",
        "document_signature 0.545454545455\n",
        "document_source_tender 0.714285714286\n",
        "document_uri "
       ]
      },
      {
       "output_type": "stream",
       "stream": "stdout",
       "text": [
        "1.0\n",
        "document_url 1.0\n",
        "document_year 0.6\n",
        "producer 0.0\n",
        "contractor 0.0\n",
        "proponent 0.0\n",
        "supplier_name 0.9375\n",
        "winner_code"
       ]
      },
      {
       "output_type": "stream",
       "stream": "stdout",
       "text": [
        " 0.0\n",
        "bidder_0_name 1.0\n",
        "bidder_0_id 1.0\n",
        "bidder_0_lowest_bid 1.0\n",
        "bidder_0_black_or_white 0.0392156862745\n",
        "supplier_info 0.0\n",
        "Contractor Legal Name "
       ]
      },
      {
       "output_type": "stream",
       "stream": "stdout",
       "text": [
        "0.625\n",
        "Contractor stratification 0.0\n",
        "awards_tenderer_addr 0.866666666667\n",
        "awards_tenderer_name 1.0\n",
        "process 0.0\n",
        "framework 0.0\n",
        "facilitator 0.0\n",
        "procurement_entity_name "
       ]
      },
      {
       "output_type": "stream",
       "stream": "stdout",
       "text": [
        "0.882352941176\n",
        "procurement_entity 0.0\n",
        "awards_authority_addr 0.357142857143\n",
        "awards_authority_name 0.740740740741\n",
        "awards_authority_ref 0.384615384615\n",
        "awards_authority_type 0.65\n",
        "document_authority_name 0.75\n",
        "document_authority_type_id 0.708333333333\n",
        "document_authority_type_name 0.805555555556\n",
        "purchaser 0.0\n",
        "requirements"
       ]
      },
      {
       "output_type": "stream",
       "stream": "stdout",
       "text": [
        " 0.0\n",
        "ORG_NAME 1.0\n",
        "ORG_CONTACTEMAIL 0.0714285714286\n",
        "REGION 0.0\n",
        "procurring_entity_id 0.157894736842\n",
        "procurer_name 0.882352941176\n",
        "procurer_code 0.0\n",
        "end_user_entity 0.0\n",
        "customer_info 0.0\n",
        "GOVERNMENT 0.0\n",
        "ACRONYMS "
       ]
      },
      {
       "output_type": "stream",
       "stream": "stdout",
       "text": [
        "0.0\n",
        "UNIT 0.0\n",
        "CompraNet Unit Identifier 0.0\n",
        "CompraNet Unit name 0.681818181818\n",
        "Responsibility 0.0\n",
        "Unit Branch 0.0\n",
        "document_country 0.727272727273\n",
        "REFERENCENUMBER 1.0\n",
        "id 1.0\n",
        "offer_step 0.432432432432\n",
        "dataset_id"
       ]
      },
      {
       "output_type": "stream",
       "stream": "stdout",
       "text": [
        " 0.06\n",
        "risk_indicators 0.0\n",
        "bidder_0_black_or_white 0.0392156862745\n",
        "bidder_0_black_or_white 0.0392156862745\n",
        "bidder_0_black_or_white 0.0392156862745\n",
        "bidder_0_black_or_white 0.0392156862745\n",
        "bidder_0_black_or_white 0.0392156862745\n",
        "bidder_0_black_or_white 0.0392156862745\n",
        "bidder_0_black_or_white 0.0392156862745\n",
        "bidder_0_black_or_white 0.0392156862745\n",
        "bidder_0_black_or_white"
       ]
      },
      {
       "output_type": "stream",
       "stream": "stdout",
       "text": [
        " 0.0392156862745\n",
        "bidder_0_black_or_white 0.0392156862745\n",
        "bidder_0_black_or_white 0.0392156862745\n",
        "bidder_0_black_or_white 0.0392156862745\n",
        "bidder_0_black_or_white 0.0392156862745\n",
        "bidder_0_black_or_white 0.0392156862745\n",
        "bidder_0_black_or_white 0.0392156862745\n",
        "bidder_0_black_or_white 0.0392156862745\n",
        "bidder_0_black_or_white 0.0392156862745\n",
        "bidder_0_black_or_white 0.0392156862745\n",
        "bidder_0_black_or_white"
       ]
      },
      {
       "output_type": "stream",
       "stream": "stdout",
       "text": [
        " 0.0392156862745\n",
        "bidder_0_black_or_white 0.0392156862745\n",
        "bidder_0_black_or_white 0.0392156862745\n",
        "bidder_0_black_or_white 0.0392156862745\n",
        "bidder_0_black_or_white 0.0392156862745\n",
        "bidder_0_black_or_white 0.0392156862745\n",
        "bidder_0_black_or_white 0.0392156862745\n",
        "bidder_0_black_or_white 0.0392156862745\n",
        "bidder_0_black_or_white 0.0392156862745\n",
        "bidder_0_black_or_white "
       ]
      },
      {
       "output_type": "stream",
       "stream": "stdout",
       "text": [
        "0.0392156862745\n",
        "bidder_0_black_or_white 0.0392156862745\n",
        "bidder_0_black_or_white 0.0392156862745\n",
        "bidder_0_black_or_white 0.0392156862745\n",
        "bidder_0_black_or_white 0.0392156862745\n",
        "bidder_0_black_or_white 0.0392156862745\n",
        "bidder_0_black_or_white 0.0392156862745\n",
        "bidder_0_black_or_white 0.0392156862745\n",
        "bidder_0_black_or_white 0.0392156862745\n",
        "bidder_0_black_or_white 0.0392156862745\n",
        "bidder_0_black_or_white"
       ]
      },
      {
       "output_type": "stream",
       "stream": "stdout",
       "text": [
        " 0.0392156862745\n",
        "bidder_0_black_or_white 0.0392156862745\n",
        "bidder_0_black_or_white 0.0392156862745\n",
        "bidder_0_black_or_white 0.0392156862745\n",
        "bidder_0_black_or_white 0.0392156862745\n",
        "bidder_0_black_or_white 0.0392156862745\n",
        "bidder_0_black_or_white 0.0392156862745\n",
        "bidder_0_black_or_white 0.0392156862745\n",
        "bidder_0_black_or_white 0.0392156862745\n",
        "bidder_0_black_or_white "
       ]
      },
      {
       "output_type": "stream",
       "stream": "stdout",
       "text": [
        "0.0392156862745\n",
        "bidder_0_black_or_white 0.0392156862745\n",
        "bidder_0_black_or_white 0.0392156862745\n",
        "bidder_0_black_or_white 0.0392156862745\n",
        "language 0.0\n",
        "Program Key 0.0322580645161\n",
        "Contract Framework 0.8\n",
        "Consolidated purchase 0.0\n",
        "Multi-year 0.0\n",
        "Unit stratification 0.0\n",
        "Company state"
       ]
      },
      {
       "output_type": "stream",
       "stream": "stdout",
       "text": [
        " 0.52380952381\n",
        "Account manager type 0.333333333333\n",
        "awards_additional_info 0.714285714286\n",
        "awards_appeals_body 0.230769230769\n",
        "awards_appeals_info 0.4\n",
        "awards_award_type 1.0\n",
        "awards_duration 0.625\n",
        "awards_electronic 0.714285714286\n",
        "awards_eu_funds "
       ]
      },
      {
       "output_type": "stream",
       "stream": "stdout",
       "text": [
        "0.294117647059\n",
        "awards_framework_dps 0.555555555556\n",
        "awards_gpa_covered 0.151515151515\n",
        "awards_id 1.0\n",
        "awards_involves 0.416666666667\n",
        "awards_language 0.454545454545\n",
        "awards_legal_basis 0.384615384615\n",
        "awards_likely_subcontracted 0.416666666667\n",
        "awards_lot_nr_title 0.185185185185\n",
        "awards_object"
       ]
      },
      {
       "output_type": "stream",
       "stream": "stdout",
       "text": [
        " 0.416666666667\n",
        "awards_scope 0.555555555556\n",
        "document_directive 0.75\n",
        "document_original_language 0.333333333333\n",
        "document_place 0.157894736842\n",
        "document_procedure_id 0.692307692308\n",
        "document_procedure_name 0.84\n",
        "document_regulation_id 0.5625\n",
        "document_regulation_name 0.75\n",
        "year 0.0\n",
        "=== good(31) ==="
       ]
      },
      {
       "output_type": "stream",
       "stream": "stdout",
       "text": [
        "\n",
        "['good', 'service', 'description', 'item', 'CPV', 'GSIN', 'type', 'category', 'TITLE', 'DESCRIPTION', 'CLASSIFICATION', 'cpv_code', 'sub_codes', 'title', 'gsin', 'description', 'Record Title ', 'Contract Type', 'Contract Title', 'awards_cpv', 'awards_dac_code', 'awards_description', 'awards_title', 'document_cpvs', 'document_document_name', 'document_document_number', 'document_heading', 'document_oj', 'document_oj_uc', 'document_title', 'document_title_uc']\n",
        "award 1.0\n",
        "contract 1.0\n",
        "tender 0.0\n",
        "NOTICEID 0.0\n",
        "URL 0.0\n",
        "NOTICETYPE 0.421052631579\n",
        "NOTICE_STATE 0.0\n",
        "NOTICE_STATE_CHANGE_DATE 0.0\n",
        "NUM_DOCS 0.0\n",
        "created_at 0.0\n",
        "updated_at 0.0\n",
        "url_id 0.0\n",
        "num_bids 0.0\n",
        "num_bidders 0.0\n",
        "contract_value 0.521739130435\n",
        "winning_org_id "
       ]
      },
      {
       "output_type": "stream",
       "stream": "stdout",
       "text": [
        "0.0\n",
        "updated 0.0\n",
        "is_new 0.0\n",
        "reference_number 0.607142857143\n",
        "solicitation_number 0.85\n",
        "publication_date 0.0\n",
        "amendment_date 0.0\n",
        "currency 0.0\n",
        "contract_value 0.521739130435\n",
        "archive status 0.0\n",
        "Federal contribution 0.0\n",
        "announcement URL 0.0\n",
        "awards_notice_date 0.172413793103\n",
        "awards_num_offers 0.227272727273\n",
        "awards_previous_notices"
       ]
      },
      {
       "output_type": "stream",
       "stream": "stdout",
       "text": [
        " 0.263157894737\n",
        "awards_total_value_highest 0.2\n",
        "awards_total_value_lowest 0.171428571429\n",
        "awards_total_value_text 0.222222222222\n",
        "awards_total_value_vat 0.24\n",
        "awards_type 1.0\n",
        "awards_uri 0.833333333333\n",
        "document_award_criteria_id 0.6875\n",
        "document_award_criteria_name 0.928571428571\n",
        "good 1.0\n",
        "service 1.0\n",
        "description 1.0\n",
        "item "
       ]
      },
      {
       "output_type": "stream",
       "stream": "stdout",
       "text": [
        "1.0\n",
        "CPV 1.0\n",
        "GSIN 1.0\n",
        "type 1.0\n",
        "category 1.0\n",
        "TITLE 1.0\n",
        "DESCRIPTION 1.0\n",
        "CLASSIFICATION 1.0\n",
        "cpv_code 1.0\n",
        "sub_codes 1.0\n",
        "title 1.0\n",
        "gsin 1.0\n",
        "description 1.0\n",
        "Record Title  1.0\n",
        "Contract Type 1.0\n",
        "Contract Title"
       ]
      },
      {
       "output_type": "stream",
       "stream": "stdout",
       "text": [
        " 1.0\n",
        "awards_cpv 1.0\n",
        "awards_dac_code 1.0\n",
        "awards_description 1.0\n",
        "awards_title 1.0\n",
        "document_cpvs 1.0\n",
        "document_document_name 1.0\n",
        "document_document_number 1.0\n",
        "document_heading 1.0\n",
        "document_oj 1.0\n",
        "document_oj_uc 1.0\n",
        "document_title 1.0\n",
        "document_title_uc 1.0\n",
        "tender 0.0\n",
        "request "
       ]
      },
      {
       "output_type": "stream",
       "stream": "stdout",
       "text": [
        "0.0\n",
        "proposal 0.0\n",
        "qualifications 0.0\n",
        "notice 0.0\n",
        "intent 0.0\n",
        "date 0.0\n",
        "DATEPUBLISHED 0.0\n",
        "VALUEMIN 0.0\n",
        "VALUEMAX 0.0\n",
        "STATUS 0.0\n",
        "tender_type 0.307692307692\n",
        "tender_registration_number 0.425\n",
        "tender_status "
       ]
      },
      {
       "output_type": "stream",
       "stream": "stdout",
       "text": [
        "0.0\n",
        "tender_announcement_date 0.0\n",
        "bid_start_date 0.0\n",
        "bid_end_date 0.0\n",
        "estimated_value 0.0\n",
        "include_vat 0.0\n",
        "guarantee_amount 0.0714285714286\n",
        "guarantee_period 0.0\n",
        "contract_value 0.521739130435\n",
        "inProgress 0.538461538462\n",
        "publishing_status 0.0\n",
        "contract_award_procedure 0.809523809524\n",
        "tendering_procedure 0.0\n",
        "currency 0.0\n",
        "contract_value 0.521739130435\n",
        "Record template"
       ]
      },
      {
       "output_type": "stream",
       "stream": "stdout",
       "text": [
        " 0.928571428571\n",
        "Procedure Number 0.809523809524\n",
        "Decision Date 0.0\n",
        "RFP Date Type 0.363636363636\n",
        "Proposal Opening Date 0.0\n",
        "Procedure scope 0.0\n",
        "Procedure type 0.666666666667\n",
        "Submission form type 0.210526315789\n",
        "announcement URL 0.0\n",
        "awards_award_criteria 0.714285714286\n",
        "awards_award_date 0.277777777778\n",
        "awards_procedure_type 0.764705882353\n",
        "awards_publication_date"
       ]
      },
      {
       "output_type": "stream",
       "stream": "stdout",
       "text": [
        " 0.227272727273\n",
        "awards_reference 0.3125\n",
        "document_bid_type_id 0.518518518519\n",
        "document_bid_type_name 0.74358974359\n",
        "document_comment_deadline 0.461538461538\n",
        "binding 0.0\n",
        "agreement 0.0\n",
        "value 0.0\n",
        "date 0.0\n",
        "contract_value 0.521739130435\n",
        "winning_org_id 0.0\n",
        "contract_sequence_number 0.805555555556\n",
        "contract_number"
       ]
      },
      {
       "output_type": "stream",
       "stream": "stdout",
       "text": [
        " 1.0\n",
        "award_date 0.277777777778\n",
        "currency 0.0\n",
        "contract_value 0.521739130435\n",
        "CompraNet Record ID 0.764705882353\n",
        "Contract ID 0.8\n",
        "Contract start date 0.255319148936\n",
        "contract end date 0.279069767442\n",
        "contract value 0.521739130435\n",
        "Currency type 0.727272727273\n",
        "contract status 0.857142857143\n",
        "Signature date 0.0\n",
        "announcement URL 0.0\n",
        "awards_behalf_of"
       ]
      },
      {
       "output_type": "stream",
       "stream": "stdout",
       "text": [
        " 0.625\n",
        "awards_contract_id 0.85\n",
        "awards_contract_nr 0.944444444444\n",
        "awards_contract_value 0.607142857143\n",
        "awards_contract_value_currency 0.548387096774\n",
        "awards_contract_value_highest 0.485714285714\n",
        "awards_contract_value_initial 0.548387096774\n",
        "awards_contract_value_initial_currency 0.5\n",
        "awards_contract_value_initial_terms 0.414634146341\n",
        "awards_contract_value_initial_vat 0.515151515152\n",
        "awards_contract_value_lowest 0.425\n",
        "awards_contract_value_terms 0.447368421053\n",
        "awards_contract_value_text "
       ]
      },
      {
       "output_type": "stream",
       "stream": "stdout",
       "text": [
        "0.53125\n",
        "awards_contract_value_vat 0.566666666667\n",
        "awards_score_chosen_tender 0.106382978723\n",
        "awards_services_covered 0.450980392157\n",
        "awards_total_value 0.260869565217\n",
        "awards_total_value_currency 0.230769230769\n",
        "document_contract_id 0.857142857143\n",
        "document_contract_name 1.0\n",
        "document_date 0.315789473684\n",
        "document_deadline 0.857142857143\n",
        "document_document_id 0.666666666667\n",
        "document_document_sent 0.375\n",
        "document_id_1 "
       ]
      },
      {
       "output_type": "stream",
       "stream": "stdout",
       "text": [
        "0.666666666667\n",
        "document_identifier 0.857142857143\n",
        "document_nuts_code 0.55\n",
        "document_publication_date 0.260869565217\n",
        "document_signature 0.545454545455\n",
        "document_source_tender 0.171428571429\n",
        "document_uri 0.857142857143\n",
        "document_url 0.857142857143\n",
        "document_year 0.6\n",
        "producer 0.0\n",
        "contractor 0.0\n",
        "proponent 0.0\n",
        "supplier_name 0.9375\n",
        "winner_code 0.625\n",
        "bidder_0_name 0.882352941176\n",
        "bidder_0_id"
       ]
      },
      {
       "output_type": "stream",
       "stream": "stdout",
       "text": [
        " 0.0\n",
        "bidder_0_lowest_bid 0.0\n",
        "bidder_0_black_or_white 0.0\n",
        "supplier_info 0.0\n",
        "Contractor Legal Name 0.625\n",
        "Contractor stratification 0.0\n",
        "awards_tenderer_addr 0.333333333333\n",
        "awards_tenderer_name 0.714285714286\n",
        "process 0.0\n",
        "framework 0.0\n",
        "facilitator 0.0\n",
        "procurement_entity_name 0.882352941176\n",
        "procurement_entity 0.0\n",
        "awards_authority_addr"
       ]
      },
      {
       "output_type": "stream",
       "stream": "stdout",
       "text": [
        " 0.357142857143\n",
        "awards_authority_name 0.740740740741\n",
        "awards_authority_ref 0.384615384615\n",
        "awards_authority_type 0.65\n",
        "document_authority_name 0.75\n",
        "document_authority_type_id 0.583333333333\n",
        "document_authority_type_name 0.805555555556\n",
        "purchaser 0.0\n",
        "requirements 0.0\n",
        "ORG_NAME 0.9375\n",
        "ORG_CONTACTEMAIL 0.0\n",
        "REGION 0.0\n",
        "procurring_entity_id 0.0\n",
        "procurer_name "
       ]
      },
      {
       "output_type": "stream",
       "stream": "stdout",
       "text": [
        "0.882352941176\n",
        "procurer_code 0.714285714286\n",
        "end_user_entity 0.0\n",
        "customer_info 0.0\n",
        "GOVERNMENT 0.0\n",
        "ACRONYMS 0.0\n",
        "UNIT 0.0\n",
        "CompraNet Unit Identifier 0.0\n",
        "CompraNet Unit name 0.681818181818\n",
        "Responsibility 0.0\n",
        "Unit Branch 0.0\n",
        "document_country 0.545454545455\n",
        "REFERENCENUMBER "
       ]
      },
      {
       "output_type": "stream",
       "stream": "stdout",
       "text": [
        "0.607142857143\n",
        "id 0.0\n",
        "offer_step 0.0\n",
        "dataset_id 0.0\n",
        "risk_indicators 0.0\n",
        "bidder_0_black_or_white 0.0\n",
        "bidder_0_black_or_white 0.0\n",
        "bidder_0_black_or_white 0.0\n",
        "bidder_0_black_or_white 0.0\n",
        "bidder_0_black_or_white 0.0\n",
        "bidder_0_black_or_white 0.0\n",
        "bidder_0_black_or_white 0.0\n",
        "bidder_0_black_or_white 0.0\n",
        "bidder_0_black_or_white 0.0\n",
        "bidder_0_black_or_white 0.0\n",
        "bidder_0_black_or_white"
       ]
      },
      {
       "output_type": "stream",
       "stream": "stdout",
       "text": [
        " 0.0\n",
        "bidder_0_black_or_white 0.0\n",
        "bidder_0_black_or_white 0.0\n",
        "bidder_0_black_or_white 0.0\n",
        "bidder_0_black_or_white 0.0\n",
        "bidder_0_black_or_white 0.0\n",
        "bidder_0_black_or_white 0.0\n",
        "bidder_0_black_or_white 0.0\n",
        "bidder_0_black_or_white 0.0\n",
        "bidder_0_black_or_white 0.0\n",
        "bidder_0_black_or_white 0.0\n",
        "bidder_0_black_or_white 0.0\n",
        "bidder_0_black_or_white 0.0\n",
        "bidder_0_black_or_white 0.0\n",
        "bidder_0_black_or_white"
       ]
      },
      {
       "output_type": "stream",
       "stream": "stdout",
       "text": [
        " 0.0\n",
        "bidder_0_black_or_white 0.0\n",
        "bidder_0_black_or_white 0.0\n",
        "bidder_0_black_or_white 0.0\n",
        "bidder_0_black_or_white 0.0\n",
        "bidder_0_black_or_white 0.0\n",
        "bidder_0_black_or_white 0.0\n",
        "bidder_0_black_or_white 0.0\n",
        "bidder_0_black_or_white 0.0\n",
        "bidder_0_black_or_white 0.0\n",
        "bidder_0_black_or_white 0.0\n",
        "bidder_0_black_or_white 0.0\n",
        "bidder_0_black_or_white 0.0\n",
        "bidder_0_black_or_white 0.0\n",
        "bidder_0_black_or_white "
       ]
      },
      {
       "output_type": "stream",
       "stream": "stdout",
       "text": [
        "0.0\n",
        "bidder_0_black_or_white 0.0\n",
        "bidder_0_black_or_white 0.0\n",
        "bidder_0_black_or_white 0.0\n",
        "bidder_0_black_or_white 0.0\n",
        "bidder_0_black_or_white 0.0\n",
        "bidder_0_black_or_white 0.0\n",
        "bidder_0_black_or_white 0.0\n",
        "bidder_0_black_or_white 0.0\n",
        "bidder_0_black_or_white 0.0\n",
        "bidder_0_black_or_white 0.0\n",
        "bidder_0_black_or_white 0.0\n",
        "language 0.0\n",
        "Program Key 0.0322580645161\n",
        "Contract Framework 0.8\n",
        "Consolidated purchase 0.0\n",
        "Multi-year"
       ]
      },
      {
       "output_type": "stream",
       "stream": "stdout",
       "text": [
        " 0.0\n",
        "Unit stratification 0.0\n",
        "Company state 0.0\n",
        "Account manager type 0.333333333333\n",
        "awards_additional_info 0.714285714286\n",
        "awards_appeals_body 0.192307692308\n",
        "awards_appeals_info 0.333333333333\n",
        "awards_award_type 1.0\n",
        "awards_duration 0.625\n",
        "awards_electronic 0.714285714286\n",
        "awards_eu_funds 0.294117647059\n",
        "awards_framework_dps 0.555555555556\n",
        "awards_gpa_covered 0.151515151515\n",
        "awards_id "
       ]
      },
      {
       "output_type": "stream",
       "stream": "stdout",
       "text": [
        "0.625\n",
        "awards_involves 0.416666666667\n",
        "awards_language 0.454545454545\n",
        "awards_legal_basis 0.384615384615\n",
        "awards_likely_subcontracted 0.416666666667\n",
        "awards_lot_nr_title 0.62962962963\n",
        "awards_object 0.416666666667\n",
        "awards_scope 0.555555555556\n",
        "document_directive 0.75\n",
        "document_original_language 0.333333333333\n",
        "document_place 0.157894736842\n",
        "document_procedure_id 0.461538461538\n",
        "document_procedure_name 0.84\n",
        "document_regulation_id 0.375\n",
        "document_regulation_name "
       ]
      },
      {
       "output_type": "stream",
       "stream": "stdout",
       "text": [
        "0.75\n",
        "year 0.0\n",
        "=== solicitation(45) ===\n",
        "['tender', 'request', 'proposal', 'qualifications', 'notice', 'intent', 'date', 'DATEPUBLISHED', 'VALUEMIN', 'VALUEMAX', 'STATUS', 'tender_type', 'tender_registration_number', 'tender_status', 'tender_announcement_date', 'bid_start_date', 'bid_end_date', 'estimated_value', 'include_vat', 'guarantee_amount', 'guarantee_period', 'contract_value', 'inProgress', 'publishing_status', 'contract_award_procedure', 'tendering_procedure', 'currency', 'contract_value', 'Record template', 'Procedure Number', 'Decision Date', 'RFP Date Type', 'Proposal Opening Date', 'Procedure scope', 'Procedure type', 'Submission form type', 'announcement URL', 'awards_award_criteria', 'awards_award_date', 'awards_procedure_type', 'awards_publication_date', 'awards_reference', 'document_bid_type_id', 'document_bid_type_name', 'document_comment_deadline']\n",
        "award 1.0\n",
        "contract 1.0\n",
        "tender 1.0\n",
        "NOTICEID 1.0\n",
        "URL 1.0\n",
        "NOTICETYPE 1.0\n",
        "NOTICE_STATE"
       ]
      },
      {
       "output_type": "stream",
       "stream": "stdout",
       "text": [
        " 0.5\n",
        "NOTICE_STATE_CHANGE_DATE 0.436363636364\n",
        "NUM_DOCS 0.0\n",
        "created_at 0.0\n",
        "updated_at 0.0\n",
        "url_id 1.0\n",
        "num_bids 0.909090909091\n",
        "num_bidders "
       ]
      },
      {
       "output_type": "stream",
       "stream": "stdout",
       "text": [
        "0.0\n",
        "contract_value 1.0\n",
        "winning_org_id 0.272727272727\n",
        "updated 0.0\n",
        "is_new 0.0\n",
        "reference_number 1.0\n",
        "solicitation_number 0.85\n",
        "publication_date "
       ]
      },
      {
       "output_type": "stream",
       "stream": "stdout",
       "text": [
        "1.0\n",
        "amendment_date 0.866666666667\n",
        "currency 1.0\n",
        "contract_value 1.0\n",
        "archive status 0.5\n",
        "Federal contribution 0.0\n",
        "announcement URL 1.0\n",
        "awards_notice_date"
       ]
      },
      {
       "output_type": "stream",
       "stream": "stdout",
       "text": [
        " 1.0\n",
        "awards_num_offers 0.272727272727\n",
        "awards_previous_notices 0.842105263158\n",
        "awards_total_value_highest 0.6\n",
        "awards_total_value_lowest 0.514285714286\n",
        "awards_total_value_text 0.666666666667\n",
        "awards_total_value_vat 0.8\n",
        "awards_type"
       ]
      },
      {
       "output_type": "stream",
       "stream": "stdout",
       "text": [
        " 1.0\n",
        "awards_uri 0.833333333333\n",
        "document_award_criteria_id 1.0\n",
        "document_award_criteria_name 1.0\n",
        "good 0.0\n",
        "service 0.0\n",
        "description 0.0\n",
        "item "
       ]
      },
      {
       "output_type": "stream",
       "stream": "stdout",
       "text": [
        "0.0\n",
        "CPV 0.0\n",
        "GSIN 0.4375\n",
        "type 1.0\n",
        "category 0.0\n",
        "TITLE 0.0\n",
        "DESCRIPTION 0.0\n",
        "CLASSIFICATION "
       ]
      },
      {
       "output_type": "stream",
       "stream": "stdout",
       "text": [
        "0.0\n",
        "cpv_code 0.0\n",
        "sub_codes 0.0\n",
        "title 0.0\n",
        "gsin 0.4375\n",
        "description 0.0\n",
        "Record Title  0.52\n",
        "Contract Type "
       ]
      },
      {
       "output_type": "stream",
       "stream": "stdout",
       "text": [
        "1.0\n",
        "Contract Title 0.5\n",
        "awards_cpv 0.833333333333\n",
        "awards_dac_code 0.454545454545\n",
        "awards_description 0.625\n",
        "awards_title 0.294117647059\n",
        "document_cpvs 0.6\n",
        "document_document_name "
       ]
      },
      {
       "output_type": "stream",
       "stream": "stdout",
       "text": [
        "1.0\n",
        "document_document_number 1.0\n",
        "document_heading 0.333333333333\n",
        "document_oj 0.857142857143\n",
        "document_oj_uc 0.75\n",
        "document_title 0.333333333333\n",
        "document_title_uc 0.315789473684\n",
        "tender "
       ]
      },
      {
       "output_type": "stream",
       "stream": "stdout",
       "text": [
        "1.0\n",
        "request 1.0\n",
        "proposal 1.0\n",
        "qualifications 1.0\n",
        "notice 1.0\n",
        "intent 1.0\n",
        "date 1.0\n",
        "DATEPUBLISHED "
       ]
      },
      {
       "output_type": "stream",
       "stream": "stdout",
       "text": [
        "1.0\n",
        "VALUEMIN 1.0\n",
        "VALUEMAX 1.0\n",
        "STATUS 1.0\n",
        "tender_type 1.0\n",
        "tender_registration_number 1.0\n",
        "tender_status 1.0\n",
        "tender_announcement_date"
       ]
      },
      {
       "output_type": "stream",
       "stream": "stdout",
       "text": [
        " 1.0\n",
        "bid_start_date 1.0\n",
        "bid_end_date 1.0\n",
        "estimated_value 1.0\n",
        "include_vat 1.0\n",
        "guarantee_amount 1.0\n",
        "guarantee_period 1.0\n",
        "contract_value "
       ]
      },
      {
       "output_type": "stream",
       "stream": "stdout",
       "text": [
        "1.0\n",
        "inProgress 1.0\n",
        "publishing_status 1.0\n",
        "contract_award_procedure 1.0\n",
        "tendering_procedure 1.0\n",
        "currency 1.0\n",
        "contract_value 1.0\n",
        "Record template "
       ]
      },
      {
       "output_type": "stream",
       "stream": "stdout",
       "text": [
        "1.0\n",
        "Procedure Number 1.0\n",
        "Decision Date 1.0\n",
        "RFP Date Type 1.0\n",
        "Proposal Opening Date 1.0\n",
        "Procedure scope 1.0\n",
        "Procedure type 1.0\n",
        "Submission form type "
       ]
      },
      {
       "output_type": "stream",
       "stream": "stdout",
       "text": [
        "1.0\n",
        "announcement URL 1.0\n",
        "awards_award_criteria 1.0\n",
        "awards_award_date 1.0\n",
        "awards_procedure_type 1.0\n",
        "awards_publication_date 1.0\n",
        "awards_reference 1.0\n",
        "document_bid_type_id "
       ]
      },
      {
       "output_type": "stream",
       "stream": "stdout",
       "text": [
        "1.0\n",
        "document_bid_type_name 1.0\n",
        "document_comment_deadline 1.0\n",
        "binding 0.0\n",
        "agreement 0.0\n",
        "value 1.0\n",
        "date 1.0\n",
        "contract_value "
       ]
      },
      {
       "output_type": "stream",
       "stream": "stdout",
       "text": [
        "1.0\n",
        "winning_org_id 0.272727272727\n",
        "contract_sequence_number 0.805555555556\n",
        "contract_number 1.0\n",
        "award_date 1.0\n",
        "currency 1.0\n",
        "contract_value 1.0\n",
        "CompraNet Record ID"
       ]
      },
      {
       "output_type": "stream",
       "stream": "stdout",
       "text": [
        " 0.941176470588\n",
        "Contract ID 1.0\n",
        "Contract start date 1.0\n",
        "contract end date 1.0\n",
        "contract value 1.0\n",
        "Currency type 1.0\n",
        "contract status 1.0\n",
        "Signature date"
       ]
      },
      {
       "output_type": "stream",
       "stream": "stdout",
       "text": [
        " 0.722222222222\n",
        "announcement URL 1.0\n",
        "awards_behalf_of 0.625\n",
        "awards_contract_id 1.0\n",
        "awards_contract_nr 0.944444444444\n",
        "awards_contract_value 1.0\n",
        "awards_contract_value_currency 1.0\n",
        "awards_contract_value_highest"
       ]
      },
      {
       "output_type": "stream",
       "stream": "stdout",
       "text": [
        " 0.8\n",
        "awards_contract_value_initial 0.903225806452\n",
        "awards_contract_value_initial_currency 0.911764705882\n",
        "awards_contract_value_initial_terms 0.682926829268\n",
        "awards_contract_value_initial_vat 0.909090909091\n",
        "awards_contract_value_lowest 0.7\n",
        "awards_contract_value_terms 0.736842105263\n",
        "awards_contract_value_text "
       ]
      },
      {
       "output_type": "stream",
       "stream": "stdout",
       "text": [
        "0.875\n",
        "awards_contract_value_vat 1.0\n",
        "awards_score_chosen_tender 0.489361702128\n",
        "awards_services_covered 0.0980392156863\n",
        "awards_total_value 0.782608695652\n",
        "awards_total_value_currency 0.807692307692\n",
        "document_contract_id 1.0\n",
        "document_contract_name"
       ]
      },
      {
       "output_type": "stream",
       "stream": "stdout",
       "text": [
        " 1.0\n",
        "document_date 1.0\n",
        "document_deadline 1.0\n",
        "document_document_id 1.0\n",
        "document_document_sent 0.375\n",
        "document_id_1 1.0\n",
        "document_identifier 0.857142857143\n",
        "document_nuts_code "
       ]
      },
      {
       "output_type": "stream",
       "stream": "stdout",
       "text": [
        "0.3\n",
        "document_publication_date 1.0\n",
        "document_signature 0.545454545455\n",
        "document_source_tender 0.714285714286\n",
        "document_uri 0.857142857143\n",
        "document_url 1.0\n",
        "document_year 0.6\n",
        "producer "
       ]
      },
      {
       "output_type": "stream",
       "stream": "stdout",
       "text": [
        "0.0\n",
        "contractor 0.0\n",
        "proponent 0.0\n",
        "supplier_name 0.9375\n",
        "winner_code 0.0\n",
        "bidder_0_name 0.882352941176\n",
        "bidder_0_id 0.6\n",
        "bidder_0_lowest_bid "
       ]
      },
      {
       "output_type": "stream",
       "stream": "stdout",
       "text": [
        "0.416666666667\n",
        "bidder_0_black_or_white 0.0\n",
        "supplier_info 0.0\n",
        "Contractor Legal Name 0.625\n",
        "Contractor stratification 0.0\n",
        "awards_tenderer_addr 0.866666666667\n",
        "awards_tenderer_name 1.0\n",
        "process "
       ]
      },
      {
       "output_type": "stream",
       "stream": "stdout",
       "text": [
        "0.0769230769231\n",
        "framework 0.0\n",
        "facilitator 0.0\n",
        "procurement_entity_name 0.882352941176\n",
        "procurement_entity 0.0\n",
        "awards_authority_addr 0.357142857143\n",
        "awards_authority_name 0.740740740741\n",
        "awards_authority_ref "
       ]
      },
      {
       "output_type": "stream",
       "stream": "stdout",
       "text": [
        "0.384615384615\n",
        "awards_authority_type 0.65\n",
        "document_authority_name 0.75\n",
        "document_authority_type_id 0.708333333333\n",
        "document_authority_type_name 0.805555555556\n",
        "purchaser 0.0\n",
        "requirements 0.0\n",
        "ORG_NAME"
       ]
      },
      {
       "output_type": "stream",
       "stream": "stdout",
       "text": [
        " 0.9375\n",
        "ORG_CONTACTEMAIL 0.0\n",
        "REGION 0.0\n",
        "procurring_entity_id 0.157894736842\n",
        "procurer_name 0.882352941176\n",
        "procurer_code 0.0\n",
        "end_user_entity 0.818181818182\n",
        "customer_info"
       ]
      },
      {
       "output_type": "stream",
       "stream": "stdout",
       "text": [
        " 0.0\n",
        "GOVERNMENT 0.0\n",
        "ACRONYMS 0.0\n",
        "UNIT 0.0\n",
        "CompraNet Unit Identifier 0.0\n",
        "CompraNet Unit name 0.681818181818\n",
        "Responsibility 0.0\n",
        "Unit Branch "
       ]
      },
      {
       "output_type": "stream",
       "stream": "stdout",
       "text": [
        "0.0\n",
        "document_country 0.545454545455\n",
        "REFERENCENUMBER 1.0\n",
        "id 1.0\n",
        "offer_step 0.027027027027\n",
        "dataset_id 0.06\n",
        "risk_indicators "
       ]
      },
      {
       "output_type": "stream",
       "stream": "stdout",
       "text": [
        "0.0\n",
        "bidder_0_black_or_white 0.0\n",
        "bidder_0_black_or_white 0.0\n",
        "bidder_0_black_or_white 0.0\n",
        "bidder_0_black_or_white 0.0\n",
        "bidder_0_black_or_white 0.0\n",
        "bidder_0_black_or_white 0.0\n",
        "bidder_0_black_or_white "
       ]
      },
      {
       "output_type": "stream",
       "stream": "stdout",
       "text": [
        "0.0\n",
        "bidder_0_black_or_white 0.0\n",
        "bidder_0_black_or_white 0.0\n",
        "bidder_0_black_or_white 0.0\n",
        "bidder_0_black_or_white 0.0\n",
        "bidder_0_black_or_white 0.0\n",
        "bidder_0_black_or_white 0.0\n",
        "bidder_0_black_or_white "
       ]
      },
      {
       "output_type": "stream",
       "stream": "stdout",
       "text": [
        "0.0\n",
        "bidder_0_black_or_white 0.0\n",
        "bidder_0_black_or_white 0.0\n",
        "bidder_0_black_or_white 0.0\n",
        "bidder_0_black_or_white 0.0\n",
        "bidder_0_black_or_white 0.0\n",
        "bidder_0_black_or_white 0.0\n",
        "bidder_0_black_or_white "
       ]
      },
      {
       "output_type": "stream",
       "stream": "stdout",
       "text": [
        "0.0\n",
        "bidder_0_black_or_white 0.0\n",
        "bidder_0_black_or_white 0.0\n",
        "bidder_0_black_or_white 0.0\n",
        "bidder_0_black_or_white 0.0\n",
        "bidder_0_black_or_white 0.0\n",
        "bidder_0_black_or_white 0.0\n",
        "bidder_0_black_or_white "
       ]
      },
      {
       "output_type": "stream",
       "stream": "stdout",
       "text": [
        "0.0\n",
        "bidder_0_black_or_white 0.0\n",
        "bidder_0_black_or_white 0.0\n",
        "bidder_0_black_or_white 0.0\n",
        "bidder_0_black_or_white 0.0\n",
        "bidder_0_black_or_white 0.0\n",
        "bidder_0_black_or_white 0.0\n",
        "bidder_0_black_or_white"
       ]
      },
      {
       "output_type": "stream",
       "stream": "stdout",
       "text": [
        " 0.0\n",
        "bidder_0_black_or_white 0.0\n",
        "bidder_0_black_or_white 0.0\n",
        "bidder_0_black_or_white 0.0\n",
        "bidder_0_black_or_white 0.0\n",
        "bidder_0_black_or_white 0.0\n",
        "bidder_0_black_or_white 0.0\n",
        "bidder_0_black_or_white "
       ]
      },
      {
       "output_type": "stream",
       "stream": "stdout",
       "text": [
        "0.0\n",
        "bidder_0_black_or_white 0.0\n",
        "bidder_0_black_or_white 0.0\n",
        "bidder_0_black_or_white 0.0\n",
        "bidder_0_black_or_white 0.0\n",
        "bidder_0_black_or_white 0.0\n",
        "bidder_0_black_or_white 0.0\n",
        "bidder_0_black_or_white"
       ]
      },
      {
       "output_type": "stream",
       "stream": "stdout",
       "text": [
        " 0.0\n",
        "bidder_0_black_or_white 0.0\n",
        "language 0.0\n",
        "Program Key 0.0322580645161\n",
        "Contract Framework 0.8\n",
        "Consolidated purchase 0.0\n",
        "Multi-year 0.0\n",
        "Unit stratification "
       ]
      },
      {
       "output_type": "stream",
       "stream": "stdout",
       "text": [
        "0.0\n",
        "Company state 0.0\n",
        "Account manager type 0.333333333333\n",
        "awards_additional_info 0.714285714286\n",
        "awards_appeals_body 0.192307692308\n",
        "awards_appeals_info 0.333333333333\n",
        "awards_award_type 1.0\n",
        "awards_duration"
       ]
      },
      {
       "output_type": "stream",
       "stream": "stdout",
       "text": [
        " 0.625\n",
        "awards_electronic 0.714285714286\n",
        "awards_eu_funds 0.294117647059\n",
        "awards_framework_dps 0.555555555556\n",
        "awards_gpa_covered 0.151515151515\n",
        "awards_id 1.0\n",
        "awards_involves "
       ]
      },
      {
       "output_type": "stream",
       "stream": "stdout",
       "text": [
        "0.416666666667\n",
        "awards_language 0.454545454545\n",
        "awards_legal_basis 0.384615384615\n",
        "awards_likely_subcontracted 0.416666666667\n",
        "awards_lot_nr_title 0.185185185185\n",
        "awards_object 0.416666666667\n",
        "awards_scope 1.0\n",
        "document_directive"
       ]
      },
      {
       "output_type": "stream",
       "stream": "stdout",
       "text": [
        " 0.75\n",
        "document_original_language 0.333333333333\n",
        "document_place 0.157894736842\n",
        "document_procedure_id 1.0\n",
        "document_procedure_name 1.0\n",
        "document_regulation_id 0.5625\n",
        "document_regulation_name 0.75\n",
        "year "
       ]
      },
      {
       "output_type": "stream",
       "stream": "stdout",
       "text": [
        "0.0\n",
        "=== contract(53) ===\n",
        "['binding', 'agreement', 'value', 'date', 'contract_value', 'winning_org_id', 'contract_sequence_number', 'contract_number', 'award_date', 'currency', 'contract_value', 'CompraNet Record ID', 'Contract ID', 'Contract start date', 'contract end date', 'contract value', 'Currency type', 'contract status', 'Signature date', 'announcement URL', 'awards_behalf_of', 'awards_contract_id', 'awards_contract_nr', 'awards_contract_value', 'awards_contract_value_currency', 'awards_contract_value_highest', 'awards_contract_value_initial', 'awards_contract_value_initial_currency', 'awards_contract_value_initial_terms', 'awards_contract_value_initial_vat', 'awards_contract_value_lowest', 'awards_contract_value_terms', 'awards_contract_value_text', 'awards_contract_value_vat', 'awards_score_chosen_tender', 'awards_services_covered', 'awards_total_value', 'awards_total_value_currency', 'document_contract_id', 'document_contract_name', 'document_date', 'document_deadline', 'document_document_id', 'document_document_sent', 'document_id_1', 'document_identifier', 'document_nuts_code', 'document_publication_date', 'document_signature', 'document_source_tender', 'document_uri', 'document_url', 'document_year']\n",
        "award 1.0\n",
        "contract 1.0\n",
        "tender 1.0\n",
        "NOTICEID 0.214285714286\n",
        "URL 1.0\n",
        "NOTICETYPE 0.421052631579\n",
        "NOTICE_STATE"
       ]
      },
      {
       "output_type": "stream",
       "stream": "stdout",
       "text": [
        " 0.0\n",
        "NOTICE_STATE_CHANGE_DATE 0.236363636364\n",
        "NUM_DOCS 0.0\n",
        "created_at 0.0\n",
        "updated_at 0.0\n",
        "url_id 1.0\n",
        "num_bids 0.181818181818\n",
        "num_bidders"
       ]
      },
      {
       "output_type": "stream",
       "stream": "stdout",
       "text": [
        " 0.0\n",
        "contract_value 1.0\n",
        "winning_org_id 1.0\n",
        "updated 0.0\n",
        "is_new 0.0\n",
        "reference_number 0.642857142857\n",
        "solicitation_number "
       ]
      },
      {
       "output_type": "stream",
       "stream": "stdout",
       "text": [
        "0.85\n",
        "publication_date 1.0\n",
        "amendment_date 0.866666666667\n",
        "currency 1.0\n",
        "contract_value 1.0\n",
        "archive status 0.5\n",
        "Federal contribution 0.0\n",
        "announcement URL"
       ]
      },
      {
       "output_type": "stream",
       "stream": "stdout",
       "text": [
        " 1.0\n",
        "awards_notice_date 0.620689655172\n",
        "awards_num_offers 0.272727272727\n",
        "awards_previous_notices 0.263157894737\n",
        "awards_total_value_highest 1.0\n",
        "awards_total_value_lowest 1.0\n",
        "awards_total_value_text 1.0\n",
        "awards_total_value_vat"
       ]
      },
      {
       "output_type": "stream",
       "stream": "stdout",
       "text": [
        " 1.0\n",
        "awards_type 1.0\n",
        "awards_uri 1.0\n",
        "document_award_criteria_id 0.875\n",
        "document_award_criteria_name 0.928571428571\n",
        "good 0.0\n",
        "service 1.0\n",
        "description"
       ]
      },
      {
       "output_type": "stream",
       "stream": "stdout",
       "text": [
        " 0.0\n",
        "item 0.0\n",
        "CPV 0.0\n",
        "GSIN 0.0\n",
        "type 1.0\n",
        "category 0.0\n",
        "TITLE "
       ]
      },
      {
       "output_type": "stream",
       "stream": "stdout",
       "text": [
        "0.0\n",
        "DESCRIPTION 0.0\n",
        "CLASSIFICATION 0.0\n",
        "cpv_code 0.833333333333\n",
        "sub_codes 0.5\n",
        "title 0.0\n",
        "gsin 0.0\n",
        "description"
       ]
      },
      {
       "output_type": "stream",
       "stream": "stdout",
       "text": [
        " 0.0\n",
        "Record Title  0.52\n",
        "Contract Type 1.0\n",
        "Contract Title 0.5\n",
        "awards_cpv 0.833333333333\n",
        "awards_dac_code 0.909090909091\n",
        "awards_description"
       ]
      },
      {
       "output_type": "stream",
       "stream": "stdout",
       "text": [
        " 0.625\n",
        "awards_title 0.294117647059\n",
        "document_cpvs 0.6\n",
        "document_document_name 1.0\n",
        "document_document_number 1.0\n",
        "document_heading 0.333333333333\n",
        "document_oj 0.857142857143\n",
        "document_oj_uc"
       ]
      },
      {
       "output_type": "stream",
       "stream": "stdout",
       "text": [
        " 0.75\n",
        "document_title 0.333333333333\n",
        "document_title_uc 0.315789473684\n",
        "tender 1.0\n",
        "request 0.0\n",
        "proposal 0.0\n",
        "qualifications "
       ]
      },
      {
       "output_type": "stream",
       "stream": "stdout",
       "text": [
        "0.0\n",
        "notice 0.0\n",
        "intent 0.0\n",
        "date 1.0\n",
        "DATEPUBLISHED 0.722222222222\n",
        "VALUEMIN 0.785714285714\n",
        "VALUEMAX"
       ]
      },
      {
       "output_type": "stream",
       "stream": "stdout",
       "text": [
        " 0.916666666667\n",
        "STATUS 1.0\n",
        "tender_type 1.0\n",
        "tender_registration_number 0.875\n",
        "tender_status 1.0\n",
        "tender_announcement_date 1.0\n",
        "bid_start_date "
       ]
      },
      {
       "output_type": "stream",
       "stream": "stdout",
       "text": [
        "0.822222222222\n",
        "bid_end_date 0.80487804878\n",
        "estimated_value 0.846153846154\n",
        "include_vat 0.333333333333\n",
        "guarantee_amount 0.142857142857\n",
        "guarantee_period 0.0\n",
        "contract_value 1.0\n",
        "inProgress"
       ]
      },
      {
       "output_type": "stream",
       "stream": "stdout",
       "text": [
        " 0.0\n",
        "publishing_status 0.5\n",
        "contract_award_procedure 0.809523809524\n",
        "tendering_procedure 0.5\n",
        "currency 1.0\n",
        "contract_value 1.0\n",
        "Record template 0.928571428571\n",
        "Procedure Number"
       ]
      },
      {
       "output_type": "stream",
       "stream": "stdout",
       "text": [
        " 0.809523809524\n",
        "Decision Date 0.722222222222\n",
        "RFP Date Type 0.954545454545\n",
        "Proposal Opening Date 0.317073170732\n",
        "Procedure scope 0.0\n",
        "Procedure type 0.666666666667\n",
        "Submission form type"
       ]
      },
      {
       "output_type": "stream",
       "stream": "stdout",
       "text": [
        " 0.210526315789\n",
        "announcement URL 1.0\n",
        "awards_award_criteria 0.714285714286\n",
        "awards_award_date 1.0\n",
        "awards_procedure_type 0.764705882353\n",
        "awards_publication_date 1.0\n",
        "awards_reference "
       ]
      },
      {
       "output_type": "stream",
       "stream": "stdout",
       "text": [
        "0.375\n",
        "document_bid_type_id 0.703703703704\n",
        "document_bid_type_name 0.794871794872\n",
        "document_comment_deadline 0.538461538462\n",
        "binding 1.0\n",
        "agreement 1.0\n",
        "value "
       ]
      },
      {
       "output_type": "stream",
       "stream": "stdout",
       "text": [
        "1.0\n",
        "date 1.0\n",
        "contract_value 1.0\n",
        "winning_org_id 1.0\n",
        "contract_sequence_number 1.0\n",
        "contract_number 1.0\n",
        "award_date 1.0\n",
        "currency"
       ]
      },
      {
       "output_type": "stream",
       "stream": "stdout",
       "text": [
        " 1.0\n",
        "contract_value 1.0\n",
        "CompraNet Record ID 1.0\n",
        "Contract ID 1.0\n",
        "Contract start date 1.0\n",
        "contract end date 1.0\n",
        "contract value "
       ]
      },
      {
       "output_type": "stream",
       "stream": "stdout",
       "text": [
        "1.0\n",
        "Currency type 1.0\n",
        "contract status 1.0\n",
        "Signature date 1.0\n",
        "announcement URL 1.0\n",
        "awards_behalf_of 1.0\n",
        "awards_contract_id "
       ]
      },
      {
       "output_type": "stream",
       "stream": "stdout",
       "text": [
        "1.0\n",
        "awards_contract_nr 1.0\n",
        "awards_contract_value 1.0\n",
        "awards_contract_value_currency 1.0\n",
        "awards_contract_value_highest 1.0\n",
        "awards_contract_value_initial 1.0\n",
        "awards_contract_value_initial_currency "
       ]
      },
      {
       "output_type": "stream",
       "stream": "stdout",
       "text": [
        "1.0\n",
        "awards_contract_value_initial_terms 1.0\n",
        "awards_contract_value_initial_vat 1.0\n",
        "awards_contract_value_lowest 1.0\n",
        "awards_contract_value_terms 1.0\n",
        "awards_contract_value_text 1.0\n",
        "awards_contract_value_vat"
       ]
      },
      {
       "output_type": "stream",
       "stream": "stdout",
       "text": [
        " 1.0\n",
        "awards_score_chosen_tender 1.0\n",
        "awards_services_covered 1.0\n",
        "awards_total_value 1.0\n",
        "awards_total_value_currency 1.0\n",
        "document_contract_id 1.0\n",
        "document_contract_name 1.0\n",
        "document_date"
       ]
      },
      {
       "output_type": "stream",
       "stream": "stdout",
       "text": [
        " 1.0\n",
        "document_deadline 1.0\n",
        "document_document_id 1.0\n",
        "document_document_sent 1.0\n",
        "document_id_1 1.0\n",
        "document_identifier 1.0\n",
        "document_nuts_code 1.0\n",
        "document_publication_date"
       ]
      },
      {
       "output_type": "stream",
       "stream": "stdout",
       "text": [
        " 1.0\n",
        "document_signature 1.0\n",
        "document_source_tender 1.0\n",
        "document_uri 1.0\n",
        "document_url 1.0\n",
        "document_year 1.0\n",
        "producer"
       ]
      },
      {
       "output_type": "stream",
       "stream": "stdout",
       "text": [
        " 0.0\n",
        "contractor 0.0\n",
        "proponent 0.0\n",
        "supplier_name 0.9375\n",
        "winner_code 0.625\n",
        "bidder_0_name 0.882352941176\n",
        "bidder_0_id"
       ]
      },
      {
       "output_type": "stream",
       "stream": "stdout",
       "text": [
        " 0.6\n",
        "bidder_0_lowest_bid 0.583333333333\n",
        "bidder_0_black_or_white 0.0\n",
        "supplier_info 0.0\n",
        "Contractor Legal Name 0.625\n",
        "Contractor stratification 0.0\n",
        "awards_tenderer_addr 0.866666666667\n",
        "awards_tenderer_name"
       ]
      },
      {
       "output_type": "stream",
       "stream": "stdout",
       "text": [
        " 1.0\n",
        "process 0.0\n",
        "framework 0.0\n",
        "facilitator 0.0\n",
        "procurement_entity_name 0.882352941176\n",
        "procurement_entity 0.0\n",
        "awards_authority_addr 0.357142857143\n",
        "awards_authority_name"
       ]
      },
      {
       "output_type": "stream",
       "stream": "stdout",
       "text": [
        " 0.740740740741\n",
        "awards_authority_ref 0.384615384615\n",
        "awards_authority_type 0.65\n",
        "document_authority_name 0.75\n",
        "document_authority_type_id 0.708333333333\n",
        "document_authority_type_name 0.805555555556\n",
        "purchaser"
       ]
      },
      {
       "output_type": "stream",
       "stream": "stdout",
       "text": [
        " 0.0\n",
        "requirements 0.0\n",
        "ORG_NAME 1.0\n",
        "ORG_CONTACTEMAIL 0.0714285714286\n",
        "REGION 0.0\n",
        "procurring_entity_id 0.157894736842\n",
        "procurer_name "
       ]
      },
      {
       "output_type": "stream",
       "stream": "stdout",
       "text": [
        "0.882352941176\n",
        "procurer_code 0.714285714286\n",
        "end_user_entity 0.818181818182\n",
        "customer_info 0.0\n",
        "GOVERNMENT 0.0\n",
        "ACRONYMS 0.0\n",
        "UNIT 0.0\n",
        "CompraNet Unit Identifier"
       ]
      },
      {
       "output_type": "stream",
       "stream": "stdout",
       "text": [
        " 0.25\n",
        "CompraNet Unit name 0.727272727273\n",
        "Responsibility 0.0\n",
        "Unit Branch 0.0\n",
        "document_country 0.545454545455\n",
        "REFERENCENUMBER 0.642857142857\n",
        "id "
       ]
      },
      {
       "output_type": "stream",
       "stream": "stdout",
       "text": [
        "1.0\n",
        "offer_step 0.027027027027\n",
        "dataset_id 0.06\n",
        "risk_indicators 0.0\n",
        "bidder_0_black_or_white 0.0\n",
        "bidder_0_black_or_white 0.0\n",
        "bidder_0_black_or_white"
       ]
      },
      {
       "output_type": "stream",
       "stream": "stdout",
       "text": [
        " 0.0\n",
        "bidder_0_black_or_white 0.0\n",
        "bidder_0_black_or_white 0.0\n",
        "bidder_0_black_or_white 0.0\n",
        "bidder_0_black_or_white 0.0\n",
        "bidder_0_black_or_white"
       ]
      },
      {
       "output_type": "stream",
       "stream": "stdout",
       "text": [
        " 0.0\n",
        "bidder_0_black_or_white 0.0\n",
        "bidder_0_black_or_white 0.0\n",
        "bidder_0_black_or_white 0.0\n",
        "bidder_0_black_or_white 0.0\n",
        "bidder_0_black_or_white 0.0\n",
        "bidder_0_black_or_white 0.0\n",
        "bidder_0_black_or_white"
       ]
      },
      {
       "output_type": "stream",
       "stream": "stdout",
       "text": [
        " 0.0\n",
        "bidder_0_black_or_white 0.0\n",
        "bidder_0_black_or_white 0.0\n",
        "bidder_0_black_or_white 0.0\n",
        "bidder_0_black_or_white 0.0\n",
        "bidder_0_black_or_white 0.0\n",
        "bidder_0_black_or_white "
       ]
      },
      {
       "output_type": "stream",
       "stream": "stdout",
       "text": [
        "0.0\n",
        "bidder_0_black_or_white 0.0\n",
        "bidder_0_black_or_white 0.0\n",
        "bidder_0_black_or_white 0.0\n",
        "bidder_0_black_or_white 0.0\n",
        "bidder_0_black_or_white 0.0\n",
        "bidder_0_black_or_white 0.0\n",
        "bidder_0_black_or_white"
       ]
      },
      {
       "output_type": "stream",
       "stream": "stdout",
       "text": [
        " 0.0\n",
        "bidder_0_black_or_white 0.0\n",
        "bidder_0_black_or_white 0.0\n",
        "bidder_0_black_or_white 0.0\n",
        "bidder_0_black_or_white 0.0\n",
        "bidder_0_black_or_white 0.0\n",
        "bidder_0_black_or_white"
       ]
      },
      {
       "output_type": "stream",
       "stream": "stdout",
       "text": [
        " 0.0\n",
        "bidder_0_black_or_white 0.0\n",
        "bidder_0_black_or_white 0.0\n",
        "bidder_0_black_or_white 0.0\n",
        "bidder_0_black_or_white 0.0\n",
        "bidder_0_black_or_white 0.0\n",
        "bidder_0_black_or_white "
       ]
      },
      {
       "output_type": "stream",
       "stream": "stdout",
       "text": [
        "0.0\n",
        "bidder_0_black_or_white 0.0\n",
        "bidder_0_black_or_white 0.0\n",
        "bidder_0_black_or_white 0.0\n",
        "bidder_0_black_or_white 0.0\n",
        "bidder_0_black_or_white 0.0\n",
        "bidder_0_black_or_white "
       ]
      },
      {
       "output_type": "stream",
       "stream": "stdout",
       "text": [
        "0.0\n",
        "bidder_0_black_or_white 0.0\n",
        "bidder_0_black_or_white 0.0\n",
        "bidder_0_black_or_white 0.0\n",
        "bidder_0_black_or_white 0.0\n",
        "language 0.0\n",
        "Program Key 0.0322580645161\n",
        "Contract Framework"
       ]
      },
      {
       "output_type": "stream",
       "stream": "stdout",
       "text": [
        " 0.8\n",
        "Consolidated purchase 0.0\n",
        "Multi-year 0.8\n",
        "Unit stratification 0.0\n",
        "Company state 0.0\n",
        "Account manager type 0.375\n",
        "awards_additional_info 0.714285714286\n",
        "awards_appeals_body"
       ]
      },
      {
       "output_type": "stream",
       "stream": "stdout",
       "text": [
        " 0.192307692308\n",
        "awards_appeals_info 0.333333333333\n",
        "awards_award_type 1.0\n",
        "awards_duration 0.625\n",
        "awards_electronic 0.714285714286\n",
        "awards_eu_funds 0.294117647059\n",
        "awards_framework_dps "
       ]
      },
      {
       "output_type": "stream",
       "stream": "stdout",
       "text": [
        "0.555555555556\n",
        "awards_gpa_covered 0.969696969697\n",
        "awards_id 1.0\n",
        "awards_involves 0.416666666667\n",
        "awards_language 0.454545454545\n",
        "awards_legal_basis 0.384615384615\n",
        "awards_likely_subcontracted "
       ]
      },
      {
       "output_type": "stream",
       "stream": "stdout",
       "text": [
        "0.416666666667\n",
        "awards_lot_nr_title 0.222222222222\n",
        "awards_object 0.416666666667\n",
        "awards_scope 0.555555555556\n",
        "document_directive 0.75\n",
        "document_original_language 0.333333333333\n",
        "document_place "
       ]
      },
      {
       "output_type": "stream",
       "stream": "stdout",
       "text": [
        "0.184210526316\n",
        "document_procedure_id 0.692307692308\n",
        "document_procedure_name 0.84\n",
        "document_regulation_id 0.5625\n",
        "document_regulation_name 0.75\n",
        "year 1.0\n",
        "=== supplier(14) ===\n",
        "['producer', 'contractor', 'proponent', 'supplier_name', 'winner_code', 'bidder_0_name', 'bidder_0_id', 'bidder_0_lowest_bid', 'bidder_0_black_or_white', 'supplier_info', 'Contractor Legal Name', 'Contractor stratification', 'awards_tenderer_addr', 'awards_tenderer_name']\n",
        "award 1.0\n",
        "contract 0.0\n",
        "tender "
       ]
      },
      {
       "output_type": "stream",
       "stream": "stdout",
       "text": [
        "0.555555555556\n",
        "NOTICEID 0.214285714286\n",
        "URL 0.0\n",
        "NOTICETYPE 0.0\n",
        "NOTICE_STATE 0.0\n",
        "NOTICE_STATE_CHANGE_DATE 0.0\n",
        "NUM_DOCS 0.0\n",
        "created_at 0.0\n",
        "updated_at 0.0\n",
        "url_id 0.75\n",
        "num_bids 0.909090909091\n",
        "num_bidders 0.666666666667\n",
        "contract_value 0.0\n",
        "winning_org_id 0.272727272727\n",
        "updated 0.0\n",
        "is_new 0.0\n",
        "reference_number 0.0\n",
        "solicitation_number 0.0\n",
        "publication_date 0.0\n",
        "amendment_date 0.0\n",
        "currency 0.0\n",
        "contract_value 0.0\n",
        "archive status 0.0\n",
        "Federal contribution 0.0\n",
        "announcement URL"
       ]
      },
      {
       "output_type": "stream",
       "stream": "stdout",
       "text": [
        " 0.0\n",
        "awards_notice_date 0.172413793103\n",
        "awards_num_offers 0.272727272727\n",
        "awards_previous_notices 0.263157894737\n",
        "awards_total_value_highest 0.166666666667\n",
        "awards_total_value_lowest 0.485714285714\n",
        "awards_total_value_text 0.185185185185\n",
        "awards_total_value_vat 0.2\n",
        "awards_type 0.384615384615\n",
        "awards_uri 0.833333333333\n",
        "document_award_criteria_id 0.5\n",
        "document_award_criteria_name 0.714285714286\n",
        "good 0.0\n",
        "service 0.0\n",
        "description 0.0\n",
        "item 0.0\n",
        "CPV 0.0\n",
        "GSIN 0.0\n",
        "type 0.0\n",
        "category 0.0\n",
        "TITLE 0.0\n",
        "DESCRIPTION 0.0\n",
        "CLASSIFICATION 0.0\n",
        "cpv_code 0.833333333333\n",
        "sub_codes "
       ]
      },
      {
       "output_type": "stream",
       "stream": "stdout",
       "text": [
        "0.5\n",
        "title 0.0\n",
        "gsin 0.0\n",
        "description 0.0\n",
        "Record Title  0.0\n",
        "Contract Type 0.0\n",
        "Contract Title 0.0\n",
        "awards_cpv 0.833333333333\n",
        "awards_dac_code 0.909090909091\n",
        "awards_description 0.625\n",
        "awards_title 0.294117647059\n",
        "document_cpvs 0.0\n",
        "document_document_name 0.714285714286\n",
        "document_document_number 0.0\n",
        "document_heading 0.0\n",
        "document_oj 0.0\n",
        "document_oj_uc 0.0\n",
        "document_title 0.0\n",
        "document_title_uc 0.0\n",
        "tender 0.555555555556\n",
        "request 0.0\n",
        "proposal 0.0\n",
        "qualifications 0.0\n",
        "notice 0.0\n",
        "intent 0.0\n",
        "date "
       ]
      },
      {
       "output_type": "stream",
       "stream": "stdout",
       "text": [
        "0.0\n",
        "DATEPUBLISHED 0.0\n",
        "VALUEMIN 0.0\n",
        "VALUEMAX 0.0\n",
        "STATUS 0.0\n",
        "tender_type 0.384615384615\n",
        "tender_registration_number 0.25\n",
        "tender_status 0.5\n",
        "tender_announcement_date 0.30303030303\n",
        "bid_start_date 0.222222222222\n",
        "bid_end_date 0.243902439024\n",
        "estimated_value 0.0\n",
        "include_vat 0.0\n",
        "guarantee_amount 0.0\n",
        "guarantee_period 0.0\n",
        "contract_value 0.0\n",
        "inProgress 0.0\n",
        "publishing_status 0.0\n",
        "contract_award_procedure 0.238095238095\n",
        "tendering_procedure 0.125\n",
        "currency 0.0\n",
        "contract_value 0.0\n",
        "Record template 0.0\n",
        "Procedure Number 0.0\n",
        "Decision Date 0.0\n",
        "RFP Date Type 0.0\n",
        "Proposal Opening Date"
       ]
      },
      {
       "output_type": "stream",
       "stream": "stdout",
       "text": [
        " 0.0\n",
        "Procedure scope 0.0\n",
        "Procedure type 0.0\n",
        "Submission form type 0.0\n",
        "announcement URL 0.0\n",
        "awards_award_criteria 0.714285714286\n",
        "awards_award_date 0.277777777778\n",
        "awards_procedure_type 0.294117647059\n",
        "awards_publication_date 0.227272727273\n",
        "awards_reference 0.3125\n",
        "document_bid_type_id 0.481481481481\n",
        "document_bid_type_name 0.641025641026\n",
        "document_comment_deadline 0.0\n",
        "binding 0.0\n",
        "agreement 0.0\n",
        "value 0.0\n",
        "date 0.0\n",
        "contract_value 0.0\n",
        "winning_org_id 0.272727272727\n",
        "contract_sequence_number 0.0\n",
        "contract_number 0.0\n",
        "award_date 0.277777777778\n",
        "currency 0.0\n",
        "contract_value 0.0\n",
        "CompraNet Record ID"
       ]
      },
      {
       "output_type": "stream",
       "stream": "stdout",
       "text": [
        " 0.176470588235\n",
        "Contract ID 0.2\n",
        "Contract start date 0.0\n",
        "contract end date 0.0\n",
        "contract value 0.0\n",
        "Currency type 0.0\n",
        "contract status 0.0\n",
        "Signature date 0.0\n",
        "announcement URL 0.0\n",
        "awards_behalf_of 0.625\n",
        "awards_contract_id 0.4\n",
        "awards_contract_nr 0.277777777778\n",
        "awards_contract_value 0.178571428571\n",
        "awards_contract_value_currency 0.161290322581\n",
        "awards_contract_value_highest 0.142857142857\n",
        "awards_contract_value_initial 0.161290322581\n",
        "awards_contract_value_initial_currency 0.147058823529\n",
        "awards_contract_value_initial_terms 0.121951219512\n",
        "awards_contract_value_initial_vat 0.151515151515\n",
        "awards_contract_value_lowest 0.425\n",
        "awards_contract_value_terms 0.131578947368\n",
        "awards_contract_value_text 0.15625\n",
        "awards_contract_value_vat 0.166666666667\n",
        "awards_score_chosen_tender 0.31914893617\n",
        "awards_services_covered 0.0980392156863\n",
        "awards_total_value 0.217391304348\n",
        "awards_total_value_currency "
       ]
      },
      {
       "output_type": "stream",
       "stream": "stdout",
       "text": [
        "0.192307692308\n",
        "document_contract_id 0.142857142857\n",
        "document_contract_name 0.454545454545\n",
        "document_date 0.0\n",
        "document_deadline 0.0\n",
        "document_document_id 0.333333333333\n",
        "document_document_sent 0.0\n",
        "document_id_1 0.333333333333\n",
        "document_identifier 0.0\n",
        "document_nuts_code 0.25\n",
        "document_publication_date 0.0\n",
        "document_signature 0.0\n",
        "document_source_tender 0.285714285714\n",
        "document_uri 0.0\n",
        "document_url 0.0\n",
        "document_year 0.0\n",
        "producer 1.0\n",
        "contractor 1.0\n",
        "proponent 1.0\n",
        "supplier_name 1.0\n",
        "winner_code 1.0\n",
        "bidder_0_name 1.0\n",
        "bidder_0_id 1.0\n",
        "bidder_0_lowest_bid 1.0\n",
        "bidder_0_black_or_white 1.0\n",
        "supplier_info"
       ]
      },
      {
       "output_type": "stream",
       "stream": "stdout",
       "text": [
        " 1.0\n",
        "Contractor Legal Name 1.0\n",
        "Contractor stratification 1.0\n",
        "awards_tenderer_addr 1.0\n",
        "awards_tenderer_name 1.0\n",
        "process 0.0\n",
        "framework 0.0\n",
        "facilitator 0.0\n",
        "procurement_entity_name 0.882352941176\n",
        "procurement_entity 0.0\n",
        "awards_authority_addr 0.5\n",
        "awards_authority_name 0.740740740741\n",
        "awards_authority_ref 0.384615384615\n",
        "awards_authority_type 0.25\n",
        "document_authority_name 0.535714285714\n",
        "document_authority_type_id 0.125\n",
        "document_authority_type_name 0.416666666667\n",
        "purchaser 0.0\n",
        "requirements 0.0\n",
        "ORG_NAME 0.9375\n",
        "ORG_CONTACTEMAIL 0.0\n",
        "REGION 0.0\n",
        "procurring_entity_id 0.157894736842\n",
        "procurer_name 0.882352941176\n",
        "procurer_code 0.714285714286\n",
        "end_user_entity 0.0\n",
        "customer_info 0.5\n",
        "GOVERNMENT"
       ]
      },
      {
       "output_type": "stream",
       "stream": "stdout",
       "text": [
        " 0.0\n",
        "ACRONYMS 0.0\n",
        "UNIT 0.0\n",
        "CompraNet Unit Identifier 0.0\n",
        "CompraNet Unit name 0.681818181818\n",
        "Responsibility 0.0\n",
        "Unit Branch 0.0\n",
        "document_country 0.0\n",
        "REFERENCENUMBER 0.0\n",
        "id 1.0\n",
        "offer_step 0.027027027027\n",
        "dataset_id 0.06\n",
        "risk_indicators 0.0\n",
        "bidder_0_black_or_white 1.0\n",
        "bidder_0_black_or_white 1.0\n",
        "bidder_0_black_or_white 1.0\n",
        "bidder_0_black_or_white 1.0\n",
        "bidder_0_black_or_white 1.0\n",
        "bidder_0_black_or_white 1.0\n",
        "bidder_0_black_or_white 1.0\n",
        "bidder_0_black_or_white 1.0\n",
        "bidder_0_black_or_white 1.0\n",
        "bidder_0_black_or_white 1.0\n",
        "bidder_0_black_or_white 1.0\n",
        "bidder_0_black_or_white 1.0\n",
        "bidder_0_black_or_white "
       ]
      },
      {
       "output_type": "stream",
       "stream": "stdout",
       "text": [
        "1.0\n",
        "bidder_0_black_or_white 1.0\n",
        "bidder_0_black_or_white 1.0\n",
        "bidder_0_black_or_white 1.0\n",
        "bidder_0_black_or_white 1.0\n",
        "bidder_0_black_or_white 1.0\n",
        "bidder_0_black_or_white 1.0\n",
        "bidder_0_black_or_white 1.0\n",
        "bidder_0_black_or_white 1.0\n",
        "bidder_0_black_or_white 1.0\n",
        "bidder_0_black_or_white 1.0\n",
        "bidder_0_black_or_white 1.0\n",
        "bidder_0_black_or_white 1.0\n",
        "bidder_0_black_or_white 1.0\n",
        "bidder_0_black_or_white 1.0\n",
        "bidder_0_black_or_white 1.0\n",
        "bidder_0_black_or_white 1.0\n",
        "bidder_0_black_or_white 1.0\n",
        "bidder_0_black_or_white 1.0\n",
        "bidder_0_black_or_white 1.0\n",
        "bidder_0_black_or_white 1.0\n",
        "bidder_0_black_or_white 1.0\n",
        "bidder_0_black_or_white 1.0\n",
        "bidder_0_black_or_white 1.0\n",
        "bidder_0_black_or_white 1.0\n",
        "bidder_0_black_or_white 1.0\n",
        "bidder_0_black_or_white"
       ]
      },
      {
       "output_type": "stream",
       "stream": "stdout",
       "text": [
        " 1.0\n",
        "bidder_0_black_or_white 1.0\n",
        "bidder_0_black_or_white 1.0\n",
        "bidder_0_black_or_white 1.0\n",
        "bidder_0_black_or_white 1.0\n",
        "bidder_0_black_or_white 1.0\n",
        "bidder_0_black_or_white 1.0\n",
        "bidder_0_black_or_white 1.0\n",
        "bidder_0_black_or_white 1.0\n",
        "bidder_0_black_or_white 1.0\n",
        "bidder_0_black_or_white 1.0\n",
        "bidder_0_black_or_white 1.0\n",
        "language 0.0\n",
        "Program Key 0.0322580645161\n",
        "Contract Framework 0.0\n",
        "Consolidated purchase 0.0\n",
        "Multi-year 0.0\n",
        "Unit stratification 0.454545454545\n",
        "Company state 0.0\n",
        "Account manager type 0.0\n",
        "awards_additional_info 0.857142857143\n",
        "awards_appeals_body 0.192307692308\n",
        "awards_appeals_info 0.4\n",
        "awards_award_type 0.384615384615\n",
        "awards_duration 0.625\n",
        "awards_electronic 0.714285714286\n",
        "awards_eu_funds "
       ]
      },
      {
       "output_type": "stream",
       "stream": "stdout",
       "text": [
        "0.294117647059\n",
        "awards_framework_dps 0.555555555556\n",
        "awards_gpa_covered 0.151515151515\n",
        "awards_id 1.0\n",
        "awards_involves 0.416666666667\n",
        "awards_language 0.454545454545\n",
        "awards_legal_basis 0.769230769231\n",
        "awards_likely_subcontracted 0.416666666667\n",
        "awards_lot_nr_title 0.185185185185\n",
        "awards_object 0.416666666667\n",
        "awards_scope 0.555555555556\n",
        "document_directive 0.0\n",
        "document_original_language 0.0\n",
        "document_place 0.0\n",
        "document_procedure_id 0.230769230769\n",
        "document_procedure_name 0.6\n",
        "document_regulation_id 0.1875\n",
        "document_regulation_name 0.535714285714\n",
        "year 0.0\n",
        "=== authority(12) ===\n",
        "['process', 'framework', 'facilitator', 'procurement_entity_name', 'procurement_entity', 'awards_authority_addr', 'awards_authority_name', 'awards_authority_ref', 'awards_authority_type', 'document_authority_name', 'document_authority_type_id', 'document_authority_type_name']\n",
        "award 1.0\n",
        "contract 0.0\n",
        "tender 0.0\n",
        "NOTICEID 0.214285714286\n",
        "URL 0.0\n",
        "NOTICETYPE 0.421052631579\n",
        "NOTICE_STATE 0.0\n",
        "NOTICE_STATE_CHANGE_DATE "
       ]
      },
      {
       "output_type": "stream",
       "stream": "stdout",
       "text": [
        "0.0\n",
        "NUM_DOCS 0.0\n",
        "created_at 0.0\n",
        "updated_at 0.0\n",
        "url_id 0.75\n",
        "num_bids 0.0\n",
        "num_bidders 0.0\n",
        "contract_value 0.0\n",
        "winning_org_id 0.272727272727\n",
        "updated 0.0\n",
        "is_new 0.0\n",
        "reference_number 0.0\n",
        "solicitation_number 0.0\n",
        "publication_date 0.0\n",
        "amendment_date 0.0\n",
        "currency 0.0\n",
        "contract_value 0.0\n",
        "archive status 0.0\n",
        "Federal contribution 0.0\n",
        "announcement URL 0.0\n",
        "awards_notice_date 0.172413793103\n",
        "awards_num_offers 0.227272727273\n",
        "awards_previous_notices 0.263157894737\n",
        "awards_total_value_highest 0.166666666667\n",
        "awards_total_value_lowest 0.142857142857\n",
        "awards_total_value_text 0.185185185185\n",
        "awards_total_value_vat 0.2\n",
        "awards_type 1.0\n",
        "awards_uri"
       ]
      },
      {
       "output_type": "stream",
       "stream": "stdout",
       "text": [
        " 0.833333333333\n",
        "document_award_criteria_id 0.875\n",
        "document_award_criteria_name 0.928571428571\n",
        "good 0.0\n",
        "service 0.0\n",
        "description 0.0\n",
        "item 0.0\n",
        "CPV 0.0\n",
        "GSIN 0.0\n",
        "type 1.0\n",
        "category 0.0\n",
        "TITLE 0.0\n",
        "DESCRIPTION 0.0\n",
        "CLASSIFICATION 0.0\n",
        "cpv_code 0.0\n",
        "sub_codes 0.0\n",
        "title 0.0\n",
        "gsin 0.0\n",
        "description 0.0\n",
        "Record Title  0.0\n",
        "Contract Type 0.4\n",
        "Contract Title 0.0\n",
        "awards_cpv 0.833333333333\n",
        "awards_dac_code 0.454545454545\n",
        "awards_description 0.625\n",
        "awards_title 0.294117647059\n",
        "document_cpvs 0.6\n",
        "document_document_name 1.0\n",
        "document_document_number 0.260869565217\n",
        "document_heading"
       ]
      },
      {
       "output_type": "stream",
       "stream": "stdout",
       "text": [
        " 0.333333333333\n",
        "document_oj 0.857142857143\n",
        "document_oj_uc 0.75\n",
        "document_title 0.333333333333\n",
        "document_title_uc 0.315789473684\n",
        "tender 0.0\n",
        "request 0.0\n",
        "proposal 0.0\n",
        "qualifications 0.0\n",
        "notice 0.0\n",
        "intent 0.0\n",
        "date 0.0\n",
        "DATEPUBLISHED 0.0\n",
        "VALUEMIN 0.0\n",
        "VALUEMAX 0.0\n",
        "STATUS 0.0\n",
        "tender_type 0.307692307692\n",
        "tender_registration_number 0.0\n",
        "tender_status 0.0\n",
        "tender_announcement_date 0.0\n",
        "bid_start_date 0.0\n",
        "bid_end_date 0.0\n",
        "estimated_value 0.0\n",
        "include_vat 0.0\n",
        "guarantee_amount 0.0\n",
        "guarantee_period 0.0\n",
        "contract_value 0.0\n",
        "inProgress"
       ]
      },
      {
       "output_type": "stream",
       "stream": "stdout",
       "text": [
        " 0.0\n",
        "publishing_status 0.0\n",
        "contract_award_procedure 0.285714285714\n",
        "tendering_procedure 0.125\n",
        "currency 0.0\n",
        "contract_value 0.0\n",
        "Record template 0.0\n",
        "Procedure Number 0.047619047619\n",
        "Decision Date 0.0\n",
        "RFP Date Type 0.363636363636\n",
        "Proposal Opening Date 0.0\n",
        "Procedure scope 0.125\n",
        "Procedure type 0.75\n",
        "Submission form type 0.210526315789\n",
        "announcement URL 0.0\n",
        "awards_award_criteria 0.714285714286\n",
        "awards_award_date 0.277777777778\n",
        "awards_procedure_type 0.823529411765\n",
        "awards_publication_date 0.227272727273\n",
        "awards_reference 0.3125\n",
        "document_bid_type_id 0.62962962963\n",
        "document_bid_type_name 0.74358974359\n",
        "document_comment_deadline 0.461538461538\n",
        "binding 0.0\n",
        "agreement 0.0\n",
        "value 0.0\n",
        "date 0.0\n",
        "contract_value"
       ]
      },
      {
       "output_type": "stream",
       "stream": "stdout",
       "text": [
        " 0.0\n",
        "winning_org_id 0.272727272727\n",
        "contract_sequence_number 0.0\n",
        "contract_number 0.0\n",
        "award_date 0.277777777778\n",
        "currency 0.0\n",
        "contract_value 0.0\n",
        "CompraNet Record ID 0.176470588235\n",
        "Contract ID 0.2\n",
        "Contract start date 0.0\n",
        "contract end date 0.0\n",
        "contract value 0.0\n",
        "Currency type 0.727272727273\n",
        "contract status 0.0\n",
        "Signature date 0.0\n",
        "announcement URL 0.0\n",
        "awards_behalf_of 0.625\n",
        "awards_contract_id 0.4\n",
        "awards_contract_nr 0.277777777778\n",
        "awards_contract_value 0.178571428571\n",
        "awards_contract_value_currency 0.161290322581\n",
        "awards_contract_value_highest 0.142857142857\n",
        "awards_contract_value_initial 0.161290322581\n",
        "awards_contract_value_initial_currency 0.147058823529\n",
        "awards_contract_value_initial_terms 0.121951219512\n",
        "awards_contract_value_initial_vat 0.151515151515\n",
        "awards_contract_value_lowest 0.125\n",
        "awards_contract_value_terms "
       ]
      },
      {
       "output_type": "stream",
       "stream": "stdout",
       "text": [
        "0.131578947368\n",
        "awards_contract_value_text 0.15625\n",
        "awards_contract_value_vat 0.166666666667\n",
        "awards_score_chosen_tender 0.106382978723\n",
        "awards_services_covered 0.0980392156863\n",
        "awards_total_value 0.217391304348\n",
        "awards_total_value_currency 0.192307692308\n",
        "document_contract_id 0.428571428571\n",
        "document_contract_name 0.636363636364\n",
        "document_date 0.315789473684\n",
        "document_deadline 0.857142857143\n",
        "document_document_id 1.0\n",
        "document_document_sent 0.375\n",
        "document_id_1 1.0\n",
        "document_identifier 0.857142857143\n",
        "document_nuts_code 0.3\n",
        "document_publication_date 0.260869565217\n",
        "document_signature 0.545454545455\n",
        "document_source_tender 0.171428571429\n",
        "document_uri 0.857142857143\n",
        "document_url 0.857142857143\n",
        "document_year 0.6\n",
        "producer 0.0\n",
        "contractor 0.0\n",
        "proponent 0.0\n",
        "supplier_name 0.9375\n",
        "winner_code"
       ]
      },
      {
       "output_type": "stream",
       "stream": "stdout",
       "text": [
        " 0.0\n",
        "bidder_0_name 0.882352941176\n",
        "bidder_0_id 0.6\n",
        "bidder_0_lowest_bid 0.0\n",
        "bidder_0_black_or_white 0.0\n",
        "supplier_info 0.0\n",
        "Contractor Legal Name 0.625\n",
        "Contractor stratification 0.0\n",
        "awards_tenderer_addr 0.466666666667\n",
        "awards_tenderer_name 0.714285714286\n",
        "process 1.0\n",
        "framework 1.0\n",
        "facilitator 1.0\n",
        "procurement_entity_name 1.0\n",
        "procurement_entity 1.0\n",
        "awards_authority_addr 1.0\n",
        "awards_authority_name 1.0\n",
        "awards_authority_ref 1.0\n",
        "awards_authority_type 1.0\n",
        "document_authority_name 1.0\n",
        "document_authority_type_id 1.0\n",
        "document_authority_type_name 1.0\n",
        "purchaser 0.0\n",
        "requirements 0.0\n",
        "ORG_NAME 0.9375\n",
        "ORG_CONTACTEMAIL"
       ]
      },
      {
       "output_type": "stream",
       "stream": "stdout",
       "text": [
        " 0.0\n",
        "REGION 0.0\n",
        "procurring_entity_id 0.210526315789\n",
        "procurer_name 0.882352941176\n",
        "procurer_code 0.0\n",
        "end_user_entity 0.0454545454545\n",
        "customer_info 0.0\n",
        "GOVERNMENT 0.0\n",
        "ACRONYMS 0.0\n",
        "UNIT 0.0\n",
        "CompraNet Unit Identifier 0.0\n",
        "CompraNet Unit name 0.681818181818\n",
        "Responsibility 0.0\n",
        "Unit Branch 0.0\n",
        "document_country 0.545454545455\n",
        "REFERENCENUMBER 0.0\n",
        "id 1.0\n",
        "offer_step 0.0\n",
        "dataset_id 0.06\n",
        "risk_indicators 0.0\n",
        "bidder_0_black_or_white 0.0\n",
        "bidder_0_black_or_white 0.0\n",
        "bidder_0_black_or_white 0.0\n",
        "bidder_0_black_or_white 0.0\n",
        "bidder_0_black_or_white "
       ]
      },
      {
       "output_type": "stream",
       "stream": "stdout",
       "text": [
        "0.0\n",
        "bidder_0_black_or_white 0.0\n",
        "bidder_0_black_or_white 0.0\n",
        "bidder_0_black_or_white 0.0\n",
        "bidder_0_black_or_white 0.0\n",
        "bidder_0_black_or_white 0.0\n",
        "bidder_0_black_or_white 0.0\n",
        "bidder_0_black_or_white 0.0\n",
        "bidder_0_black_or_white 0.0\n",
        "bidder_0_black_or_white 0.0\n",
        "bidder_0_black_or_white 0.0\n",
        "bidder_0_black_or_white 0.0\n",
        "bidder_0_black_or_white 0.0\n",
        "bidder_0_black_or_white 0.0\n",
        "bidder_0_black_or_white 0.0\n",
        "bidder_0_black_or_white 0.0\n",
        "bidder_0_black_or_white 0.0\n",
        "bidder_0_black_or_white 0.0\n",
        "bidder_0_black_or_white 0.0\n",
        "bidder_0_black_or_white 0.0\n",
        "bidder_0_black_or_white 0.0\n",
        "bidder_0_black_or_white 0.0\n",
        "bidder_0_black_or_white 0.0\n",
        "bidder_0_black_or_white 0.0\n",
        "bidder_0_black_or_white 0.0\n",
        "bidder_0_black_or_white 0.0\n",
        "bidder_0_black_or_white"
       ]
      },
      {
       "output_type": "stream",
       "stream": "stdout",
       "text": [
        " 0.0\n",
        "bidder_0_black_or_white 0.0\n",
        "bidder_0_black_or_white 0.0\n",
        "bidder_0_black_or_white 0.0\n",
        "bidder_0_black_or_white 0.0\n",
        "bidder_0_black_or_white 0.0\n",
        "bidder_0_black_or_white 0.0\n",
        "bidder_0_black_or_white 0.0\n",
        "bidder_0_black_or_white 0.0\n",
        "bidder_0_black_or_white 0.0\n",
        "bidder_0_black_or_white 0.0\n",
        "bidder_0_black_or_white 0.0\n",
        "bidder_0_black_or_white 0.0\n",
        "bidder_0_black_or_white 0.0\n",
        "bidder_0_black_or_white 0.0\n",
        "bidder_0_black_or_white 0.0\n",
        "bidder_0_black_or_white 0.0\n",
        "bidder_0_black_or_white 0.0\n",
        "bidder_0_black_or_white 0.0\n",
        "bidder_0_black_or_white 0.0\n",
        "language 0.0\n",
        "Program Key 0.0322580645161\n",
        "Contract Framework 0.2\n",
        "Consolidated purchase 0.0\n",
        "Multi-year 0.0\n",
        "Unit stratification 0.0\n",
        "Company state "
       ]
      },
      {
       "output_type": "stream",
       "stream": "stdout",
       "text": [
        "0.0\n",
        "Account manager type 0.333333333333\n",
        "awards_additional_info 0.714285714286\n",
        "awards_appeals_body 0.192307692308\n",
        "awards_appeals_info 0.333333333333\n",
        "awards_award_type 1.0\n",
        "awards_duration 0.625\n",
        "awards_electronic 0.714285714286\n",
        "awards_eu_funds 0.294117647059\n",
        "awards_framework_dps 0.888888888889\n",
        "awards_gpa_covered 0.151515151515\n",
        "awards_id 1.0\n",
        "awards_involves 0.416666666667\n",
        "awards_language 0.454545454545\n",
        "awards_legal_basis 0.384615384615\n",
        "awards_likely_subcontracted 0.416666666667\n",
        "awards_lot_nr_title 0.185185185185\n",
        "awards_object 0.416666666667\n",
        "awards_scope 0.555555555556\n",
        "document_directive 0.75\n",
        "document_original_language 0.333333333333\n",
        "document_place 0.157894736842\n",
        "document_procedure_id 0.769230769231\n",
        "document_procedure_name 0.88\n",
        "document_regulation_id 0.5625\n",
        "document_regulation_name 0.75\n",
        "year "
       ]
      },
      {
       "output_type": "stream",
       "stream": "stdout",
       "text": [
        "0.0\n",
        "=== buyer(18) ===\n",
        "['purchaser', 'requirements', 'ORG_NAME', 'ORG_CONTACTEMAIL', 'REGION', 'procurring_entity_id', 'procurer_name', 'procurer_code', 'end_user_entity', 'customer_info', 'GOVERNMENT', 'ACRONYMS', 'UNIT', 'CompraNet Unit Identifier', 'CompraNet Unit name', 'Responsibility', 'Unit Branch', 'document_country']\n",
        "award 0.0\n",
        "contract 0.0\n",
        "tender 0.0\n",
        "NOTICEID 0.214285714286\n",
        "URL 0.0\n",
        "NOTICETYPE 0.0\n",
        "NOTICE_STATE 0.0909090909091\n",
        "NOTICE_STATE_CHANGE_DATE 0.0363636363636\n",
        "NUM_DOCS 0.0\n",
        "created_at 0.0\n",
        "updated_at 0.0\n",
        "url_id "
       ]
      },
      {
       "output_type": "stream",
       "stream": "stdout",
       "text": [
        "0.75\n",
        "num_bids 0.0\n",
        "num_bidders 0.0\n",
        "contract_value 0.0\n",
        "winning_org_id 0.363636363636\n",
        "updated 0.0\n",
        "is_new 0.0\n",
        "reference_number 0.0\n",
        "solicitation_number 0.0\n",
        "publication_date 0.0\n",
        "amendment_date 0.0\n",
        "currency 0.0\n",
        "contract_value"
       ]
      },
      {
       "output_type": "stream",
       "stream": "stdout",
       "text": [
        " 0.0\n",
        "archive status 0.0\n",
        "Federal contribution 0.0\n",
        "announcement URL 0.0\n",
        "awards_notice_date 0.0\n",
        "awards_num_offers 0.0\n",
        "awards_previous_notices 0.0\n",
        "awards_total_value_highest 0.0\n",
        "awards_total_value_lowest 0.0\n",
        "awards_total_value_text 0.0\n",
        "awards_total_value_vat 0.0\n",
        "awards_type"
       ]
      },
      {
       "output_type": "stream",
       "stream": "stdout",
       "text": [
        " 0.0\n",
        "awards_uri 0.0\n",
        "document_award_criteria_id 0.5625\n",
        "document_award_criteria_name 0.75\n",
        "good 0.0\n",
        "service 0.0\n",
        "description 0.0\n",
        "item 0.0\n",
        "CPV 0.0\n",
        "GSIN 0.0\n",
        "type 0.0\n",
        "category"
       ]
      },
      {
       "output_type": "stream",
       "stream": "stdout",
       "text": [
        " 0.0\n",
        "TITLE 0.0\n",
        "DESCRIPTION 0.0\n",
        "CLASSIFICATION 0.0\n",
        "cpv_code 0.833333333333\n",
        "sub_codes 0.5\n",
        "title 0.0\n",
        "gsin 0.0\n",
        "description 0.0\n",
        "Record Title  0.0\n",
        "Contract Type 0.0\n",
        "Contract Title 0.0\n",
        "awards_cpv "
       ]
      },
      {
       "output_type": "stream",
       "stream": "stdout",
       "text": [
        "0.0\n",
        "awards_dac_code 0.454545454545\n",
        "awards_description 0.0\n",
        "awards_title 0.0\n",
        "document_cpvs 0.6\n",
        "document_document_name 1.0\n",
        "document_document_number 0.260869565217\n",
        "document_heading 0.333333333333\n",
        "document_oj 0.857142857143\n",
        "document_oj_uc 0.75\n",
        "document_title "
       ]
      },
      {
       "output_type": "stream",
       "stream": "stdout",
       "text": [
        "0.333333333333\n",
        "document_title_uc 0.315789473684\n",
        "tender 0.0\n",
        "request 0.0\n",
        "proposal 0.0\n",
        "qualifications 0.0\n",
        "notice 0.0\n",
        "intent 0.0\n",
        "date 0.0\n",
        "DATEPUBLISHED 0.0\n",
        "VALUEMIN 0.0\n",
        "VALUEMAX 0.0\n",
        "STATUS"
       ]
      },
      {
       "output_type": "stream",
       "stream": "stdout",
       "text": [
        " 0.0\n",
        "tender_type 0.0\n",
        "tender_registration_number 0.0\n",
        "tender_status 0.0\n",
        "tender_announcement_date 0.0\n",
        "bid_start_date 0.0\n",
        "bid_end_date 0.439024390244\n",
        "estimated_value 0.0\n",
        "include_vat 0.0\n",
        "guarantee_amount 0.0\n",
        "guarantee_period 0.0\n",
        "contract_value 0.0\n",
        "inProgress "
       ]
      },
      {
       "output_type": "stream",
       "stream": "stdout",
       "text": [
        "0.0\n",
        "publishing_status 0.0\n",
        "contract_award_procedure 0.0\n",
        "tendering_procedure 0.0\n",
        "currency 0.0\n",
        "contract_value 0.0\n",
        "Record template 0.0\n",
        "Procedure Number 0.0\n",
        "Decision Date 0.0\n",
        "RFP Date Type 0.0\n",
        "Proposal Opening Date 0.0\n",
        "Procedure scope 0.0\n",
        "Procedure type 0.0\n",
        "Submission form type"
       ]
      },
      {
       "output_type": "stream",
       "stream": "stdout",
       "text": [
        " 0.0\n",
        "announcement URL 0.0\n",
        "awards_award_criteria 0.0\n",
        "awards_award_date 0.0\n",
        "awards_procedure_type 0.0\n",
        "awards_publication_date 0.0\n",
        "awards_reference 0.0\n",
        "document_bid_type_id 0.333333333333\n",
        "document_bid_type_name 0.538461538462\n",
        "document_comment_deadline 0.461538461538\n",
        "binding 0.0\n",
        "agreement 0.0\n",
        "value "
       ]
      },
      {
       "output_type": "stream",
       "stream": "stdout",
       "text": [
        "0.0\n",
        "date 0.0\n",
        "contract_value 0.0\n",
        "winning_org_id 0.363636363636\n",
        "contract_sequence_number 0.0\n",
        "contract_number 0.0\n",
        "award_date 0.0\n",
        "currency 0.0\n",
        "contract_value 0.0\n",
        "CompraNet Record ID 0.235294117647\n",
        "Contract ID 0.2\n",
        "Contract start date 0.0\n",
        "contract end date "
       ]
      },
      {
       "output_type": "stream",
       "stream": "stdout",
       "text": [
        "0.418604651163\n",
        "contract value 0.0\n",
        "Currency type 0.0\n",
        "contract status 0.0\n",
        "Signature date 0.0\n",
        "announcement URL 0.0\n",
        "awards_behalf_of 0.0\n",
        "awards_contract_id 0.15\n",
        "awards_contract_nr 0.0\n",
        "awards_contract_value 0.0\n",
        "awards_contract_value_currency 0.0\n",
        "awards_contract_value_highest 0.0\n",
        "awards_contract_value_initial 0.0\n",
        "awards_contract_value_initial_currency"
       ]
      },
      {
       "output_type": "stream",
       "stream": "stdout",
       "text": [
        " 0.0\n",
        "awards_contract_value_initial_terms 0.0\n",
        "awards_contract_value_initial_vat 0.0\n",
        "awards_contract_value_lowest 0.0\n",
        "awards_contract_value_terms 0.0\n",
        "awards_contract_value_text 0.0\n",
        "awards_contract_value_vat 0.0\n",
        "awards_score_chosen_tender 0.0\n",
        "awards_services_covered 0.0\n",
        "awards_total_value 0.0\n",
        "awards_total_value_currency 0.0\n",
        "document_contract_id 0.428571428571\n",
        "document_contract_name "
       ]
      },
      {
       "output_type": "stream",
       "stream": "stdout",
       "text": [
        "0.636363636364\n",
        "document_date 0.315789473684\n",
        "document_deadline 0.857142857143\n",
        "document_document_id 1.0\n",
        "document_document_sent 0.375\n",
        "document_id_1 1.0\n",
        "document_identifier 1.0\n",
        "document_nuts_code 0.55\n",
        "document_publication_date 0.260869565217\n",
        "document_signature 0.545454545455\n",
        "document_source_tender 0.171428571429\n",
        "document_uri 0.857142857143\n",
        "document_url 0.857142857143\n",
        "document_year"
       ]
      },
      {
       "output_type": "stream",
       "stream": "stdout",
       "text": [
        " 0.6\n",
        "producer 0.0\n",
        "contractor 0.0\n",
        "proponent 0.0\n",
        "supplier_name 0.9375\n",
        "winner_code 0.625\n",
        "bidder_0_name 0.882352941176\n",
        "bidder_0_id 0.6\n",
        "bidder_0_lowest_bid 0.0\n",
        "bidder_0_black_or_white 0.0\n",
        "supplier_info 0.5\n",
        "Contractor Legal Name 0.625\n",
        "Contractor stratification 0.0\n",
        "awards_tenderer_addr"
       ]
      },
      {
       "output_type": "stream",
       "stream": "stdout",
       "text": [
        " 0.0\n",
        "awards_tenderer_name 0.535714285714\n",
        "process 0.0\n",
        "framework 0.0\n",
        "facilitator 0.0\n",
        "procurement_entity_name 0.941176470588\n",
        "procurement_entity 0.5\n",
        "awards_authority_addr 0.0\n",
        "awards_authority_name 0.555555555556\n",
        "awards_authority_ref 0.0\n",
        "awards_authority_type"
       ]
      },
      {
       "output_type": "stream",
       "stream": "stdout",
       "text": [
        " 0.0\n",
        "document_authority_name 0.75\n",
        "document_authority_type_id 0.375\n",
        "document_authority_type_name 0.583333333333\n",
        "purchaser 1.0\n",
        "requirements 1.0\n",
        "ORG_NAME 1.0\n",
        "ORG_CONTACTEMAIL 1.0\n",
        "REGION 1.0\n",
        "procurring_entity_id 1.0\n",
        "procurer_name 1.0\n",
        "procurer_code 1.0\n",
        "end_user_entity"
       ]
      },
      {
       "output_type": "stream",
       "stream": "stdout",
       "text": [
        " 1.0\n",
        "customer_info 1.0\n",
        "GOVERNMENT 1.0\n",
        "ACRONYMS 1.0\n",
        "UNIT 1.0\n",
        "CompraNet Unit Identifier 1.0\n",
        "CompraNet Unit name 1.0\n",
        "Responsibility 1.0\n",
        "Unit Branch 1.0\n",
        "document_country 1.0\n",
        "REFERENCENUMBER 0.0\n",
        "id"
       ]
      },
      {
       "output_type": "stream",
       "stream": "stdout",
       "text": [
        " 1.0\n",
        "offer_step 0.0\n",
        "dataset_id 0.06\n",
        "risk_indicators 0.0\n",
        "bidder_0_black_or_white 0.0\n",
        "bidder_0_black_or_white 0.0\n",
        "bidder_0_black_or_white 0.0\n",
        "bidder_0_black_or_white 0.0\n",
        "bidder_0_black_or_white 0.0\n",
        "bidder_0_black_or_white 0.0\n",
        "bidder_0_black_or_white 0.0\n",
        "bidder_0_black_or_white 0.0\n",
        "bidder_0_black_or_white"
       ]
      },
      {
       "output_type": "stream",
       "stream": "stdout",
       "text": [
        " 0.0\n",
        "bidder_0_black_or_white 0.0\n",
        "bidder_0_black_or_white 0.0\n",
        "bidder_0_black_or_white 0.0\n",
        "bidder_0_black_or_white 0.0\n",
        "bidder_0_black_or_white 0.0\n",
        "bidder_0_black_or_white 0.0\n",
        "bidder_0_black_or_white 0.0\n",
        "bidder_0_black_or_white 0.0\n",
        "bidder_0_black_or_white 0.0\n",
        "bidder_0_black_or_white 0.0\n",
        "bidder_0_black_or_white "
       ]
      },
      {
       "output_type": "stream",
       "stream": "stdout",
       "text": [
        "0.0\n",
        "bidder_0_black_or_white 0.0\n",
        "bidder_0_black_or_white 0.0\n",
        "bidder_0_black_or_white 0.0\n",
        "bidder_0_black_or_white 0.0\n",
        "bidder_0_black_or_white 0.0\n",
        "bidder_0_black_or_white 0.0\n",
        "bidder_0_black_or_white 0.0\n",
        "bidder_0_black_or_white 0.0\n",
        "bidder_0_black_or_white 0.0\n",
        "bidder_0_black_or_white 0.0\n",
        "bidder_0_black_or_white 0.0\n",
        "bidder_0_black_or_white"
       ]
      },
      {
       "output_type": "stream",
       "stream": "stdout",
       "text": [
        " 0.0\n",
        "bidder_0_black_or_white 0.0\n",
        "bidder_0_black_or_white 0.0\n",
        "bidder_0_black_or_white 0.0\n",
        "bidder_0_black_or_white 0.0\n",
        "bidder_0_black_or_white 0.0\n",
        "bidder_0_black_or_white 0.0\n",
        "bidder_0_black_or_white 0.0\n",
        "bidder_0_black_or_white 0.0\n",
        "bidder_0_black_or_white 0.0\n",
        "bidder_0_black_or_white 0.0\n",
        "bidder_0_black_or_white "
       ]
      },
      {
       "output_type": "stream",
       "stream": "stdout",
       "text": [
        "0.0\n",
        "bidder_0_black_or_white 0.0\n",
        "bidder_0_black_or_white 0.0\n",
        "bidder_0_black_or_white 0.0\n",
        "bidder_0_black_or_white 0.0\n",
        "bidder_0_black_or_white 0.0\n",
        "bidder_0_black_or_white 0.0\n",
        "bidder_0_black_or_white 0.0\n",
        "language 0.0\n",
        "Program Key 0.0322580645161\n",
        "Contract Framework 0.0\n",
        "Consolidated purchase"
       ]
      },
      {
       "output_type": "stream",
       "stream": "stdout",
       "text": [
        " 0.0\n",
        "Multi-year 0.0\n",
        "Unit stratification 0.545454545455\n",
        "Company state 0.0952380952381\n",
        "Account manager type 0.0\n",
        "awards_additional_info 0.142857142857\n",
        "awards_appeals_body 0.0\n",
        "awards_appeals_info 0.0666666666667\n",
        "awards_award_type 0.0\n",
        "awards_duration 0.0\n",
        "awards_electronic 0.0\n",
        "awards_eu_funds 0.0\n",
        "awards_framework_dps"
       ]
      },
      {
       "output_type": "stream",
       "stream": "stdout",
       "text": [
        " 0.0\n",
        "awards_gpa_covered 0.0\n",
        "awards_id 0.375\n",
        "awards_involves 0.0\n",
        "awards_language 0.0\n",
        "awards_legal_basis 0.0\n",
        "awards_likely_subcontracted 0.0\n",
        "awards_lot_nr_title 0.0\n",
        "awards_object 0.0\n",
        "awards_scope 0.0\n",
        "document_directive 0.75\n",
        "document_original_language"
       ]
      },
      {
       "output_type": "stream",
       "stream": "stdout",
       "text": [
        " 0.333333333333\n",
        "document_place 0.157894736842\n",
        "document_procedure_id 0.692307692308\n",
        "document_procedure_name 0.84\n",
        "document_regulation_id 0.5625\n",
        "document_regulation_name 0.75\n",
        "year 0.0\n",
        "=== ?(88) ===\n",
        "['REFERENCENUMBER', 'id', 'offer_step', 'dataset_id', 'risk_indicators', 'bidder_0_black_or_white', 'bidder_0_black_or_white', 'bidder_0_black_or_white', 'bidder_0_black_or_white', 'bidder_0_black_or_white', 'bidder_0_black_or_white', 'bidder_0_black_or_white', 'bidder_0_black_or_white', 'bidder_0_black_or_white', 'bidder_0_black_or_white', 'bidder_0_black_or_white', 'bidder_0_black_or_white', 'bidder_0_black_or_white', 'bidder_0_black_or_white', 'bidder_0_black_or_white', 'bidder_0_black_or_white', 'bidder_0_black_or_white', 'bidder_0_black_or_white', 'bidder_0_black_or_white', 'bidder_0_black_or_white', 'bidder_0_black_or_white', 'bidder_0_black_or_white', 'bidder_0_black_or_white', 'bidder_0_black_or_white', 'bidder_0_black_or_white', 'bidder_0_black_or_white', 'bidder_0_black_or_white', 'bidder_0_black_or_white', 'bidder_0_black_or_white', 'bidder_0_black_or_white', 'bidder_0_black_or_white', 'bidder_0_black_or_white', 'bidder_0_black_or_white', 'bidder_0_black_or_white', 'bidder_0_black_or_white', 'bidder_0_black_or_white', 'bidder_0_black_or_white', 'bidder_0_black_or_white', 'bidder_0_black_or_white', 'bidder_0_black_or_white', 'bidder_0_black_or_white', 'bidder_0_black_or_white', 'bidder_0_black_or_white', 'bidder_0_black_or_white', 'bidder_0_black_or_white', 'bidder_0_black_or_white', 'bidder_0_black_or_white', 'bidder_0_black_or_white', 'bidder_0_black_or_white', 'bidder_0_black_or_white', 'language', 'Program Key', 'Contract Framework', 'Consolidated purchase', 'Multi-year', 'Unit stratification', 'Company state', 'Account manager type', 'awards_additional_info', 'awards_appeals_body', 'awards_appeals_info', 'awards_award_type', 'awards_duration', 'awards_electronic', 'awards_eu_funds', 'awards_framework_dps', 'awards_gpa_covered', 'awards_id', 'awards_involves', 'awards_language', 'awards_legal_basis', 'awards_likely_subcontracted', 'awards_lot_nr_title', 'awards_object', 'awards_scope', 'document_directive', 'document_original_language', 'document_place', 'document_procedure_id', 'document_procedure_name', 'document_regulation_id', 'document_regulation_name', 'year']\n",
        "award 1.0\n",
        "contract "
       ]
      },
      {
       "output_type": "stream",
       "stream": "stdout",
       "text": [
        "1.0\n",
        "tender 0.0555555555556\n",
        "NOTICEID 0.214285714286\n",
        "URL"
       ]
      },
      {
       "output_type": "stream",
       "stream": "stdout",
       "text": [
        " 0.0\n",
        "NOTICETYPE 0.421052631579\n",
        "NOTICE_STATE 0.5\n",
        "NOTICE_STATE_CHANGE_DATE "
       ]
      },
      {
       "output_type": "stream",
       "stream": "stdout",
       "text": [
        "0.2\n",
        "NUM_DOCS 0.0\n",
        "created_at 0.0\n",
        "updated_at "
       ]
      },
      {
       "output_type": "stream",
       "stream": "stdout",
       "text": [
        "0.0\n",
        "url_id 0.75\n",
        "num_bids 0.0909090909091\n",
        "num_bidders "
       ]
      },
      {
       "output_type": "stream",
       "stream": "stdout",
       "text": [
        "0.666666666667\n",
        "contract_value 0.521739130435\n",
        "winning_org_id 0.272727272727\n",
        "updated "
       ]
      },
      {
       "output_type": "stream",
       "stream": "stdout",
       "text": [
        "0.0\n",
        "is_new 0.0\n",
        "reference_number 1.0\n",
        "solicitation_number"
       ]
      },
      {
       "output_type": "stream",
       "stream": "stdout",
       "text": [
        " 0.9\n",
        "publication_date 0.0\n",
        "amendment_date 0.0\n",
        "currency "
       ]
      },
      {
       "output_type": "stream",
       "stream": "stdout",
       "text": [
        "0.0\n",
        "contract_value 0.521739130435\n",
        "archive status "
       ]
      },
      {
       "output_type": "stream",
       "stream": "stdout",
       "text": [
        "0.0\n",
        "Federal contribution 0.0\n",
        "announcement URL "
       ]
      },
      {
       "output_type": "stream",
       "stream": "stdout",
       "text": [
        "0.0\n",
        "awards_notice_date 0.172413793103\n",
        "awards_num_offers 0.954545454545\n",
        "awards_previous_notices"
       ]
      },
      {
       "output_type": "stream",
       "stream": "stdout",
       "text": [
        " 0.263157894737\n",
        "awards_total_value_highest 0.2\n",
        "awards_total_value_lowest 0.171428571429\n",
        "awards_total_value_text "
       ]
      },
      {
       "output_type": "stream",
       "stream": "stdout",
       "text": [
        "0.222222222222\n",
        "awards_total_value_vat 0.24\n",
        "awards_type 1.0\n",
        "awards_uri"
       ]
      },
      {
       "output_type": "stream",
       "stream": "stdout",
       "text": [
        " 0.833333333333\n",
        "document_award_criteria_id 0.875\n",
        "document_award_criteria_name 0.928571428571\n",
        "good "
       ]
      },
      {
       "output_type": "stream",
       "stream": "stdout",
       "text": [
        "0.0\n",
        "service 0.0\n",
        "description 0.0\n",
        "item "
       ]
      },
      {
       "output_type": "stream",
       "stream": "stdout",
       "text": [
        "0.0\n",
        "CPV 0.0\n",
        "GSIN 0.0\n",
        "type"
       ]
      },
      {
       "output_type": "stream",
       "stream": "stdout",
       "text": [
        " 1.0\n",
        "category 0.0\n",
        "TITLE 1.0\n",
        "DESCRIPTION "
       ]
      },
      {
       "output_type": "stream",
       "stream": "stdout",
       "text": [
        "0.0\n",
        "CLASSIFICATION 0.0\n",
        "cpv_code 0.0\n",
        "sub_codes "
       ]
      },
      {
       "output_type": "stream",
       "stream": "stdout",
       "text": [
        "0.0\n",
        "title 1.0\n",
        "gsin 0.0\n",
        "description "
       ]
      },
      {
       "output_type": "stream",
       "stream": "stdout",
       "text": [
        "0.0\n",
        "Record Title  0.48\n",
        "Contract Type 1.0\n",
        "Contract Title"
       ]
      },
      {
       "output_type": "stream",
       "stream": "stdout",
       "text": [
        " 1.0\n",
        "awards_cpv 0.833333333333\n",
        "awards_dac_code 0.454545454545\n",
        "awards_description"
       ]
      },
      {
       "output_type": "stream",
       "stream": "stdout",
       "text": [
        " 0.625\n",
        "awards_title 1.0\n",
        "document_cpvs 0.6\n",
        "document_document_name "
       ]
      },
      {
       "output_type": "stream",
       "stream": "stdout",
       "text": [
        "1.0\n",
        "document_document_number 1.0\n",
        "document_heading 0.333333333333\n",
        "document_oj"
       ]
      },
      {
       "output_type": "stream",
       "stream": "stdout",
       "text": [
        " 0.857142857143\n",
        "document_oj_uc 0.75\n",
        "document_title 1.0\n",
        "document_title_uc "
       ]
      },
      {
       "output_type": "stream",
       "stream": "stdout",
       "text": [
        "0.947368421053\n",
        "tender 0.0555555555556\n",
        "request 0.0\n",
        "proposal "
       ]
      },
      {
       "output_type": "stream",
       "stream": "stdout",
       "text": [
        "0.0\n",
        "qualifications 0.0\n",
        "notice 0.0\n",
        "intent"
       ]
      },
      {
       "output_type": "stream",
       "stream": "stdout",
       "text": [
        " 0.0\n",
        "date 0.0\n",
        "DATEPUBLISHED 0.0\n",
        "VALUEMIN"
       ]
      },
      {
       "output_type": "stream",
       "stream": "stdout",
       "text": [
        " 0.0\n",
        "VALUEMAX 0.0\n",
        "STATUS 0.0\n",
        "tender_type "
       ]
      },
      {
       "output_type": "stream",
       "stream": "stdout",
       "text": [
        "0.346153846154\n",
        "tender_registration_number 0.45\n",
        "tender_status 0.05\n",
        "tender_announcement_date "
       ]
      },
      {
       "output_type": "stream",
       "stream": "stdout",
       "text": [
        "0.030303030303\n",
        "bid_start_date 0.0222222222222\n",
        "bid_end_date 0.0243902439024\n",
        "estimated_value"
       ]
      },
      {
       "output_type": "stream",
       "stream": "stdout",
       "text": [
        " 0.0\n",
        "include_vat 0.0\n",
        "guarantee_amount 0.0714285714286\n",
        "guarantee_period "
       ]
      },
      {
       "output_type": "stream",
       "stream": "stdout",
       "text": [
        "0.0\n",
        "contract_value 0.521739130435\n",
        "inProgress 0.0\n",
        "publishing_status "
       ]
      },
      {
       "output_type": "stream",
       "stream": "stdout",
       "text": [
        "0.0\n",
        "contract_award_procedure 1.0\n",
        "tendering_procedure "
       ]
      },
      {
       "output_type": "stream",
       "stream": "stdout",
       "text": [
        "0.625\n",
        "currency 0.0\n",
        "contract_value 0.521739130435\n",
        "Record template"
       ]
      },
      {
       "output_type": "stream",
       "stream": "stdout",
       "text": [
        " 0.0\n",
        "Procedure Number 1.0\n",
        "Decision Date 0.0\n",
        "RFP Date Type"
       ]
      },
      {
       "output_type": "stream",
       "stream": "stdout",
       "text": [
        " 0.363636363636\n",
        "Proposal Opening Date 0.0\n",
        "Procedure scope 1.0\n",
        "Procedure type"
       ]
      },
      {
       "output_type": "stream",
       "stream": "stdout",
       "text": [
        " 1.0\n",
        "Submission form type 0.210526315789\n",
        "announcement URL 0.0\n",
        "awards_award_criteria"
       ]
      },
      {
       "output_type": "stream",
       "stream": "stdout",
       "text": [
        " 0.714285714286\n",
        "awards_award_date 0.277777777778\n",
        "awards_procedure_type 1.0\n",
        "awards_publication_date "
       ]
      },
      {
       "output_type": "stream",
       "stream": "stdout",
       "text": [
        "0.227272727273\n",
        "awards_reference 1.0\n",
        "document_bid_type_id 0.666666666667\n",
        "document_bid_type_name"
       ]
      },
      {
       "output_type": "stream",
       "stream": "stdout",
       "text": [
        " 0.769230769231\n",
        "document_comment_deadline 0.461538461538\n",
        "binding 0.0\n",
        "agreement "
       ]
      },
      {
       "output_type": "stream",
       "stream": "stdout",
       "text": [
        "0.0\n",
        "value 0.0\n",
        "date 0.0\n",
        "contract_value "
       ]
      },
      {
       "output_type": "stream",
       "stream": "stdout",
       "text": [
        "0.521739130435\n",
        "winning_org_id 0.272727272727\n",
        "contract_sequence_number 0.805555555556\n",
        "contract_number"
       ]
      },
      {
       "output_type": "stream",
       "stream": "stdout",
       "text": [
        " 1.0\n",
        "award_date 0.277777777778\n",
        "currency 0.0\n",
        "contract_value "
       ]
      },
      {
       "output_type": "stream",
       "stream": "stdout",
       "text": [
        "0.521739130435\n",
        "CompraNet Record ID 0.176470588235\n",
        "Contract ID 1.0\n",
        "Contract start date"
       ]
      },
      {
       "output_type": "stream",
       "stream": "stdout",
       "text": [
        " 0.255319148936\n",
        "contract end date 0.279069767442\n",
        "contract value 0.521739130435\n",
        "Currency type "
       ]
      },
      {
       "output_type": "stream",
       "stream": "stdout",
       "text": [
        "0.727272727273\n",
        "contract status 0.857142857143\n",
        "Signature date 0.0\n",
        "announcement URL "
       ]
      },
      {
       "output_type": "stream",
       "stream": "stdout",
       "text": [
        "0.0\n",
        "awards_behalf_of 0.625\n",
        "awards_contract_id 1.0\n",
        "awards_contract_nr"
       ]
      },
      {
       "output_type": "stream",
       "stream": "stdout",
       "text": [
        " 1.0\n",
        "awards_contract_value 0.607142857143\n",
        "awards_contract_value_currency 0.548387096774\n",
        "awards_contract_value_highest "
       ]
      },
      {
       "output_type": "stream",
       "stream": "stdout",
       "text": [
        "0.485714285714\n",
        "awards_contract_value_initial 0.548387096774\n",
        "awards_contract_value_initial_currency 0.5\n",
        "awards_contract_value_initial_terms "
       ]
      },
      {
       "output_type": "stream",
       "stream": "stdout",
       "text": [
        "0.414634146341\n",
        "awards_contract_value_initial_vat 0.515151515152\n",
        "awards_contract_value_lowest 0.425\n",
        "awards_contract_value_terms"
       ]
      },
      {
       "output_type": "stream",
       "stream": "stdout",
       "text": [
        " 0.447368421053\n",
        "awards_contract_value_text 0.53125\n",
        "awards_contract_value_vat 0.566666666667\n",
        "awards_score_chosen_tender "
       ]
      },
      {
       "output_type": "stream",
       "stream": "stdout",
       "text": [
        "0.148936170213\n",
        "awards_services_covered 0.627450980392\n",
        "awards_total_value 0.260869565217\n",
        "awards_total_value_currency "
       ]
      },
      {
       "output_type": "stream",
       "stream": "stdout",
       "text": [
        "0.230769230769\n",
        "document_contract_id 1.0\n",
        "document_contract_name 1.0\n",
        "document_date "
       ]
      },
      {
       "output_type": "stream",
       "stream": "stdout",
       "text": [
        "0.315789473684\n",
        "document_deadline 0.857142857143\n",
        "document_document_id 1.0\n",
        "document_document_sent "
       ]
      },
      {
       "output_type": "stream",
       "stream": "stdout",
       "text": [
        "0.4375\n",
        "document_id_1 1.0\n",
        "document_identifier 0.857142857143\n",
        "document_nuts_code "
       ]
      },
      {
       "output_type": "stream",
       "stream": "stdout",
       "text": [
        "0.3\n",
        "document_publication_date 0.260869565217\n",
        "document_signature 0.545454545455\n",
        "document_source_tender "
       ]
      },
      {
       "output_type": "stream",
       "stream": "stdout",
       "text": [
        "0.228571428571\n",
        "document_uri 0.857142857143\n",
        "document_url 0.857142857143\n",
        "document_year "
       ]
      },
      {
       "output_type": "stream",
       "stream": "stdout",
       "text": [
        "1.0\n",
        "producer 0.0\n",
        "contractor 0.0\n",
        "proponent "
       ]
      },
      {
       "output_type": "stream",
       "stream": "stdout",
       "text": [
        "0.0\n",
        "supplier_name 0.9375\n",
        "winner_code 0.0\n",
        "bidder_0_name "
       ]
      },
      {
       "output_type": "stream",
       "stream": "stdout",
       "text": [
        "1.0\n",
        "bidder_0_id 1.0\n",
        "bidder_0_lowest_bid 0.125\n",
        "bidder_0_black_or_white "
       ]
      },
      {
       "output_type": "stream",
       "stream": "stdout",
       "text": [
        "1.0\n",
        "supplier_info 0.5\n",
        "Contractor Legal Name 0.833333333333\n",
        "Contractor stratification "
       ]
      },
      {
       "output_type": "stream",
       "stream": "stdout",
       "text": [
        "0.555555555556\n",
        "awards_tenderer_addr 0.333333333333\n",
        "awards_tenderer_name 0.714285714286\n",
        "process "
       ]
      },
      {
       "output_type": "stream",
       "stream": "stdout",
       "text": [
        "0.0769230769231\n",
        "framework 1.0\n",
        "facilitator 0.0\n",
        "procurement_entity_name "
       ]
      },
      {
       "output_type": "stream",
       "stream": "stdout",
       "text": [
        "0.882352941176\n",
        "procurement_entity 0.0\n",
        "awards_authority_addr 0.357142857143\n",
        "awards_authority_name "
       ]
      },
      {
       "output_type": "stream",
       "stream": "stdout",
       "text": [
        "0.740740740741\n",
        "awards_authority_ref 0.384615384615\n",
        "awards_authority_type 0.65\n",
        "document_authority_name "
       ]
      },
      {
       "output_type": "stream",
       "stream": "stdout",
       "text": [
        "0.75\n",
        "document_authority_type_id 0.708333333333\n",
        "document_authority_type_name 0.805555555556\n",
        "purchaser "
       ]
      },
      {
       "output_type": "stream",
       "stream": "stdout",
       "text": [
        "0.0\n",
        "requirements 0.0\n",
        "ORG_NAME 0.9375\n",
        "ORG_CONTACTEMAIL "
       ]
      },
      {
       "output_type": "stream",
       "stream": "stdout",
       "text": [
        "0.0\n",
        "REGION 0.0\n",
        "procurring_entity_id 0.157894736842\n",
        "procurer_name"
       ]
      },
      {
       "output_type": "stream",
       "stream": "stdout",
       "text": [
        " 0.882352941176\n",
        "procurer_code 0.0\n",
        "end_user_entity 0.0\n",
        "customer_info"
       ]
      },
      {
       "output_type": "stream",
       "stream": "stdout",
       "text": [
        " 0.5\n",
        "GOVERNMENT 0.0\n",
        "ACRONYMS 0.0\n",
        "UNIT "
       ]
      },
      {
       "output_type": "stream",
       "stream": "stdout",
       "text": [
        "1.0\n",
        "CompraNet Unit Identifier 0.75\n",
        "CompraNet Unit name 0.954545454545\n",
        "Responsibility"
       ]
      },
      {
       "output_type": "stream",
       "stream": "stdout",
       "text": [
        " 0.0\n",
        "Unit Branch 0.428571428571\n",
        "document_country 0.727272727273\n",
        "REFERENCENUMBER "
       ]
      },
      {
       "output_type": "stream",
       "stream": "stdout",
       "text": [
        "1.0\n",
        "id 1.0\n",
        "offer_step 1.0\n",
        "dataset_id "
       ]
      },
      {
       "output_type": "stream",
       "stream": "stdout",
       "text": [
        "1.0\n",
        "risk_indicators 1.0\n",
        "bidder_0_black_or_white 1.0\n",
        "bidder_0_black_or_white "
       ]
      },
      {
       "output_type": "stream",
       "stream": "stdout",
       "text": [
        "1.0\n",
        "bidder_0_black_or_white 1.0\n",
        "bidder_0_black_or_white 1.0\n",
        "bidder_0_black_or_white"
       ]
      },
      {
       "output_type": "stream",
       "stream": "stdout",
       "text": [
        " 1.0\n",
        "bidder_0_black_or_white 1.0\n",
        "bidder_0_black_or_white 1.0\n",
        "bidder_0_black_or_white"
       ]
      },
      {
       "output_type": "stream",
       "stream": "stdout",
       "text": [
        " 1.0\n",
        "bidder_0_black_or_white 1.0\n",
        "bidder_0_black_or_white 1.0\n",
        "bidder_0_black_or_white "
       ]
      },
      {
       "output_type": "stream",
       "stream": "stdout",
       "text": [
        "1.0\n",
        "bidder_0_black_or_white 1.0\n",
        "bidder_0_black_or_white 1.0\n",
        "bidder_0_black_or_white"
       ]
      },
      {
       "output_type": "stream",
       "stream": "stdout",
       "text": [
        " 1.0\n",
        "bidder_0_black_or_white 1.0\n",
        "bidder_0_black_or_white 1.0\n",
        "bidder_0_black_or_white"
       ]
      },
      {
       "output_type": "stream",
       "stream": "stdout",
       "text": [
        " 1.0\n",
        "bidder_0_black_or_white 1.0\n",
        "bidder_0_black_or_white 1.0\n",
        "bidder_0_black_or_white"
       ]
      },
      {
       "output_type": "stream",
       "stream": "stdout",
       "text": [
        " 1.0\n",
        "bidder_0_black_or_white 1.0\n",
        "bidder_0_black_or_white 1.0\n",
        "bidder_0_black_or_white "
       ]
      },
      {
       "output_type": "stream",
       "stream": "stdout",
       "text": [
        "1.0\n",
        "bidder_0_black_or_white 1.0\n",
        "bidder_0_black_or_white 1.0\n",
        "bidder_0_black_or_white "
       ]
      },
      {
       "output_type": "stream",
       "stream": "stdout",
       "text": [
        "1.0\n",
        "bidder_0_black_or_white 1.0\n",
        "bidder_0_black_or_white 1.0\n",
        "bidder_0_black_or_white"
       ]
      },
      {
       "output_type": "stream",
       "stream": "stdout",
       "text": [
        " 1.0\n",
        "bidder_0_black_or_white 1.0\n",
        "bidder_0_black_or_white 1.0\n",
        "bidder_0_black_or_white "
       ]
      },
      {
       "output_type": "stream",
       "stream": "stdout",
       "text": [
        "1.0\n",
        "bidder_0_black_or_white 1.0\n",
        "bidder_0_black_or_white 1.0\n",
        "bidder_0_black_or_white"
       ]
      },
      {
       "output_type": "stream",
       "stream": "stdout",
       "text": [
        " 1.0\n",
        "bidder_0_black_or_white 1.0\n",
        "bidder_0_black_or_white 1.0\n",
        "bidder_0_black_or_white"
       ]
      },
      {
       "output_type": "stream",
       "stream": "stdout",
       "text": [
        " 1.0\n",
        "bidder_0_black_or_white 1.0\n",
        "bidder_0_black_or_white 1.0\n",
        "bidder_0_black_or_white "
       ]
      },
      {
       "output_type": "stream",
       "stream": "stdout",
       "text": [
        "1.0\n",
        "bidder_0_black_or_white 1.0\n",
        "bidder_0_black_or_white 1.0\n",
        "bidder_0_black_or_white "
       ]
      },
      {
       "output_type": "stream",
       "stream": "stdout",
       "text": [
        "1.0\n",
        "bidder_0_black_or_white 1.0\n",
        "bidder_0_black_or_white 1.0\n",
        "bidder_0_black_or_white "
       ]
      },
      {
       "output_type": "stream",
       "stream": "stdout",
       "text": [
        "1.0\n",
        "bidder_0_black_or_white 1.0\n",
        "bidder_0_black_or_white 1.0\n",
        "bidder_0_black_or_white"
       ]
      },
      {
       "output_type": "stream",
       "stream": "stdout",
       "text": [
        " 1.0\n",
        "language 1.0\n",
        "Program Key 1.0\n",
        "Contract Framework "
       ]
      },
      {
       "output_type": "stream",
       "stream": "stdout",
       "text": [
        "1.0\n",
        "Consolidated purchase 1.0\n",
        "Multi-year 1.0\n",
        "Unit stratification "
       ]
      },
      {
       "output_type": "stream",
       "stream": "stdout",
       "text": [
        "1.0\n",
        "Company state 1.0\n",
        "Account manager type 1.0\n",
        "awards_additional_info "
       ]
      },
      {
       "output_type": "stream",
       "stream": "stdout",
       "text": [
        "1.0\n",
        "awards_appeals_body 1.0\n",
        "awards_appeals_info 1.0\n",
        "awards_award_type "
       ]
      },
      {
       "output_type": "stream",
       "stream": "stdout",
       "text": [
        "1.0\n",
        "awards_duration 1.0\n",
        "awards_electronic 1.0\n",
        "awards_eu_funds"
       ]
      },
      {
       "output_type": "stream",
       "stream": "stdout",
       "text": [
        " 1.0\n",
        "awards_framework_dps 1.0\n",
        "awards_gpa_covered 1.0\n",
        "awards_id"
       ]
      },
      {
       "output_type": "stream",
       "stream": "stdout",
       "text": [
        " 1.0\n",
        "awards_involves 1.0\n",
        "awards_language 1.0\n",
        "awards_legal_basis "
       ]
      },
      {
       "output_type": "stream",
       "stream": "stdout",
       "text": [
        "1.0\n",
        "awards_likely_subcontracted 1.0\n",
        "awards_lot_nr_title 1.0\n",
        "awards_object"
       ]
      },
      {
       "output_type": "stream",
       "stream": "stdout",
       "text": [
        " 1.0\n",
        "awards_scope 1.0\n",
        "document_directive 1.0\n",
        "document_original_language "
       ]
      },
      {
       "output_type": "stream",
       "stream": "stdout",
       "text": [
        "1.0\n",
        "document_place 1.0\n",
        "document_procedure_id 1.0\n",
        "document_procedure_name "
       ]
      },
      {
       "output_type": "stream",
       "stream": "stdout",
       "text": [
        "1.0\n",
        "document_regulation_id 1.0\n",
        "document_regulation_name 1.0\n",
        "year "
       ]
      },
      {
       "output_type": "stream",
       "stream": "stdout",
       "text": [
        "1.0\n"
       ]
      }
     ],
     "prompt_number": 158
    },
    {
     "cell_type": "heading",
     "level": 2,
     "metadata": {},
     "source": [
      "III. Combine Features into Feature Matrix & Define Outcome"
     ]
    },
    {
     "cell_type": "code",
     "collapsed": false,
     "input": [
      "X = df[['length','word_count', 'header_in_entity', 'entity_in_header']]"
     ],
     "language": "python",
     "metadata": {},
     "outputs": [],
     "prompt_number": 17
    },
    {
     "cell_type": "code",
     "collapsed": false,
     "input": [
      "y = df.entity"
     ],
     "language": "python",
     "metadata": {},
     "outputs": [],
     "prompt_number": 18
    },
    {
     "cell_type": "heading",
     "level": 2,
     "metadata": {},
     "source": [
      "IV. Create Model"
     ]
    },
    {
     "cell_type": "code",
     "collapsed": false,
     "input": [
      "from sklearn.svm import LinearSVC"
     ],
     "language": "python",
     "metadata": {},
     "outputs": [],
     "prompt_number": 19
    },
    {
     "cell_type": "heading",
     "level": 2,
     "metadata": {},
     "source": [
      "V. Split Data into Test and Training"
     ]
    },
    {
     "cell_type": "code",
     "collapsed": false,
     "input": [
      "from sklearn import cross_validation"
     ],
     "language": "python",
     "metadata": {},
     "outputs": [],
     "prompt_number": 20
    },
    {
     "cell_type": "code",
     "collapsed": false,
     "input": [
      "rs = cross_validation.ShuffleSplit(len(X), n_iter=1, train_size=0.5, test_size=.25, random_state=1)\n",
      "\n",
      "for train_index, test_index in rs:\n",
      "    print 'train', train_index, '\\ntest', test_index"
     ],
     "language": "python",
     "metadata": {},
     "outputs": [
      {
       "output_type": "stream",
       "stream": "stdout",
       "text": [
        "train [  5 102  38  95  67  89 249  34 179 164 122 246 278 251  19  14 210 236\n",
        "  44 163 292 117 258  41  79 282 297 233 106 159  99   8 225 180 186  31\n",
        " 169  55  28 234 167  48 289 157 273  33  93 219  35 202  63  29   0 223\n",
        "  66 147 239 229 194  47 217 204  40  21 101  69  53 137  24 230 134 206\n",
        " 116 182 142 228 240 207  56  61 170 171  84 175 114 270 248 118 227 145\n",
        " 293 259  54 266 177 192 224  98 257 130  97 269  82 184  60  94 140 222\n",
        " 148 152 268 284  81 124 245 232  13  96 238  45 213 103  36 267  20 263\n",
        " 208  75 200 221 286 294 149 262   2 198  52   6 205 128 272  77 113  65\n",
        " 183 151 271 160  46] \n",
        "test [173 287  51 146 214 197 274  62  27 201 112 119  11 244 110 295  73 105\n",
        " 265 107 188  12  70  18  88 108 298 176 120 250  85 296 132 285 131  78\n",
        " 253 138  90 189   4 193 154 247  80  16 168 127  58 185 279 211 174  59\n",
        " 150 212 191 283 172 139 161 260 218 123  39 181 220 158 288  17  91 291\n",
        "  42 187 242]\n"
       ]
      }
     ],
     "prompt_number": 143
    },
    {
     "cell_type": "heading",
     "level": 2,
     "metadata": {},
     "source": [
      "Fit and Test Models"
     ]
    },
    {
     "cell_type": "code",
     "collapsed": false,
     "input": [
      "def score_model(actual, predicted):\n",
      "    score_df = pd.DataFrame([actual, predicted], index=['actual', 'predicted']).T\n",
      "    correct = sum(score_df.actual == score_df.predicted)\n",
      "    incorrect = sum(score_df.actual != score_df.predicted)\n",
      "    total = correct + incorrect\n",
      "    accuracy = float(correct) / float(total) * 100\n",
      "    return accuracy\n",
      "\n",
      "def run_tests(features):\n",
      "    X = df[list(features)]\n",
      "\n",
      "    rs = cross_validation.ShuffleSplit(len(X), n_iter=5, train_size=0.5, test_size=.25, random_state=0)\n",
      "\n",
      "    svc = LinearSVC()\n",
      "    \n",
      "    accuracies = []\n",
      "    for train_index, test_index in rs:\n",
      "        model = svc.fit(X.ix[train_index], y.ix[train_index]) \n",
      "        actual = y.ix[test_index].values\n",
      "        predicted = model.predict(X.ix[test_index])\n",
      "        accuracies.append( score_model(actual, predicted) )\n",
      "    \n",
      "    print \"Avg Accuracy: %%%.2f\" % np.mean(accuracies)"
     ],
     "language": "python",
     "metadata": {},
     "outputs": [],
     "prompt_number": 150
    },
    {
     "cell_type": "code",
     "collapsed": false,
     "input": [
      "run_tests(['length','word_count'])"
     ],
     "language": "python",
     "metadata": {},
     "outputs": [
      {
       "output_type": "stream",
       "stream": "stdout",
       "text": [
        "Avg Accuracy: %27.20\n"
       ]
      }
     ],
     "prompt_number": 151
    },
    {
     "cell_type": "code",
     "collapsed": false,
     "input": [
      "run_tests(['length', 'word_count', 'header_in_entity', 'entity_in_header'])"
     ],
     "language": "python",
     "metadata": {},
     "outputs": [
      {
       "output_type": "stream",
       "stream": "stdout",
       "text": [
        "Avg Accuracy: %45.60\n"
       ]
      }
     ],
     "prompt_number": 152
    },
    {
     "cell_type": "code",
     "collapsed": false,
     "input": [
      "run_tests(['length', 'word_count', 'header_in_entity', 'entity_in_header'] + entity_features)"
     ],
     "language": "python",
     "metadata": {},
     "outputs": [
      {
       "output_type": "stream",
       "stream": "stdout",
       "text": [
        "Avg Accuracy: %78.40\n"
       ]
      }
     ],
     "prompt_number": 153
    },
    {
     "cell_type": "code",
     "collapsed": false,
     "input": [
      "run_tests(entity_features)"
     ],
     "language": "python",
     "metadata": {},
     "outputs": [
      {
       "output_type": "stream",
       "stream": "stdout",
       "text": [
        "Avg Accuracy: %71.73\n"
       ]
      }
     ],
     "prompt_number": 155
    },
    {
     "cell_type": "code",
     "collapsed": false,
     "input": [],
     "language": "python",
     "metadata": {},
     "outputs": []
    }
   ],
   "metadata": {}
  }
 ]
}