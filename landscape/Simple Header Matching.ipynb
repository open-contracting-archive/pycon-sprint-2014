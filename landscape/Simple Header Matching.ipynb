{
 "metadata": {
  "name": ""
 },
 "nbformat": 3,
 "nbformat_minor": 0,
 "worksheets": [
  {
   "cells": [
    {
     "cell_type": "code",
     "collapsed": false,
     "input": [
      "from words import split_words"
     ],
     "language": "python",
     "metadata": {},
     "outputs": [],
     "prompt_number": 133
    },
    {
     "cell_type": "code",
     "collapsed": false,
     "input": [
      "import samples\n",
      "reload(samples)\n",
      "data = samples.load_samples([\"Keywords\", \"UK\", \"Georgia\", \"Canada\", \"Mexico\", \"EU\"], cache=True)\n",
      "entities = data.keys()"
     ],
     "language": "python",
     "metadata": {},
     "outputs": [],
     "prompt_number": 134
    },
    {
     "cell_type": "code",
     "collapsed": false,
     "input": [
      "def analyzer(list_of_words):\n",
      "    \"\"\"\n",
      "    Takes a list of words and returns a set of synonym names in those words.\n",
      "    \"\"\"\n",
      "    result = set()\n",
      "    for word in list_of_words:\n",
      "        for part in split_words(word):\n",
      "            if isinstance(part, basestring):\n",
      "                result.add( part )\n",
      "            else:\n",
      "                result.update( tuple(part) )\n",
      "    return set(result)\n",
      "\n",
      "def likeness(a, b):\n",
      "    \"\"\"\n",
      "    Returns how alike words found in the list a and words found in the list b are.\n",
      "    \"\"\"\n",
      "    a_set = analyzer(a)\n",
      "    b_set = analyzer(b)\n",
      "    union = a_set.union(b_set)\n",
      "    intersection = a_set.intersection(b_set)\n",
      "    return float(len(intersection)) / len(union)\n",
      "\n",
      "def subsetness(a, b):\n",
      "    \"\"\"\n",
      "    Returns how much a is in b as a coefficient, 0 - 1.\n",
      "    \n",
      "    0: a is not in b at all.\n",
      "    1: all of the items in a are in b as well.\n",
      "    \"\"\"\n",
      "    a_set = analyzer(a)\n",
      "    b_set = analyzer(b)\n",
      "    sz = len(a_set)\n",
      "    hits = 0\n",
      "    for obj in a_set:\n",
      "        if obj in b_set:\n",
      "            hits += 1\n",
      "    return float(hits) / float(sz)\n"
     ],
     "language": "python",
     "metadata": {},
     "outputs": [],
     "prompt_number": 135
    },
    {
     "cell_type": "code",
     "collapsed": false,
     "input": [
      "import pandas as pd"
     ],
     "language": "python",
     "metadata": {},
     "outputs": [],
     "prompt_number": 136
    },
    {
     "cell_type": "code",
     "collapsed": false,
     "input": [
      "#[\n",
      "# {'entity': 'notice', 'header': 'NOTICEID', 'top5rows': '', 'filename': }\n",
      "#]"
     ],
     "language": "python",
     "metadata": {},
     "outputs": [],
     "prompt_number": 137
    },
    {
     "cell_type": "heading",
     "level": 2,
     "metadata": {},
     "source": [
      "I. Define Raw Data"
     ]
    },
    {
     "cell_type": "code",
     "collapsed": false,
     "input": [
      "df = pd.DataFrame([[k,each] for k,v in data.items() for each in v], columns=['entity', 'header'])"
     ],
     "language": "python",
     "metadata": {},
     "outputs": [],
     "prompt_number": 138
    },
    {
     "cell_type": "heading",
     "level": 2,
     "metadata": {},
     "source": [
      "II. Define Features"
     ]
    },
    {
     "cell_type": "code",
     "collapsed": false,
     "input": [
      "df['length'] = df['header'].apply(len)\n",
      "df['word_count'] = df['header'].apply(lambda x: len(list(split_words(x))))\n",
      "df['header_in_entity'] = df['header'].str.lower().isin(df['entity'].str.lower())\n",
      "df['entity_in_header'] = df['entity'].str.lower().isin(df['header'].str.lower())\n",
      "\n",
      "# df['is_date'] = df['header'] \n",
      "# df['is_int'] = 1,0\n",
      "\n",
      "def set_affinity_fn(entity):\n",
      "    entity_set = data[entity]\n",
      "    print len(entity_set), entity\n",
      "    def fn(x):\n",
      "        print x, subsetness(x, entity_set)\n",
      "        return subsetness(x, entity_set)\n",
      "    return fn\n",
      "\n",
      "entity_features = []\n",
      "for entity in entities:\n",
      "    df['entity_%s' % entity] = df['header'].apply( set_affinity_fn(entity) )\n",
      "    entity_features.append( 'entity_%s' % entity )\n"
     ],
     "language": "python",
     "metadata": {},
     "outputs": [
      {
       "output_type": "stream",
       "stream": "stdout",
       "text": [
        "38 notice\n",
        "award 0.0\n",
        "contract 0.0\n",
        "tender 0.0\n",
        "NOTICEID 0.0\n",
        "URL 0.0\n",
        "NOTICETYPE 0.0\n",
        "NOTICE_STATE 0.0\n",
        "NOTICE_STATE_CHANGE_DATE"
       ]
      },
      {
       "output_type": "stream",
       "stream": "stdout",
       "text": [
        " 0.0\n",
        "NUM_DOCS 0.0\n",
        "created_at 0.0\n",
        "updated_at 0.0\n",
        "url_id 0.0\n",
        "num_bids 0.0\n",
        "num_bidders 0.0\n",
        "contract_value 0.0\n",
        "winning_org_id"
       ]
      },
      {
       "output_type": "stream",
       "stream": "stdout",
       "text": [
        " 0.0\n",
        "updated 0.0\n",
        "is_new 0.0\n",
        "reference_number 0.0\n",
        "solicitation_number 0.0\n",
        "publication_date 0.0\n",
        "amendment_date 0.0\n",
        "currency 0.0\n",
        "contract_value 0.0\n",
        "archive status"
       ]
      },
      {
       "output_type": "stream",
       "stream": "stdout",
       "text": [
        " 0.0\n",
        "Federal contribution 0.0\n",
        "announcement URL 0.0\n",
        "awards_notice_date 0.0\n",
        "awards_num_offers 0.0\n",
        "awards_previous_notices 0.0\n",
        "awards_total_value_highest 0.0\n",
        "awards_total_value_lowest 0.0\n",
        "awards_total_value_text "
       ]
      },
      {
       "output_type": "stream",
       "stream": "stdout",
       "text": [
        "0.0\n",
        "awards_total_value_vat 0.0\n",
        "awards_type 0.0\n",
        "awards_uri 0.0\n",
        "document_award_criteria_id 0.0\n",
        "document_award_criteria_name 0.0\n",
        "good 0.0\n",
        "service 0.0\n",
        "description 0.0\n",
        "item"
       ]
      },
      {
       "output_type": "stream",
       "stream": "stdout",
       "text": [
        " 0.0\n",
        "CPV 0.0\n",
        "GSIN 0.0\n",
        "type 0.0\n",
        "category 0.0\n",
        "TITLE 0.0\n",
        "DESCRIPTION 0.0\n",
        "CLASSIFICATION 0.0\n",
        "cpv_code 0.0\n",
        "sub_codes 0.0\n",
        "title"
       ]
      },
      {
       "output_type": "stream",
       "stream": "stdout",
       "text": [
        " 0.0\n",
        "gsin 0.0\n",
        "description 0.0\n",
        "Record Title  0.0\n",
        "Contract Type 0.0\n",
        "Contract Title 0.0\n",
        "awards_cpv 0.0\n",
        "awards_dac_code 0.0\n",
        "awards_description 0.0\n",
        "awards_title "
       ]
      },
      {
       "output_type": "stream",
       "stream": "stdout",
       "text": [
        "0.0\n",
        "document_cpvs 0.0\n",
        "document_document_name 0.0\n",
        "document_document_number 0.0\n",
        "document_heading 0.0\n",
        "document_oj 0.0\n",
        "document_oj_uc 0.0\n",
        "document_title 0.0\n",
        "document_title_uc 0.0\n",
        "tender"
       ]
      },
      {
       "output_type": "stream",
       "stream": "stdout",
       "text": [
        " 0.0\n",
        "request 0.0\n",
        "proposal 0.0\n",
        "qualifications 0.0\n",
        "notice 0.0\n",
        "intent 0.0\n",
        "date 0.0\n",
        "DATEPUBLISHED 0.0\n",
        "VALUEMIN 0.0\n",
        "VALUEMAX"
       ]
      },
      {
       "output_type": "stream",
       "stream": "stdout",
       "text": [
        " 0.0\n",
        "STATUS 0.0\n",
        "tender_type 0.0\n",
        "tender_registration_number 0.0\n",
        "tender_status 0.0\n",
        "tender_announcement_date 0.0\n",
        "bid_start_date 0.0\n",
        "bid_end_date 0.0\n",
        "estimated_value "
       ]
      },
      {
       "output_type": "stream",
       "stream": "stdout",
       "text": [
        "0.0\n",
        "include_vat 0.0\n",
        "guarantee_amount 0.0\n",
        "guarantee_period 0.0\n",
        "contract_value 0.0\n",
        "inProgress 0.0\n",
        "publishing_status 0.0\n",
        "contract_award_procedure 0.0\n",
        "tendering_procedure"
       ]
      },
      {
       "output_type": "stream",
       "stream": "stdout",
       "text": [
        " 0.0\n",
        "currency 0.0\n",
        "contract_value 0.0\n",
        "Record template 0.0\n",
        "Procedure Number 0.0\n",
        "Decision Date 0.0\n",
        "RFP Date Type 0.0\n",
        "Proposal Opening Date 0.0\n",
        "Procedure scope "
       ]
      },
      {
       "output_type": "stream",
       "stream": "stdout",
       "text": [
        "0.0\n",
        "Procedure type 0.0\n",
        "Submission form type 0.0\n",
        "announcement URL 0.0\n",
        "awards_award_criteria 0.0\n",
        "awards_award_date 0.0\n",
        "awards_procedure_type 0.0\n",
        "awards_publication_date "
       ]
      },
      {
       "output_type": "stream",
       "stream": "stdout",
       "text": [
        "0.0\n",
        "awards_reference 0.0\n",
        "document_bid_type_id 0.0\n",
        "document_bid_type_name 0.0\n",
        "document_comment_deadline 0.0\n",
        "binding 0.0\n",
        "agreement 0.0\n",
        "value 0.0\n",
        "date"
       ]
      },
      {
       "output_type": "stream",
       "stream": "stdout",
       "text": [
        " 0.0\n",
        "contract_value 0.0\n",
        "winning_org_id 0.0\n",
        "contract_sequence_number 0.0\n",
        "contract_number 0.0\n",
        "award_date 0.0\n",
        "currency 0.0\n",
        "contract_value 0.0\n",
        "CompraNet Record ID "
       ]
      },
      {
       "output_type": "stream",
       "stream": "stdout",
       "text": [
        "0.0\n",
        "Contract ID 0.0\n",
        "Contract start date 0.0\n",
        "contract end date 0.0\n",
        "contract value 0.0\n",
        "Currency type 0.0\n",
        "contract status 0.0\n",
        "Signature date 0.0\n",
        "announcement URL "
       ]
      },
      {
       "output_type": "stream",
       "stream": "stdout",
       "text": [
        "0.0\n",
        "awards_behalf_of 0.0\n",
        "awards_contract_id 0.0\n",
        "awards_contract_nr 0.0\n",
        "awards_contract_value 0.0\n",
        "awards_contract_value_currency 0.0\n",
        "awards_contract_value_highest 0.0\n",
        "awards_contract_value_initial "
       ]
      },
      {
       "output_type": "stream",
       "stream": "stdout",
       "text": [
        "0.0\n",
        "awards_contract_value_initial_currency 0.0\n",
        "awards_contract_value_initial_terms 0.0\n",
        "awards_contract_value_initial_vat 0.0\n",
        "awards_contract_value_lowest 0.0\n",
        "awards_contract_value_terms 0.0\n",
        "awards_contract_value_text 0.0\n",
        "awards_contract_value_vat 0.0\n",
        "awards_score_chosen_tender"
       ]
      },
      {
       "output_type": "stream",
       "stream": "stdout",
       "text": [
        " 0.0\n",
        "awards_services_covered 0.0\n",
        "awards_total_value 0.0\n",
        "awards_total_value_currency 0.0\n",
        "document_contract_id 0.0\n",
        "document_contract_name 0.0\n",
        "document_date 0.0\n",
        "document_deadline 0.0\n",
        "document_document_id "
       ]
      },
      {
       "output_type": "stream",
       "stream": "stdout",
       "text": [
        "0.0\n",
        "document_document_sent 0.0\n",
        "document_id_1 0.0\n",
        "document_identifier 0.0\n",
        "document_nuts_code 0.0\n",
        "document_publication_date 0.0\n",
        "document_signature 0.0\n",
        "document_source_tender 0.0\n",
        "document_uri "
       ]
      },
      {
       "output_type": "stream",
       "stream": "stdout",
       "text": [
        "0.0\n",
        "document_url 0.0\n",
        "document_year 0.0\n",
        "producer 0.0\n",
        "contractor 0.0\n",
        "proponent 0.0\n",
        "supplier_name 0.0\n",
        "winner_code 0.0\n",
        "bidder_0_name 0.0\n",
        "bidder_0_id"
       ]
      },
      {
       "output_type": "stream",
       "stream": "stdout",
       "text": [
        " 0.0\n",
        "bidder_0_lowest_bid 0.0\n",
        "bidder_0_black_or_white 0.0\n",
        "supplier_info 0.0\n",
        "Contractor Legal Name 0.0\n",
        "Contractor stratification 0.0\n",
        "awards_tenderer_addr 0.0\n",
        "awards_tenderer_name 0.0\n",
        "process "
       ]
      },
      {
       "output_type": "stream",
       "stream": "stdout",
       "text": [
        "0.0\n",
        "framework 0.0\n",
        "facilitator 0.0\n",
        "procurement_entity_name 0.0\n",
        "procurement_entity 0.0\n",
        "awards_authority_addr 0.0\n",
        "awards_authority_name 0.0\n",
        "awards_authority_ref 0.0\n",
        "awards_authority_type "
       ]
      },
      {
       "output_type": "stream",
       "stream": "stdout",
       "text": [
        "0.0\n",
        "document_authority_name 0.0\n",
        "document_authority_type_id 0.0\n",
        "document_authority_type_name 0.0\n",
        "purchaser 0.0\n",
        "requirements 0.0\n",
        "ORG_NAME 0.0\n",
        "ORG_CONTACTEMAIL 0.0\n",
        "REGION "
       ]
      },
      {
       "output_type": "stream",
       "stream": "stdout",
       "text": [
        "0.0\n",
        "procurring_entity_id 0.0\n",
        "procurer_name 0.0\n",
        "procurer_code 0.0\n",
        "end_user_entity 0.0\n",
        "customer_info 0.0\n",
        "GOVERNMENT 0.0\n",
        "ACRONYMS 0.0\n",
        "UNIT 0.0\n",
        "CompraNet Unit Identifier"
       ]
      },
      {
       "output_type": "stream",
       "stream": "stdout",
       "text": [
        " 0.0\n",
        "CompraNet Unit name 0.0\n",
        "Responsibility 0.0\n",
        "Unit Branch 0.0\n",
        "document_country 0.0\n",
        "REFERENCENUMBER 0.0\n",
        "id 0.0\n",
        "offer_step 0.0\n",
        "dataset_id 0.0\n",
        "risk_indicators"
       ]
      },
      {
       "output_type": "stream",
       "stream": "stdout",
       "text": [
        " 0.0\n",
        "bidder_0_black_or_white 0.0\n",
        "bidder_0_black_or_white 0.0\n",
        "bidder_0_black_or_white 0.0\n",
        "bidder_0_black_or_white 0.0\n",
        "bidder_0_black_or_white 0.0\n",
        "bidder_0_black_or_white 0.0\n",
        "bidder_0_black_or_white 0.0\n",
        "bidder_0_black_or_white"
       ]
      },
      {
       "output_type": "stream",
       "stream": "stdout",
       "text": [
        " 0.0\n",
        "bidder_0_black_or_white 0.0\n",
        "bidder_0_black_or_white 0.0\n",
        "bidder_0_black_or_white 0.0\n",
        "bidder_0_black_or_white 0.0\n",
        "bidder_0_black_or_white 0.0\n",
        "bidder_0_black_or_white "
       ]
      },
      {
       "output_type": "stream",
       "stream": "stdout",
       "text": [
        "0.0\n",
        "bidder_0_black_or_white 0.0\n",
        "bidder_0_black_or_white 0.0\n",
        "bidder_0_black_or_white 0.0\n",
        "bidder_0_black_or_white 0.0\n",
        "bidder_0_black_or_white 0.0\n",
        "bidder_0_black_or_white 0.0\n",
        "bidder_0_black_or_white "
       ]
      },
      {
       "output_type": "stream",
       "stream": "stdout",
       "text": [
        "0.0\n",
        "bidder_0_black_or_white 0.0\n",
        "bidder_0_black_or_white 0.0\n",
        "bidder_0_black_or_white 0.0\n",
        "bidder_0_black_or_white 0.0\n",
        "bidder_0_black_or_white 0.0\n",
        "bidder_0_black_or_white 0.0\n",
        "bidder_0_black_or_white "
       ]
      },
      {
       "output_type": "stream",
       "stream": "stdout",
       "text": [
        "0.0\n",
        "bidder_0_black_or_white 0.0\n",
        "bidder_0_black_or_white 0.0\n",
        "bidder_0_black_or_white 0.0\n",
        "bidder_0_black_or_white 0.0\n",
        "bidder_0_black_or_white 0.0\n",
        "bidder_0_black_or_white 0.0\n",
        "bidder_0_black_or_white 0.0\n",
        "bidder_0_black_or_white"
       ]
      },
      {
       "output_type": "stream",
       "stream": "stdout",
       "text": [
        " 0.0\n",
        "bidder_0_black_or_white 0.0\n",
        "bidder_0_black_or_white 0.0\n",
        "bidder_0_black_or_white 0.0\n",
        "bidder_0_black_or_white 0.0\n",
        "bidder_0_black_or_white 0.0\n",
        "bidder_0_black_or_white 0.0\n",
        "bidder_0_black_or_white 0.0\n",
        "bidder_0_black_or_white "
       ]
      },
      {
       "output_type": "stream",
       "stream": "stdout",
       "text": [
        "0.0\n",
        "bidder_0_black_or_white 0.0\n",
        "bidder_0_black_or_white 0.0\n",
        "bidder_0_black_or_white 0.0\n",
        "bidder_0_black_or_white 0.0\n",
        "bidder_0_black_or_white 0.0\n",
        "bidder_0_black_or_white 0.0\n",
        "language 0.0\n",
        "Program Key "
       ]
      },
      {
       "output_type": "stream",
       "stream": "stdout",
       "text": [
        "0.0\n",
        "Contract Framework 0.0\n",
        "Consolidated purchase 0.0\n",
        "Multi-year 0.0\n",
        "Unit stratification 0.0\n",
        "Company state 0.0\n",
        "Account manager type 0.0\n",
        "awards_additional_info 0.0\n",
        "awards_appeals_body "
       ]
      },
      {
       "output_type": "stream",
       "stream": "stdout",
       "text": [
        "0.0\n",
        "awards_appeals_info 0.0\n",
        "awards_award_type 0.0\n",
        "awards_duration 0.0\n",
        "awards_electronic 0.0\n",
        "awards_eu_funds 0.0\n",
        "awards_framework_dps 0.0\n",
        "awards_gpa_covered 0.0\n",
        "awards_id"
       ]
      },
      {
       "output_type": "stream",
       "stream": "stdout",
       "text": [
        " 0.0\n",
        "awards_involves 0.0\n",
        "awards_language 0.0\n",
        "awards_legal_basis 0.0\n",
        "awards_likely_subcontracted 0.0\n",
        "awards_lot_nr_title 0.0\n",
        "awards_object 0.0\n",
        "awards_scope 0.0\n",
        "document_directive"
       ]
      },
      {
       "output_type": "stream",
       "stream": "stdout",
       "text": [
        " 0.0\n",
        "document_original_language 0.0\n",
        "document_place 0.0\n",
        "document_procedure_id 0.0\n",
        "document_procedure_name 0.0\n",
        "document_regulation_id 0.0\n",
        "document_regulation_name 0.0\n",
        "year 0.0\n",
        "31 good\n",
        "award "
       ]
      },
      {
       "output_type": "stream",
       "stream": "stdout",
       "text": [
        "0.0\n",
        "contract 0.0\n",
        "tender 0.0\n",
        "NOTICEID 0.0\n",
        "URL 0.0\n",
        "NOTICETYPE 0.0\n",
        "NOTICE_STATE 0.0\n",
        "NOTICE_STATE_CHANGE_DATE 0.134328358209\n",
        "NUM_DOCS 0.0238095238095\n",
        "created_at 0.0\n",
        "updated_at 0.0\n",
        "url_id 0.0\n",
        "num_bids 0.027027027027\n",
        "num_bidders "
       ]
      },
      {
       "output_type": "stream",
       "stream": "stdout",
       "text": [
        "0.0217391304348\n",
        "contract_value 0.0701754385965\n",
        "winning_org_id 0.272727272727\n",
        "updated 0.0\n",
        "is_new 0.0\n",
        "reference_number 0.0204081632653\n",
        "solicitation_number 0.0131578947368\n",
        "publication_date 0.0\n",
        "amendment_date 0.0294117647059\n",
        "currency 0.0\n",
        "contract_value 0.0701754385965\n",
        "archive status 0.0677966101695\n",
        "Federal contribution 0.0\n",
        "announcement URL "
       ]
      },
      {
       "output_type": "stream",
       "stream": "stdout",
       "text": [
        "0.0169491525424\n",
        "awards_notice_date 0.0\n",
        "awards_num_offers 0.0188679245283\n",
        "awards_previous_notices 0.0555555555556\n",
        "awards_total_value_highest 0.183098591549\n",
        "awards_total_value_lowest 0.0754716981132\n",
        "awards_total_value_text 0.0701754385965\n",
        "awards_total_value_vat 0.0754716981132\n",
        "awards_type 0.0\n",
        "awards_uri 0.0\n",
        "document_award_criteria_id 0.0151515151515\n",
        "document_award_criteria_name 0.0151515151515\n",
        "good "
       ]
      },
      {
       "output_type": "stream",
       "stream": "stdout",
       "text": [
        "0.5625\n",
        "service 0.108108108108\n",
        "description 0.0\n",
        "item 0.0454545454545\n",
        "CPV 0.2\n",
        "GSIN 0.375\n",
        "type 0.0\n",
        "category 0.183673469388\n",
        "TITLE 0.0\n",
        "DESCRIPTION 0.0\n",
        "CLASSIFICATION 0.0\n",
        "cpv_code 0.125\n",
        "sub_codes 0.0\n",
        "title 0.0\n",
        "gsin"
       ]
      },
      {
       "output_type": "stream",
       "stream": "stdout",
       "text": [
        " 0.375\n",
        "description 0.0\n",
        "Record Title  0.0\n",
        "Contract Type 0.0\n",
        "Contract Title 0.0\n",
        "awards_cpv 0.0888888888889\n",
        "awards_dac_code 0.0\n",
        "awards_description 0.0\n",
        "awards_title 0.0\n",
        "document_cpvs 0.0833333333333\n",
        "document_document_name 0.0185185185185\n",
        "document_document_number 0.0172413793103\n",
        "document_heading 0.12676056338\n",
        "document_oj"
       ]
      },
      {
       "output_type": "stream",
       "stream": "stdout",
       "text": [
        " 0.0204081632653\n",
        "document_oj_uc 0.0204081632653\n",
        "document_title 0.0178571428571\n",
        "document_title_uc 0.0178571428571\n",
        "tender 0.0\n",
        "request 0.0\n",
        "proposal 0.0\n",
        "qualifications 0.0\n",
        "notice 0.0\n",
        "intent 0.0\n",
        "date 0.0\n",
        "DATEPUBLISHED 0.0\n",
        "VALUEMIN 0.119047619048\n",
        "VALUEMAX 0.135135135135\n",
        "STATUS"
       ]
      },
      {
       "output_type": "stream",
       "stream": "stdout",
       "text": [
        " 0.0\n",
        "tender_type 0.0\n",
        "tender_registration_number 0.128571428571\n",
        "tender_status 0.0\n",
        "tender_announcement_date 0.0172413793103\n",
        "bid_start_date 0.0\n",
        "bid_end_date 0.0\n",
        "estimated_value 0.0943396226415\n",
        "include_vat 0.0689655172414\n",
        "guarantee_amount 0.183673469388\n",
        "guarantee_period 0.169811320755\n",
        "contract_value 0.0701754385965\n",
        "inProgress 0.236842105263\n",
        "publishing_status"
       ]
      },
      {
       "output_type": "stream",
       "stream": "stdout",
       "text": [
        " 0.15\n",
        "contract_award_procedure 0.0\n",
        "tendering_procedure 0.152542372881\n",
        "currency 0.0\n",
        "contract_value 0.0701754385965\n",
        "Record template 0.0178571428571\n",
        "Procedure Number 0.0185185185185\n",
        "Decision Date 0.0\n",
        "RFP Date Type 0.0\n",
        "Proposal Opening Date 0.15\n",
        "Procedure scope 0.0\n",
        "Procedure type 0.0\n",
        "Submission form type 0.0169491525424\n",
        "announcement URL"
       ]
      },
      {
       "output_type": "stream",
       "stream": "stdout",
       "text": [
        " 0.0169491525424\n",
        "awards_award_criteria 0.0\n",
        "awards_award_date 0.0\n",
        "awards_procedure_type 0.0\n",
        "awards_publication_date 0.0\n",
        "awards_reference 0.0\n",
        "document_bid_type_id 0.0161290322581\n",
        "document_bid_type_name 0.0144927536232\n",
        "document_comment_deadline 0.015873015873\n",
        "binding 0.310344827586\n",
        "agreement 0.214285714286\n",
        "value 0.153846153846\n",
        "date 0.0\n",
        "contract_value"
       ]
      },
      {
       "output_type": "stream",
       "stream": "stdout",
       "text": [
        " 0.0701754385965\n",
        "winning_org_id 0.272727272727\n",
        "contract_sequence_number 0.0147058823529\n",
        "contract_number 0.016393442623\n",
        "award_date 0.0\n",
        "currency 0.0\n",
        "contract_value 0.0701754385965\n",
        "CompraNet Record ID 0.0166666666667\n",
        "Contract ID 0.0\n",
        "Contract start date 0.0\n",
        "contract end date 0.0\n",
        "contract value 0.0701754385965\n",
        "Currency type"
       ]
      },
      {
       "output_type": "stream",
       "stream": "stdout",
       "text": [
        " 0.0\n",
        "contract status 0.0\n",
        "Signature date 0.166666666667\n",
        "announcement URL 0.0169491525424\n",
        "awards_behalf_of 0.0\n",
        "awards_contract_id 0.0\n",
        "awards_contract_nr 0.0\n",
        "awards_contract_value 0.056338028169\n",
        "awards_contract_value_currency 0.0547945205479\n",
        "awards_contract_value_highest 0.14606741573\n",
        "awards_contract_value_initial 0.0533333333333\n",
        "awards_contract_value_initial_currency 0.0519480519481\n",
        "awards_contract_value_initial_terms "
       ]
      },
      {
       "output_type": "stream",
       "stream": "stdout",
       "text": [
        "0.0609756097561\n",
        "awards_contract_value_initial_vat 0.0533333333333\n",
        "awards_contract_value_lowest 0.056338028169\n",
        "awards_contract_value_terms 0.0641025641026\n",
        "awards_contract_value_text 0.0533333333333\n",
        "awards_contract_value_vat 0.056338028169\n",
        "awards_score_chosen_tender 0.0\n",
        "awards_services_covered 0.0727272727273\n",
        "awards_total_value 0.0754716981132\n",
        "awards_total_value_currency 0.0547945205479\n",
        "document_contract_id 0.0161290322581\n",
        "document_contract_name"
       ]
      },
      {
       "output_type": "stream",
       "stream": "stdout",
       "text": [
        " 0.0172413793103\n",
        "document_date 0.0185185185185\n",
        "document_deadline 0.015873015873\n",
        "document_document_id 0.0196078431373\n",
        "document_document_sent 0.0188679245283\n",
        "document_id_1 0.0196078431373\n",
        "document_identifier 0.0169491525424\n",
        "document_nuts_code 0.0188679245283\n",
        "document_publication_date 0.0138888888889\n",
        "document_signature 0.118421052632\n",
        "document_source_tender 0.0175438596491\n",
        "document_uri 0.0181818181818\n",
        "document_url 0.0178571428571\n",
        "document_year"
       ]
      },
      {
       "output_type": "stream",
       "stream": "stdout",
       "text": [
        " 0.0166666666667\n",
        "producer 0.0\n",
        "contractor 0.0\n",
        "proponent 0.0\n",
        "supplier_name 0.0204081632653\n",
        "winner_code 0.0\n",
        "bidder_0_name 0.0232558139535\n",
        "bidder_0_id 0.0\n",
        "bidder_0_lowest_bid 0.0\n",
        "bidder_0_black_or_white 0.0133333333333\n",
        "supplier_info 0.0\n",
        "Contractor Legal Name 0.142857142857\n",
        "Contractor stratification"
       ]
      },
      {
       "output_type": "stream",
       "stream": "stdout",
       "text": [
        " 0.0\n",
        "awards_tenderer_addr 0.0\n",
        "awards_tenderer_name 0.0208333333333\n",
        "process 0.0\n",
        "framework 0.025\n",
        "facilitator 0.0\n",
        "procurement_entity_name 0.0161290322581\n",
        "procurement_entity 0.0181818181818\n",
        "awards_authority_addr 0.0\n",
        "awards_authority_name 0.0151515151515\n",
        "awards_authority_ref 0.0\n",
        "awards_authority_type 0.0\n",
        "document_authority_name 0.0144927536232\n",
        "document_authority_type_id"
       ]
      },
      {
       "output_type": "stream",
       "stream": "stdout",
       "text": [
        " 0.0140845070423\n",
        "document_authority_type_name 0.0140845070423\n",
        "purchaser 0.0\n",
        "requirements 0.0238095238095\n",
        "ORG_NAME 0.230769230769\n",
        "ORG_CONTACTEMAIL 0.134328358209\n",
        "REGION 0.3\n",
        "procurring_entity_id 0.147540983607\n",
        "procurer_name 0.02\n",
        "procurer_code 0.0\n",
        "end_user_entity 0.0\n",
        "customer_info 0.016393442623\n",
        "GOVERNMENT 0.302325581395\n",
        "ACRONYMS "
       ]
      },
      {
       "output_type": "stream",
       "stream": "stdout",
       "text": [
        "0.0212765957447\n",
        "UNIT 0.0\n",
        "CompraNet Unit Identifier 0.0147058823529\n",
        "CompraNet Unit name 0.0166666666667\n",
        "Responsibility 0.0\n",
        "Unit Branch 0.0\n",
        "document_country 0.0188679245283\n",
        "REFERENCENUMBER 0.0204081632653\n",
        "id 0.0\n",
        "offer_step 0.0\n",
        "dataset_id 0.0\n",
        "risk_indicators 0.0166666666667\n",
        "bidder_0_black_or_white 0.0133333333333\n",
        "bidder_0_black_or_white"
       ]
      },
      {
       "output_type": "stream",
       "stream": "stdout",
       "text": [
        " 0.0133333333333\n",
        "bidder_0_black_or_white 0.0133333333333\n",
        "bidder_0_black_or_white 0.0133333333333\n",
        "bidder_0_black_or_white 0.0133333333333\n",
        "bidder_0_black_or_white 0.0133333333333\n",
        "bidder_0_black_or_white 0.0133333333333\n",
        "bidder_0_black_or_white 0.0133333333333\n",
        "bidder_0_black_or_white 0.0133333333333\n",
        "bidder_0_black_or_white 0.0133333333333\n",
        "bidder_0_black_or_white 0.0133333333333\n",
        "bidder_0_black_or_white "
       ]
      },
      {
       "output_type": "stream",
       "stream": "stdout",
       "text": [
        "0.0133333333333\n",
        "bidder_0_black_or_white 0.0133333333333\n",
        "bidder_0_black_or_white 0.0133333333333\n",
        "bidder_0_black_or_white 0.0133333333333\n",
        "bidder_0_black_or_white 0.0133333333333\n",
        "bidder_0_black_or_white 0.0133333333333\n",
        "bidder_0_black_or_white 0.0133333333333\n",
        "bidder_0_black_or_white 0.0133333333333\n",
        "bidder_0_black_or_white 0.0133333333333\n",
        "bidder_0_black_or_white 0.0133333333333\n",
        "bidder_0_black_or_white 0.0133333333333\n",
        "bidder_0_black_or_white 0.0133333333333\n",
        "bidder_0_black_or_white"
       ]
      },
      {
       "output_type": "stream",
       "stream": "stdout",
       "text": [
        " 0.0133333333333\n",
        "bidder_0_black_or_white 0.0133333333333\n",
        "bidder_0_black_or_white 0.0133333333333\n",
        "bidder_0_black_or_white 0.0133333333333\n",
        "bidder_0_black_or_white 0.0133333333333\n",
        "bidder_0_black_or_white 0.0133333333333\n",
        "bidder_0_black_or_white 0.0133333333333\n",
        "bidder_0_black_or_white 0.0133333333333\n",
        "bidder_0_black_or_white 0.0133333333333\n",
        "bidder_0_black_or_white 0.0133333333333\n",
        "bidder_0_black_or_white 0.0133333333333\n",
        "bidder_0_black_or_white 0.0133333333333\n",
        "bidder_0_black_or_white"
       ]
      },
      {
       "output_type": "stream",
       "stream": "stdout",
       "text": [
        " 0.0133333333333\n",
        "bidder_0_black_or_white 0.0133333333333\n",
        "bidder_0_black_or_white 0.0133333333333\n",
        "bidder_0_black_or_white 0.0133333333333\n",
        "bidder_0_black_or_white 0.0133333333333\n",
        "bidder_0_black_or_white 0.0133333333333\n",
        "bidder_0_black_or_white 0.0133333333333\n",
        "bidder_0_black_or_white 0.0133333333333\n",
        "bidder_0_black_or_white 0.0133333333333\n",
        "bidder_0_black_or_white 0.0133333333333\n",
        "bidder_0_black_or_white 0.0133333333333\n",
        "bidder_0_black_or_white 0.0133333333333\n",
        "bidder_0_black_or_white "
       ]
      },
      {
       "output_type": "stream",
       "stream": "stdout",
       "text": [
        "0.0133333333333\n",
        "bidder_0_black_or_white 0.0133333333333\n",
        "bidder_0_black_or_white 0.0133333333333\n",
        "language 0.257142857143\n",
        "Program Key 0.204545454545\n",
        "Contract Framework 0.015625\n",
        "Consolidated purchase 0.0\n",
        "Multi-year 0.0227272727273\n",
        "Unit stratification 0.0\n",
        "Company state 0.0178571428571\n",
        "Account manager type 0.136363636364\n",
        "awards_additional_info 0.0\n",
        "awards_appeals_body 0.0\n",
        "awards_appeals_info"
       ]
      },
      {
       "output_type": "stream",
       "stream": "stdout",
       "text": [
        " 0.0\n",
        "awards_award_type 0.0\n",
        "awards_duration 0.0\n",
        "awards_electronic 0.0\n",
        "awards_eu_funds 0.0\n",
        "awards_framework_dps 0.0192307692308\n",
        "awards_gpa_covered 0.209677419355\n",
        "awards_id 0.0\n",
        "awards_involves 0.0769230769231\n",
        "awards_language 0.169811320755\n",
        "awards_legal_basis 0.163636363636\n",
        "awards_likely_subcontracted 0.0114942528736\n",
        "awards_lot_nr_title "
       ]
      },
      {
       "output_type": "stream",
       "stream": "stdout",
       "text": [
        "0.0\n",
        "awards_object 0.0\n",
        "awards_scope 0.0\n",
        "document_directive 0.0833333333333\n",
        "document_original_language 0.12\n",
        "document_place 0.016393442623\n",
        "document_procedure_id 0.0175438596491\n",
        "document_procedure_name 0.0166666666667\n",
        "document_regulation_id 0.12\n",
        "document_regulation_name 0.12\n",
        "year 0.0\n",
        "45 solicitation\n",
        "award "
       ]
      },
      {
       "output_type": "stream",
       "stream": "stdout",
       "text": [
        "0.0\n",
        "contract 0.0\n",
        "tender 0.0\n",
        "NOTICEID 0.0\n",
        "URL 0.0\n",
        "NOTICETYPE 0.0\n",
        "NOTICE_STATE "
       ]
      },
      {
       "output_type": "stream",
       "stream": "stdout",
       "text": [
        "0.0\n",
        "NOTICE_STATE_CHANGE_DATE 0.0\n",
        "NUM_DOCS 0.0\n",
        "created_at 0.0\n",
        "updated_at 0.0\n",
        "url_id 0.0\n",
        "num_bids 0.0\n",
        "num_bidders"
       ]
      },
      {
       "output_type": "stream",
       "stream": "stdout",
       "text": [
        " 0.0\n",
        "contract_value 0.0\n",
        "winning_org_id 0.0\n",
        "updated 0.0\n",
        "is_new 0.0\n",
        "reference_number 0.0\n",
        "solicitation_number "
       ]
      },
      {
       "output_type": "stream",
       "stream": "stdout",
       "text": [
        "0.0\n",
        "publication_date 0.0\n",
        "amendment_date 0.0\n",
        "currency 0.0\n",
        "contract_value 0.0\n",
        "archive status 0.0\n",
        "Federal contribution "
       ]
      },
      {
       "output_type": "stream",
       "stream": "stdout",
       "text": [
        "0.0\n",
        "announcement URL 0.0\n",
        "awards_notice_date 0.0\n",
        "awards_num_offers 0.0\n",
        "awards_previous_notices 0.0\n",
        "awards_total_value_highest 0.0\n",
        "awards_total_value_lowest"
       ]
      },
      {
       "output_type": "stream",
       "stream": "stdout",
       "text": [
        " 0.0\n",
        "awards_total_value_text 0.0\n",
        "awards_total_value_vat 0.0\n",
        "awards_type 0.0\n",
        "awards_uri "
       ]
      },
      {
       "output_type": "stream",
       "stream": "stdout",
       "text": [
        "0.0\n",
        "document_award_criteria_id 0.0\n",
        "document_award_criteria_name 0.0\n",
        "good 0.0\n",
        "service 0.0\n",
        "description "
       ]
      },
      {
       "output_type": "stream",
       "stream": "stdout",
       "text": [
        "0.0\n",
        "item 0.0\n",
        "CPV 0.0\n",
        "GSIN 0.0\n",
        "type 0.0\n",
        "category 0.0\n",
        "TITLE"
       ]
      },
      {
       "output_type": "stream",
       "stream": "stdout",
       "text": [
        " 0.0\n",
        "DESCRIPTION 0.0\n",
        "CLASSIFICATION 0.0\n",
        "cpv_code 0.0\n",
        "sub_codes 0.0\n",
        "title "
       ]
      },
      {
       "output_type": "stream",
       "stream": "stdout",
       "text": [
        "0.0\n",
        "gsin 0.0\n",
        "description 0.0\n",
        "Record Title  0.0\n",
        "Contract Type 0.0\n",
        "Contract Title 0.0\n",
        "awards_cpv "
       ]
      },
      {
       "output_type": "stream",
       "stream": "stdout",
       "text": [
        "0.0\n",
        "awards_dac_code 0.0\n",
        "awards_description 0.0\n",
        "awards_title 0.0\n",
        "document_cpvs 0.0\n",
        "document_document_name 0.0\n",
        "document_document_number "
       ]
      },
      {
       "output_type": "stream",
       "stream": "stdout",
       "text": [
        "0.0\n",
        "document_heading 0.0\n",
        "document_oj 0.0\n",
        "document_oj_uc 0.0\n",
        "document_title 0.0\n",
        "document_title_uc 0.0\n",
        "tender"
       ]
      },
      {
       "output_type": "stream",
       "stream": "stdout",
       "text": [
        " 0.0\n",
        "request 0.0\n",
        "proposal 0.0\n",
        "qualifications 0.0\n",
        "notice 0.0\n",
        "intent "
       ]
      },
      {
       "output_type": "stream",
       "stream": "stdout",
       "text": [
        "0.0\n",
        "date 0.0\n",
        "DATEPUBLISHED 0.0\n",
        "VALUEMIN 0.0\n",
        "VALUEMAX 0.0\n",
        "STATUS 0.0\n",
        "tender_type"
       ]
      },
      {
       "output_type": "stream",
       "stream": "stdout",
       "text": [
        " 0.0\n",
        "tender_registration_number 0.0\n",
        "tender_status 0.0\n",
        "tender_announcement_date 0.0\n",
        "bid_start_date 0.0\n",
        "bid_end_date 0.0\n",
        "estimated_value "
       ]
      },
      {
       "output_type": "stream",
       "stream": "stdout",
       "text": [
        "0.0\n",
        "include_vat 0.0\n",
        "guarantee_amount 0.0\n",
        "guarantee_period 0.0\n",
        "contract_value 0.0\n",
        "inProgress 0.0\n",
        "publishing_status "
       ]
      },
      {
       "output_type": "stream",
       "stream": "stdout",
       "text": [
        "0.0\n",
        "contract_award_procedure 0.0\n",
        "tendering_procedure 0.0\n",
        "currency 0.0\n",
        "contract_value 0.0\n",
        "Record template 0.0\n",
        "Procedure Number "
       ]
      },
      {
       "output_type": "stream",
       "stream": "stdout",
       "text": [
        "0.0\n",
        "Decision Date 0.0\n",
        "RFP Date Type 0.0\n",
        "Proposal Opening Date 0.0\n",
        "Procedure scope 0.0\n",
        "Procedure type 0.0\n",
        "Submission form type "
       ]
      },
      {
       "output_type": "stream",
       "stream": "stdout",
       "text": [
        "0.0\n",
        "announcement URL 0.0\n",
        "awards_award_criteria 0.0\n",
        "awards_award_date 0.0\n",
        "awards_procedure_type 0.0\n",
        "awards_publication_date 0.0\n",
        "awards_reference "
       ]
      },
      {
       "output_type": "stream",
       "stream": "stdout",
       "text": [
        "0.0\n",
        "document_bid_type_id 0.0\n",
        "document_bid_type_name 0.0\n",
        "document_comment_deadline 0.0\n",
        "binding 0.0\n",
        "agreement 0.0\n",
        "value "
       ]
      },
      {
       "output_type": "stream",
       "stream": "stdout",
       "text": [
        "0.0\n",
        "date 0.0\n",
        "contract_value 0.0\n",
        "winning_org_id 0.0\n",
        "contract_sequence_number 0.0\n",
        "contract_number 0.0\n",
        "award_date "
       ]
      },
      {
       "output_type": "stream",
       "stream": "stdout",
       "text": [
        "0.0\n",
        "currency 0.0\n",
        "contract_value 0.0\n",
        "CompraNet Record ID 0.0\n",
        "Contract ID 0.0\n",
        "Contract start date 0.0\n",
        "contract end date"
       ]
      },
      {
       "output_type": "stream",
       "stream": "stdout",
       "text": [
        " 0.0\n",
        "contract value 0.0\n",
        "Currency type 0.0\n",
        "contract status 0.0\n",
        "Signature date 0.0\n",
        "announcement URL 0.0\n",
        "awards_behalf_of 0.0\n",
        "awards_contract_id"
       ]
      },
      {
       "output_type": "stream",
       "stream": "stdout",
       "text": [
        " 0.0\n",
        "awards_contract_nr 0.0\n",
        "awards_contract_value 0.0\n",
        "awards_contract_value_currency 0.0\n",
        "awards_contract_value_highest 0.0\n",
        "awards_contract_value_initial"
       ]
      },
      {
       "output_type": "stream",
       "stream": "stdout",
       "text": [
        " 0.0\n",
        "awards_contract_value_initial_currency 0.0\n",
        "awards_contract_value_initial_terms 0.0\n",
        "awards_contract_value_initial_vat 0.0\n",
        "awards_contract_value_lowest "
       ]
      },
      {
       "output_type": "stream",
       "stream": "stdout",
       "text": [
        "0.0\n",
        "awards_contract_value_terms 0.0\n",
        "awards_contract_value_text 0.0\n",
        "awards_contract_value_vat 0.0\n",
        "awards_score_chosen_tender "
       ]
      },
      {
       "output_type": "stream",
       "stream": "stdout",
       "text": [
        "0.0\n",
        "awards_services_covered 0.0\n",
        "awards_total_value 0.0\n",
        "awards_total_value_currency 0.0\n",
        "document_contract_id 0.0\n",
        "document_contract_name"
       ]
      },
      {
       "output_type": "stream",
       "stream": "stdout",
       "text": [
        " 0.0\n",
        "document_date 0.0\n",
        "document_deadline 0.0\n",
        "document_document_id 0.0\n",
        "document_document_sent 0.0\n",
        "document_id_1 "
       ]
      },
      {
       "output_type": "stream",
       "stream": "stdout",
       "text": [
        "0.0\n",
        "document_identifier 0.0\n",
        "document_nuts_code 0.0\n",
        "document_publication_date 0.0\n",
        "document_signature 0.0\n",
        "document_source_tender 0.0\n",
        "document_uri"
       ]
      },
      {
       "output_type": "stream",
       "stream": "stdout",
       "text": [
        " 0.0\n",
        "document_url 0.0\n",
        "document_year 0.0\n",
        "producer 0.0\n",
        "contractor 0.0\n",
        "proponent 0.0\n",
        "supplier_name "
       ]
      },
      {
       "output_type": "stream",
       "stream": "stdout",
       "text": [
        "0.0\n",
        "winner_code 0.0\n",
        "bidder_0_name 0.0\n",
        "bidder_0_id 0.0\n",
        "bidder_0_lowest_bid 0.0\n",
        "bidder_0_black_or_white 0.0\n",
        "supplier_info "
       ]
      },
      {
       "output_type": "stream",
       "stream": "stdout",
       "text": [
        "0.0\n",
        "Contractor Legal Name 0.0\n",
        "Contractor stratification 0.0\n",
        "awards_tenderer_addr 0.0\n",
        "awards_tenderer_name 0.0\n",
        "process 0.0\n",
        "framework"
       ]
      },
      {
       "output_type": "stream",
       "stream": "stdout",
       "text": [
        " 0.0\n",
        "facilitator 0.0\n",
        "procurement_entity_name 0.0\n",
        "procurement_entity 0.0\n",
        "awards_authority_addr 0.0\n",
        "awards_authority_name 0.0\n",
        "awards_authority_ref "
       ]
      },
      {
       "output_type": "stream",
       "stream": "stdout",
       "text": [
        "0.0\n",
        "awards_authority_type 0.0\n",
        "document_authority_name 0.0\n",
        "document_authority_type_id 0.0\n",
        "document_authority_type_name 0.0\n",
        "purchaser 0.0\n",
        "requirements"
       ]
      },
      {
       "output_type": "stream",
       "stream": "stdout",
       "text": [
        " 0.0\n",
        "ORG_NAME 0.0\n",
        "ORG_CONTACTEMAIL 0.0\n",
        "REGION 0.0\n",
        "procurring_entity_id 0.0\n",
        "procurer_name 0.0\n",
        "procurer_code "
       ]
      },
      {
       "output_type": "stream",
       "stream": "stdout",
       "text": [
        "0.0\n",
        "end_user_entity 0.0\n",
        "customer_info 0.0\n",
        "GOVERNMENT 0.0\n",
        "ACRONYMS 0.0\n",
        "UNIT 0.0\n",
        "CompraNet Unit Identifier "
       ]
      },
      {
       "output_type": "stream",
       "stream": "stdout",
       "text": [
        "0.0\n",
        "CompraNet Unit name 0.0\n",
        "Responsibility 0.0\n",
        "Unit Branch 0.0\n",
        "document_country 0.0\n",
        "REFERENCENUMBER 0.0\n",
        "id "
       ]
      },
      {
       "output_type": "stream",
       "stream": "stdout",
       "text": [
        "0.0\n",
        "offer_step 0.0\n",
        "dataset_id 0.0\n",
        "risk_indicators 0.0\n",
        "bidder_0_black_or_white 0.0\n",
        "bidder_0_black_or_white 0.0\n",
        "bidder_0_black_or_white "
       ]
      },
      {
       "output_type": "stream",
       "stream": "stdout",
       "text": [
        "0.0\n",
        "bidder_0_black_or_white 0.0\n",
        "bidder_0_black_or_white 0.0\n",
        "bidder_0_black_or_white 0.0\n",
        "bidder_0_black_or_white 0.0\n",
        "bidder_0_black_or_white 0.0\n",
        "bidder_0_black_or_white "
       ]
      },
      {
       "output_type": "stream",
       "stream": "stdout",
       "text": [
        "0.0\n",
        "bidder_0_black_or_white 0.0\n",
        "bidder_0_black_or_white 0.0\n",
        "bidder_0_black_or_white 0.0\n",
        "bidder_0_black_or_white 0.0\n",
        "bidder_0_black_or_white 0.0\n",
        "bidder_0_black_or_white"
       ]
      },
      {
       "output_type": "stream",
       "stream": "stdout",
       "text": [
        " 0.0\n",
        "bidder_0_black_or_white 0.0\n",
        "bidder_0_black_or_white 0.0\n",
        "bidder_0_black_or_white 0.0\n",
        "bidder_0_black_or_white 0.0\n",
        "bidder_0_black_or_white 0.0\n",
        "bidder_0_black_or_white "
       ]
      },
      {
       "output_type": "stream",
       "stream": "stdout",
       "text": [
        "0.0\n",
        "bidder_0_black_or_white 0.0\n",
        "bidder_0_black_or_white 0.0\n",
        "bidder_0_black_or_white 0.0\n",
        "bidder_0_black_or_white 0.0\n",
        "bidder_0_black_or_white 0.0\n",
        "bidder_0_black_or_white"
       ]
      },
      {
       "output_type": "stream",
       "stream": "stdout",
       "text": [
        " 0.0\n",
        "bidder_0_black_or_white 0.0\n",
        "bidder_0_black_or_white 0.0\n",
        "bidder_0_black_or_white 0.0\n",
        "bidder_0_black_or_white 0.0\n",
        "bidder_0_black_or_white 0.0\n",
        "bidder_0_black_or_white"
       ]
      },
      {
       "output_type": "stream",
       "stream": "stdout",
       "text": [
        " 0.0\n",
        "bidder_0_black_or_white 0.0\n",
        "bidder_0_black_or_white 0.0\n",
        "bidder_0_black_or_white 0.0\n",
        "bidder_0_black_or_white 0.0\n",
        "bidder_0_black_or_white 0.0\n",
        "bidder_0_black_or_white"
       ]
      },
      {
       "output_type": "stream",
       "stream": "stdout",
       "text": [
        " 0.0\n",
        "bidder_0_black_or_white 0.0\n",
        "bidder_0_black_or_white 0.0\n",
        "bidder_0_black_or_white 0.0\n",
        "bidder_0_black_or_white 0.0\n",
        "bidder_0_black_or_white 0.0\n",
        "bidder_0_black_or_white"
       ]
      },
      {
       "output_type": "stream",
       "stream": "stdout",
       "text": [
        " 0.0\n",
        "bidder_0_black_or_white 0.0\n",
        "bidder_0_black_or_white 0.0\n",
        "bidder_0_black_or_white 0.0\n",
        "bidder_0_black_or_white 0.0\n",
        "bidder_0_black_or_white 0.0\n",
        "language "
       ]
      },
      {
       "output_type": "stream",
       "stream": "stdout",
       "text": [
        "0.0\n",
        "Program Key 0.0\n",
        "Contract Framework 0.0\n",
        "Consolidated purchase 0.0\n",
        "Multi-year 0.0\n",
        "Unit stratification 0.0\n",
        "Company state "
       ]
      },
      {
       "output_type": "stream",
       "stream": "stdout",
       "text": [
        "0.0\n",
        "Account manager type 0.0\n",
        "awards_additional_info 0.0\n",
        "awards_appeals_body 0.0\n",
        "awards_appeals_info 0.0\n",
        "awards_award_type 0.0\n",
        "awards_duration "
       ]
      },
      {
       "output_type": "stream",
       "stream": "stdout",
       "text": [
        "0.0\n",
        "awards_electronic 0.0\n",
        "awards_eu_funds 0.0\n",
        "awards_framework_dps 0.0\n",
        "awards_gpa_covered 0.0\n",
        "awards_id "
       ]
      },
      {
       "output_type": "stream",
       "stream": "stdout",
       "text": [
        "0.0\n",
        "awards_involves 0.0\n",
        "awards_language 0.0\n",
        "awards_legal_basis 0.0\n",
        "awards_likely_subcontracted 0.0\n",
        "awards_lot_nr_title 0.0\n",
        "awards_object"
       ]
      },
      {
       "output_type": "stream",
       "stream": "stdout",
       "text": [
        " 0.0\n",
        "awards_scope 0.0\n",
        "document_directive 0.0\n",
        "document_original_language 0.0\n",
        "document_place 0.0\n",
        "document_procedure_id 0.0\n",
        "document_procedure_name "
       ]
      },
      {
       "output_type": "stream",
       "stream": "stdout",
       "text": [
        "0.0\n",
        "document_regulation_id 0.0\n",
        "document_regulation_name 0.0\n",
        "year 0.0\n",
        "53 contract\n",
        "award 0.0\n",
        "contract "
       ]
      },
      {
       "output_type": "stream",
       "stream": "stdout",
       "text": [
        "0.0\n",
        "tender 0.0\n",
        "NOTICEID 0.0\n",
        "URL 0.0\n",
        "NOTICETYPE 0.0\n",
        "NOTICE_STATE 0.0\n",
        "NOTICE_STATE_CHANGE_DATE"
       ]
      },
      {
       "output_type": "stream",
       "stream": "stdout",
       "text": [
        " 0.0\n",
        "NUM_DOCS 0.0\n",
        "created_at 0.0\n",
        "updated_at 0.0\n",
        "url_id 0.0\n",
        "num_bids "
       ]
      },
      {
       "output_type": "stream",
       "stream": "stdout",
       "text": [
        "0.0\n",
        "num_bidders 0.0\n",
        "contract_value 0.0\n",
        "winning_org_id 0.0\n",
        "updated 0.0\n",
        "is_new 0.0\n",
        "reference_number"
       ]
      },
      {
       "output_type": "stream",
       "stream": "stdout",
       "text": [
        " 0.0\n",
        "solicitation_number 0.0\n",
        "publication_date 0.0\n",
        "amendment_date 0.0\n",
        "currency 0.0\n",
        "contract_value 0.0\n",
        "archive status "
       ]
      },
      {
       "output_type": "stream",
       "stream": "stdout",
       "text": [
        "0.0\n",
        "Federal contribution 0.0\n",
        "announcement URL 0.0\n",
        "awards_notice_date 0.0\n",
        "awards_num_offers 0.0\n",
        "awards_previous_notices 0.0\n",
        "awards_total_value_highest"
       ]
      },
      {
       "output_type": "stream",
       "stream": "stdout",
       "text": [
        " 0.0\n",
        "awards_total_value_lowest 0.0\n",
        "awards_total_value_text 0.0\n",
        "awards_total_value_vat 0.0\n",
        "awards_type 0.0\n",
        "awards_uri 0.0\n",
        "document_award_criteria_id"
       ]
      },
      {
       "output_type": "stream",
       "stream": "stdout",
       "text": [
        " 0.0\n",
        "document_award_criteria_name 0.0\n",
        "good 0.0\n",
        "service 0.0\n",
        "description 0.0\n",
        "item "
       ]
      },
      {
       "output_type": "stream",
       "stream": "stdout",
       "text": [
        "0.0\n",
        "CPV 0.0\n",
        "GSIN 0.0\n",
        "type 0.0\n",
        "category 0.0\n",
        "TITLE"
       ]
      },
      {
       "output_type": "stream",
       "stream": "stdout",
       "text": [
        " 0.0\n",
        "DESCRIPTION 0.0\n",
        "CLASSIFICATION 0.0\n",
        "cpv_code 0.0\n",
        "sub_codes 0.0\n",
        "title"
       ]
      },
      {
       "output_type": "stream",
       "stream": "stdout",
       "text": [
        " 0.0\n",
        "gsin 0.0\n",
        "description 0.0\n",
        "Record Title  0.0\n",
        "Contract Type 0.0\n",
        "Contract Title"
       ]
      },
      {
       "output_type": "stream",
       "stream": "stdout",
       "text": [
        " 0.0\n",
        "awards_cpv 0.0\n",
        "awards_dac_code 0.0\n",
        "awards_description 0.0\n",
        "awards_title 0.0\n",
        "document_cpvs 0.0\n",
        "document_document_name"
       ]
      },
      {
       "output_type": "stream",
       "stream": "stdout",
       "text": [
        " 0.0\n",
        "document_document_number 0.0\n",
        "document_heading 0.0\n",
        "document_oj 0.0\n",
        "document_oj_uc 0.0\n",
        "document_title 0.0\n",
        "document_title_uc"
       ]
      },
      {
       "output_type": "stream",
       "stream": "stdout",
       "text": [
        " 0.0\n",
        "tender 0.0\n",
        "request 0.0\n",
        "proposal 0.0\n",
        "qualifications 0.0\n",
        "notice "
       ]
      },
      {
       "output_type": "stream",
       "stream": "stdout",
       "text": [
        "0.0\n",
        "intent 0.0\n",
        "date 0.0\n",
        "DATEPUBLISHED 0.0\n",
        "VALUEMIN 0.0\n",
        "VALUEMAX 0.0\n",
        "STATUS "
       ]
      },
      {
       "output_type": "stream",
       "stream": "stdout",
       "text": [
        "0.0\n",
        "tender_type 0.0\n",
        "tender_registration_number 0.0\n",
        "tender_status 0.0\n",
        "tender_announcement_date 0.0\n",
        "bid_start_date 0.0\n",
        "bid_end_date"
       ]
      },
      {
       "output_type": "stream",
       "stream": "stdout",
       "text": [
        " 0.0\n",
        "estimated_value 0.0\n",
        "include_vat 0.0\n",
        "guarantee_amount 0.0\n",
        "guarantee_period 0.0\n",
        "contract_value "
       ]
      },
      {
       "output_type": "stream",
       "stream": "stdout",
       "text": [
        "0.0\n",
        "inProgress 0.0\n",
        "publishing_status 0.0\n",
        "contract_award_procedure 0.0\n",
        "tendering_procedure 0.0\n",
        "currency 0.0\n",
        "contract_value"
       ]
      },
      {
       "output_type": "stream",
       "stream": "stdout",
       "text": [
        " 0.0\n",
        "Record template 0.0\n",
        "Procedure Number 0.0\n",
        "Decision Date 0.0\n",
        "RFP Date Type 0.0\n",
        "Proposal Opening Date 0.0\n",
        "Procedure scope"
       ]
      },
      {
       "output_type": "stream",
       "stream": "stdout",
       "text": [
        " 0.0\n",
        "Procedure type 0.0\n",
        "Submission form type 0.0\n",
        "announcement URL 0.0\n",
        "awards_award_criteria 0.0\n",
        "awards_award_date 0.0\n",
        "awards_procedure_type"
       ]
      },
      {
       "output_type": "stream",
       "stream": "stdout",
       "text": [
        " 0.0\n",
        "awards_publication_date 0.0\n",
        "awards_reference 0.0\n",
        "document_bid_type_id 0.0\n",
        "document_bid_type_name 0.0\n",
        "document_comment_deadline 0.0\n",
        "binding"
       ]
      },
      {
       "output_type": "stream",
       "stream": "stdout",
       "text": [
        " 0.0\n",
        "agreement 0.0\n",
        "value 0.0\n",
        "date 0.0\n",
        "contract_value 0.0\n",
        "winning_org_id 0.0\n",
        "contract_sequence_number"
       ]
      },
      {
       "output_type": "stream",
       "stream": "stdout",
       "text": [
        " 0.0\n",
        "contract_number 0.0\n",
        "award_date 0.0\n",
        "currency 0.0\n",
        "contract_value 0.0\n",
        "CompraNet Record ID 0.0\n",
        "Contract ID"
       ]
      },
      {
       "output_type": "stream",
       "stream": "stdout",
       "text": [
        " 0.0\n",
        "Contract start date 0.0\n",
        "contract end date 0.0\n",
        "contract value 0.0\n",
        "Currency type 0.0\n",
        "contract status 0.0\n",
        "Signature date"
       ]
      },
      {
       "output_type": "stream",
       "stream": "stdout",
       "text": [
        " 0.0\n",
        "announcement URL 0.0\n",
        "awards_behalf_of 0.0\n",
        "awards_contract_id 0.0\n",
        "awards_contract_nr 0.0\n",
        "awards_contract_value 0.0\n",
        "awards_contract_value_currency"
       ]
      },
      {
       "output_type": "stream",
       "stream": "stdout",
       "text": [
        " 0.0\n",
        "awards_contract_value_highest 0.0\n",
        "awards_contract_value_initial 0.0\n",
        "awards_contract_value_initial_currency 0.0\n",
        "awards_contract_value_initial_terms 0.0\n",
        "awards_contract_value_initial_vat 0.0\n",
        "awards_contract_value_lowest"
       ]
      },
      {
       "output_type": "stream",
       "stream": "stdout",
       "text": [
        " 0.0\n",
        "awards_contract_value_terms 0.0\n",
        "awards_contract_value_text 0.0\n",
        "awards_contract_value_vat 0.0\n",
        "awards_score_chosen_tender 0.0\n",
        "awards_services_covered "
       ]
      },
      {
       "output_type": "stream",
       "stream": "stdout",
       "text": [
        "0.0\n",
        "awards_total_value 0.0\n",
        "awards_total_value_currency 0.0\n",
        "document_contract_id 0.0\n",
        "document_contract_name 0.0\n",
        "document_date "
       ]
      },
      {
       "output_type": "stream",
       "stream": "stdout",
       "text": [
        "0.0\n",
        "document_deadline 0.0\n",
        "document_document_id 0.0\n",
        "document_document_sent 0.0\n",
        "document_id_1 0.0\n",
        "document_identifier 0.0\n",
        "document_nuts_code"
       ]
      },
      {
       "output_type": "stream",
       "stream": "stdout",
       "text": [
        " 0.0\n",
        "document_publication_date 0.0\n",
        "document_signature 0.0\n",
        "document_source_tender 0.0\n",
        "document_uri 0.0\n",
        "document_url 0.0\n",
        "document_year"
       ]
      },
      {
       "output_type": "stream",
       "stream": "stdout",
       "text": [
        " 0.0\n",
        "producer 0.0\n",
        "contractor 0.0\n",
        "proponent 0.0\n",
        "supplier_name 0.0\n",
        "winner_code 0.0\n",
        "bidder_0_name "
       ]
      },
      {
       "output_type": "stream",
       "stream": "stdout",
       "text": [
        "0.0\n",
        "bidder_0_id 0.0\n",
        "bidder_0_lowest_bid 0.0\n",
        "bidder_0_black_or_white 0.0\n",
        "supplier_info 0.0\n",
        "Contractor Legal Name "
       ]
      },
      {
       "output_type": "stream",
       "stream": "stdout",
       "text": [
        "0.0\n",
        "Contractor stratification 0.0\n",
        "awards_tenderer_addr 0.0\n",
        "awards_tenderer_name 0.0\n",
        "process 0.0\n",
        "framework "
       ]
      },
      {
       "output_type": "stream",
       "stream": "stdout",
       "text": [
        "0.0\n",
        "facilitator 0.0\n",
        "procurement_entity_name 0.0\n",
        "procurement_entity 0.0\n",
        "awards_authority_addr 0.0\n",
        "awards_authority_name 0.0\n",
        "awards_authority_ref"
       ]
      },
      {
       "output_type": "stream",
       "stream": "stdout",
       "text": [
        " 0.0\n",
        "awards_authority_type 0.0\n",
        "document_authority_name 0.0\n",
        "document_authority_type_id 0.0\n",
        "document_authority_type_name 0.0\n",
        "purchaser 0.0\n",
        "requirements"
       ]
      },
      {
       "output_type": "stream",
       "stream": "stdout",
       "text": [
        " 0.0\n",
        "ORG_NAME 0.0\n",
        "ORG_CONTACTEMAIL 0.0\n",
        "REGION 0.0\n",
        "procurring_entity_id 0.0\n",
        "procurer_name 0.0\n",
        "procurer_code"
       ]
      },
      {
       "output_type": "stream",
       "stream": "stdout",
       "text": [
        " 0.0\n",
        "end_user_entity 0.0\n",
        "customer_info 0.0\n",
        "GOVERNMENT 0.0\n",
        "ACRONYMS 0.0\n",
        "UNIT "
       ]
      },
      {
       "output_type": "stream",
       "stream": "stdout",
       "text": [
        "0.0\n",
        "CompraNet Unit Identifier 0.0\n",
        "CompraNet Unit name 0.0\n",
        "Responsibility 0.0\n",
        "Unit Branch 0.0\n",
        "document_country "
       ]
      },
      {
       "output_type": "stream",
       "stream": "stdout",
       "text": [
        "0.0\n",
        "REFERENCENUMBER 0.0\n",
        "id 0.0\n",
        "offer_step 0.0\n",
        "dataset_id 0.0\n",
        "risk_indicators "
       ]
      },
      {
       "output_type": "stream",
       "stream": "stdout",
       "text": [
        "0.0\n",
        "bidder_0_black_or_white 0.0\n",
        "bidder_0_black_or_white 0.0\n",
        "bidder_0_black_or_white 0.0\n",
        "bidder_0_black_or_white 0.0\n",
        "bidder_0_black_or_white "
       ]
      },
      {
       "output_type": "stream",
       "stream": "stdout",
       "text": [
        "0.0\n",
        "bidder_0_black_or_white 0.0\n",
        "bidder_0_black_or_white 0.0\n",
        "bidder_0_black_or_white 0.0\n",
        "bidder_0_black_or_white 0.0\n",
        "bidder_0_black_or_white "
       ]
      },
      {
       "output_type": "stream",
       "stream": "stdout",
       "text": [
        "0.0\n",
        "bidder_0_black_or_white 0.0\n",
        "bidder_0_black_or_white 0.0\n",
        "bidder_0_black_or_white 0.0\n",
        "bidder_0_black_or_white 0.0\n",
        "bidder_0_black_or_white "
       ]
      },
      {
       "output_type": "stream",
       "stream": "stdout",
       "text": [
        "0.0\n",
        "bidder_0_black_or_white 0.0\n",
        "bidder_0_black_or_white 0.0\n",
        "bidder_0_black_or_white 0.0\n",
        "bidder_0_black_or_white 0.0\n",
        "bidder_0_black_or_white "
       ]
      },
      {
       "output_type": "stream",
       "stream": "stdout",
       "text": [
        "0.0\n",
        "bidder_0_black_or_white 0.0\n",
        "bidder_0_black_or_white 0.0\n",
        "bidder_0_black_or_white 0.0\n",
        "bidder_0_black_or_white 0.0\n",
        "bidder_0_black_or_white"
       ]
      },
      {
       "output_type": "stream",
       "stream": "stdout",
       "text": [
        " 0.0\n",
        "bidder_0_black_or_white 0.0\n",
        "bidder_0_black_or_white 0.0\n",
        "bidder_0_black_or_white 0.0\n",
        "bidder_0_black_or_white 0.0\n",
        "bidder_0_black_or_white "
       ]
      },
      {
       "output_type": "stream",
       "stream": "stdout",
       "text": [
        "0.0\n",
        "bidder_0_black_or_white 0.0\n",
        "bidder_0_black_or_white 0.0\n",
        "bidder_0_black_or_white 0.0\n",
        "bidder_0_black_or_white 0.0\n",
        "bidder_0_black_or_white"
       ]
      },
      {
       "output_type": "stream",
       "stream": "stdout",
       "text": [
        " 0.0\n",
        "bidder_0_black_or_white 0.0\n",
        "bidder_0_black_or_white 0.0\n",
        "bidder_0_black_or_white 0.0\n",
        "bidder_0_black_or_white 0.0\n",
        "bidder_0_black_or_white"
       ]
      },
      {
       "output_type": "stream",
       "stream": "stdout",
       "text": [
        " 0.0\n",
        "bidder_0_black_or_white 0.0\n",
        "bidder_0_black_or_white 0.0\n",
        "bidder_0_black_or_white 0.0\n",
        "bidder_0_black_or_white "
       ]
      },
      {
       "output_type": "stream",
       "stream": "stdout",
       "text": [
        "0.0\n",
        "bidder_0_black_or_white 0.0\n",
        "bidder_0_black_or_white 0.0\n",
        "bidder_0_black_or_white 0.0\n",
        "bidder_0_black_or_white "
       ]
      },
      {
       "output_type": "stream",
       "stream": "stdout",
       "text": [
        "0.0\n",
        "bidder_0_black_or_white 0.0\n",
        "bidder_0_black_or_white 0.0\n",
        "language 0.0\n",
        "Program Key 0.0\n",
        "Contract Framework "
       ]
      },
      {
       "output_type": "stream",
       "stream": "stdout",
       "text": [
        "0.0\n",
        "Consolidated purchase 0.0\n",
        "Multi-year 0.0\n",
        "Unit stratification 0.0\n",
        "Company state 0.0\n",
        "Account manager type "
       ]
      },
      {
       "output_type": "stream",
       "stream": "stdout",
       "text": [
        "0.0\n",
        "awards_additional_info 0.0\n",
        "awards_appeals_body 0.0\n",
        "awards_appeals_info 0.0\n",
        "awards_award_type "
       ]
      },
      {
       "output_type": "stream",
       "stream": "stdout",
       "text": [
        "0.0\n",
        "awards_duration 0.0\n",
        "awards_electronic 0.0\n",
        "awards_eu_funds 0.0\n",
        "awards_framework_dps 0.0\n",
        "awards_gpa_covered "
       ]
      },
      {
       "output_type": "stream",
       "stream": "stdout",
       "text": [
        "0.0\n",
        "awards_id 0.0\n",
        "awards_involves 0.0\n",
        "awards_language 0.0\n",
        "awards_legal_basis 0.0\n",
        "awards_likely_subcontracted 0.0\n",
        "awards_lot_nr_title"
       ]
      },
      {
       "output_type": "stream",
       "stream": "stdout",
       "text": [
        " 0.0\n",
        "awards_object 0.0\n",
        "awards_scope 0.0\n",
        "document_directive 0.0\n",
        "document_original_language 0.0\n",
        "document_place 0.0\n",
        "document_procedure_id"
       ]
      },
      {
       "output_type": "stream",
       "stream": "stdout",
       "text": [
        " 0.0\n",
        "document_procedure_name 0.0\n",
        "document_regulation_id 0.0\n",
        "document_regulation_name 0.0\n",
        "year 0.0\n",
        "14"
       ]
      },
      {
       "output_type": "stream",
       "stream": "stdout",
       "text": [
        " supplier\n",
        "award 0.0\n",
        "contract 0.0\n",
        "tender 0.0\n",
        "NOTICEID 0.0\n",
        "URL 0.0\n",
        "NOTICETYPE 0.0\n",
        "NOTICE_STATE 0.0\n",
        "NOTICE_STATE_CHANGE_DATE 0.0\n",
        "NUM_DOCS 0.0\n",
        "created_at 0.0\n",
        "updated_at 0.0\n",
        "url_id 0.0\n",
        "num_bids 0.0\n",
        "num_bidders 0.0\n",
        "contract_value 0.0\n",
        "winning_org_id "
       ]
      },
      {
       "output_type": "stream",
       "stream": "stdout",
       "text": [
        "0.0\n",
        "updated 0.0\n",
        "is_new 0.0\n",
        "reference_number 0.0\n",
        "solicitation_number 0.0\n",
        "publication_date 0.0\n",
        "amendment_date 0.0\n",
        "currency 0.0\n",
        "contract_value 0.0\n",
        "archive status 0.0\n",
        "Federal contribution 0.0\n",
        "announcement URL 0.0\n",
        "awards_notice_date 0.0\n",
        "awards_num_offers 0.0\n",
        "awards_previous_notices 0.0\n",
        "awards_total_value_highest "
       ]
      },
      {
       "output_type": "stream",
       "stream": "stdout",
       "text": [
        "0.0\n",
        "awards_total_value_lowest 0.0\n",
        "awards_total_value_text 0.0\n",
        "awards_total_value_vat 0.0\n",
        "awards_type 0.0\n",
        "awards_uri 0.0\n",
        "document_award_criteria_id 0.0\n",
        "document_award_criteria_name 0.0\n",
        "good 0.0\n",
        "service 0.0\n",
        "description 0.0\n",
        "item "
       ]
      },
      {
       "output_type": "stream",
       "stream": "stdout",
       "text": [
        "0.0\n",
        "CPV 0.0\n",
        "GSIN 0.0\n",
        "type 0.0\n",
        "category 0.0\n",
        "TITLE 0.0\n",
        "DESCRIPTION 0.0\n",
        "CLASSIFICATION 0.0\n",
        "cpv_code 0.0\n",
        "sub_codes 0.0\n",
        "title 0.0\n",
        "gsin 0.0\n",
        "description 0.0\n",
        "Record Title  0.0\n",
        "Contract Type 0.0\n",
        "Contract Title 0.0\n",
        "awards_cpv 0.0\n",
        "awards_dac_code "
       ]
      },
      {
       "output_type": "stream",
       "stream": "stdout",
       "text": [
        "0.0\n",
        "awards_description 0.0\n",
        "awards_title 0.0\n",
        "document_cpvs 0.0\n",
        "document_document_name 0.0\n",
        "document_document_number 0.0\n",
        "document_heading 0.0\n",
        "document_oj 0.0\n",
        "document_oj_uc 0.0\n",
        "document_title 0.0\n",
        "document_title_uc 0.0\n",
        "tender 0.0\n",
        "request 0.0\n",
        "proposal 0.0\n",
        "qualifications 0.0\n",
        "notice 0.0\n",
        "intent 0.0\n",
        "date 0.0\n",
        "DATEPUBLISHED "
       ]
      },
      {
       "output_type": "stream",
       "stream": "stdout",
       "text": [
        "0.0\n",
        "VALUEMIN 0.0\n",
        "VALUEMAX 0.0\n",
        "STATUS 0.0\n",
        "tender_type 0.0\n",
        "tender_registration_number 0.0\n",
        "tender_status 0.0\n",
        "tender_announcement_date 0.0\n",
        "bid_start_date 0.0\n",
        "bid_end_date 0.0\n",
        "estimated_value 0.0\n",
        "include_vat 0.0\n",
        "guarantee_amount 0.0\n",
        "guarantee_period 0.0\n",
        "contract_value 0.0\n",
        "inProgress 0.0\n",
        "publishing_status 0.0\n",
        "contract_award_procedure 0.0\n",
        "tendering_procedure 0.0\n",
        "currency 0.0\n",
        "contract_value "
       ]
      },
      {
       "output_type": "stream",
       "stream": "stdout",
       "text": [
        "0.0\n",
        "Record template 0.0\n",
        "Procedure Number 0.0\n",
        "Decision Date 0.0\n",
        "RFP Date Type 0.0\n",
        "Proposal Opening Date 0.0\n",
        "Procedure scope 0.0\n",
        "Procedure type 0.0\n",
        "Submission form type 0.0\n",
        "announcement URL 0.0\n",
        "awards_award_criteria 0.0\n",
        "awards_award_date 0.0\n",
        "awards_procedure_type 0.0\n",
        "awards_publication_date 0.0\n",
        "awards_reference 0.0\n",
        "document_bid_type_id 0.0\n",
        "document_bid_type_name "
       ]
      },
      {
       "output_type": "stream",
       "stream": "stdout",
       "text": [
        "0.0\n",
        "document_comment_deadline 0.0\n",
        "binding 0.0\n",
        "agreement 0.0\n",
        "value 0.0\n",
        "date 0.0\n",
        "contract_value 0.0\n",
        "winning_org_id 0.0\n",
        "contract_sequence_number 0.0\n",
        "contract_number 0.0\n",
        "award_date 0.0\n",
        "currency 0.0\n",
        "contract_value 0.0\n",
        "CompraNet Record ID 0.0\n",
        "Contract ID 0.0\n",
        "Contract start date "
       ]
      },
      {
       "output_type": "stream",
       "stream": "stdout",
       "text": [
        "0.0\n",
        "contract end date 0.0\n",
        "contract value 0.0\n",
        "Currency type 0.0\n",
        "contract status 0.0\n",
        "Signature date 0.0\n",
        "announcement URL 0.0\n",
        "awards_behalf_of 0.0\n",
        "awards_contract_id 0.0\n",
        "awards_contract_nr 0.0\n",
        "awards_contract_value 0.0\n",
        "awards_contract_value_currency 0.0\n",
        "awards_contract_value_highest "
       ]
      },
      {
       "output_type": "stream",
       "stream": "stdout",
       "text": [
        "0.0\n",
        "awards_contract_value_initial 0.0\n",
        "awards_contract_value_initial_currency 0.0\n",
        "awards_contract_value_initial_terms 0.0\n",
        "awards_contract_value_initial_vat 0.0\n",
        "awards_contract_value_lowest 0.0\n",
        "awards_contract_value_terms 0.0\n",
        "awards_contract_value_text 0.0\n",
        "awards_contract_value_vat 0.0\n",
        "awards_score_chosen_tender 0.0\n",
        "awards_services_covered 0.0\n",
        "awards_total_value 0.0\n",
        "awards_total_value_currency 0.0\n",
        "document_contract_id"
       ]
      },
      {
       "output_type": "stream",
       "stream": "stdout",
       "text": [
        " 0.0\n",
        "document_contract_name 0.0\n",
        "document_date 0.0\n",
        "document_deadline 0.0\n",
        "document_document_id 0.0\n",
        "document_document_sent 0.0\n",
        "document_id_1 0.0\n",
        "document_identifier 0.0\n",
        "document_nuts_code 0.0\n",
        "document_publication_date 0.0\n",
        "document_signature 0.0\n",
        "document_source_tender 0.0\n",
        "document_uri 0.0\n",
        "document_url 0.0\n",
        "document_year 0.0\n",
        "producer"
       ]
      },
      {
       "output_type": "stream",
       "stream": "stdout",
       "text": [
        " 0.0\n",
        "contractor 0.0\n",
        "proponent 0.0\n",
        "supplier_name 0.0\n",
        "winner_code 0.0\n",
        "bidder_0_name 0.0\n",
        "bidder_0_id 0.0\n",
        "bidder_0_lowest_bid 0.0\n",
        "bidder_0_black_or_white 0.0\n",
        "supplier_info 0.0\n",
        "Contractor Legal Name 0.0\n",
        "Contractor stratification 0.0\n",
        "awards_tenderer_addr 0.0\n",
        "awards_tenderer_name 0.0\n",
        "process 0.0\n",
        "framework 0.0\n",
        "facilitator 0.0\n",
        "procurement_entity_name 0.0\n",
        "procurement_entity 0.0\n",
        "awards_authority_addr "
       ]
      },
      {
       "output_type": "stream",
       "stream": "stdout",
       "text": [
        "0.0\n",
        "awards_authority_name 0.0\n",
        "awards_authority_ref 0.0\n",
        "awards_authority_type 0.0\n",
        "document_authority_name 0.0\n",
        "document_authority_type_id 0.0\n",
        "document_authority_type_name 0.0\n",
        "purchaser 0.0\n",
        "requirements 0.0\n",
        "ORG_NAME 0.0\n",
        "ORG_CONTACTEMAIL 0.0\n",
        "REGION 0.0\n",
        "procurring_entity_id 0.0\n",
        "procurer_name 0.0\n",
        "procurer_code 0.0\n",
        "end_user_entity 0.0\n",
        "customer_info 0.0\n",
        "GOVERNMENT 0.0\n",
        "ACRONYMS 0.0\n",
        "UNIT 0.0\n",
        "CompraNet Unit Identifier"
       ]
      },
      {
       "output_type": "stream",
       "stream": "stdout",
       "text": [
        " 0.0\n",
        "CompraNet Unit name 0.0\n",
        "Responsibility 0.0\n",
        "Unit Branch 0.0\n",
        "document_country 0.0\n",
        "REFERENCENUMBER 0.0\n",
        "id 0.0\n",
        "offer_step 0.0\n",
        "dataset_id 0.0\n",
        "risk_indicators 0.0\n",
        "bidder_0_black_or_white 0.0\n",
        "bidder_0_black_or_white 0.0\n",
        "bidder_0_black_or_white 0.0\n",
        "bidder_0_black_or_white 0.0\n",
        "bidder_0_black_or_white 0.0\n",
        "bidder_0_black_or_white 0.0\n",
        "bidder_0_black_or_white "
       ]
      },
      {
       "output_type": "stream",
       "stream": "stdout",
       "text": [
        "0.0\n",
        "bidder_0_black_or_white 0.0\n",
        "bidder_0_black_or_white 0.0\n",
        "bidder_0_black_or_white 0.0\n",
        "bidder_0_black_or_white 0.0\n",
        "bidder_0_black_or_white 0.0\n",
        "bidder_0_black_or_white 0.0\n",
        "bidder_0_black_or_white 0.0\n",
        "bidder_0_black_or_white 0.0\n",
        "bidder_0_black_or_white 0.0\n",
        "bidder_0_black_or_white 0.0\n",
        "bidder_0_black_or_white 0.0\n",
        "bidder_0_black_or_white 0.0\n",
        "bidder_0_black_or_white 0.0\n",
        "bidder_0_black_or_white"
       ]
      },
      {
       "output_type": "stream",
       "stream": "stdout",
       "text": [
        " 0.0\n",
        "bidder_0_black_or_white 0.0\n",
        "bidder_0_black_or_white 0.0\n",
        "bidder_0_black_or_white 0.0\n",
        "bidder_0_black_or_white 0.0\n",
        "bidder_0_black_or_white 0.0\n",
        "bidder_0_black_or_white 0.0\n",
        "bidder_0_black_or_white 0.0\n",
        "bidder_0_black_or_white 0.0\n",
        "bidder_0_black_or_white 0.0\n",
        "bidder_0_black_or_white 0.0\n",
        "bidder_0_black_or_white 0.0\n",
        "bidder_0_black_or_white 0.0\n",
        "bidder_0_black_or_white 0.0\n",
        "bidder_0_black_or_white 0.0\n",
        "bidder_0_black_or_white 0.0\n",
        "bidder_0_black_or_white"
       ]
      },
      {
       "output_type": "stream",
       "stream": "stdout",
       "text": [
        " 0.0\n",
        "bidder_0_black_or_white 0.0\n",
        "bidder_0_black_or_white 0.0\n",
        "bidder_0_black_or_white 0.0\n",
        "bidder_0_black_or_white 0.0\n",
        "bidder_0_black_or_white 0.0\n",
        "bidder_0_black_or_white 0.0\n",
        "bidder_0_black_or_white 0.0\n",
        "bidder_0_black_or_white 0.0\n",
        "bidder_0_black_or_white 0.0\n",
        "bidder_0_black_or_white 0.0\n",
        "bidder_0_black_or_white 0.0\n",
        "bidder_0_black_or_white 0.0\n",
        "bidder_0_black_or_white 0.0\n",
        "language 0.0\n",
        "Program Key 0.0\n",
        "Contract Framework 0.0\n",
        "Consolidated purchase 0.0\n",
        "Multi-year"
       ]
      },
      {
       "output_type": "stream",
       "stream": "stdout",
       "text": [
        " 0.0\n",
        "Unit stratification 0.0\n",
        "Company state 0.0\n",
        "Account manager type 0.0\n",
        "awards_additional_info 0.0\n",
        "awards_appeals_body 0.0\n",
        "awards_appeals_info 0.0\n",
        "awards_award_type 0.0\n",
        "awards_duration 0.0\n",
        "awards_electronic 0.0\n",
        "awards_eu_funds 0.0\n",
        "awards_framework_dps 0.0\n",
        "awards_gpa_covered 0.0\n",
        "awards_id 0.0\n",
        "awards_involves 0.0\n",
        "awards_language 0.0\n",
        "awards_legal_basis 0.0\n",
        "awards_likely_subcontracted 0.0\n",
        "awards_lot_nr_title 0.0\n",
        "awards_object"
       ]
      },
      {
       "output_type": "stream",
       "stream": "stdout",
       "text": [
        " 0.0\n",
        "awards_scope 0.0\n",
        "document_directive 0.0\n",
        "document_original_language 0.0\n",
        "document_place 0.0\n",
        "document_procedure_id 0.0\n",
        "document_procedure_name 0.0\n",
        "document_regulation_id 0.0\n",
        "document_regulation_name 0.0\n",
        "year 0.0\n",
        "12 authority\n",
        "award 0.0\n",
        "contract 0.0\n",
        "tender 0.0\n",
        "NOTICEID 0.0\n",
        "URL 0.0\n",
        "NOTICETYPE 0.0\n",
        "NOTICE_STATE 0.0\n",
        "NOTICE_STATE_CHANGE_DATE 0.0\n",
        "NUM_DOCS 0.0\n",
        "created_at 0.0\n",
        "updated_at"
       ]
      },
      {
       "output_type": "stream",
       "stream": "stdout",
       "text": [
        " 0.0\n",
        "url_id 0.0\n",
        "num_bids 0.0\n",
        "num_bidders 0.0\n",
        "contract_value 0.0\n",
        "winning_org_id 0.0\n",
        "updated 0.0\n",
        "is_new 0.0\n",
        "reference_number 0.0\n",
        "solicitation_number 0.0\n",
        "publication_date 0.0\n",
        "amendment_date 0.0\n",
        "currency 0.0\n",
        "contract_value 0.0\n",
        "archive status 0.0\n",
        "Federal contribution 0.0\n",
        "announcement URL 0.0\n",
        "awards_notice_date 0.0\n",
        "awards_num_offers "
       ]
      },
      {
       "output_type": "stream",
       "stream": "stdout",
       "text": [
        "0.0\n",
        "awards_previous_notices 0.0\n",
        "awards_total_value_highest 0.0\n",
        "awards_total_value_lowest 0.0\n",
        "awards_total_value_text 0.0\n",
        "awards_total_value_vat 0.0\n",
        "awards_type 0.0\n",
        "awards_uri 0.0\n",
        "document_award_criteria_id 0.0\n",
        "document_award_criteria_name 0.0\n",
        "good 0.0\n",
        "service 0.0\n",
        "description 0.0\n",
        "item 0.0\n",
        "CPV 0.0\n",
        "GSIN 0.0\n",
        "type 0.0\n",
        "category"
       ]
      },
      {
       "output_type": "stream",
       "stream": "stdout",
       "text": [
        " 0.0\n",
        "TITLE 0.0\n",
        "DESCRIPTION 0.0\n",
        "CLASSIFICATION 0.0\n",
        "cpv_code 0.0\n",
        "sub_codes 0.0\n",
        "title 0.0\n",
        "gsin 0.0\n",
        "description 0.0\n",
        "Record Title  0.0\n",
        "Contract Type 0.0\n",
        "Contract Title 0.0\n",
        "awards_cpv 0.0\n",
        "awards_dac_code 0.0\n",
        "awards_description 0.0\n",
        "awards_title 0.0\n",
        "document_cpvs 0.0\n",
        "document_document_name 0.0\n",
        "document_document_number 0.0\n",
        "document_heading "
       ]
      },
      {
       "output_type": "stream",
       "stream": "stdout",
       "text": [
        "0.0\n",
        "document_oj 0.0\n",
        "document_oj_uc 0.0\n",
        "document_title 0.0\n",
        "document_title_uc 0.0\n",
        "tender 0.0\n",
        "request 0.0\n",
        "proposal 0.0\n",
        "qualifications 0.0\n",
        "notice 0.0\n",
        "intent 0.0\n",
        "date 0.0\n",
        "DATEPUBLISHED 0.0\n",
        "VALUEMIN 0.0\n",
        "VALUEMAX "
       ]
      },
      {
       "output_type": "stream",
       "stream": "stdout",
       "text": [
        "0.0\n",
        "STATUS 0.0\n",
        "tender_type 0.0\n",
        "tender_registration_number 0.0\n",
        "tender_status 0.0\n",
        "tender_announcement_date 0.0\n",
        "bid_start_date 0.0\n",
        "bid_end_date 0.0\n",
        "estimated_value 0.0\n",
        "include_vat 0.0\n",
        "guarantee_amount 0.0\n",
        "guarantee_period 0.0\n",
        "contract_value 0.0\n",
        "inProgress 0.0\n",
        "publishing_status 0.0\n",
        "contract_award_procedure 0.0\n",
        "tendering_procedure 0.0\n",
        "currency 0.0\n",
        "contract_value"
       ]
      },
      {
       "output_type": "stream",
       "stream": "stdout",
       "text": [
        " 0.0\n",
        "Record template 0.0\n",
        "Procedure Number 0.0\n",
        "Decision Date 0.0\n",
        "RFP Date Type 0.0\n",
        "Proposal Opening Date 0.0\n",
        "Procedure scope 0.0\n",
        "Procedure type 0.0\n",
        "Submission form type 0.0\n",
        "announcement URL 0.0\n",
        "awards_award_criteria 0.0\n",
        "awards_award_date 0.0\n",
        "awards_procedure_type 0.0\n",
        "awards_publication_date 0.0\n",
        "awards_reference 0.0\n",
        "document_bid_type_id 0.0\n",
        "document_bid_type_name 0.0\n",
        "document_comment_deadline 0.0\n",
        "binding 0.0\n",
        "agreement "
       ]
      },
      {
       "output_type": "stream",
       "stream": "stdout",
       "text": [
        "0.0\n",
        "value 0.0\n",
        "date 0.0\n",
        "contract_value 0.0\n",
        "winning_org_id 0.0\n",
        "contract_sequence_number 0.0\n",
        "contract_number 0.0\n",
        "award_date 0.0\n",
        "currency 0.0\n",
        "contract_value 0.0\n",
        "CompraNet Record ID 0.0\n",
        "Contract ID 0.0\n",
        "Contract start date 0.0\n",
        "contract end date 0.0\n",
        "contract value 0.0\n",
        "Currency type 0.0\n",
        "contract status 0.0\n",
        "Signature date 0.0\n",
        "announcement URL 0.0\n",
        "awards_behalf_of 0.0\n",
        "awards_contract_id 0.0\n",
        "awards_contract_nr "
       ]
      },
      {
       "output_type": "stream",
       "stream": "stdout",
       "text": [
        "0.0\n",
        "awards_contract_value 0.0\n",
        "awards_contract_value_currency 0.0\n",
        "awards_contract_value_highest 0.0\n",
        "awards_contract_value_initial 0.0\n",
        "awards_contract_value_initial_currency 0.0\n",
        "awards_contract_value_initial_terms 0.0\n",
        "awards_contract_value_initial_vat 0.0\n",
        "awards_contract_value_lowest 0.0\n",
        "awards_contract_value_terms 0.0\n",
        "awards_contract_value_text 0.0\n",
        "awards_contract_value_vat 0.0\n",
        "awards_score_chosen_tender 0.0\n",
        "awards_services_covered "
       ]
      },
      {
       "output_type": "stream",
       "stream": "stdout",
       "text": [
        "0.0\n",
        "awards_total_value 0.0\n",
        "awards_total_value_currency 0.0\n",
        "document_contract_id 0.0\n",
        "document_contract_name 0.0\n",
        "document_date 0.0\n",
        "document_deadline 0.0\n",
        "document_document_id 0.0\n",
        "document_document_sent 0.0\n",
        "document_id_1 0.0\n",
        "document_identifier 0.0\n",
        "document_nuts_code 0.0\n",
        "document_publication_date 0.0\n",
        "document_signature 0.0\n",
        "document_source_tender 0.0\n",
        "document_uri 0.0\n",
        "document_url"
       ]
      },
      {
       "output_type": "stream",
       "stream": "stdout",
       "text": [
        " 0.0\n",
        "document_year 0.0\n",
        "producer 0.0\n",
        "contractor 0.0\n",
        "proponent 0.0\n",
        "supplier_name 0.0\n",
        "winner_code 0.0\n",
        "bidder_0_name 0.0\n",
        "bidder_0_id 0.0\n",
        "bidder_0_lowest_bid 0.0\n",
        "bidder_0_black_or_white 0.0\n",
        "supplier_info 0.0\n",
        "Contractor Legal Name 0.0\n",
        "Contractor stratification 0.0\n",
        "awards_tenderer_addr 0.0\n",
        "awards_tenderer_name 0.0\n",
        "process"
       ]
      },
      {
       "output_type": "stream",
       "stream": "stdout",
       "text": [
        " 0.0\n",
        "framework 0.0\n",
        "facilitator 0.0\n",
        "procurement_entity_name 0.0\n",
        "procurement_entity 0.0\n",
        "awards_authority_addr 0.0\n",
        "awards_authority_name 0.0\n",
        "awards_authority_ref 0.0\n",
        "awards_authority_type 0.0\n",
        "document_authority_name 0.0\n",
        "document_authority_type_id 0.0\n",
        "document_authority_type_name 0.0\n",
        "purchaser 0.0\n",
        "requirements 0.0\n",
        "ORG_NAME 0.0\n",
        "ORG_CONTACTEMAIL 0.0\n",
        "REGION "
       ]
      },
      {
       "output_type": "stream",
       "stream": "stdout",
       "text": [
        "0.0\n",
        "procurring_entity_id 0.0\n",
        "procurer_name 0.0\n",
        "procurer_code 0.0\n",
        "end_user_entity 0.0\n",
        "customer_info 0.0\n",
        "GOVERNMENT 0.0\n",
        "ACRONYMS 0.0\n",
        "UNIT 0.0\n",
        "CompraNet Unit Identifier 0.0\n",
        "CompraNet Unit name 0.0\n",
        "Responsibility 0.0\n",
        "Unit Branch 0.0\n",
        "document_country 0.0\n",
        "REFERENCENUMBER 0.0\n",
        "id 0.0\n",
        "offer_step 0.0\n",
        "dataset_id "
       ]
      },
      {
       "output_type": "stream",
       "stream": "stdout",
       "text": [
        "0.0\n",
        "risk_indicators 0.0\n",
        "bidder_0_black_or_white 0.0\n",
        "bidder_0_black_or_white 0.0\n",
        "bidder_0_black_or_white 0.0\n",
        "bidder_0_black_or_white 0.0\n",
        "bidder_0_black_or_white 0.0\n",
        "bidder_0_black_or_white 0.0\n",
        "bidder_0_black_or_white 0.0\n",
        "bidder_0_black_or_white 0.0\n",
        "bidder_0_black_or_white 0.0\n",
        "bidder_0_black_or_white 0.0\n",
        "bidder_0_black_or_white 0.0\n",
        "bidder_0_black_or_white 0.0\n",
        "bidder_0_black_or_white 0.0\n",
        "bidder_0_black_or_white 0.0\n",
        "bidder_0_black_or_white 0.0\n",
        "bidder_0_black_or_white "
       ]
      },
      {
       "output_type": "stream",
       "stream": "stdout",
       "text": [
        "0.0\n",
        "bidder_0_black_or_white 0.0\n",
        "bidder_0_black_or_white 0.0\n",
        "bidder_0_black_or_white 0.0\n",
        "bidder_0_black_or_white 0.0\n",
        "bidder_0_black_or_white 0.0\n",
        "bidder_0_black_or_white 0.0\n",
        "bidder_0_black_or_white 0.0\n",
        "bidder_0_black_or_white 0.0\n",
        "bidder_0_black_or_white 0.0\n",
        "bidder_0_black_or_white 0.0\n",
        "bidder_0_black_or_white 0.0\n",
        "bidder_0_black_or_white 0.0\n",
        "bidder_0_black_or_white 0.0\n",
        "bidder_0_black_or_white 0.0\n",
        "bidder_0_black_or_white 0.0\n",
        "bidder_0_black_or_white 0.0\n",
        "bidder_0_black_or_white 0.0\n",
        "bidder_0_black_or_white "
       ]
      },
      {
       "output_type": "stream",
       "stream": "stdout",
       "text": [
        "0.0\n",
        "bidder_0_black_or_white 0.0\n",
        "bidder_0_black_or_white 0.0\n",
        "bidder_0_black_or_white 0.0\n",
        "bidder_0_black_or_white 0.0\n",
        "bidder_0_black_or_white 0.0\n",
        "bidder_0_black_or_white 0.0\n",
        "bidder_0_black_or_white 0.0\n",
        "bidder_0_black_or_white 0.0\n",
        "bidder_0_black_or_white 0.0\n",
        "bidder_0_black_or_white 0.0\n",
        "bidder_0_black_or_white 0.0\n",
        "bidder_0_black_or_white 0.0\n",
        "bidder_0_black_or_white 0.0\n",
        "bidder_0_black_or_white 0.0\n",
        "bidder_0_black_or_white 0.0\n",
        "bidder_0_black_or_white 0.0\n",
        "language 0.0\n",
        "Program Key "
       ]
      },
      {
       "output_type": "stream",
       "stream": "stdout",
       "text": [
        "0.0\n",
        "Contract Framework 0.0\n",
        "Consolidated purchase 0.0\n",
        "Multi-year 0.0\n",
        "Unit stratification 0.0\n",
        "Company state 0.0\n",
        "Account manager type 0.0\n",
        "awards_additional_info 0.0\n",
        "awards_appeals_body 0.0\n",
        "awards_appeals_info 0.0\n",
        "awards_award_type 0.0\n",
        "awards_duration 0.0\n",
        "awards_electronic 0.0\n",
        "awards_eu_funds 0.0\n",
        "awards_framework_dps 0.0\n",
        "awards_gpa_covered 0.0\n",
        "awards_id 0.0\n",
        "awards_involves 0.0\n",
        "awards_language 0.0\n",
        "awards_legal_basis 0.0\n",
        "awards_likely_subcontracted"
       ]
      },
      {
       "output_type": "stream",
       "stream": "stdout",
       "text": [
        " 0.0\n",
        "awards_lot_nr_title 0.0\n",
        "awards_object 0.0\n",
        "awards_scope 0.0\n",
        "document_directive 0.0\n",
        "document_original_language 0.0\n",
        "document_place 0.0\n",
        "document_procedure_id 0.0\n",
        "document_procedure_name 0.0\n",
        "document_regulation_id 0.0\n",
        "document_regulation_name 0.0\n",
        "year 0.0\n",
        "18 buyer\n",
        "award 0.0\n",
        "contract 0.0\n",
        "tender 0.0\n",
        "NOTICEID "
       ]
      },
      {
       "output_type": "stream",
       "stream": "stdout",
       "text": [
        "0.0\n",
        "URL 0.0\n",
        "NOTICETYPE 0.0\n",
        "NOTICE_STATE 0.0\n",
        "NOTICE_STATE_CHANGE_DATE 0.0\n",
        "NUM_DOCS 0.0\n",
        "created_at 0.0\n",
        "updated_at 0.0\n",
        "url_id 0.0\n",
        "num_bids 0.0\n",
        "num_bidders "
       ]
      },
      {
       "output_type": "stream",
       "stream": "stdout",
       "text": [
        "0.0\n",
        "contract_value 0.0\n",
        "winning_org_id 0.0\n",
        "updated 0.0\n",
        "is_new 0.0\n",
        "reference_number 0.0\n",
        "solicitation_number 0.0\n",
        "publication_date 0.0\n",
        "amendment_date 0.0\n",
        "currency 0.0\n",
        "contract_value 0.0\n",
        "archive status"
       ]
      },
      {
       "output_type": "stream",
       "stream": "stdout",
       "text": [
        " 0.0\n",
        "Federal contribution 0.0\n",
        "announcement URL 0.0\n",
        "awards_notice_date 0.0\n",
        "awards_num_offers 0.0\n",
        "awards_previous_notices 0.0\n",
        "awards_total_value_highest 0.0\n",
        "awards_total_value_lowest 0.0\n",
        "awards_total_value_text 0.0\n",
        "awards_total_value_vat "
       ]
      },
      {
       "output_type": "stream",
       "stream": "stdout",
       "text": [
        "0.0\n",
        "awards_type 0.0\n",
        "awards_uri 0.0\n",
        "document_award_criteria_id 0.0\n",
        "document_award_criteria_name 0.0\n",
        "good 0.0\n",
        "service 0.0\n",
        "description 0.0\n",
        "item 0.0\n",
        "CPV"
       ]
      },
      {
       "output_type": "stream",
       "stream": "stdout",
       "text": [
        " 0.0\n",
        "GSIN 0.0\n",
        "type 0.0\n",
        "category 0.0\n",
        "TITLE 0.0\n",
        "DESCRIPTION 0.0\n",
        "CLASSIFICATION 0.0\n",
        "cpv_code 0.0\n",
        "sub_codes 0.0\n",
        "title 0.0\n",
        "gsin"
       ]
      },
      {
       "output_type": "stream",
       "stream": "stdout",
       "text": [
        " 0.0\n",
        "description 0.0\n",
        "Record Title  0.0\n",
        "Contract Type 0.0\n",
        "Contract Title 0.0\n",
        "awards_cpv 0.0\n",
        "awards_dac_code 0.0\n",
        "awards_description 0.0\n",
        "awards_title 0.0\n",
        "document_cpvs "
       ]
      },
      {
       "output_type": "stream",
       "stream": "stdout",
       "text": [
        "0.0\n",
        "document_document_name 0.0\n",
        "document_document_number 0.0\n",
        "document_heading 0.0\n",
        "document_oj 0.0\n",
        "document_oj_uc 0.0\n",
        "document_title 0.0\n",
        "document_title_uc 0.0\n",
        "tender 0.0\n",
        "request"
       ]
      },
      {
       "output_type": "stream",
       "stream": "stdout",
       "text": [
        " 0.0\n",
        "proposal 0.0\n",
        "qualifications 0.0\n",
        "notice 0.0\n",
        "intent 0.0\n",
        "date 0.0\n",
        "DATEPUBLISHED 0.0\n",
        "VALUEMIN 0.0\n",
        "VALUEMAX "
       ]
      },
      {
       "output_type": "stream",
       "stream": "stdout",
       "text": [
        "0.0\n",
        "STATUS 0.0\n",
        "tender_type 0.0\n",
        "tender_registration_number 0.0\n",
        "tender_status 0.0\n",
        "tender_announcement_date 0.0\n",
        "bid_start_date 0.0\n",
        "bid_end_date 0.0\n",
        "estimated_value 0.0\n",
        "include_vat 0.0\n",
        "guarantee_amount"
       ]
      },
      {
       "output_type": "stream",
       "stream": "stdout",
       "text": [
        " 0.0\n",
        "guarantee_period 0.0\n",
        "contract_value 0.0\n",
        "inProgress 0.0\n",
        "publishing_status 0.0\n",
        "contract_award_procedure 0.0\n",
        "tendering_procedure 0.0\n",
        "currency 0.0\n",
        "contract_value 0.0\n",
        "Record template 0.0\n",
        "Procedure Number 0.0\n",
        "Decision Date"
       ]
      },
      {
       "output_type": "stream",
       "stream": "stdout",
       "text": [
        " 0.0\n",
        "RFP Date Type 0.0\n",
        "Proposal Opening Date 0.0\n",
        "Procedure scope 0.0\n",
        "Procedure type 0.0\n",
        "Submission form type 0.0\n",
        "announcement URL 0.0\n",
        "awards_award_criteria 0.0\n",
        "awards_award_date 0.0\n",
        "awards_procedure_type 0.0\n",
        "awards_publication_date 0.0\n",
        "awards_reference"
       ]
      },
      {
       "output_type": "stream",
       "stream": "stdout",
       "text": [
        " 0.0\n",
        "document_bid_type_id 0.0\n",
        "document_bid_type_name 0.0\n",
        "document_comment_deadline 0.0\n",
        "binding 0.0\n",
        "agreement 0.0\n",
        "value 0.0\n",
        "date 0.0\n",
        "contract_value 0.0\n",
        "winning_org_id 0.0\n",
        "contract_sequence_number 0.0\n",
        "contract_number"
       ]
      },
      {
       "output_type": "stream",
       "stream": "stdout",
       "text": [
        " 0.0\n",
        "award_date 0.0\n",
        "currency 0.0\n",
        "contract_value 0.0\n",
        "CompraNet Record ID 0.0\n",
        "Contract ID 0.0\n",
        "Contract start date 0.0\n",
        "contract end date 0.0\n",
        "contract value 0.0\n",
        "Currency type 0.0\n",
        "contract status 0.0\n",
        "Signature date"
       ]
      },
      {
       "output_type": "stream",
       "stream": "stdout",
       "text": [
        " 0.0\n",
        "announcement URL 0.0\n",
        "awards_behalf_of 0.0\n",
        "awards_contract_id 0.0\n",
        "awards_contract_nr 0.0\n",
        "awards_contract_value 0.0\n",
        "awards_contract_value_currency 0.0\n",
        "awards_contract_value_highest 0.0\n",
        "awards_contract_value_initial 0.0\n",
        "awards_contract_value_initial_currency 0.0\n",
        "awards_contract_value_initial_terms"
       ]
      },
      {
       "output_type": "stream",
       "stream": "stdout",
       "text": [
        " 0.0\n",
        "awards_contract_value_initial_vat 0.0\n",
        "awards_contract_value_lowest 0.0\n",
        "awards_contract_value_terms 0.0\n",
        "awards_contract_value_text 0.0\n",
        "awards_contract_value_vat 0.0\n",
        "awards_score_chosen_tender 0.0\n",
        "awards_services_covered 0.0\n",
        "awards_total_value 0.0\n",
        "awards_total_value_currency 0.0\n",
        "document_contract_id"
       ]
      },
      {
       "output_type": "stream",
       "stream": "stdout",
       "text": [
        " 0.0\n",
        "document_contract_name 0.0\n",
        "document_date 0.0\n",
        "document_deadline 0.0\n",
        "document_document_id 0.0\n",
        "document_document_sent 0.0\n",
        "document_id_1 0.0\n",
        "document_identifier 0.0\n",
        "document_nuts_code 0.0\n",
        "document_publication_date 0.0\n",
        "document_signature"
       ]
      },
      {
       "output_type": "stream",
       "stream": "stdout",
       "text": [
        " 0.0\n",
        "document_source_tender 0.0\n",
        "document_uri 0.0\n",
        "document_url 0.0\n",
        "document_year 0.0\n",
        "producer 0.0\n",
        "contractor 0.0\n",
        "proponent 0.0\n",
        "supplier_name 0.0\n",
        "winner_code 0.0\n",
        "bidder_0_name 0.0\n",
        "bidder_0_id"
       ]
      },
      {
       "output_type": "stream",
       "stream": "stdout",
       "text": [
        " 0.0\n",
        "bidder_0_lowest_bid 0.0\n",
        "bidder_0_black_or_white 0.0\n",
        "supplier_info 0.0\n",
        "Contractor Legal Name 0.0\n",
        "Contractor stratification 0.0\n",
        "awards_tenderer_addr 0.0\n",
        "awards_tenderer_name 0.0\n",
        "process 0.0\n",
        "framework "
       ]
      },
      {
       "output_type": "stream",
       "stream": "stdout",
       "text": [
        "0.0\n",
        "facilitator 0.0\n",
        "procurement_entity_name 0.0\n",
        "procurement_entity 0.0\n",
        "awards_authority_addr 0.0\n",
        "awards_authority_name 0.0\n",
        "awards_authority_ref 0.0\n",
        "awards_authority_type 0.0\n",
        "document_authority_name 0.0\n",
        "document_authority_type_id "
       ]
      },
      {
       "output_type": "stream",
       "stream": "stdout",
       "text": [
        "0.0\n",
        "document_authority_type_name 0.0\n",
        "purchaser 0.0\n",
        "requirements 0.0\n",
        "ORG_NAME 0.0\n",
        "ORG_CONTACTEMAIL 0.0\n",
        "REGION 0.0\n",
        "procurring_entity_id 0.0\n",
        "procurer_name 0.0\n",
        "procurer_code "
       ]
      },
      {
       "output_type": "stream",
       "stream": "stdout",
       "text": [
        "0.0\n",
        "end_user_entity 0.0\n",
        "customer_info 0.0\n",
        "GOVERNMENT 0.0\n",
        "ACRONYMS 0.0\n",
        "UNIT 0.0\n",
        "CompraNet Unit Identifier 0.0\n",
        "CompraNet Unit name 0.0\n",
        "Responsibility 0.0\n",
        "Unit Branch 0.0\n",
        "document_country "
       ]
      },
      {
       "output_type": "stream",
       "stream": "stdout",
       "text": [
        "0.0\n",
        "REFERENCENUMBER 0.0\n",
        "id 0.0\n",
        "offer_step 0.0\n",
        "dataset_id 0.0\n",
        "risk_indicators 0.0\n",
        "bidder_0_black_or_white 0.0\n",
        "bidder_0_black_or_white 0.0\n",
        "bidder_0_black_or_white 0.0\n",
        "bidder_0_black_or_white 0.0\n",
        "bidder_0_black_or_white "
       ]
      },
      {
       "output_type": "stream",
       "stream": "stdout",
       "text": [
        "0.0\n",
        "bidder_0_black_or_white 0.0\n",
        "bidder_0_black_or_white 0.0\n",
        "bidder_0_black_or_white 0.0\n",
        "bidder_0_black_or_white 0.0\n",
        "bidder_0_black_or_white 0.0\n",
        "bidder_0_black_or_white 0.0\n",
        "bidder_0_black_or_white 0.0\n",
        "bidder_0_black_or_white 0.0\n",
        "bidder_0_black_or_white"
       ]
      },
      {
       "output_type": "stream",
       "stream": "stdout",
       "text": [
        " 0.0\n",
        "bidder_0_black_or_white 0.0\n",
        "bidder_0_black_or_white 0.0\n",
        "bidder_0_black_or_white 0.0\n",
        "bidder_0_black_or_white 0.0\n",
        "bidder_0_black_or_white 0.0\n",
        "bidder_0_black_or_white 0.0\n",
        "bidder_0_black_or_white 0.0\n",
        "bidder_0_black_or_white 0.0\n",
        "bidder_0_black_or_white 0.0\n",
        "bidder_0_black_or_white"
       ]
      },
      {
       "output_type": "stream",
       "stream": "stdout",
       "text": [
        " 0.0\n",
        "bidder_0_black_or_white 0.0\n",
        "bidder_0_black_or_white 0.0\n",
        "bidder_0_black_or_white 0.0\n",
        "bidder_0_black_or_white 0.0\n",
        "bidder_0_black_or_white 0.0\n",
        "bidder_0_black_or_white 0.0\n",
        "bidder_0_black_or_white 0.0\n",
        "bidder_0_black_or_white 0.0\n",
        "bidder_0_black_or_white 0.0\n",
        "bidder_0_black_or_white"
       ]
      },
      {
       "output_type": "stream",
       "stream": "stdout",
       "text": [
        " 0.0\n",
        "bidder_0_black_or_white 0.0\n",
        "bidder_0_black_or_white 0.0\n",
        "bidder_0_black_or_white 0.0\n",
        "bidder_0_black_or_white 0.0\n",
        "bidder_0_black_or_white 0.0\n",
        "bidder_0_black_or_white 0.0\n",
        "bidder_0_black_or_white 0.0\n",
        "bidder_0_black_or_white 0.0\n",
        "bidder_0_black_or_white"
       ]
      },
      {
       "output_type": "stream",
       "stream": "stdout",
       "text": [
        " 0.0\n",
        "bidder_0_black_or_white 0.0\n",
        "bidder_0_black_or_white 0.0\n",
        "bidder_0_black_or_white 0.0\n",
        "bidder_0_black_or_white 0.0\n",
        "bidder_0_black_or_white 0.0\n",
        "bidder_0_black_or_white 0.0\n",
        "bidder_0_black_or_white 0.0\n",
        "language 0.0\n",
        "Program Key"
       ]
      },
      {
       "output_type": "stream",
       "stream": "stdout",
       "text": [
        " 0.0\n",
        "Contract Framework 0.0\n",
        "Consolidated purchase 0.0\n",
        "Multi-year 0.0\n",
        "Unit stratification 0.0\n",
        "Company state 0.0\n",
        "Account manager type 0.0\n",
        "awards_additional_info 0.0\n",
        "awards_appeals_body 0.0\n",
        "awards_appeals_info 0.0\n",
        "awards_award_type"
       ]
      },
      {
       "output_type": "stream",
       "stream": "stdout",
       "text": [
        " 0.0\n",
        "awards_duration 0.0\n",
        "awards_electronic 0.0\n",
        "awards_eu_funds 0.0\n",
        "awards_framework_dps 0.0\n",
        "awards_gpa_covered 0.0\n",
        "awards_id 0.0\n",
        "awards_involves 0.0\n",
        "awards_language 0.0\n",
        "awards_legal_basis "
       ]
      },
      {
       "output_type": "stream",
       "stream": "stdout",
       "text": [
        "0.0\n",
        "awards_likely_subcontracted 0.0\n",
        "awards_lot_nr_title 0.0\n",
        "awards_object 0.0\n",
        "awards_scope 0.0\n",
        "document_directive 0.0\n",
        "document_original_language 0.0\n",
        "document_place 0.0\n",
        "document_procedure_id 0.0\n",
        "document_procedure_name 0.0\n",
        "document_regulation_id"
       ]
      },
      {
       "output_type": "stream",
       "stream": "stdout",
       "text": [
        " 0.0\n",
        "document_regulation_name 0.0\n",
        "year 0.0\n",
        "88 ?\n",
        "award 0.0\n",
        "contract"
       ]
      },
      {
       "output_type": "stream",
       "stream": "stdout",
       "text": [
        " 0.0\n",
        "tender 0.0\n",
        "NOTICEID "
       ]
      },
      {
       "output_type": "stream",
       "stream": "stdout",
       "text": [
        "0.0\n",
        "URL 0.0\n",
        "NOTICETYPE 0.0\n",
        "NOTICE_STATE"
       ]
      },
      {
       "output_type": "stream",
       "stream": "stdout",
       "text": [
        " 0.0\n",
        "NOTICE_STATE_CHANGE_DATE 0.0\n",
        "NUM_DOCS 0.0\n",
        "created_at"
       ]
      },
      {
       "output_type": "stream",
       "stream": "stdout",
       "text": [
        " 0.0\n",
        "updated_at 0.0\n",
        "url_id 0.0\n",
        "num_bids"
       ]
      },
      {
       "output_type": "stream",
       "stream": "stdout",
       "text": [
        " 0.0\n",
        "num_bidders 0.0\n",
        "contract_value 0.0\n",
        "winning_org_id"
       ]
      },
      {
       "output_type": "stream",
       "stream": "stdout",
       "text": [
        " 0.0\n",
        "updated 0.0\n",
        "is_new 0.0\n",
        "reference_number"
       ]
      },
      {
       "output_type": "stream",
       "stream": "stdout",
       "text": [
        " 0.0\n",
        "solicitation_number 0.0\n",
        "publication_date 0.0\n",
        "amendment_date"
       ]
      },
      {
       "output_type": "stream",
       "stream": "stdout",
       "text": [
        " 0.0\n",
        "currency 0.0\n",
        "contract_value 0.0\n",
        "archive status"
       ]
      },
      {
       "output_type": "stream",
       "stream": "stdout",
       "text": [
        " 0.0\n",
        "Federal contribution 0.0\n",
        "announcement URL 0.0\n",
        "awards_notice_date"
       ]
      },
      {
       "output_type": "stream",
       "stream": "stdout",
       "text": [
        " 0.0\n",
        "awards_num_offers 0.0\n",
        "awards_previous_notices "
       ]
      },
      {
       "output_type": "stream",
       "stream": "stdout",
       "text": [
        "0.0\n",
        "awards_total_value_highest 0.0\n",
        "awards_total_value_lowest "
       ]
      },
      {
       "output_type": "stream",
       "stream": "stdout",
       "text": [
        "0.0\n",
        "awards_total_value_text 0.0\n",
        "awards_total_value_vat "
       ]
      },
      {
       "output_type": "stream",
       "stream": "stdout",
       "text": [
        "0.0\n",
        "awards_type 0.0\n",
        "awards_uri 0.0\n",
        "document_award_criteria_id"
       ]
      },
      {
       "output_type": "stream",
       "stream": "stdout",
       "text": [
        " 0.0\n",
        "document_award_criteria_name 0.0\n",
        "good "
       ]
      },
      {
       "output_type": "stream",
       "stream": "stdout",
       "text": [
        "0.0\n",
        "service 0.0\n",
        "description 0.0\n",
        "item"
       ]
      },
      {
       "output_type": "stream",
       "stream": "stdout",
       "text": [
        " 0.0\n",
        "CPV 0.0\n",
        "GSIN 0.0\n",
        "type"
       ]
      },
      {
       "output_type": "stream",
       "stream": "stdout",
       "text": [
        " 0.0\n",
        "category 0.0\n",
        "TITLE 0.0\n",
        "DESCRIPTION "
       ]
      },
      {
       "output_type": "stream",
       "stream": "stdout",
       "text": [
        "0.0\n",
        "CLASSIFICATION 0.0\n",
        "cpv_code 0.0\n",
        "sub_codes"
       ]
      },
      {
       "output_type": "stream",
       "stream": "stdout",
       "text": [
        " 0.0\n",
        "title 0.0\n",
        "gsin 0.0\n",
        "description "
       ]
      },
      {
       "output_type": "stream",
       "stream": "stdout",
       "text": [
        "0.0\n",
        "Record Title  0.0\n",
        "Contract Type 0.0\n",
        "Contract Title"
       ]
      },
      {
       "output_type": "stream",
       "stream": "stdout",
       "text": [
        " 0.0\n",
        "awards_cpv 0.0\n",
        "awards_dac_code 0.0\n",
        "awards_description"
       ]
      },
      {
       "output_type": "stream",
       "stream": "stdout",
       "text": [
        " 0.0\n",
        "awards_title 0.0\n",
        "document_cpvs 0.0\n",
        "document_document_name"
       ]
      },
      {
       "output_type": "stream",
       "stream": "stdout",
       "text": [
        " 0.0\n",
        "document_document_number 0.0\n",
        "document_heading 0.0\n",
        "document_oj"
       ]
      },
      {
       "output_type": "stream",
       "stream": "stdout",
       "text": [
        " 0.0\n",
        "document_oj_uc 0.0\n",
        "document_title 0.0\n",
        "document_title_uc"
       ]
      },
      {
       "output_type": "stream",
       "stream": "stdout",
       "text": [
        " 0.0\n",
        "tender 0.0\n",
        "request 0.0\n",
        "proposal"
       ]
      },
      {
       "output_type": "stream",
       "stream": "stdout",
       "text": [
        " 0.0\n",
        "qualifications 0.0\n",
        "notice 0.0\n",
        "intent"
       ]
      },
      {
       "output_type": "stream",
       "stream": "stdout",
       "text": [
        " 0.0\n",
        "date 0.0\n",
        "DATEPUBLISHED 0.0\n",
        "VALUEMIN"
       ]
      },
      {
       "output_type": "stream",
       "stream": "stdout",
       "text": [
        " 0.0\n",
        "VALUEMAX 0.0\n",
        "STATUS 0.0\n",
        "tender_type"
       ]
      },
      {
       "output_type": "stream",
       "stream": "stdout",
       "text": [
        " 0.0\n",
        "tender_registration_number 0.0\n",
        "tender_status 0.0\n",
        "tender_announcement_date"
       ]
      },
      {
       "output_type": "stream",
       "stream": "stdout",
       "text": [
        " 0.0\n",
        "bid_start_date 0.0\n",
        "bid_end_date 0.0\n",
        "estimated_value"
       ]
      },
      {
       "output_type": "stream",
       "stream": "stdout",
       "text": [
        " 0.0\n",
        "include_vat 0.0\n",
        "guarantee_amount 0.0\n",
        "guarantee_period"
       ]
      },
      {
       "output_type": "stream",
       "stream": "stdout",
       "text": [
        " 0.0\n",
        "contract_value 0.0\n",
        "inProgress 0.0\n",
        "publishing_status"
       ]
      },
      {
       "output_type": "stream",
       "stream": "stdout",
       "text": [
        " 0.0\n",
        "contract_award_procedure 0.0\n",
        "tendering_procedure 0.0\n",
        "currency"
       ]
      },
      {
       "output_type": "stream",
       "stream": "stdout",
       "text": [
        " 0.0\n",
        "contract_value 0.0\n",
        "Record template 0.0\n",
        "Procedure Number"
       ]
      },
      {
       "output_type": "stream",
       "stream": "stdout",
       "text": [
        " 0.0\n",
        "Decision Date 0.0\n",
        "RFP Date Type 0.0\n",
        "Proposal Opening Date"
       ]
      },
      {
       "output_type": "stream",
       "stream": "stdout",
       "text": [
        " 0.0\n",
        "Procedure scope 0.0\n",
        "Procedure type 0.0\n",
        "Submission form type"
       ]
      },
      {
       "output_type": "stream",
       "stream": "stdout",
       "text": [
        " 0.0\n",
        "announcement URL 0.0\n",
        "awards_award_criteria 0.0\n",
        "awards_award_date"
       ]
      },
      {
       "output_type": "stream",
       "stream": "stdout",
       "text": [
        " 0.0\n",
        "awards_procedure_type 0.0\n",
        "awards_publication_date 0.0\n",
        "awards_reference"
       ]
      },
      {
       "output_type": "stream",
       "stream": "stdout",
       "text": [
        " 0.0\n",
        "document_bid_type_id 0.0\n",
        "document_bid_type_name 0.0\n",
        "document_comment_deadline"
       ]
      },
      {
       "output_type": "stream",
       "stream": "stdout",
       "text": [
        " 0.0\n",
        "binding 0.0\n",
        "agreement 0.0\n",
        "value"
       ]
      },
      {
       "output_type": "stream",
       "stream": "stdout",
       "text": [
        " 0.0\n",
        "date 0.0\n",
        "contract_value 0.0\n",
        "winning_org_id "
       ]
      },
      {
       "output_type": "stream",
       "stream": "stdout",
       "text": [
        "0.0\n",
        "contract_sequence_number 0.0\n",
        "contract_number 0.0\n",
        "award_date"
       ]
      },
      {
       "output_type": "stream",
       "stream": "stdout",
       "text": [
        " 0.0\n",
        "currency 0.0\n",
        "contract_value 0.0\n",
        "CompraNet Record ID"
       ]
      },
      {
       "output_type": "stream",
       "stream": "stdout",
       "text": [
        " 0.0\n",
        "Contract ID 0.0\n",
        "Contract start date 0.0\n",
        "contract end date"
       ]
      },
      {
       "output_type": "stream",
       "stream": "stdout",
       "text": [
        " 0.0\n",
        "contract value 0.0\n",
        "Currency type 0.0\n",
        "contract status"
       ]
      },
      {
       "output_type": "stream",
       "stream": "stdout",
       "text": [
        " 0.0\n",
        "Signature date 0.0\n",
        "announcement URL 0.0\n",
        "awards_behalf_of"
       ]
      },
      {
       "output_type": "stream",
       "stream": "stdout",
       "text": [
        " 0.0\n",
        "awards_contract_id 0.0\n",
        "awards_contract_nr 0.0\n",
        "awards_contract_value"
       ]
      },
      {
       "output_type": "stream",
       "stream": "stdout",
       "text": [
        " 0.0\n",
        "awards_contract_value_currency 0.0\n",
        "awards_contract_value_highest 0.0\n",
        "awards_contract_value_initial"
       ]
      },
      {
       "output_type": "stream",
       "stream": "stdout",
       "text": [
        " 0.0\n",
        "awards_contract_value_initial_currency 0.0\n",
        "awards_contract_value_initial_terms 0.0\n",
        "awards_contract_value_initial_vat"
       ]
      },
      {
       "output_type": "stream",
       "stream": "stdout",
       "text": [
        " 0.0\n",
        "awards_contract_value_lowest 0.0\n",
        "awards_contract_value_terms 0.0\n",
        "awards_contract_value_text"
       ]
      },
      {
       "output_type": "stream",
       "stream": "stdout",
       "text": [
        " 0.0\n",
        "awards_contract_value_vat 0.0\n",
        "awards_score_chosen_tender 0.0\n",
        "awards_services_covered"
       ]
      },
      {
       "output_type": "stream",
       "stream": "stdout",
       "text": [
        " 0.0\n",
        "awards_total_value 0.0\n",
        "awards_total_value_currency 0.0\n",
        "document_contract_id"
       ]
      },
      {
       "output_type": "stream",
       "stream": "stdout",
       "text": [
        " 0.0\n",
        "document_contract_name 0.0\n",
        "document_date 0.0\n",
        "document_deadline"
       ]
      },
      {
       "output_type": "stream",
       "stream": "stdout",
       "text": [
        " 0.0\n",
        "document_document_id 0.0\n",
        "document_document_sent 0.0\n",
        "document_id_1"
       ]
      },
      {
       "output_type": "stream",
       "stream": "stdout",
       "text": [
        " 0.0\n",
        "document_identifier 0.0\n",
        "document_nuts_code 0.0\n",
        "document_publication_date"
       ]
      },
      {
       "output_type": "stream",
       "stream": "stdout",
       "text": [
        " 0.0\n",
        "document_signature 0.0\n",
        "document_source_tender 0.0\n",
        "document_uri"
       ]
      },
      {
       "output_type": "stream",
       "stream": "stdout",
       "text": [
        " 0.0\n",
        "document_url 0.0\n",
        "document_year 0.0\n",
        "producer"
       ]
      },
      {
       "output_type": "stream",
       "stream": "stdout",
       "text": [
        " 0.0\n",
        "contractor 0.0\n",
        "proponent 0.0\n",
        "supplier_name "
       ]
      },
      {
       "output_type": "stream",
       "stream": "stdout",
       "text": [
        "0.0\n",
        "winner_code 0.0\n",
        "bidder_0_name 0.0\n",
        "bidder_0_id"
       ]
      },
      {
       "output_type": "stream",
       "stream": "stdout",
       "text": [
        " 0.0\n",
        "bidder_0_lowest_bid 0.0\n",
        "bidder_0_black_or_white 0.0\n",
        "supplier_info"
       ]
      },
      {
       "output_type": "stream",
       "stream": "stdout",
       "text": [
        " 0.0\n",
        "Contractor Legal Name 0.0\n",
        "Contractor stratification 0.0\n",
        "awards_tenderer_addr"
       ]
      },
      {
       "output_type": "stream",
       "stream": "stdout",
       "text": [
        " 0.0\n",
        "awards_tenderer_name 0.0\n",
        "process 0.0\n",
        "framework"
       ]
      },
      {
       "output_type": "stream",
       "stream": "stdout",
       "text": [
        " 0.0\n",
        "facilitator 0.0\n",
        "procurement_entity_name 0.0\n",
        "procurement_entity"
       ]
      },
      {
       "output_type": "stream",
       "stream": "stdout",
       "text": [
        " 0.0\n",
        "awards_authority_addr 0.0\n",
        "awards_authority_name 0.0\n",
        "awards_authority_ref"
       ]
      },
      {
       "output_type": "stream",
       "stream": "stdout",
       "text": [
        " 0.0\n",
        "awards_authority_type 0.0\n",
        "document_authority_name 0.0\n",
        "document_authority_type_id"
       ]
      },
      {
       "output_type": "stream",
       "stream": "stdout",
       "text": [
        " 0.0\n",
        "document_authority_type_name 0.0\n",
        "purchaser 0.0\n",
        "requirements"
       ]
      },
      {
       "output_type": "stream",
       "stream": "stdout",
       "text": [
        " 0.0\n",
        "ORG_NAME 0.0\n",
        "ORG_CONTACTEMAIL 0.0\n",
        "REGION"
       ]
      },
      {
       "output_type": "stream",
       "stream": "stdout",
       "text": [
        " 0.0\n",
        "procurring_entity_id 0.0\n",
        "procurer_name 0.0\n",
        "procurer_code"
       ]
      },
      {
       "output_type": "stream",
       "stream": "stdout",
       "text": [
        " 0.0\n",
        "end_user_entity 0.0\n",
        "customer_info 0.0\n",
        "GOVERNMENT"
       ]
      },
      {
       "output_type": "stream",
       "stream": "stdout",
       "text": [
        " 0.0\n",
        "ACRONYMS 0.0\n",
        "UNIT 0.0\n",
        "CompraNet Unit Identifier"
       ]
      },
      {
       "output_type": "stream",
       "stream": "stdout",
       "text": [
        " 0.0\n",
        "CompraNet Unit name 0.0\n",
        "Responsibility "
       ]
      },
      {
       "output_type": "stream",
       "stream": "stdout",
       "text": [
        "0.0\n",
        "Unit Branch 0.0\n",
        "document_country 0.0\n",
        "REFERENCENUMBER"
       ]
      },
      {
       "output_type": "stream",
       "stream": "stdout",
       "text": [
        " 0.0\n",
        "id 0.0\n",
        "offer_step 0.0\n",
        "dataset_id"
       ]
      },
      {
       "output_type": "stream",
       "stream": "stdout",
       "text": [
        " 0.0\n",
        "risk_indicators 0.0\n",
        "bidder_0_black_or_white 0.0\n",
        "bidder_0_black_or_white"
       ]
      },
      {
       "output_type": "stream",
       "stream": "stdout",
       "text": [
        " 0.0\n",
        "bidder_0_black_or_white 0.0\n",
        "bidder_0_black_or_white 0.0\n",
        "bidder_0_black_or_white"
       ]
      },
      {
       "output_type": "stream",
       "stream": "stdout",
       "text": [
        " 0.0\n",
        "bidder_0_black_or_white 0.0\n",
        "bidder_0_black_or_white "
       ]
      },
      {
       "output_type": "stream",
       "stream": "stdout",
       "text": [
        "0.0\n",
        "bidder_0_black_or_white 0.0\n",
        "bidder_0_black_or_white "
       ]
      },
      {
       "output_type": "stream",
       "stream": "stdout",
       "text": [
        "0.0\n",
        "bidder_0_black_or_white 0.0\n",
        "bidder_0_black_or_white 0.0\n",
        "bidder_0_black_or_white"
       ]
      },
      {
       "output_type": "stream",
       "stream": "stdout",
       "text": [
        " 0.0\n",
        "bidder_0_black_or_white 0.0\n",
        "bidder_0_black_or_white 0.0\n",
        "bidder_0_black_or_white"
       ]
      },
      {
       "output_type": "stream",
       "stream": "stdout",
       "text": [
        " 0.0\n",
        "bidder_0_black_or_white 0.0\n",
        "bidder_0_black_or_white 0.0\n",
        "bidder_0_black_or_white"
       ]
      },
      {
       "output_type": "stream",
       "stream": "stdout",
       "text": [
        " 0.0\n",
        "bidder_0_black_or_white 0.0\n",
        "bidder_0_black_or_white 0.0\n",
        "bidder_0_black_or_white"
       ]
      },
      {
       "output_type": "stream",
       "stream": "stdout",
       "text": [
        " 0.0\n",
        "bidder_0_black_or_white 0.0\n",
        "bidder_0_black_or_white 0.0\n",
        "bidder_0_black_or_white"
       ]
      },
      {
       "output_type": "stream",
       "stream": "stdout",
       "text": [
        " 0.0\n",
        "bidder_0_black_or_white 0.0\n",
        "bidder_0_black_or_white 0.0\n",
        "bidder_0_black_or_white"
       ]
      },
      {
       "output_type": "stream",
       "stream": "stdout",
       "text": [
        " 0.0\n",
        "bidder_0_black_or_white 0.0\n",
        "bidder_0_black_or_white 0.0\n",
        "bidder_0_black_or_white "
       ]
      },
      {
       "output_type": "stream",
       "stream": "stdout",
       "text": [
        "0.0\n",
        "bidder_0_black_or_white 0.0\n",
        "bidder_0_black_or_white 0.0\n",
        "bidder_0_black_or_white"
       ]
      },
      {
       "output_type": "stream",
       "stream": "stdout",
       "text": [
        " 0.0\n",
        "bidder_0_black_or_white 0.0\n",
        "bidder_0_black_or_white 0.0\n",
        "bidder_0_black_or_white "
       ]
      },
      {
       "output_type": "stream",
       "stream": "stdout",
       "text": [
        "0.0\n",
        "bidder_0_black_or_white 0.0\n",
        "bidder_0_black_or_white 0.0\n",
        "bidder_0_black_or_white "
       ]
      },
      {
       "output_type": "stream",
       "stream": "stdout",
       "text": [
        "0.0\n",
        "bidder_0_black_or_white 0.0\n",
        "bidder_0_black_or_white 0.0\n",
        "bidder_0_black_or_white"
       ]
      },
      {
       "output_type": "stream",
       "stream": "stdout",
       "text": [
        " 0.0\n",
        "bidder_0_black_or_white 0.0\n",
        "bidder_0_black_or_white 0.0\n",
        "bidder_0_black_or_white "
       ]
      },
      {
       "output_type": "stream",
       "stream": "stdout",
       "text": [
        "0.0\n",
        "bidder_0_black_or_white 0.0\n",
        "bidder_0_black_or_white 0.0\n",
        "bidder_0_black_or_white"
       ]
      },
      {
       "output_type": "stream",
       "stream": "stdout",
       "text": [
        " 0.0\n",
        "bidder_0_black_or_white 0.0\n",
        "bidder_0_black_or_white 0.0\n",
        "language"
       ]
      },
      {
       "output_type": "stream",
       "stream": "stdout",
       "text": [
        " 0.0\n",
        "Program Key 0.0\n",
        "Contract Framework 0.0\n",
        "Consolidated purchase"
       ]
      },
      {
       "output_type": "stream",
       "stream": "stdout",
       "text": [
        " 0.0\n",
        "Multi-year 0.0\n",
        "Unit stratification 0.0\n",
        "Company state"
       ]
      },
      {
       "output_type": "stream",
       "stream": "stdout",
       "text": [
        " 0.0\n",
        "Account manager type 0.0\n",
        "awards_additional_info 0.0\n",
        "awards_appeals_body "
       ]
      },
      {
       "output_type": "stream",
       "stream": "stdout",
       "text": [
        "0.0\n",
        "awards_appeals_info 0.0\n",
        "awards_award_type 0.0\n",
        "awards_duration"
       ]
      },
      {
       "output_type": "stream",
       "stream": "stdout",
       "text": [
        " 0.0\n",
        "awards_electronic 0.0\n",
        "awards_eu_funds "
       ]
      },
      {
       "output_type": "stream",
       "stream": "stdout",
       "text": [
        "0.0\n",
        "awards_framework_dps 0.0\n",
        "awards_gpa_covered "
       ]
      },
      {
       "output_type": "stream",
       "stream": "stdout",
       "text": [
        "0.0\n",
        "awards_id 0.0\n",
        "awards_involves "
       ]
      },
      {
       "output_type": "stream",
       "stream": "stdout",
       "text": [
        "0.0\n",
        "awards_language 0.0\n",
        "awards_legal_basis "
       ]
      },
      {
       "output_type": "stream",
       "stream": "stdout",
       "text": [
        "0.0\n",
        "awards_likely_subcontracted 0.0\n",
        "awards_lot_nr_title 0.0\n",
        "awards_object"
       ]
      },
      {
       "output_type": "stream",
       "stream": "stdout",
       "text": [
        " 0.0\n",
        "awards_scope 0.0\n",
        "document_directive 0.0\n",
        "document_original_language"
       ]
      },
      {
       "output_type": "stream",
       "stream": "stdout",
       "text": [
        " 0.0\n",
        "document_place 0.0\n",
        "document_procedure_id 0.0\n",
        "document_procedure_name"
       ]
      },
      {
       "output_type": "stream",
       "stream": "stdout",
       "text": [
        " 0.0\n",
        "document_regulation_id 0.0\n",
        "document_regulation_name 0.0\n",
        "year"
       ]
      },
      {
       "output_type": "stream",
       "stream": "stdout",
       "text": [
        " 0.0\n"
       ]
      }
     ],
     "prompt_number": 139
    },
    {
     "cell_type": "heading",
     "level": 2,
     "metadata": {},
     "source": [
      "III. Combine Features into Feature Matrix & Define Outcome"
     ]
    },
    {
     "cell_type": "code",
     "collapsed": false,
     "input": [
      "X = df[['length','word_count', 'header_in_entity', 'entity_in_header']]"
     ],
     "language": "python",
     "metadata": {},
     "outputs": [],
     "prompt_number": 148
    },
    {
     "cell_type": "code",
     "collapsed": false,
     "input": [
      "y = df.entity"
     ],
     "language": "python",
     "metadata": {},
     "outputs": [],
     "prompt_number": 156
    },
    {
     "cell_type": "heading",
     "level": 2,
     "metadata": {},
     "source": [
      "IV. Create Model"
     ]
    },
    {
     "cell_type": "code",
     "collapsed": false,
     "input": [
      "from sklearn.svm import LinearSVC"
     ],
     "language": "python",
     "metadata": {},
     "outputs": [],
     "prompt_number": 150
    },
    {
     "cell_type": "heading",
     "level": 2,
     "metadata": {},
     "source": [
      "V. Split Data into Test and Training"
     ]
    },
    {
     "cell_type": "code",
     "collapsed": false,
     "input": [
      "from sklearn import cross_validation"
     ],
     "language": "python",
     "metadata": {},
     "outputs": [],
     "prompt_number": 151
    },
    {
     "cell_type": "code",
     "collapsed": false,
     "input": [
      "rs = cross_validation.ShuffleSplit(len(X), n_iter=5, train_size=0.5, test_size=.25, random_state=0)"
     ],
     "language": "python",
     "metadata": {},
     "outputs": [],
     "prompt_number": 152
    },
    {
     "cell_type": "code",
     "collapsed": false,
     "input": [
      "for train_index, test_index in rs:\n",
      "    print 'train', train_index, '\\ntest', test_index"
     ],
     "language": "python",
     "metadata": {},
     "outputs": [
      {
       "output_type": "stream",
       "stream": "stdout",
       "text": [
        "train [258  37  97 191 135 118 160 201 212 236  76 210 223 253 235 281  44 241\n",
        " 189 152 158 101  54 181  18 280 248 126 171  71 225 271 214 287 213 154\n",
        " 159  33  83 247  60 167 279 110  21  29 146  16  56  75 109 175 200 161\n",
        "   4  96 166  61  67 137 274 261 278  40 267  13 107 218   3 157 125  24\n",
        "  30  77 276 208  19 252 229 268  80  51   2 233 104 179  86  10 198  58\n",
        "  41  14 155  50 209 239 123 199  62 187 224 130 207 259  43 114 138 293\n",
        " 216 149 112 245  98 215  93 221 162  36 178 113   0  94  95 295 260 238\n",
        "  69  49  48  85 296 141  23 250 148 143  78 180 100 204 131 266 297 196\n",
        "   6  68 203  84 170] \n",
        "test [206 188  12 219 237 136 228 205  52 108 240  15 184 246  22  74 269  90\n",
        " 227 255 190 103 124 129 220 116 194 285 294 249  92  66   8 122 217 150\n",
        " 176 182 298   5 263  89  81  34  55 139 234  64   7  45  73 291 173 106\n",
        "  59 230 168  26 283 153 134 145  63 292 284 222 289 111  20  46 156 226\n",
        " 272  27 144]\n",
        "train [ 35  17 270 280  45  50  57 225 216 213  32  78 142 186 192 146  89 212\n",
        " 127 218  46 156 205 253  21 168 261 166 281 298 260   0  95 150  71 178\n",
        " 102 282 108 152  85  67 122  84 118 273 226 176  33 208 179  73 239 109\n",
        " 251 237 291 214 211 134  69  99 162 196  39 232 297 129 267 140 131 250\n",
        " 113 233  76 172 111 157   9 169 288 296  91 104 138 112  68  36 188  65\n",
        "  42 126   3 241 148 285 269 264 128 137 243   7  86 119 228 115 161  29\n",
        " 155 197 185 101  97  20 153  54  30 231  49 100 255 283 151 114  56 144\n",
        "  60 194 199   6   8  79 266 263 215 258 254  38 229 121 271  44 292 286\n",
        " 247 236 163 124 154] \n",
        "test [149  96 123  25  23 259 130 235 244 230 180 133 210 184 175 159 143 222\n",
        " 224  19 187 110 183 189 200 262  37  88  82  90 249 182  31  27  14 165\n",
        "   2   1 145 125 223 268  41 217 170 204 275 202 290  11  10 132  40  47\n",
        " 287 107  98 278  64 240  15  12 257 190 248 234  75 103 246  62 293  77\n",
        " 206 221  66]\n",
        "train [200 201 233 225 232 103 113 208  36  98  19  22 249 231 184 144 216 256\n",
        "  80  59 221  63 172 166  30  26  40 276 189 137 143 149  92  94  13 192\n",
        " 272 285 293 274 151  62  79  43 207 234  53 280   5 171 239 196 211 222\n",
        " 195  51 158 126  85 114  75 212 139 269   6 185   1  38 275 148 178 261\n",
        "  15 140 266 218 128 284 173 264 175 147 176 134 271   0  54  45 227 168\n",
        " 203 123  39 258 236  18 277 156 205  88  50  99 202  33 122 160 167 286\n",
        " 104 245  10 105  68 213 295 117 290  89 108 220   2   9 298 194 219 180\n",
        " 238 154  28  42  20 282  65  84 279   3  29 259  90  71  49 179 210 296\n",
        " 223 116  37 230  48] \n",
        "test [ 55 169 191 260  31 129 204 247 163  25 112  96 294  24 190 215 228 111\n",
        " 188  41 120 101 183 130 162 141  60  82  95 255   8 273 106 150 253 155\n",
        " 291 268  66  93 224 287 193 121  11  77 214 246 251  86 248 289  27  23\n",
        " 278  83  70 226 145  14 142  97  44 132  57 265 136  69  91  56  16  67\n",
        "  61 217 209]\n",
        "train [236 124 223 246  17  47  66  41 125 109  86  49 156 197   4 204 206 258\n",
        "  75 275 114 253  91  44 193 233  20 152 158  18  13 155 285 159 277 192\n",
        "  27  71 160 189 289  22  57 281 184 107 276  50 234 138 130  67 259 252\n",
        "  70  80 105  10 222 262 140  79  31  64 191  83 161  72  40 247  33 176\n",
        "   1 144 172 245 256 173 230 177  76 294 283 292  58 250 106 131 209 257\n",
        " 190 188 136  73  85  28 146 129 205 123  60 221 178 232 208  29 135 165\n",
        " 219  82 240 201  93 248 115 269  68 224  55 215 195 139 113 242 214 202\n",
        " 102 179   7 118 103 180 273  78  15 293 121 133 274 295 249 174  90   3\n",
        " 218 151  16  51 265] \n",
        "test [127 153 162 186 166  39 212 141  69 137  46 260  12 288 104  84 251   8\n",
        "  14  19   5 126  74  36 227 187 120 286 254 194 171  62  35 169 181 108\n",
        "  53  61 267 228  26  52 149 142  63   0  99   9 203  54 243 220  56 241\n",
        " 229  23  30  37 255 296 231 297 280 268 210 150 211  42  32 168 128  92\n",
        " 143  34 116]\n",
        "train [ 22  62 274  17 292  51 216 256  63 259 249 282 175 180 207 287 214 163\n",
        " 281 243 264 136  21  14  82 122 142  95 266  75 134 246 169  85   5 107\n",
        " 125 283 195  64 159 154   8  67 127 210 112  80 196 182 151 203  43  96\n",
        " 260 148 251 129 233  71 215  69 218  48 118 254 290 224 262 113 121 133\n",
        " 242 173 193  45  98  55 119 284 277 201  84  94  46 253 211 227 126 104\n",
        " 116 257 108 160 255 267 146 261 239 244 138 143  88   7  30 223 285 150\n",
        " 179 288  27 111  40 230  37 209  38 172 278 280  20 250 184 296 273 235\n",
        "  23 144  19 120 269 145 258 130  42 188 181 157  18  15 137 275  53 199\n",
        " 232  81  47  83 294] \n",
        "test [197  90 240  52  87  11 295 139 174 236  97 191  44 248 238   3  70 276\n",
        "  31 152  74 117 166  93 102 206 189  76 110 208  86  54 237 298   4 263\n",
        " 200  34 221 156 229  41  91  57 178 187 171 101 183 153 135 219 161 279\n",
        " 202 297 272  73 231 291   6  89 141 217  72 162  25 170  78  59 168 190\n",
        "  79 149   9]\n"
       ]
      }
     ],
     "prompt_number": 153
    },
    {
     "cell_type": "heading",
     "level": 2,
     "metadata": {},
     "source": [
      "Fit and Test Models"
     ]
    },
    {
     "cell_type": "code",
     "collapsed": false,
     "input": [
      "def score_model(actual, predicted):\n",
      "    score_df = pd.DataFrame([actual, predicted], index=['actual', 'predicted']).T\n",
      "    return { \"correct\": sum(score_df.actual == score_df.predicted), \n",
      "             \"incorrect\": sum(score_df.actual != score_df.predicted) }"
     ],
     "language": "python",
     "metadata": {},
     "outputs": [],
     "prompt_number": 154
    },
    {
     "cell_type": "code",
     "collapsed": false,
     "input": [
      "X = df[['length','word_count']]\n",
      "\n",
      "svc = LinearSVC()\n",
      "\n",
      "for train_index, test_index in rs:\n",
      "    model = svc.fit(X.ix[train_index], y.ix[train_index]) \n",
      "    actual = y.ix[test_index].values\n",
      "    predicted = model.predict(X.ix[test_index])\n",
      "    print score_model(actual, predicted)"
     ],
     "language": "python",
     "metadata": {},
     "outputs": [
      {
       "output_type": "stream",
       "stream": "stdout",
       "text": [
        "{'incorrect': 67, 'correct': 8}\n",
        "{'incorrect': 53, 'correct': 22}\n",
        "{'incorrect': 52, 'correct': 23}"
       ]
      },
      {
       "output_type": "stream",
       "stream": "stdout",
       "text": [
        "\n",
        "{'incorrect': 51, 'correct': 24}\n",
        "{'incorrect': 56, 'correct': 19}"
       ]
      },
      {
       "output_type": "stream",
       "stream": "stdout",
       "text": [
        "\n"
       ]
      }
     ],
     "prompt_number": 157
    },
    {
     "cell_type": "code",
     "collapsed": false,
     "input": [
      "X = df[['length','word_count', 'header_in_entity', 'entity_in_header']]\n",
      "\n",
      "svc = LinearSVC()\n",
      "model = svc.fit(X.ix[train_index], y.ix[train_index]) \n",
      "\n",
      "for train_index, test_index in rs:\n",
      "    model = svc.fit(X.ix[train_index], y.ix[train_index]) \n",
      "    actual = y.ix[test_index].values\n",
      "    predicted = model.predict(X.ix[test_index])\n",
      "    print score_model(actual, predicted)"
     ],
     "language": "python",
     "metadata": {},
     "outputs": [
      {
       "output_type": "stream",
       "stream": "stdout",
       "text": [
        "{'incorrect': 38, 'correct': 37}\n",
        "{'incorrect': 38, 'correct': 37}\n",
        "{'incorrect': 35, 'correct': 40}"
       ]
      },
      {
       "output_type": "stream",
       "stream": "stdout",
       "text": [
        "\n",
        "{'incorrect': 36, 'correct': 39}\n",
        "{'incorrect': 41, 'correct': 34}"
       ]
      },
      {
       "output_type": "stream",
       "stream": "stdout",
       "text": [
        "\n"
       ]
      }
     ],
     "prompt_number": 160
    },
    {
     "cell_type": "code",
     "collapsed": false,
     "input": [
      "X = df[['length','word_count', 'header_in_entity', 'entity_in_header'] + entity_features]\n",
      "\n",
      "svc = LinearSVC()\n",
      "model = svc.fit(X.ix[train_index], y.ix[train_index]) \n",
      "\n",
      "for train_index, test_index in rs:\n",
      "    model = svc.fit(X.ix[train_index], y.ix[train_index]) \n",
      "    actual = y.ix[test_index].values\n",
      "    predicted = model.predict(X.ix[test_index])\n",
      "    print score_model(actual, predicted)"
     ],
     "language": "python",
     "metadata": {},
     "outputs": [
      {
       "output_type": "stream",
       "stream": "stdout",
       "text": [
        "{'incorrect': 34, 'correct': 41}\n",
        "{'incorrect': 39, 'correct': 36}\n",
        "{'incorrect': 35, 'correct': 40}"
       ]
      },
      {
       "output_type": "stream",
       "stream": "stdout",
       "text": [
        "\n",
        "{'incorrect': 39, 'correct': 36}\n",
        "{'incorrect': 36, 'correct': 39}"
       ]
      },
      {
       "output_type": "stream",
       "stream": "stdout",
       "text": [
        "\n"
       ]
      }
     ],
     "prompt_number": 163
    },
    {
     "cell_type": "code",
     "collapsed": false,
     "input": [],
     "language": "python",
     "metadata": {},
     "outputs": [],
     "prompt_number": 70
    },
    {
     "cell_type": "code",
     "collapsed": false,
     "input": [],
     "language": "python",
     "metadata": {},
     "outputs": []
    }
   ],
   "metadata": {}
  }
 ]
}