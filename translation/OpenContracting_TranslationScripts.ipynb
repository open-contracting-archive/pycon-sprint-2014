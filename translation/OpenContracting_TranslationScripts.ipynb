{
 "metadata": {
  "name": "",
  "signature": "sha256:3dc70d3fa8c4191556e7f92c689a208974c49626787d708981453e3e430689d8"
 },
 "nbformat": 3,
 "nbformat_minor": 0,
 "worksheets": [
  {
   "cells": [
    {
     "cell_type": "code",
     "collapsed": false,
     "input": [
      "##  Translation tool for OpenContracting, uses google's tranlation apis"
     ],
     "language": "python",
     "metadata": {},
     "outputs": [],
     "prompt_number": 27
    },
    {
     "cell_type": "code",
     "collapsed": false,
     "input": [
      "import json\n",
      "import requests"
     ],
     "language": "python",
     "metadata": {},
     "outputs": [],
     "prompt_number": 28
    },
    {
     "cell_type": "code",
     "collapsed": false,
     "input": [
      "## enter the google translate API key here\n",
      "my_key = (\".\")"
     ],
     "language": "python",
     "metadata": {},
     "outputs": []
    },
    {
     "cell_type": "markdown",
     "metadata": {},
     "source": [
      "Working with results\n",
      "\n",
      "You can translate text from one language to another language by sending an HTTP GET request to its URI. The URI for a request has the following format:\n",
      "\n",
      "https://www.googleapis.com/language/translate/v2?parameters\n",
      "\n",
      "Three query parameters are required with each translation request:\n",
      "\n",
      "API key\n",
      "    Use the key query parameter to identify your application.\n",
      "Target language\n",
      "    Use the target query parameter to specify the language you want to translate into.\n",
      "Source text string\n",
      "    Use the q query parameter to identify the string to translate.\n",
      "\n",
      "All other query parameters are optional. The URL for the GET, including parameters, must be less than 2K characters."
     ]
    },
    {
     "cell_type": "code",
     "collapsed": false,
     "input": [
      "def get_lang(source_text, key = '', print_meta_data=False):\n",
      "    \"\"\"\n",
      "    Inputs:\n",
      "    source_text - source text as a string or iterable of strings\n",
      "    key - google api key, needed or function will raise and error\n",
      "\n",
      "    returns list of language identifiers\n",
      "    \"\"\"\n",
      "    #set up url request to google translate api\n",
      "    url_shell = 'https://www.googleapis.com/language/translate/v2/detect?key={0}&q={1}'\n",
      "    url = url_shell.format(key, source_text)\n",
      "    response = requests.get(url)\n",
      "\n",
      "    #parse response\n",
      "    data_dict = json.loads(response.text)\n",
      "    source_lang = data_dict['data']['detections'][0][0]['language'] \n",
      "\n",
      "    if print_meta_data:\n",
      "        print 'Is detection reliable: {0}'.format(data_dict['data']['detections']['isReliable'])\n",
      "        print 'Confidence: {0}'.format(data_dict['data']['detections']['confidence'])\n",
      "\n",
      "    return source_lang\n",
      "\n",
      "## can return comma seperated "
     ],
     "language": "python",
     "metadata": {},
     "outputs": [],
     "prompt_number": 30
    },
    {
     "cell_type": "code",
     "collapsed": false,
     "input": [
      "'''\n",
      "I added a line of code, \n",
      "\n",
      "https://www.googleapis.com/language/translate/v2?parameters\n",
      "\n",
      "but it was the general google translate tool,\n",
      "the code in the method tells you what the language is!\n",
      "'''"
     ],
     "language": "python",
     "metadata": {},
     "outputs": [
      {
       "metadata": {},
       "output_type": "pyout",
       "prompt_number": 31,
       "text": [
        "'\\nI added a line of code, \\n\\nhttps://www.googleapis.com/language/translate/v2?parameters\\n\\nbut it was the general google translate tool,\\nthe code in the method tells you what the language is!\\n'"
       ]
      }
     ],
     "prompt_number": 31
    },
    {
     "cell_type": "code",
     "collapsed": false,
     "input": [
      "text_French = ('La litterature fran\u00e7aise comprend l')"
     ],
     "language": "python",
     "metadata": {},
     "outputs": [],
     "prompt_number": 32
    },
    {
     "cell_type": "code",
     "collapsed": false,
     "input": [
      "get_lang(text_French, my_key)"
     ],
     "language": "python",
     "metadata": {},
     "outputs": [
      {
       "metadata": {},
       "output_type": "pyout",
       "prompt_number": 33,
       "text": [
        "u'fr'"
       ]
      }
     ],
     "prompt_number": 33
    },
    {
     "cell_type": "code",
     "collapsed": false,
     "input": [
      "text_German = (\"Contracting (englisch die Kontrahierung bzw. adjektivisch vertragschlie\u00dfend)\")\n",
      "text_list_German_and_French = [text_French, text_German]"
     ],
     "language": "python",
     "metadata": {},
     "outputs": [],
     "prompt_number": 34
    },
    {
     "cell_type": "code",
     "collapsed": false,
     "input": [
      "def get_trans(source_text, key = '', target_lang = 'en', source_lang = ''):\n",
      "    \"\"\"\n",
      "    Inputs:\n",
      "    source_text - source text as a string or iterable of strings\n",
      "    key - google api key, needed or function will raise and error\n",
      "    target_lang - target language, defaults to 'en' - english\n",
      "    source_lang - source language, defaults to '' (detect), can also be entered\n",
      "                  as a string or iterable of strings, size must agree with source_text\n",
      "\n",
      "    returns dictionary with keys of source_text, values of translated text\n",
      "    \"\"\"\n",
      "    #CODE!!\n",
      "    \n",
      "    ##I think the source language should be the returned object from another method\n",
      "    ##source_lang = get_lang_list(source_text, key)\n",
      "    ##but I will keep these methods seperate for now\n",
      "    \n",
      "    \n",
      "    ##  I read the google docs api and this API call needs three parameters, API key, target lang, and source key\n",
      "    ##url_shell = 'https://www.googleapis.com/language/translate/v2/detect?key={0}&q={1}'\n",
      "    \n",
      "    url_shell = 'https://www.googleapis.com/language/translate/v2?parameters?key={0}&q={1}&q={2}'\n",
      "    url = url_shell.format(key, target_lang,source_text)\n",
      "    response = requests.get(url)\n",
      "    \n",
      "    ## I am copying the data format for the get_lang_list method\n",
      "    \n",
      "    data_dict = json.loads(response.text)\n",
      "    ##source_lang_data_dict = data_dict['data']['detections'][0][0]['language']\n",
      "    translated_source.append(data_dict)\n",
      "    \n",
      "    return translated_source\n",
      "    "
     ],
     "language": "python",
     "metadata": {},
     "outputs": [],
     "prompt_number": 35
    },
    {
     "cell_type": "code",
     "collapsed": false,
     "input": [
      "get_trans(text_French, my_key)"
     ],
     "language": "python",
     "metadata": {},
     "outputs": [
      {
       "metadata": {},
       "output_type": "pyout",
       "prompt_number": 36,
       "text": [
        "[{u'error': {u'code': 400,\n",
        "   u'errors': [{u'domain': u'global',\n",
        "     u'location': u'target',\n",
        "     u'locationType': u'parameter',\n",
        "     u'message': u'Required parameter: target',\n",
        "     u'reason': u'required'}],\n",
        "   u'message': u'Required parameter: target'}},\n",
        " {u'error': {u'code': 400,\n",
        "   u'errors': [{u'domain': u'global',\n",
        "     u'location': u'target',\n",
        "     u'locationType': u'parameter',\n",
        "     u'message': u'Required parameter: target',\n",
        "     u'reason': u'required'}],\n",
        "   u'message': u'Required parameter: target'}},\n",
        " {u'error': {u'code': 400,\n",
        "   u'errors': [{u'domain': u'global',\n",
        "     u'location': u'target',\n",
        "     u'locationType': u'parameter',\n",
        "     u'message': u'Required parameter: target',\n",
        "     u'reason': u'required'}],\n",
        "   u'message': u'Required parameter: target'}}]"
       ]
      }
     ],
     "prompt_number": 36
    },
    {
     "cell_type": "code",
     "collapsed": false,
     "input": [
      "def get_lang_list(source_text, key = '', print_meta_data=False):\n",
      "    \"\"\"\n",
      "    Inputs:\n",
      "    source_text - source text as iterable of strings\n",
      "    key - google api key, needed or function will raise and error\n",
      "\n",
      "    returns list of language identifiers\n",
      "    \"\"\"\n",
      "    #set up url request to google translate api\n",
      "    lang_list = []\n",
      "    for item in source_text:\n",
      "        url_shell = 'https://www.googleapis.com/language/translate/v2/detect?key={0}&q={1}'\n",
      "        url = url_shell.format(key, item)\n",
      "        response = requests.get(url)\n",
      "\n",
      "        #parse response\n",
      "        data_dict = json.loads(response.text)\n",
      "        source_lang = data_dict['data']['detections'][0][0]['language']\n",
      "        lang_list.append(source_lang)\n",
      "\n",
      "        if print_meta_data:\n",
      "            print 'Is detection reliable: {0}'.format(data_dict['data']['detections']['isReliable'])\n",
      "            print 'Confidence: {0}'.format(data_dict['data']['detections']['confidence'])\n",
      "\n",
      "    return lang_list\n"
     ],
     "language": "python",
     "metadata": {},
     "outputs": [],
     "prompt_number": 37
    },
    {
     "cell_type": "code",
     "collapsed": false,
     "input": [
      "## a test of \n",
      "get_lang_list(text_list_German_and_French, my_key)"
     ],
     "language": "python",
     "metadata": {},
     "outputs": [
      {
       "metadata": {},
       "output_type": "pyout",
       "prompt_number": 38,
       "text": [
        "[u'fr', u'de']"
       ]
      }
     ],
     "prompt_number": 38
    },
    {
     "cell_type": "raw",
     "metadata": {},
     "source": []
    },
    {
     "cell_type": "code",
     "collapsed": false,
     "input": [],
     "language": "python",
     "metadata": {},
     "outputs": [],
     "prompt_number": 42
    },
    {
     "cell_type": "markdown",
     "metadata": {},
     "source": [
      "Python specific information for working with google apis\n",
      "\n",
      "https://developers.google.com/api-client-library/python/\n"
     ]
    }
   ],
   "metadata": {}
  }
 ]
}