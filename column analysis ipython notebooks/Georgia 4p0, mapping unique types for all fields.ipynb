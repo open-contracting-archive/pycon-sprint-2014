{
 "metadata": {
  "name": "Georgia 4p0, mapping unique types for all fields"
 },
 "nbformat": 3,
 "nbformat_minor": 0,
 "worksheets": [
  {
   "cells": [
    {
     "cell_type": "code",
     "collapsed": false,
     "input": "'''\nTakes a csv file, and creates a dataframe, and a list of the column names.\n\nGenerates a frequency list for each column.  \n\nFor example the number of bidders for a Georgia dataset looks like this:\n\nnum_bidders   counters\n1             37525\n0             34447\n2             15830\n3             6847\n\n\nFinally gets the length of that value counts, which should be the number of distinct entities within that column.\n\nSmaller numbers are more frequently repeated.\n\n'''",
     "language": "python",
     "metadata": {},
     "outputs": [
      {
       "metadata": {},
       "output_type": "pyout",
       "prompt_number": 38,
       "text": "'\\nTakes a csv file, and creates a dataframe, and a list of the column names.\\n\\nGenerates a frequency list for each column.  \\n\\nFor example the number of bidders for a Georgia dataset looks like this:\\n\\nnum_bidders   counters\\n1             37525\\n0             34447\\n2             15830\\n3             6847\\n\\n\\nFinally gets the length of that value counts, which should be the number of distinct entities within that column.\\n\\nSmaller numbers are more frequently repeated.\\n\\n'"
      }
     ],
     "prompt_number": 38
    },
    {
     "cell_type": "code",
     "collapsed": false,
     "input": "import numpy as np\nimport pandas as pd\n\n##  This is the csv file where I deleted the first row\ndata = pd.read_csv('Georgia_AllTenders_D1strow_.csv')",
     "language": "python",
     "metadata": {},
     "outputs": [],
     "prompt_number": 39
    },
    {
     "cell_type": "code",
     "collapsed": false,
     "input": "##  This format seems to work, which Sarah told me about and I found on stack overflow\n##  http://stackoverflow.com/questions/16958513/showing-pandas-data-frame-as-a-table\n\ndata.head(3)[data.columns[0:20]]\n##data.tender_registration_number",
     "language": "python",
     "metadata": {},
     "outputs": [
      {
       "html": "<div style=\"max-height:1000px;max-width:1500px;overflow:auto;\">\n<table border=\"1\" class=\"dataframe\">\n  <thead>\n    <tr style=\"text-align: right;\">\n      <th></th>\n      <th>\ufeffid</th>\n      <th>procurring_entity_id</th>\n      <th>tender_type</th>\n      <th>tender_registration_number</th>\n      <th>tender_status</th>\n      <th>tender_announcement_date</th>\n      <th>bid_start_date</th>\n      <th>bid_end_date</th>\n      <th>estimated_value</th>\n      <th>include_vat</th>\n      <th>cpv_code</th>\n      <th>offer_step</th>\n      <th>guarantee_amount</th>\n      <th>guarantee_period</th>\n      <th>created_at</th>\n      <th>updated_at</th>\n      <th>dataset_id</th>\n      <th>url_id</th>\n      <th>num_bids</th>\n      <th>num_bidders</th>\n    </tr>\n  </thead>\n  <tbody>\n    <tr>\n      <th>0</th>\n      <td> 1</td>\n      <td> 1</td>\n      <td>               \u10d4\u10da\u10d4\u10e5\u10e2\u10e0\u10dd\u10dc\u10e3\u10da\u10d8 \u10e2\u10d4\u10dc\u10d3\u10d4\u10e0\u10d8</td>\n      <td> SPA130012785</td>\n      <td> \u10ee\u10d4\u10da\u10e8\u10d4\u10d9\u10e0\u10e3\u10da\u10d4\u10d1\u10d0 \u10d3\u10d0\u10d3\u10d4\u10d1\u10e3\u10da\u10d8\u10d0</td>\n      <td> 2013-06-11</td>\n      <td> 2013-06-28</td>\n      <td> 2013-07-03</td>\n      <td> 22110</td>\n      <td> False</td>\n      <td> 66500000</td>\n      <td> 90.00 GEL</td>\n      <td> 90.00 GEL</td>\n      <td> 221 GEL</td>\n      <td> 2013-06-26 11:41:52 UTC</td>\n      <td> 2013-08-01 13:24:38 UTC</td>\n      <td> 1</td>\n      <td> 85103</td>\n      <td> 1</td>\n      <td> 1</td>\n    </tr>\n    <tr>\n      <th>1</th>\n      <td> 2</td>\n      <td> 2</td>\n      <td>               \u10d4\u10da\u10d4\u10e5\u10e2\u10e0\u10dd\u10dc\u10e3\u10da\u10d8 \u10e2\u10d4\u10dc\u10d3\u10d4\u10e0\u10d8</td>\n      <td> SPA130012786</td>\n      <td> \u10ee\u10d4\u10da\u10e8\u10d4\u10d9\u10e0\u10e3\u10da\u10d4\u10d1\u10d0 \u10d3\u10d0\u10d3\u10d4\u10d1\u10e3\u10da\u10d8\u10d0</td>\n      <td> 2013-06-11</td>\n      <td> 2013-06-28</td>\n      <td> 2013-07-03</td>\n      <td>  2870</td>\n      <td> False</td>\n      <td> 39200000</td>\n      <td> 15.00 GEL</td>\n      <td> 15.00 GEL</td>\n      <td>  29 GEL</td>\n      <td> 2013-06-26 11:41:52 UTC</td>\n      <td> 2013-08-06 23:10:30 UTC</td>\n      <td> 1</td>\n      <td> 85104</td>\n      <td> 1</td>\n      <td> 1</td>\n    </tr>\n    <tr>\n      <th>2</th>\n      <td> 3</td>\n      <td> 3</td>\n      <td> \u10d2\u10d0\u10db\u10d0\u10e0\u10e2\u10d8\u10d5\u10d4\u10d1\u10e3\u10da\u10d8 \u10d4\u10da\u10d4\u10e5\u10e2\u10e0\u10dd\u10dc\u10e3\u10da\u10d8 \u10e2\u10d4\u10dc\u10d3\u10d4\u10e0\u10d8</td>\n      <td> SPA130012787</td>\n      <td> \u10ee\u10d4\u10da\u10e8\u10d4\u10d9\u10e0\u10e3\u10da\u10d4\u10d1\u10d0 \u10d3\u10d0\u10d3\u10d4\u10d1\u10e3\u10da\u10d8\u10d0</td>\n      <td> 2013-06-11</td>\n      <td> 2013-06-13</td>\n      <td> 2013-06-17</td>\n      <td>  4935</td>\n      <td> False</td>\n      <td> 22600000</td>\n      <td> 50.00 GEL</td>\n      <td> 50.00 GEL</td>\n      <td>  49 GEL</td>\n      <td> 2013-06-26 11:41:52 UTC</td>\n      <td> 2013-07-19 23:03:30 UTC</td>\n      <td> 1</td>\n      <td> 85106</td>\n      <td> 1</td>\n      <td> 1</td>\n    </tr>\n  </tbody>\n</table>\n</div>",
       "metadata": {},
       "output_type": "pyout",
       "prompt_number": 40,
       "text": "   \ufeffid  procurring_entity_id                        tender_type  \\\n0    1                     1                \u10d4\u10da\u10d4\u10e5\u10e2\u10e0\u10dd\u10dc\u10e3\u10da\u10d8 \u10e2\u10d4\u10dc\u10d3\u10d4\u10e0\u10d8   \n1    2                     2                \u10d4\u10da\u10d4\u10e5\u10e2\u10e0\u10dd\u10dc\u10e3\u10da\u10d8 \u10e2\u10d4\u10dc\u10d3\u10d4\u10e0\u10d8   \n2    3                     3  \u10d2\u10d0\u10db\u10d0\u10e0\u10e2\u10d8\u10d5\u10d4\u10d1\u10e3\u10da\u10d8 \u10d4\u10da\u10d4\u10e5\u10e2\u10e0\u10dd\u10dc\u10e3\u10da\u10d8 \u10e2\u10d4\u10dc\u10d3\u10d4\u10e0\u10d8   \n\n  tender_registration_number           tender_status tender_announcement_date  \\\n0               SPA130012785  \u10ee\u10d4\u10da\u10e8\u10d4\u10d9\u10e0\u10e3\u10da\u10d4\u10d1\u10d0 \u10d3\u10d0\u10d3\u10d4\u10d1\u10e3\u10da\u10d8\u10d0               2013-06-11   \n1               SPA130012786  \u10ee\u10d4\u10da\u10e8\u10d4\u10d9\u10e0\u10e3\u10da\u10d4\u10d1\u10d0 \u10d3\u10d0\u10d3\u10d4\u10d1\u10e3\u10da\u10d8\u10d0               2013-06-11   \n2               SPA130012787  \u10ee\u10d4\u10da\u10e8\u10d4\u10d9\u10e0\u10e3\u10da\u10d4\u10d1\u10d0 \u10d3\u10d0\u10d3\u10d4\u10d1\u10e3\u10da\u10d8\u10d0               2013-06-11   \n\n  bid_start_date bid_end_date  estimated_value include_vat  cpv_code  \\\n0     2013-06-28   2013-07-03            22110       False  66500000   \n1     2013-06-28   2013-07-03             2870       False  39200000   \n2     2013-06-13   2013-06-17             4935       False  22600000   \n\n  offer_step guarantee_amount guarantee_period               created_at  \\\n0  90.00 GEL        90.00 GEL          221 GEL  2013-06-26 11:41:52 UTC   \n1  15.00 GEL        15.00 GEL           29 GEL  2013-06-26 11:41:52 UTC   \n2  50.00 GEL        50.00 GEL           49 GEL  2013-06-26 11:41:52 UTC   \n\n                updated_at  dataset_id  url_id  num_bids  num_bidders  \n0  2013-08-01 13:24:38 UTC           1   85103         1            1  \n1  2013-08-06 23:10:30 UTC           1   85104         1            1  \n2  2013-07-19 23:03:30 UTC           1   85106         1            1  "
      }
     ],
     "prompt_number": 40
    },
    {
     "cell_type": "code",
     "collapsed": false,
     "input": "col_name_list = list(data.columns.values)\nlen(col_name_list)",
     "language": "python",
     "metadata": {},
     "outputs": [
      {
       "metadata": {},
       "output_type": "pyout",
       "prompt_number": 101,
       "text": "175"
      }
     ],
     "prompt_number": 101
    },
    {
     "cell_type": "code",
     "collapsed": false,
     "input": "print col_name_list",
     "language": "python",
     "metadata": {},
     "outputs": [
      {
       "output_type": "stream",
       "stream": "stdout",
       "text": "['\\xef\\xbb\\xbfid', 'procurring_entity_id', 'tender_type', 'tender_registration_number', 'tender_status', 'tender_announcement_date', 'bid_start_date', 'bid_end_date', 'estimated_value', 'include_vat', 'cpv_code', 'offer_step', 'guarantee_amount', 'guarantee_period', 'created_at', 'updated_at', 'dataset_id', 'url_id', 'num_bids', 'num_bidders', 'contract_value', 'winning_org_id', 'risk_indicators', 'procurer_name', 'supplier_name', 'sub_codes', 'inProgress', 'updated', 'is_new', 'procurer_code', 'winner_code', 'bidder_0_name', 'bidder_0_id', 'bidder_0_lowest_bid', 'bidder_0_black_or_white', 'bidder_1_name', 'bidder_1_id', 'bidder_1_lowest_bid', 'bidder_1_black_or_white', 'bidder_2_name', 'bidder_2_id', 'bidder_2_lowest_bid', 'bidder_2_black_or_white', 'bidder_3_name', 'bidder_3_id', 'bidder_3_lowest_bid', 'bidder_3_black_or_white', 'bidder_4_name', 'bidder_4_id', 'bidder_4_lowest_bid', 'bidder_4_black_or_white', 'bidder_5_name', 'bidder_5_id', 'bidder_5_lowest_bid', 'bidder_5_black_or_white', 'bidder_6_name', 'bidder_6_id', 'bidder_6_lowest_bid', 'bidder_6_black_or_white', 'bidder_7_name', 'bidder_7_id', 'bidder_7_lowest_bid', 'bidder_7_black_or_white', 'bidder_8_name', 'bidder_8_id', 'bidder_8_lowest_bid', 'bidder_8_black_or_white', 'bidder_9_name', 'bidder_9_id', 'bidder_9_lowest_bid', 'bidder_9_black_or_white', 'bidder_10_name', 'bidder_10_id', 'bidder_10_lowest_bid', 'bidder_10_black_or_white', 'bidder_11_name', 'bidder_11_id', 'bidder_11_lowest_bid', 'bidder_11_black_or_white', 'bidder_12_name', 'bidder_12_id', 'bidder_12_lowest_bid', 'bidder_12_black_or_white', 'bidder_13_name', 'bidder_13_id', 'bidder_13_lowest_bid', 'bidder_13_black_or_white', 'bidder_14_name', 'bidder_14_id', 'bidder_14_lowest_bid', 'bidder_14_black_or_white', 'bidder_15_name', 'bidder_15_id', 'bidder_15_lowest_bid', 'bidder_15_black_or_white', 'bidder_16_name', 'bidder_16_id', 'bidder_16_lowest_bid', 'bidder_16_black_or_white', 'bidder_17_name', 'bidder_17_id', 'bidder_17_lowest_bid', 'bidder_17_black_or_white', 'bidder_18_name', 'bidder_18_id', 'bidder_18_lowest_bid', 'bidder_18_black_or_white', 'bidder_19_name', 'bidder_19_id', 'bidder_19_lowest_bid', 'bidder_19_black_or_white', 'bidder_20_name', 'bidder_20_id', 'bidder_20_lowest_bid', 'bidder_20_black_or_white', 'bidder_21_name', 'bidder_21_id', 'bidder_21_lowest_bid', 'bidder_21_black_or_white', 'bidder_22_name', 'bidder_22_id', 'bidder_22_lowest_bid', 'bidder_22_black_or_white', 'bidder_23_name', 'bidder_23_id', 'bidder_23_lowest_bid', 'bidder_23_black_or_white', 'bidder_24_name', 'bidder_24_id', 'bidder_24_lowest_bid', 'bidder_24_black_or_white', 'bidder_25_name', 'bidder_25_id', 'bidder_25_lowest_bid', 'bidder_25_black_or_white', 'bidder_26_name', 'bidder_26_id', 'bidder_26_lowest_bid', 'bidder_26_black_or_white', 'bidder_27_name', 'bidder_27_id', 'bidder_27_lowest_bid', 'bidder_27_black_or_white', 'bidder_28_name', 'bidder_28_id', 'bidder_28_lowest_bid', 'bidder_28_black_or_white', 'bidder_29_name', 'bidder_29_id', 'bidder_29_lowest_bid', 'bidder_29_black_or_white', 'bidder_30_name', 'bidder_30_id', 'bidder_30_lowest_bid', 'bidder_30_black_or_white', 'bidder_31_name', 'bidder_31_id', 'bidder_31_lowest_bid', 'bidder_31_black_or_white', 'bidder_32_name', 'bidder_32_id', 'bidder_32_lowest_bid', 'bidder_32_black_or_white', 'bidder_33_name', 'bidder_33_id', 'bidder_33_lowest_bid', 'bidder_33_black_or_white', 'bidder_34_name', 'bidder_34_id', 'bidder_34_lowest_bid', 'bidder_34_black_or_white', 'bidder_35_name', 'bidder_35_id', 'bidder_35_lowest_bid', 'bidder_35_black_or_white']\n"
      }
     ],
     "prompt_number": 42
    },
    {
     "cell_type": "code",
     "collapsed": false,
     "input": "col_name_frequency_dict = {}\n\nfor item in col_name_list:\n    vc_f_item = data[item].value_counts()  ##value counts for item\n    ##print vc_f_item\n    \n    length_entities_item = len(vc_f_item)  ## the length of the value counts or the number of entities for an item\n    ##print length_entities_item\n    \n    col_name_frequency_dict[item] = length_entities_item\n\n##print col_name_frequency_dict",
     "language": "python",
     "metadata": {},
     "outputs": [],
     "prompt_number": 44
    },
    {
     "cell_type": "code",
     "collapsed": false,
     "input": "##  Now I want to import that colum dict into a data\n\nseries_Column_Entities_Frequency_ = pd.Series(col_name_frequency_dict)",
     "language": "python",
     "metadata": {},
     "outputs": [],
     "prompt_number": 73
    },
    {
     "cell_type": "code",
     "collapsed": false,
     "input": "values = int(raw_input(\"How many columns have less then this number of entities:\"))\n##  This is a boolean mask looking for values less then the number\n##print (series_Column_Entities_Frequency_ < values).sum()\ncol_query = (series_Column_Entities_Frequency_ < values).sum()\nprint col_query",
     "language": "python",
     "metadata": {},
     "outputs": [
      {
       "name": "stdout",
       "output_type": "stream",
       "stream": "stdout",
       "text": "How many columns have less then this number of entities:10\n"
      },
      {
       "output_type": "stream",
       "stream": "stdout",
       "text": "84\n"
      }
     ],
     "prompt_number": 107
    },
    {
     "cell_type": "code",
     "collapsed": false,
     "input": "",
     "language": "python",
     "metadata": {},
     "outputs": []
    }
   ],
   "metadata": {}
  }
 ]
}