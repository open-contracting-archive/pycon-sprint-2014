{
 "metadata": {
  "name": "",
  "signature": "sha256:549eb9a97ca560ac8768989d25ab91f6c7a3880432663b1422e6acd1f346b7f6"
 },
 "nbformat": 3,
 "nbformat_minor": 0,
 "worksheets": [
  {
   "cells": [
    {
     "cell_type": "heading",
     "level": 1,
     "metadata": {},
     "source": [
      "Opendata mapping of cpw unspsc gsin  "
     ]
    },
    {
     "cell_type": "markdown",
     "metadata": {},
     "source": [
      "Tree:\n",
      "\n",
      "* Build the tree out of the data (dictionary)\n",
      "* import it in neo4j\n",
      "\n",
      "How we can do the matching:\n",
      "\n",
      "* Read in the data from csv files\n",
      "* tokenize, stem, cleanup titles\n",
      "* find simmilar titles (tfidf, gensim, lemmatize, levenstein)"
     ]
    },
    {
     "cell_type": "code",
     "collapsed": false,
     "input": [],
     "language": "python",
     "metadata": {},
     "outputs": []
    }
   ],
   "metadata": {}
  }
 ]
}